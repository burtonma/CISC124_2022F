{
 "cells": [
  {
   "cell_type": "code",
   "execution_count": null,
   "metadata": {},
   "outputs": [],
   "source": [
    "// run this cell to prevent Jupyter from displaying the null output cell\n",
    "com.twosigma.beakerx.kernel.Kernel.showNullExecutionResult = false;"
   ]
  },
  {
   "cell_type": "markdown",
   "metadata": {},
   "source": [
    "<a id='notebook_id'></a>\n",
    "# Overriding `equals`: Part 1\n",
    "\n",
    "The `equals` method is one of the more important methods in Java. Every object reference can be used to invoke `equals` because `equals` is a non-final `public` method of the class `java.lang.Object`. Many classes have methods that rely on a correctly implemented `equals` method; for example, the `List` method `contains` invokes `equals` on the elements of list until an element matching the searched for object is found.\n",
    "\n",
    "This notebook is concerned with classes that are not part of an inheritance hierarchy. A notebook in Part 3 of the notes discusses issues that arise when overriding `equals` in classes that are part of an inheritance hierarchy."
   ]
  },
  {
   "cell_type": "markdown",
   "metadata": {},
   "source": [
    "## When to override `equals`\n",
    "\n",
    "The simplest solution to the problem of overriding `equals` is to simply not override `equals`. If a class does not override `equals` then it inherits the `equals` implementation from `Object` which implements equality of *identity* (an object is only equal to itself).\n",
    "\n",
    "A class should override `equals` when objects of the class are compared for *logical* equality. Logical equality means equality of state. Most classes that represent some kind of value should probably implement logical equality. Some examples include:\n",
    "\n",
    "* the `String` class overrides `equals` so that two `String`s are equal if and only if they represent the same sequence of characters\n",
    "* the `ArrayList` class overrides `equals` so that two `ArrayList`s are equal if and only if they represent the same sequence of elements\n",
    "* a class that represents the time of day should probably override `equals` so that two times are equal if and only if they represent the same time of the day\n",
    "* a class that represents a two-dimensional point should probably override `equals` so that two points are equal if and only if they have equal coordinates\n",
    "\n",
    "There are many classes where the notion of logical equality is meaningless or not useful. \n",
    "\n",
    "Utility classes should not override `equals` because utility classes are not used to create objects of the utility class type. For example, the `Math` class does not override `equals`.\n",
    "\n",
    "Some classes represent values that are unique; if such a class ensures that there is only one instance for each unique value then there is no need to override `equals` because a unique instance can only be equal to itself. Some examples include:\n",
    "\n",
    "* an enumeration is a special kind of class where there are fixed number of unique instances whose states never change; see the [Enumerations](enumerations.ipynb#notebook_id) notebook for a discussion of the enumerations\n",
    "* Canadian Social Insurance Numbers (SINs) are supposed to be unique\n",
    "* student numbers are supposed to be unique\n",
    "* serial numbers are supposed to be unique\n"
   ]
  },
  {
   "cell_type": "markdown",
   "metadata": {},
   "source": [
    "## The `equals` contract\n",
    "\n",
    "Many classes, including the collections classes in the Java Collections Framework, depend on objects having an `equals` method that obeys the contract detailed in the [`equals` documentation](https://docs.oracle.com/en/java/javase/11/docs/api/java.base/java/lang/Object.html#equals(java.lang.Object)). The `equals` contract has five parts. For non-null references an implementation of `equals` must support the following requirements:\n",
    "\n",
    "1. reflexive\n",
    "2. symmetric\n",
    "3. transitive\n",
    "4. consistent\n",
    "5. non-nullity\n",
    "\n",
    "For the mathematically inclined, the `equals` contract describes an [equivalence relation](https://en.wikipedia.org/wiki/Equivalence_relation). \n",
    "\n",
    "### Reflexivity\n",
    "\n",
    "*Reflexivity*  means that an object is equal to itself. In other words, for a non-null reference `x` the value of `x.equals(x)` must be `true`.\n",
    "\n",
    "\n",
    "### Symmetry\n",
    "\n",
    "*Symmetry* means that two objects must agree on whether they are equal. In other words, for non-null references `x` and `y` the value of `x.equals(y)` is equal to the value of `y.equals(x)`.\n",
    "\n",
    "### Transitivity\n",
    "\n",
    "*Transitiviy* means that if first object is equal to a second object and the second object is equal to a third object then the first object must be equal to the third object. In other words, for non-null references `x`, `y`, and `z`, if\n",
    "\n",
    "```\n",
    "x.equals(y)\n",
    "```\n",
    "\n",
    "is equal to `true` and if\n",
    "\n",
    "```\n",
    "y.equals(z)\n",
    "```\n",
    "\n",
    "is equal to `true` then\n",
    "\n",
    "```\n",
    "x.equals(z)\n",
    "```\n",
    "\n",
    "must also be equal to `true`.\n",
    "\n",
    "### Consistency\n",
    "\n",
    "*Consistency* means that the value returned by `equals` must not change if the states of the compared objects do not change.\n",
    "\n",
    "### Non-nullity\n",
    "\n",
    "The non-nullity requirement means that for a non-null reference `x` the value of `x.equals(null)` is always `false`; furthermore, `x.equals(null)` never throws an exception."
   ]
  },
  {
   "cell_type": "markdown",
   "metadata": {},
   "source": [
    "## Recipe for ensuring the `equals` contract\n",
    "\n",
    "Joshua Bloch published a step-by-step recipe for implementing a high-quality `equals` method in the book *Effective Java, Third Edition*. The recipe for overriding `equals` where `equals` has the header:\n",
    "\n",
    "```java\n",
    "public boolean equals(Object obj)\n",
    "```\n",
    "\n",
    "is as follows:\n",
    "\n",
    "1. Return `true` if `this == obj` is equal to `true`. This ensures that the reflexivity requirement is satisfied. Technically this step is not necessary because the remaining steps will also ensure that reflexivity is satisfied.\n",
    "2. Use `instanceof` to check if `obj` has the correct type and return `false` if `obj` does not have the correct type. In the absence of inheritance, the correct type is the class in which `equals` is being implemented.\n",
    "3. Cast `obj` to the correct type. Again, in the absence of inheritance, the correct type is the class in which `equals` is being implemented.\n",
    "4. For every field that matters for determining if two instances of the class are equal, test if the field belonging to `this` object is equal to the field belonging to the argument object. If all of these tests succeed then return `true` and otherwise return `false`.\n",
    "    1. for primitive fields that are not `float` or `double` use `==` to compare the fields for equality\n",
    "    2. for `float` fields use the static method [`Float.compare(float, float)`](https://docs.oracle.com/en/java/javase/11/docs/api/java.base/java/lang/Float.html#compare(float,float)) to compare the fields for equality\n",
    "    3. for `double` fields use the static method [`Double.compare(double, double)`](https://docs.oracle.com/en/java/javase/11/docs/api/java.base/java/lang/Double.html#compare(double,double)) to compare the fields for equality\n",
    "    4. for reference fields use the `equals` method to compare the fields for equality; for array fields consider using one of the `Arrays.equals` methods\n",
    "        1. if the class allows a reference field to have the value `null` then use the static method [`Objects.equals(Object, Object)`](https://docs.oracle.com/en/java/javase/11/docs/api/java.base/java/util/Objects.html#equals(java.lang.Object,java.lang.Object)) to safely compare the fields for equality\n",
    "\n"
   ]
  },
  {
   "cell_type": "markdown",
   "metadata": {},
   "source": [
    "## Overriding `Counter.equals(Object)`\n",
    "\n",
    "We will walk through an example of implementing `equals` for the `Counter` class while discussing each step of the recipe in greater depth. For the `Counter` class we will say that two `Counter` instances are equal if and only if their current values are equal. Furthermore, a `Counter` can be equal only to another `Counter` (and not to, for example, an `Integer` or a `String`).\n",
    "\n",
    "To begin, we add the `equals` method to the class and assume that the return value is `false`.\n",
    "\n",
    "```java\n",
    "public class Counter {\n",
    "\n",
    "    private int value;\n",
    "\n",
    "    public Counter(int value) {\n",
    "        if (value < 0) {\n",
    "            throw new IllegalArgumentException(\"value must be non-negative\");\n",
    "        }\n",
    "        this.value = value;\n",
    "    }\n",
    "    \n",
    "    // other constructors and methods not shown\n",
    "\n",
    "    @Override\n",
    "    public boolean equals(Object obj) {\n",
    "        \n",
    "        return false;\n",
    "    }\n",
    "}\n",
    "```"
   ]
  },
  {
   "cell_type": "markdown",
   "metadata": {},
   "source": [
    "### `Counter.equals(Object)` Step 1\n",
    "\n",
    "Step 1 of the recipe says to test if `this == obj` and to return `true` if the test returns `true`. This requires a simple `if` statement:"
   ]
  },
  {
   "cell_type": "code",
   "execution_count": null,
   "metadata": {},
   "outputs": [],
   "source": [
    "public class Counter {\n",
    "\n",
    "    private int value;\n",
    "\n",
    "    public Counter(int value) {\n",
    "        if (value < 0) {\n",
    "            throw new IllegalArgumentException(\"value must be non-negative\");\n",
    "        }\n",
    "        this.value = value;\n",
    "    }\n",
    "    \n",
    "    // other constructors and methods not shown\n",
    "\n",
    "    @Override\n",
    "    public boolean equals(Object obj) {\n",
    "        // Step 1\n",
    "        if (this == obj) {\n",
    "            return true;\n",
    "        }\n",
    "        \n",
    "        return false;\n",
    "    }\n",
    "}"
   ]
  },
  {
   "cell_type": "markdown",
   "metadata": {},
   "source": [
    "Recall that `this` is a reference to the object that was used to invoke `equals` and that the `==` operator checks if two references refer to the same object; thus, the `if` statement is simply testing that `this` and `obj` are the same object and if they are the same object then they must be equal.\n",
    "\n",
    "After completing Step 1, the `Counter` `equals` method satisfies the reflexivity requirement of the `equals` contract:"
   ]
  },
  {
   "cell_type": "code",
   "execution_count": null,
   "metadata": {},
   "outputs": [],
   "source": [
    "Counter c = new Counter(0);\n",
    "Counter d = c;\n",
    "System.out.println(c.equals(d));"
   ]
  },
  {
   "cell_type": "markdown",
   "metadata": {},
   "source": [
    "Of course it fails for two different `Counter`s having the same value, but we will address this in Step 4."
   ]
  },
  {
   "cell_type": "code",
   "execution_count": null,
   "metadata": {},
   "outputs": [],
   "source": [
    "Counter c = new Counter(0);\n",
    "Counter d = new Counter(0);\n",
    "System.out.println(c.equals(d));"
   ]
  },
  {
   "cell_type": "markdown",
   "metadata": {},
   "source": [
    "### Counter.equals(Object) Step 2\n",
    "\n",
    "Step 2 of the recipe says to use `instanceof` to check if `obj` has the correct type and return `false` if `obj` does not have the correct type.\n",
    "\n",
    "The [`instanceof` operator](https://docs.oracle.com/javase/tutorial/java/nutsandbolts/op2.html) compares an object reference to a specified type. The expression\n",
    "\n",
    "```java\n",
    "x instanceof SomeClass\n",
    "```\n",
    "\n",
    "where `x` is a reference variable evaluates to `true` if the type of `x` is the same as `SomeClass` (or if the type of `x` is a subclass of `SomeClass` which is discussed in the Inheritance notebooks). If `x` is `null` then the expression evaluates to `false`.\n",
    "\n",
    "Using the `instanceof` operator to implement Step 2 of the recipe looks something like:"
   ]
  },
  {
   "cell_type": "code",
   "execution_count": null,
   "metadata": {},
   "outputs": [],
   "source": [
    "public class Counter {\n",
    "\n",
    "    private int value;\n",
    "\n",
    "    public Counter(int value) {\n",
    "        if (value < 0) {\n",
    "            throw new IllegalArgumentException(\"value must be non-negative\");\n",
    "        }\n",
    "        this.value = value;\n",
    "    }\n",
    "    \n",
    "    // other constructors and methods not shown\n",
    "\n",
    "    @Override\n",
    "    public boolean equals(Object obj) {\n",
    "        // Step 1\n",
    "        if (this == obj) {\n",
    "            return true;\n",
    "        }\n",
    "        \n",
    "        // Step 2\n",
    "        if (!(obj instanceof Counter)) {\n",
    "            return false;\n",
    "        }\n",
    "        \n",
    "        return false;\n",
    "    }\n",
    "}"
   ]
  },
  {
   "cell_type": "markdown",
   "metadata": {},
   "source": [
    "The `if` statement in Step 2 tests that obj is *not* a `Counter` reference. If the test passes then `obj` cannot be equal to `this` `Counter` because `obj` does not refer to a `Counter`. If `obj` is `null` then the `instanceof` statement evaluates to `false` and the `if` statement body returns `false` without throwing an exception which satisfies the non-nullity requirement of the `equals` contract."
   ]
  },
  {
   "cell_type": "markdown",
   "metadata": {},
   "source": [
    "### Counter.equals(Object) Step 3\n",
    "\n",
    "If execution of the `equals` method continues past Step 2 then we know that `obj` is in fact a `Counter` object. To complete testing for equality we need to access the `value` field of the `Counter` but we cannot do so yet because the parameter `obj` is declared to be `Object` and `Object` instances do not have fields named `value`.\n",
    "\n",
    "Step 3 of the recipe says to cast `obj` to the correct type which in this case is the type `Counter`. The cast is required before the compiler will allow us to use the `value` field of `obj`. Implementing the cast required by Step 3 looks lik:"
   ]
  },
  {
   "cell_type": "code",
   "execution_count": null,
   "metadata": {},
   "outputs": [],
   "source": [
    "public class Counter {\n",
    "\n",
    "    private int value;\n",
    "\n",
    "    public Counter(int value) {\n",
    "        if (value < 0) {\n",
    "            throw new IllegalArgumentException(\"value must be non-negative\");\n",
    "        }\n",
    "        this.value = value;\n",
    "    }\n",
    "    \n",
    "    // other constructors and methods not shown\n",
    "\n",
    "    @Override\n",
    "    public boolean equals(Object obj) {\n",
    "        // Step 1\n",
    "        if (this == obj) {\n",
    "            return true;\n",
    "        }\n",
    "        \n",
    "        // Step 2\n",
    "        if (!(obj instanceof Counter)) {\n",
    "            return false;\n",
    "        }\n",
    "        \n",
    "        // Step 3\n",
    "        // Casting obj to a Counter is required because in the parameter\n",
    "        // list of the method obj is declared to be an Object and Object\n",
    "        // instances have no fields (that we know of)\n",
    "        Counter other = (Counter) obj;\n",
    "        \n",
    "        return false;\n",
    "    }\n",
    "}"
   ]
  },
  {
   "cell_type": "markdown",
   "metadata": {},
   "source": [
    "After Step 3 we have a non-null reference `other` that we can use to get the value of the `Counter` that `obj` refers to."
   ]
  },
  {
   "cell_type": "markdown",
   "metadata": {},
   "source": [
    "### Counter.equals(Object) Step 4\n",
    "\n",
    "Step 4 of the equals recipe says to test that every field of `this` `Counter` is equal to the corresponding field of the `other` `Counter`. If all of these tests succeed then return `true` and otherwise return `false`.\n",
    "\n",
    "A `Counter` only has one field so Step 4 requires only a simple `if` statement:"
   ]
  },
  {
   "cell_type": "code",
   "execution_count": null,
   "metadata": {},
   "outputs": [],
   "source": [
    "public class Counter {\n",
    "\n",
    "    private int value;\n",
    "\n",
    "    public Counter(int value) {\n",
    "        if (value < 0) {\n",
    "            throw new IllegalArgumentException(\"value must be non-negative\");\n",
    "        }\n",
    "        this.value = value;\n",
    "    }\n",
    "    \n",
    "    // other constructors and methods not shown\n",
    "\n",
    "    \n",
    "    /**\n",
    "     * Compares this counter to the specified object. The result is {@code true} if\n",
    "     * and only if the argument is not {@code null} and is a {@code Counter} object\n",
    "     * that has the same current value as this object.\n",
    "     * \n",
    "     * @param obj the object to compare this counter against\n",
    "     * @return true if the given object represents a Counter with the same current\n",
    "     *         value as this counter, false otherwise\n",
    "     */\n",
    "    @Override\n",
    "    public boolean equals(Object obj) {\n",
    "        // Step 1\n",
    "        if (this == obj) {\n",
    "            return true;\n",
    "        }\n",
    "        \n",
    "        // Step 2\n",
    "        if (!(obj instanceof Counter)) {\n",
    "            return false;\n",
    "        }\n",
    "        \n",
    "        // Step 3\n",
    "        Counter other = (Counter) obj;\n",
    "        \n",
    "        // Step 4\n",
    "        // After Step 3, we can access the value of the counter using\n",
    "        // the variable other.\n",
    "        if (this.value == other.value) {\n",
    "            return true;\n",
    "        }\n",
    "        return false;\n",
    "    }\n",
    "}"
   ]
  },
  {
   "cell_type": "markdown",
   "metadata": {},
   "source": [
    "Step 4 tests if the value of `this` `Counter` is equal to the value of the `other` `Counter` returning `true` if the test passes. If the two counters have different values then they are not equal and the method returns `false`.\n",
    "\n",
    "Note that the field `value` has type `int` and the recipe says to use `==` to compare `this.value` and `other.value` for equality. See the `Point2.equals(Object)` implementation below for an example where the fields have type `double`."
   ]
  },
  {
   "cell_type": "code",
   "execution_count": null,
   "metadata": {},
   "outputs": [],
   "source": [
    "Counter c = new Counter(10);\n",
    "System.out.println(c.equals(null));"
   ]
  },
  {
   "cell_type": "markdown",
   "metadata": {},
   "source": [
    "It also returns `false` when we try to compare a `Counter` to some other type such as a `String`:"
   ]
  },
  {
   "cell_type": "code",
   "execution_count": null,
   "metadata": {},
   "outputs": [],
   "source": [
    "Counter c = new Counter(0);\n",
    "String s = \"not a counter\";\n",
    "System.out.println(c.equals(s));"
   ]
  },
  {
   "cell_type": "markdown",
   "metadata": {},
   "source": [
    "## Overriding `Point2.equals(Object)`\n",
    "\n"
   ]
  },
  {
   "cell_type": "markdown",
   "metadata": {},
   "source": [
    "When comparing `float` or `double` values in an `equals` method you should prefer using the static methods `Float.compare` and `Double.compare` to perform the comparison instead of `==` because of the existence of the values `Float.NaN`, `Double.NaN`, `-0.0f`, and `-0.0`. The `compare` methods allow `NaN` values to be equal (unlike `==` where `NaN` is never equal to any value). The `compare` methods consider floating-point `-0` to be not equal to `+0` (unlike `==` where `-0f == 0f` and `-0.0 == 0.0` are both equal to `true`). The explanation of why this matters can be found in the [Overriding `hashCode`](./overriding_hashcode.ipynb#notebook_id) notebook.\n",
    "\n",
    "`Double.compare(val1, val2)` returns `0` if `val1` and `val2` are equal subject to the exceptions described in the previous paragraph; see the [documentation here](https://docs.oracle.com/en/java/javase/11/docs/api/java.base/java/lang/Double.html#compare(double,double)).\n",
    "\n",
    "Steps 1-3 of implementing `equals` always results in very similar code. In Step 4, we need to compare the $x$ and $y$ coordinates of the two points for equality. Following the recipe, we use `Double.compare` to perform the comparision. An implementation of `equals` for a minimal version of the `Point2` class is shown in the following cell:"
   ]
  },
  {
   "cell_type": "code",
   "execution_count": null,
   "metadata": {},
   "outputs": [],
   "source": [
    "public class Point2 {\n",
    "    \n",
    "    private double x;\n",
    "    private double y;\n",
    "\n",
    "    public Point2(double x, double y) {\n",
    "        this.x = x;\n",
    "        this.y = y;\n",
    "    }\n",
    "\n",
    "    // other constructors and methods not shown\n",
    "    \n",
    "    /**\n",
    "     * Compares this point to the specified object. The result is {@code true} if\n",
    "     * and only if the argument is not {@code null} and is a {@code Point2} object\n",
    "     * that has the same x and y coordinates as this object.\n",
    "     * \n",
    "     * @param obj the object to compare this point against\n",
    "     * @return true if the given object represents a Point2 with the same x and y\n",
    "     *         coordinates as this point, false otherwise\n",
    "     */\n",
    "    @Override\n",
    "    public boolean equals(Object obj) {\n",
    "        // Step 1\n",
    "        if (this == obj) {\n",
    "            return true;\n",
    "        }\n",
    "        \n",
    "        // Step 2\n",
    "        if (!(obj instanceof Point2)) {\n",
    "            return false;\n",
    "        }\n",
    "        \n",
    "        // Step 3\n",
    "        Point2 other = (Point2) obj;\n",
    "        \n",
    "        // Step 4\n",
    "        // use Double.compare instead of == to compare double fields\n",
    "        // use Float.compare instead of == to compare float fields\n",
    "        if (Double.compare(this.x, other.x) == 0 && \n",
    "                Double.compare(this.y, other.y) == 0) {\n",
    "            return true;\n",
    "        }\n",
    "        return false;\n",
    "    }"
   ]
  },
  {
   "cell_type": "markdown",
   "metadata": {},
   "source": [
    "## Overriding `Card.equals(Object)`\n",
    "\n",
    "The `Card` class has two reference type fields (both of type `String`). A card is equal to another card if and only if the two cards have equal ranks and suits. Because the fields are of reference type, we compare them using the `String.equals(Object)` method in Step 4.\n",
    "\n",
    "An implementation of `equals` for a minimal version of the `Card` class is shown in the following cell:"
   ]
  },
  {
   "cell_type": "code",
   "execution_count": null,
   "metadata": {},
   "outputs": [],
   "source": [
    "import java.util.Arrays;\n",
    "\n",
    "public class Card {\n",
    "    private String rank;\n",
    "    private String suit;\n",
    "    \n",
    "    public static final String[] RANKS = {\n",
    "        \"2\", \"3\", \"4\", \"5\", \"6\", \"7\", \"8\", \"9\", \"10\", \"J\", \"Q\", \"K\", \"A\"\n",
    "    };\n",
    "    \n",
    "    public static final String[] SUITS = {\n",
    "        \"CLUBS\", \"DIAMONDS\", \"HEARTS\", \"SPADES\"\n",
    "    };\n",
    "    \n",
    "    /**\n",
    "     * Initializes this card to have the specified rank and suit.\n",
    "     *\n",
    "     * @param rank the rank of this card\n",
    "     * @param suit the suit of this card\n",
    "     */\n",
    "    public Card(String rank, String suit) {\n",
    "        if (!Arrays.asList(RANKS).contains(rank)) {\n",
    "            throw new IllegalArgumentException();\n",
    "        }\n",
    "        if (!Arrays.asList(SUITS).contains(suit)) {\n",
    "            throw new IllegalArgumentException();\n",
    "        }\n",
    "        this.rank = rank;\n",
    "        this.suit = suit;\n",
    "    }\n",
    "    \n",
    "    // other methods not shown\n",
    "    \n",
    "    /**\n",
    "     * Compares this card to the specified object for equality. The\n",
    "     * result is true if {@code obj} is a {@code Card} having the same\n",
    "     * rank and the same suit as this card, false otherwise.\n",
    "     * \n",
    "     * @return true if obj is a card having the same\n",
    "     * rank and the same suit as this card, false otherwise\n",
    "     */\n",
    "    @Override\n",
    "    public boolean equals(Object obj) {\n",
    "        // Step 1\n",
    "        if (this == obj) {\n",
    "            return true;\n",
    "        }\n",
    "        \n",
    "        // Step 2\n",
    "        if (!(obj instanceof Card)) {\n",
    "            return false;\n",
    "        }\n",
    "        \n",
    "        // Step 3\n",
    "        Card other = (Card) obj;\n",
    "        \n",
    "        // Step 4\n",
    "        // use fieldName.equals to compare reference-type fields\n",
    "        if (this.rank.equals(other.rank) && this.suit.equals(other.suit)) {\n",
    "            return true;\n",
    "        }\n",
    "        return false;\n",
    "    }\n",
    "}"
   ]
  },
  {
   "cell_type": "markdown",
   "metadata": {},
   "source": [
    "## Exercises\n",
    "\n",
    "1. Implement the `equals` method for the `Domino` class shown below."
   ]
  },
  {
   "cell_type": "code",
   "execution_count": null,
   "metadata": {},
   "outputs": [],
   "source": [
    "public class Domino {\n",
    "\n",
    "    /**\n",
    "     * The smallest possible value for a side of a domino.\n",
    "     */\n",
    "    public static final int MIN_VALUE = 0;\n",
    "    \n",
    "    /**\n",
    "     * The largest possible value for a side of a domino. \n",
    "     */\n",
    "    public static final int MAX_VALUE = 6;\n",
    "\n",
    "    private int val1;\n",
    "    private int val2;\n",
    "\n",
    "    public Domino(int value1, int value2) {\n",
    "        if (!isValueOK(value1) || !isValueOK(value2)) {\n",
    "            throw new IllegalArgumentException();\n",
    "        }\n",
    "        this.val1 = value1;\n",
    "        this.val2 = value2;\n",
    "    }\n",
    "\n",
    "    public static boolean isValueOK(int value) {\n",
    "        return value >= MIN_VALUE && value <= MAX_VALUE;\n",
    "    }\n",
    "    \n",
    "    public int getSmallerValue() {\n",
    "        int result = this.val1 <= this.val2 ? this.val1 : this.val2;\n",
    "        return result;\n",
    "    }\n",
    "\n",
    "    public int getLargerValue() {\n",
    "        int result = this.val1 >= this.val2 ? this.val1 : this.val2;\n",
    "        return result;\n",
    "    }\n",
    "    \n",
    "    /**\n",
    "     * Compares this domino to the specified object. The result is\n",
    "     * true if and only if the argument is a {@code Domino} object having the\n",
    "     * same values as this domino object. Note that the side on which\n",
    "     * a value appears is not considered for the purposes of equals;\n",
    "     * for instance, {@code eq} will be true in the example below:\n",
    "     * \n",
    "     * <pre>\n",
    "     * Domino a = new Domino(1, 4);\n",
    "     * Domino b = new Domino(4, 1);\n",
    "     * boolean eq = a.equals(b);\n",
    "     * </pre>\n",
    "     * \n",
    "     * @param obj an object to compare\n",
    "     * @return true if this domino is equal to the specified object,\n",
    "     *         and false otherwise\n",
    "     */\n",
    "    @Override\n",
    "    public boolean equals(Object obj) {\n",
    "        \n",
    "    }\n",
    "}\n"
   ]
  },
  {
   "cell_type": "markdown",
   "metadata": {},
   "source": [
    "2. See Exercises 3-6 in the [Designing simple classes](./designing_simple_classes.ipynb#notebook_id) notebook. Implement suitable `equals` methods for these classes."
   ]
  },
  {
   "cell_type": "markdown",
   "metadata": {},
   "source": [
    "3. See Exercise 5 in the [Constructors](./constructors.ipynb#notebook_id) notebook. Implement `equals` for your complex number class."
   ]
  },
  {
   "cell_type": "markdown",
   "metadata": {},
   "source": [
    "4. See Exercise 9 in the [Constructors](./constructors.ipynb#notebook_id) notebook. Implement `equals` for your card game hand class."
   ]
  },
  {
   "cell_type": "markdown",
   "metadata": {},
   "source": [
    "5. A `CombinationLock` represents a lock that is unlocked with a sequence of $4$ digits between 0 and 9. Two combination locks are equal if they have the same combination. Implement `equals` for the `CombinationLock` class."
   ]
  },
  {
   "cell_type": "code",
   "execution_count": null,
   "metadata": {},
   "outputs": [],
   "source": [
    "import java.util.List;\n",
    "import java.util.ArrayList;\n",
    "\n",
    "public class CombinationLock {\n",
    "    \n",
    "    private List<Integer> combo;\n",
    "    \n",
    "    public CombinationLock(List<Integer> combo) {\n",
    "        if (combo.size() != 4) {\n",
    "            throw new IllegalArgumentException(\"combination requires 4 digits\");\n",
    "        }\n",
    "        this.combo = new ArrayList<>(combo);\n",
    "    }\n",
    "    \n",
    "    @Override\n",
    "    public String toString() {\n",
    "        return this.combo.toString();\n",
    "    }\n",
    "    \n",
    "    @Override\n",
    "    public boolean equals(Object obj) {\n",
    "        \n",
    "    }\n",
    "}"
   ]
  },
  {
   "cell_type": "markdown",
   "metadata": {},
   "source": [
    "6. Suppose that a `CombinationLock` can have any number of digits. How does the `equals` method implementation change?"
   ]
  }
 ],
 "metadata": {
  "kernelspec": {
   "display_name": "Java",
   "language": "java",
   "name": "java"
  },
  "language_info": {
   "codemirror_mode": "text/x-java",
   "file_extension": ".java",
   "mimetype": "",
   "name": "Java",
   "nbconverter_exporter": "",
   "version": "1.8.0_121"
  },
  "toc": {
   "base_numbering": 1,
   "nav_menu": {},
   "number_sections": false,
   "sideBar": false,
   "skip_h1_title": false,
   "title_cell": "Table of Contents",
   "title_sidebar": "Contents",
   "toc_cell": false,
   "toc_position": {},
   "toc_section_display": false,
   "toc_window_display": false
  }
 },
 "nbformat": 4,
 "nbformat_minor": 4
}
