{
 "cells": [
  {
   "cell_type": "code",
   "execution_count": null,
   "metadata": {},
   "outputs": [],
   "source": [
    "// run this cell to prevent Jupyter from displaying the null output cell\n",
    "com.twosigma.beakerx.kernel.Kernel.showNullExecutionResult = false;"
   ]
  },
  {
   "cell_type": "markdown",
   "metadata": {},
   "source": [
    "# Static fields and methods\n",
    "\n",
    "Thus far we have created classes where instances of the class have their own independent copies of the fields declared by the class. Furthermore, an instance has always been required to invoke a method defined by the class and the method has a `this` parameter referring to the instance that was used to invoke the method.\n",
    "\n",
    "Classes can also define fields and methods that are associated with the class rather than with individual objects. These *static* fields and methods do not require objects to access them; instead such fields and methods are accessed using the class name."
   ]
  },
  {
   "cell_type": "markdown",
   "metadata": {},
   "source": [
    "## Static fields\n",
    "\n",
    "A *static field* (or *class variable*) is a per-class member; that is, there is only ever one copy of the field and that copy is associated with the class. Instances of the class have access to static fields but they all share the same copy of the field.\n",
    "\n",
    "Consider the `Domino` class:"
   ]
  },
  {
   "cell_type": "code",
   "execution_count": null,
   "metadata": {},
   "outputs": [],
   "source": [
    "public class Domino {\n",
    "    private int val1;\n",
    "    private int val2;\n",
    "    \n",
    "    /**\n",
    "     * The smallest possible value for one side of a domino.\n",
    "     */\n",
    "    public static final int MIN_VALUE = 0;\n",
    "    \n",
    "    /**\n",
    "     * The largest possible value for one side of a domino.\n",
    "     */\n",
    "    public static final int MAX_VALUE = 6;\n",
    "    \n",
    "    public Domino(int val1, int val2) {\n",
    "        if (val1 < Domino.MIN_VALUE || val1 > Domino.MAX_VALUE) {\n",
    "            throw new IllegalArgumentException(\"val1 out of range\");\n",
    "        }\n",
    "        if (val2 < Domino.MIN_VALUE || val2 > Domino.MAX_VALUE) {\n",
    "            throw new IllegalArgumentException(\"val2 out of range\");\n",
    "        }\n",
    "        this.val1 = val1;\n",
    "        this.val2 = val2;\n",
    "    }\n",
    "    \n",
    "    // remainder of class not shown\n",
    "}"
   ]
  },
  {
   "cell_type": "markdown",
   "metadata": {},
   "source": [
    "The two fields `val1` and `val2` are not declared using the `static` modifier; every `Domino` object will have a copy of the fields `val1` and `val2`.\n",
    "\n",
    "The two fields `MIN_VALUE` and `MAX_VALUE` are declared using the `static` modifier; there is only one copy of these fields and conceptually they reside with the `Domino` class.\n",
    "\n",
    "Suppose that we created two `Domino` instances like so:\n",
    "\n",
    "```java\n",
    "Domino d1 = new Domino(1, 5);\n",
    "Domino d2 = new Domino(4, 6);\n",
    "```\n",
    "\n",
    "then a visualization of memory immediately after creating the two dominoes might look like:\n",
    "\n",
    "| Address | Type | Variable | Value |\n",
    "| -: | -: | -: | -: | \n",
    "| 0 | | | |\n",
    "| 1 | | | |\n",
    "| ... | | | |\n",
    "| 100 | `Domino` | `d1` | A2200 |\n",
    "| 101 | `Domino` | `d2` | A2400 |\n",
    "| ... | | | |\n",
    "| 2000 | `Domino` class | | |\n",
    "| | `int` | `MIN_VALUE` | 0 |\n",
    "| | `int` | `MAX_VALUE` | 6 |\n",
    "| | `int` | `val1` |  |\n",
    "| | `int` | `val2` |  |\n",
    "| ... | | | |\n",
    "| 2200 | `Domino` object | | |\n",
    "| | `int` | `val1` | 1 |\n",
    "| | `int` | `val2` | 5 |\n",
    "| ... | | | |\n",
    "| 2400 | `Domino` object | | |\n",
    "| | `int` | `val1` | 4 |\n",
    "| | `int` | `val2` | 6 |\n",
    "\n",
    "Inside the `Domino` class, we see all of the fields but only the `static` fields `MIN_VALUE` and `MAX_VALUE` are assigned values.\n",
    "\n",
    "Inside the first `Domino` object located at address 2200 we see the non-static fields `val1` and `val2` which were assigned the values `1` and `5`, respectively, in the constructor.\n",
    "\n",
    "Similarly, inside the second `Domino` object located at address 2400 we see the non-static fields `val1` and `val2` which were assigned the values `4` and `6`, respectively, in the constructor."
   ]
  },
  {
   "cell_type": "markdown",
   "metadata": {},
   "source": [
    "### Using a static field\n",
    "\n",
    "Inside of the declaring class a static field is simply a member of the class; therefore, it can be accessed using just its name. Optionally, the field can be accessed using the class name followed by the `.` operator.\n",
    "\n",
    "Accessing a static field from outside of the declaring class is done using the class name followed by the `.` operator; for example, accessing the `Domino` fields `MIN_VALUE` and `MAX_VALUE` can be done like so:"
   ]
  },
  {
   "cell_type": "code",
   "execution_count": null,
   "metadata": {},
   "outputs": [],
   "source": [
    "System.out.println(\"smallest domino value is: \" + Domino.MIN_VALUE);\n",
    "System.out.println(\"greatest domino value is: \" + Domino.MAX_VALUE);"
   ]
  },
  {
   "cell_type": "markdown",
   "metadata": {},
   "source": [
    "Accessing a static field using the name of the declaring class makes it clear to other readers that the field is indeed static.\n",
    "\n",
    "It is legal, *but considered bad form*, to access a static field using an object reference; for example:"
   ]
  },
  {
   "cell_type": "code",
   "execution_count": null,
   "metadata": {},
   "outputs": [],
   "source": [
    "Domino d = new Domino(1, 1);\n",
    "System.out.println(\"smallest domino value is: \" + d.MIN_VALUE);   // yuck, static field access via a reference\n",
    "System.out.println(\"greatest domino value is: \" + d.MAX_VALUE);   // yuck, static field access via a reference"
   ]
  },
  {
   "cell_type": "markdown",
   "metadata": {},
   "source": [
    "It is even possible to access a static feature via a `null` pointer:"
   ]
  },
  {
   "cell_type": "code",
   "execution_count": null,
   "metadata": {},
   "outputs": [],
   "source": [
    "Math math = null;   // can't make Math objects but can make a Math variable and assign null to it\n",
    "System.out.println(math.PI);    // no NullPointerException!"
   ]
  },
  {
   "cell_type": "markdown",
   "metadata": {},
   "source": [
    "Using a reference to access a static field indicates to other Java programmers that the field is non-static which is confusing and can lead to programming errors. Automated style checkers and formal code reviews will generally reject the use of a static field via an object reference. Always access a static field using a class name to be consistent with the expectations of other Java programmers even though the language allows you to do otherwise."
   ]
  },
  {
   "cell_type": "markdown",
   "metadata": {},
   "source": [
    "### `public static final` fields\n",
    "\n",
    "The `Domino` fields `MIN_VALUE` and `MAX_VALUE` are static fields but they also have the modifiers `public` and `final`. The access modifier keyword `public` indicates that the field is visible to all other classes (that can see the `Domino` class). The modifier `final` in front of a field name indicates that the field can be assigned a value only once. A `public static final` field is usually assigned a value at the point where it is declared ([static initialization blocks](https://docs.oracle.com/javase/tutorial/java/javaOO/initial.html) can also be used).\n",
    "\n",
    "`public static final` fields are intended to be constant values that are a meaningful part of the abstraction provided by the class. The class `java.lang.Math` has the two fields `E` and `PI` that represent the mathematical constants $e$ (Euler's number) and $\\pi$. The `Domino` class has two fields representing the constant values equal to the smallest and largest domino values.\n",
    "\n",
    "By convention, `static final` fields that are intended to be constants have names that are in all-caps; if name has multiple words then the words are separated with an underscore `_` character.\n",
    "\n",
    "A `final` field having primitive type is guaranteed to be constant value (regardless of whether it is public and/or static) because a final field can be assigned a value only once. Try changing the value of `Domino.MIN_VALUE` by running the following cell:"
   ]
  },
  {
   "cell_type": "code",
   "execution_count": null,
   "metadata": {},
   "outputs": [],
   "source": [
    "Domino.MIN_VALUE = 1;"
   ]
  },
  {
   "cell_type": "markdown",
   "metadata": {},
   "source": [
    "A `final` field having reference type where the type is immutable is guaranteed to be a constant value because a final field can be assigned a value only once and the state of an immutable object can never change once it has been initialized. For example, compile the following class by running its cell:"
   ]
  },
  {
   "cell_type": "code",
   "execution_count": null,
   "metadata": {},
   "outputs": [],
   "source": [
    "public class NothingToHide {\n",
    "    public static final String CONST_STRING = \"peek-a-boo\";\n",
    "}"
   ]
  },
  {
   "cell_type": "markdown",
   "metadata": {},
   "source": [
    "Now, try to change `CONST_STRING` so that it refers to a different string by running the following cell:"
   ]
  },
  {
   "cell_type": "code",
   "execution_count": null,
   "metadata": {},
   "outputs": [],
   "source": [
    "NothingToHide.CONST_STRING = \"I see you!\";"
   ]
  },
  {
   "cell_type": "markdown",
   "metadata": {},
   "source": [
    "The compiler should inform you that it \"cannot assign a value to final variable CONST_STRING\". Recall that Java strings are immutable; thus a `final` variable that refers to a `String` instance is guaranteed to refer to a constant string."
   ]
  },
  {
   "cell_type": "markdown",
   "metadata": {},
   "source": [
    "A `final` field having reference type where the type is mutable does *not* represent a constant. For example, compile the following class by running its cell:"
   ]
  },
  {
   "cell_type": "code",
   "execution_count": null,
   "metadata": {},
   "outputs": [],
   "source": [
    "import java.util.Date;\n",
    "\n",
    "public class TryingToHide {\n",
    "    public static final Date TODAY = new Date();\n",
    "}"
   ]
  },
  {
   "cell_type": "markdown",
   "metadata": {},
   "source": [
    "Assuming that you just ran the previous cell and that the time where you are did not just tick past midnight, the field `TODAY` should be a time during the current day which you can verify by running the next cell:"
   ]
  },
  {
   "cell_type": "code",
   "execution_count": null,
   "metadata": {},
   "outputs": [],
   "source": [
    "System.out.println(TryingToHide.TODAY);"
   ]
  },
  {
   "cell_type": "markdown",
   "metadata": {},
   "source": [
    "Can we make the field `TODAY` have tomorrow's date? Try running the following cell to find out:"
   ]
  },
  {
   "cell_type": "code",
   "execution_count": null,
   "metadata": {},
   "outputs": [],
   "source": [
    "import java.util.Date;\n",
    "\n",
    "Date d = TryingToHide.TODAY;\n",
    "TryingToHide.TODAY.setDate(d.getDate() + 1);\n",
    "System.out.println(TryingToHide.TODAY);"
   ]
  },
  {
   "cell_type": "markdown",
   "metadata": {},
   "source": [
    "The field `TODAY` now has tomorrow's date which is confusing for a field named `TODAY`. What is true about the field `TODAY` is that it always refers to the same `Date` object because the field was declared `final`; however, because the `Date` class is mutable, there is no way to prevent users of the class from invoking a mutator method and changing the state of the underlying `Date` object. Because the state of a mutable type can change, `public` mutable fields can never safely represent constant values.\n",
    "\n",
    "Mutable types can be used as `public final` fields but they should not be named using all-caps. Examples of mutable `public final` fields used in the Java standard library are `System.in`, `System.out`, and `System.err`. Writing to `System.out` using `println` changes the state of the underlying `PrintStream` object; thus `System.out` does not represent a constant and it is not named `System.OUT` which would be misleading to programmers."
   ]
  },
  {
   "cell_type": "markdown",
   "metadata": {},
   "source": [
    "**Exercise 1:** The `Card` class has two `public static final` arrays that store the valid ranks and suits of playing cards. Is this a good design?"
   ]
  },
  {
   "cell_type": "markdown",
   "metadata": {},
   "source": [
    "## Static methods\n",
    "\n",
    "There are three differences between implementing a regular method and a static method:\n",
    "\n",
    "1. A static method has the modifier `static` in the method header. By convention, the keyword `static` appears after the access modifier.\n",
    "2. There is no implicit parameter `this` in a static method because a static method is not invoked using an object reference.\n",
    "3. A static method cannot be overridden; this is an issue that becomes relevant when discussing inheritance.\n",
    "\n",
    "Consider the `Domino` constructor that validates the arguments passed to the constructor:\n",
    "\n",
    "```java\n",
    "public class Domino {\n",
    "\n",
    "\tpublic static final int MIN_VALUE = 0;\n",
    "\tpublic static final int MAX_VALUE = 6;\n",
    "\n",
    "\tprivate int val1;\n",
    "\tprivate int val2;\n",
    "\n",
    "\t/**\n",
    "\t * Initializes this domino to have the specified values.\n",
    "\t * \n",
    "\t * @param value1\n",
    "\t *            a value\n",
    "\t * @param value2\n",
    "\t *            another value\n",
    "\t * @pre. value1 is a legal domino value and value2 is a legal domino value\n",
    "\t * @throws IllegalArgumentException\n",
    "\t *             if value1 or value2 is not a legal domino value\n",
    "\t */\n",
    "\tpublic Domino(int value1, int value2) {\n",
    "\t\tif (value1 < MIN_VALUE || value1 > MAX_VALUE ||\n",
    "           value2 < MIN_VALUE || value2 > MAX_VALUE) {\n",
    "\t\t\tthrow new IllegalArgumentException();\n",
    "\t\t}\n",
    "\t\tthis.val1 = value1;\n",
    "\t\tthis.val2 = value2;\n",
    "\t}\n",
    "    \n",
    "    // other constructors and methods not shown\n",
    "}\n",
    "```\n",
    "\n",
    "Testing if a value is a valid domino value is a computation that is potentially useful to user of the class and to other methods of the `Domino` class. A `Domino` object is not required to test an integer value so we can implement a static method to perform the test:\n",
    "\n",
    "```java\n",
    "\t/**\n",
    "\t * Returns true if the specified value is a legal domino value, and false\n",
    "\t * otherwise.\n",
    "\t * \n",
    "\t * @param value\n",
    "\t *            a value to check\n",
    "\t * @return true if the specified value is a legal domino value, and false\n",
    "\t *         otherwise\n",
    "\t */\n",
    "\tpublic static boolean isValueOK(int value) {\n",
    "\t\treturn value >= MIN_VALUE && value <= MAX_VALUE;\n",
    "\t}\n",
    "```\n",
    "\n",
    "After implementing `isValueOK` the constructor can be refactored so that it uses the method instead of repeating the same validation code:\n",
    "\n",
    "```java\n",
    "public class Domino {\n",
    "\n",
    "\tpublic static final int MIN_VALUE = 0;\n",
    "\tpublic static final int MAX_VALUE = 6;\n",
    "\n",
    "\tprivate int val1;\n",
    "\tprivate int val2;\n",
    "\n",
    "\t/**\n",
    "\t * Initializes this domino to have the specified values.\n",
    "\t * \n",
    "\t * @param value1\n",
    "\t *            a value\n",
    "\t * @param value2\n",
    "\t *            another value\n",
    "\t * @pre. value1 is a legal domino value and value2 is a legal domino value\n",
    "\t * @throws IllegalArgumentException\n",
    "\t *             if value1 or value2 is not a legal domino value\n",
    "\t */\n",
    "\tpublic Domino(int value1, int value2) {\n",
    "\t\tif (!isValueOK(value1) || !isValueOK(value2)) {\n",
    "\t\t\tthrow new IllegalArgumentException();\n",
    "\t\t}\n",
    "\t\tthis.val1 = value1;\n",
    "\t\tthis.val2 = value2;\n",
    "\t}\n",
    "    \n",
    "    // other constructors and methods not shown\n",
    "}\n",
    "```\n",
    "\n",
    "Another common use of static methods are as *static conversion factories*. A factory method is a method that returns an object reference; usually, the method creates a new object which is why it is called a factory method. A conversion factory is a method that converts an object of one type to an object of a different type returning a reference to the newly created object.\n",
    "\n",
    "The complete `Domino` class has a `toString` method that returns a string representation of a domino; for example, the domino with values 3 and 5 has the string representation  `[3 : 5]`. The `toString` method is discussed in the [Overriding `toString`](./overriding_tostring.ipynb#notebook_id) notebook. We can implement a static conversion factory method that converts a string representation of a domino into a `Domino` object:\n",
    "\n",
    "```java\n",
    "\t/**\n",
    "\t * Returns a new domino with values given by the specified string.\n",
    "\t * The argument string <code>s</code> is expected to have the same format\n",
    "\t * as the one returned by <code>toString</code>.\n",
    "\t *  \n",
    "\t * @param s the string representation of a domino\n",
    "\t * @return a new domino with values given by s\n",
    "     * @throws IllegalArgumentException if s is not a string representation of a domino\n",
    "\t */\n",
    "\tpublic static Domino fromString(String s) {\n",
    "\t\tif (!s.startsWith(\"[\")) {\n",
    "\t\t\tthrow new IllegalArgumentException(\"leading [ expected\");\n",
    "\t\t}\n",
    "\t\tif (!s.endsWith(\"]\")) {\n",
    "\t\t\tthrow new IllegalArgumentException(\"trailing ] expected\");\n",
    "\t\t}\n",
    "\t\tString[] parts = s.split(\":\");\n",
    "\t\tif (parts.length != 2) {\n",
    "\t\t\tthrow new IllegalArgumentException(\"expected int : int\");\n",
    "\t\t}\n",
    "\t\tString first = parts[0].trim().replace(\"[\", \"\");\n",
    "\t\tString second = parts[1].trim().replace(\"]\", \"\");\n",
    "\t\tint val1;\n",
    "\t\tint val2;\n",
    "\t\ttry {\n",
    "\t\t\tval1 = Integer.parseInt(first);\n",
    "\t\t\tif (!Domino.isValueOK(val1)) {\n",
    "\t\t\t\tthrow new IllegalArgumentException(val1 + \" out of range\");\n",
    "\t\t\t}\n",
    "\t\t}\n",
    "\t\tcatch (NumberFormatException x) {\n",
    "\t\t\tthrow new IllegalArgumentException(\"non-int val1: \" + first);\n",
    "\t\t}\n",
    "\t\ttry {\n",
    "\t\t\tval2 = Integer.parseInt(second);\n",
    "\t\t\tif (!Domino.isValueOK(val2)) {\n",
    "\t\t\t\tthrow new IllegalArgumentException(val2 + \" out of range\");\n",
    "\t\t\t}\n",
    "\t\t}\n",
    "\t\tcatch (NumberFormatException x) {\n",
    "\t\t\tthrow new IllegalArgumentException(\"non-int val2: \" + second);\n",
    "\t\t}\n",
    "\t\treturn new Domino(val1, val2);\n",
    "\t}\n",
    "```\n",
    "\n",
    "The complete `Domino` class can be [found here](./resources/src/ca/queensu/cs/cisc124/notes/basics/Domino.java). Run the following cell to see an example where the `fromString` method is used to create the 28 dominoes in the standard double-six set:"
   ]
  },
  {
   "cell_type": "code",
   "execution_count": null,
   "metadata": {},
   "outputs": [],
   "source": [
    "%classpath add jar ../resources/jar/notes.jar\n",
    "\n",
    "import ca.queensu.cs.cisc124.notes.basics.Domino;\n",
    "\n",
    "for (int i = Domino.MIN_VALUE; i <= Domino.MAX_VALUE; i++) {\n",
    "    for (int j = i; j <= Domino.MAX_VALUE; j++) {\n",
    "        String s = String.format(\"[%s : %s]\", i, j);\n",
    "        Domino d = Domino.fromString(s);\n",
    "        System.out.println(\"string: \" + s + \", domino: \" + d);\n",
    "    }\n",
    "}"
   ]
  },
  {
   "cell_type": "markdown",
   "metadata": {},
   "source": [
    "Static methods are often used to augment or replace public constructors. One problem with constructors is that a constructor name must match the name of the class that it is defined in; thus, when overloading constructors, the parameter lists must differ which is not always possible. Consider the `Point2` class which has the following two-argument constructor:\n",
    "\n",
    "```java\n",
    "    public Point2(double x, double y) {\n",
    "        this.x = x;\n",
    "        this.y = y;\n",
    "    }\n",
    "```\n",
    "\n",
    "Suppose that we wanted to add a second constructor having parameters that represent the [polar coordinates](https://en.wikipedia.org/wiki/Polar_coordinate_system) of a point:\n",
    "\n",
    "```java\n",
    "    public Point2(double r, double radians) {\n",
    "    \tthis.x = r * Math.cos(radians);\n",
    "        this.y = r * Math.sin(radians);\n",
    "    }\n",
    "```\n",
    "\n",
    "Only one of the two constructors can be included in the class because both constructors have the same signature `Point(double, double)`.\n",
    "\n",
    "The solution is to replace one or both of the constructors with a static factory method. The constructor that uses polar coordinates is probably the one that would be least widely used; a factory method replacement for the constructor might look like:\n",
    "\n",
    "```java\n",
    "    public static Point2 fromPolar(double r, double radians) {\n",
    "    \treturn new Point2(r * Math.cos(radians), r * Math.sin(radians));\n",
    "    }\n",
    "```\n",
    "\n",
    "The example in the following cell uses the `fromPolar` method to compute points on an [Archimedean spiral](https://en.wikipedia.org/wiki/Archimedean_spiral) and then plots the points using a beakerx `Plot` object:"
   ]
  },
  {
   "cell_type": "code",
   "execution_count": null,
   "metadata": {},
   "outputs": [],
   "source": [
    "%classpath add jar ../resources/jar/notes.jar\n",
    "\n",
    "import ca.queensu.cs.cisc124.notes.basics.geometry.Point2;\n",
    "\n",
    "import java.util.List;\n",
    "import java.util.ArrayList;\n",
    "import com.twosigma.beakerx.chart.xychart.Plot;\n",
    "import com.twosigma.beakerx.chart.xychart.plotitem.*;    // import all classes from plotitem\n",
    "import com.twosigma.beakerx.chart.Color;\n",
    "\n",
    "Plot p = new Plot();\n",
    "p.setTitle(\"Archimedean spiral\");\n",
    "\n",
    "Points xy = new Points();\n",
    "List<Object> xList = new ArrayList<Object>();\n",
    "List<Number> yList = new ArrayList<Number>();\n",
    "\n",
    "final int n = 100;\n",
    "for (int i = 0; i < n; i++) {\n",
    "    double radians = Math.toRadians(i * 3 * 360.0 / n);\n",
    "    double r = 2.0 * radians;\n",
    "    Point2 point = Point2.fromPolar(r, radians);\n",
    "    xList.add(point.x());\n",
    "    yList.add(point.y());\n",
    "}\n",
    "\n",
    "xy.setX(xList);\n",
    "xy.setY(yList);\n",
    "p.add(xy);\n",
    "\n",
    "return p;\n"
   ]
  },
  {
   "cell_type": "markdown",
   "metadata": {},
   "source": [
    "Although a static method cannot use a `this` reference, it can access the fields of an instance of the class that it is defined in if the method is given a reference to an instance. For example, consider the `Point2` method `multiply(double, Point2)` that returns a point whose coordinates are computed by scaling the coordinates of an existing point:\n",
    "\n",
    "```java\n",
    "public class Point2 {\n",
    "    \n",
    "    private double x;\n",
    "    private double y;\n",
    "    \n",
    "    // constructors and methods not shown\n",
    "    \n",
    "\t/**\n",
    "\t * Returns a new point equal to {@code s * p}.\n",
    "\t * \n",
    "\t * @param s a scalar\n",
    "\t * @param p a point \n",
    "\t * @return a new point equal to {@code s * p}\n",
    "\t */\n",
    "\tpublic static Point2 multiply(double s, Point2 p) {\n",
    "\t\tPoint2 result = new Point2();\n",
    "\t\tresult.set(p.x * s, p.y * s);\n",
    "\t\treturn result;\n",
    "\t}\n",
    "}\n",
    "```\n",
    "\n",
    "The method `multiply` is allowed to directly access the private fields of the `Point2` argument `p` because the method is a member of the `Point2` class. The static version of the method `multiply` is a static factory method because it creates a new `Point2` object.\n",
    "\n",
    "Notice that the `multiply` method is overloaded in `Point2`. The non-static version of the method muliplies a point by `s` changing the coordinates of the point used to invoke the method. The static version of `multiply` creates a new point that is equal to a point `p` multiplied by `s` but does not change the coordinates of `p`. There are many static methods similar to `multiply` in the `Point2` and `Vector2` classes. Readers are encouraged to study the source code of [Point2](./resources/src/ca/queensu/cs/cisc124/notes/basics/geometry/Point2.java) and [Vector2](resources/src/ca/queensu/cs/cisc124/notes/basics/geometry/Vector2.java)."
   ]
  },
  {
   "cell_type": "markdown",
   "metadata": {},
   "source": [
    "## Exercises\n",
    "\n",
    "2. Private static fields are certainly less common than private instance fields. One use of a private static field is to keep count of the number of instances of a class that have been created. This technique involves adding a private static field to keep count of the number of instances and a public static method that returns the number of instances that have been created. The constructors of the class increment the static field (because a constructor is invoked whenever an instance is created). Create a class in the cell below (or in your IDE) that implements the instance counting technique and test that it works in the following cell."
   ]
  },
  {
   "cell_type": "code",
   "execution_count": null,
   "metadata": {},
   "outputs": [],
   "source": [
    "// Exercise 2: Create an instance counting class here\n"
   ]
  },
  {
   "cell_type": "code",
   "execution_count": null,
   "metadata": {},
   "outputs": [],
   "source": [
    "// Exercise 2: Test your class here"
   ]
  },
  {
   "cell_type": "markdown",
   "metadata": {},
   "source": [
    "3. A similar technique as described in Exercise 2 can be used to count the number of times that a method has been invoked. Add a static field to count the number of times a method has been invoked, a public method to get the count of the number of times the method has been invoked, and a method to your class from Exercise 2. Test that the technique works as expected."
   ]
  },
  {
   "cell_type": "markdown",
   "metadata": {},
   "source": [
    "4. The count of the number of instances created can act as a simple serial number or unique identifier for instances of a class. In addition to a private static field for the count, a private non-static field is added to the class that represents the serial number of an instance, and a public (non-static) method is added to the class that returns the serial number of an instance. The constructors of the class increment the static counter and assigns the count as the serial number of the instance. Modify your class from Exercise 2 to assign a serial number to every object."
   ]
  },
  {
   "cell_type": "markdown",
   "metadata": {},
   "source": [
    "5. (Somewhat difficult; will require some research and trial and error.) The static conversion factory method `fromString(String)` in the `Domino` class can be shortened considerably using a regular expression and the `String` method `matches`. After performing some research on Java regular expressions re-write the `fromString(String)` method so that it uses a regular expression to test if the argument string represents a domino. Using capture groups makes it easy to get the digits of the domino from the string."
   ]
  },
  {
   "cell_type": "markdown",
   "metadata": {},
   "source": [
    "6. The string representation of a `Card` is the rank followed by the string `\" of \"` followed by the suit. For example, `\"3 of HEARTS\"`. Add a static conversion factory to the `Card` class that converts the string reprsentation of a `Card` to a `Card` instance."
   ]
  },
  {
   "cell_type": "markdown",
   "metadata": {},
   "source": [
    "7. If you have been attempting the exercises from previous notebooks and have created your own classes then examine those classes to determine if there are any useful static methods that could be implemented. If so, then attempt to implement a few such methods."
   ]
  }
 ],
 "metadata": {
  "kernelspec": {
   "display_name": "Java",
   "language": "java",
   "name": "java"
  },
  "language_info": {
   "codemirror_mode": "text/x-java",
   "file_extension": ".java",
   "mimetype": "",
   "name": "Java",
   "nbconverter_exporter": "",
   "version": "1.8.0_121"
  },
  "toc": {
   "base_numbering": 1,
   "nav_menu": {},
   "number_sections": false,
   "sideBar": false,
   "skip_h1_title": false,
   "title_cell": "Table of Contents",
   "title_sidebar": "Contents",
   "toc_cell": false,
   "toc_position": {},
   "toc_section_display": false,
   "toc_window_display": false
  }
 },
 "nbformat": 4,
 "nbformat_minor": 4
}
