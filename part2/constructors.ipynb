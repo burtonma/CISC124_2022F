{
 "cells": [
  {
   "cell_type": "code",
   "execution_count": null,
   "metadata": {},
   "outputs": [],
   "source": [
    "// run this cell to prevent Jupyter from displaying the null output cell\n",
    "com.twosigma.beakerx.kernel.Kernel.showNullExecutionResult = false;"
   ]
  },
  {
   "cell_type": "markdown",
   "metadata": {},
   "source": [
    "<a id=\"notebook_id\"></a>\n",
    "# Constructors\n",
    "\n",
    "In Java the normal way to create an object is to use the `new` operator followed by a constructor invocation. The purpose of a constructor is to initialize an object so that it has a well-defined state.\n",
    "\n",
    "A constructor *always* has the same name as the class that it is defined in, and a constructor *never* returns a value, *not even `void`*.\n",
    "\n",
    "This notebook is concerned with classes that are not part of an inheritance hierarchy. A second notebook discusses implementing constructors in classes that are part of an inheritance hierarchy.\n",
    "\n",
    "## Default initialization of fields\n",
    "\n",
    "Recall that the compiler synthesizes a no-argument constructor if a class has no defined constructors. The synthesized no-argument constructor initializes all of the fields of the object to the default values defined by the Java language:\n",
    "\n",
    "* primitive numeric fields are initialized to the value zero\n",
    "* boolean fields are initialized to `false`\n",
    "* reference fields are initialized to `null`\n",
    "\n",
    "Note that these rules do not apply to local variables defined inside of methods; only fields are given default values by the compiler.\n",
    "\n",
    "To illustrate the default initialization of fields consider the following class that defines no constructors:\n"
   ]
  },
  {
   "cell_type": "code",
   "execution_count": null,
   "metadata": {},
   "outputs": [],
   "source": [
    "public class TypeSoup {\n",
    "    public byte aByte;\n",
    "    public char aChar;\n",
    "    public short aShort;\n",
    "    public int anInt;\n",
    "    public long aLong;\n",
    "    public float aFloat;\n",
    "    public double aDouble;\n",
    "    public boolean aBoolean;\n",
    "    public String aString;\n",
    "}"
   ]
  },
  {
   "cell_type": "markdown",
   "metadata": {},
   "source": [
    "Creating an instance of the class and printing the values of the fields can be done by running the following cell:"
   ]
  },
  {
   "cell_type": "code",
   "execution_count": null,
   "metadata": {},
   "outputs": [],
   "source": [
    "TypeSoup obj = new TypeSoup();\n",
    "System.out.println(\"default value for byte           : \" + obj.aByte);\n",
    "System.out.println(\"default value for char           : \" + obj.aChar);\n",
    "System.out.println(\"default value for short          : \" + obj.aShort);\n",
    "System.out.println(\"default value for int            : \" + obj.anInt);\n",
    "System.out.println(\"default value for long           : \" + obj.aLong);\n",
    "System.out.println(\"default value for float          : \" + obj.aFloat);\n",
    "System.out.println(\"default value for double         : \" + obj.aDouble);\n",
    "System.out.println(\"default value for boolean        : \" + obj.aBoolean);\n",
    "System.out.println(\"default value for reference types: \" + obj.aString);"
   ]
  },
  {
   "cell_type": "markdown",
   "metadata": {},
   "source": [
    "Nothing seems to print for the `char` field but this is in fact the expected result. The `char` value of `0` is called the *null character* (which has nothing to do with the value `null` in Java) and normally generates no output when printed.\n",
    "\n",
    "For some classes the default field values suffice, but the programmer should always create a constructor *even if the constructor sets the fields of the object to the compiler default values*. The reason this should be done is that no documentation is generated for the compiler synthesized constructor."
   ]
  },
  {
   "cell_type": "markdown",
   "metadata": {},
   "source": [
    "## Access modifiers for constructors\n",
    "\n",
    "An access modifier controls the visibility of a constructor to other classes. A constructor has an access modifier, even if the programmer does not specify an explicit modifier. The access modifiers in order from least restrictive to most restrictive are:\n",
    "\n",
    "* `public`\n",
    "* `protected`\n",
    "* no modifier which is called *package private*\n",
    "* `private`\n",
    "\n",
    "A `public` constructor is visible to all other classes. Most non-utility classes will define at least one `public` constructor.\n",
    "\n",
    "A `protected` constructor is visible to all classes in the *exact* same package and to any subclass (subject to some restrictions). `protected` constructors are used when implementing inheritance hierarchies.\n",
    "\n",
    "If no access modifier is specified then the access of the constructor is called *package private*. A package private constructor is visible to all classes in the *exact* same package. Package private access is useful for classes that should be hidden from classes outside of the package but are needed by other classes in the same package.\n",
    "\n",
    "A `private` constructor is visible only inside the class that it is defined in."
   ]
  },
  {
   "cell_type": "markdown",
   "metadata": {},
   "source": [
    "## Constructor signatures\n",
    "\n",
    "The signature of a constructor is the name of the constructor (which is always the class name) followed by the comma separated list of types of the parameters enclosed in parentheses. Consider the [HashMap](https://docs.oracle.com/en/java/javase/11/docs/api/java.base/java/util/HashMap.html); in Java 11 it has four different constructors. The constructor header and constructor signature for each of its constructors are shown in the following table:\n",
    "\n",
    "| Constructor header | Constructor signature |\n",
    "| :- | :- |\n",
    "|`public HashMap()` | `HashMap()` |\n",
    "|`public HashMap(int initialCapacity)` | `HashMap(int)` |\n",
    "|`public HashMap(int initialCapacity, float loadFactor)` | `HashMap(int, float)` |\n",
    "|`public HashMap(Map<? extends K, ? extends V> m)` | `HashMap(Map)` |\n",
    "\n",
    "Notice that the signatures are obtained by discarding the access modifier and names of the parameters.\n",
    "\n",
    "A class may contain an arbitrary number of constructors but the signatures of the constructors must be unique.\n",
    "\n",
    "The last constructor in the table has a generic parameter of type `Map<? extends K, ? extends V>` which the reader should, for the time being, interpret as meaning \"any `Map` that has the same types of keys and values as the `HashMap` object that is being constructed\". The signature shown in the table is technically the signature *after type erasure*. More information regarding generics in Java can be found the in [Oracle Generics](https://docs.oracle.com/javase/tutorial/java/generics/index.html) tutorial and in Part 3 of the notes. What is important for the time being is that the `HashMap` class cannot have two or more constructors with the signature `HashMap(Map)`."
   ]
  },
  {
   "cell_type": "markdown",
   "metadata": {},
   "source": [
    "## `this`\n",
    "\n",
    "Inside of a constructor body the keyword `this` can be used as a reference to the object that is being initialized by the constructor. Accessing the fields of the object being initialized is done by prefixing the field name with `this.` (`this` immediately followed by a `.`).\n",
    "\n",
    "Because the scope of a field is the entire class body, it is not required that the programmer use `this.` in front of the field name; however, doing so makes it absolutely clear that the variable being accessed is a field and not a local variable. Also, if a constructor has a parameter that has the same name as a field then the programmer must write `this.` before the field name because the parameter name takes precedence over field names in a constructor body.\n",
    "\n",
    "If you have done any object-oriented Python programming then Java's `this` is similar to Python's `self` except that `this` never appears in the parameter list."
   ]
  },
  {
   "cell_type": "markdown",
   "metadata": {},
   "source": [
    "## The no-argument constructor\n",
    "\n",
    "The no-argument constructor is the constructor having no parameters. A simple example of a no-argument constructor might be:\n",
    "\n",
    "```java\n",
    "public class Widget {\n",
    "    \n",
    "    /**\n",
    "     * An example of a no-argument constructor. Notice that the name of the constructor\n",
    "     * is identical to the name of the class.\n",
    "     */\n",
    "    public Widget() {\n",
    "        // the body of the constructor where the fields of this object would be initialized\n",
    "    }\n",
    "}\n",
    "```\n",
    "\n",
    "A class does not require a no-argument constructor but such a constructor is usually provided by the implementer of the class if the notion of a \"default object\" makes sense. For example, the `Counter` class might provide a no-argument constructor that sets the value of the counter to zero:"
   ]
  },
  {
   "cell_type": "code",
   "execution_count": null,
   "metadata": {},
   "outputs": [],
   "source": [
    "public class Counter {\n",
    "\n",
    "    private int value;\n",
    "    \n",
    "    /**\n",
    "     * Initializes the value of this counter to be equal to zero.\n",
    "     */\n",
    "    public Counter() {\n",
    "        this.value = 0;\n",
    "    }\n",
    "}"
   ]
  },
  {
   "cell_type": "markdown",
   "metadata": {},
   "source": [
    "Similarly, the `Point2` class might provide a no-argument constructor that sets the coordinates of the point to $(0.0, 0.0)$:"
   ]
  },
  {
   "cell_type": "code",
   "execution_count": null,
   "metadata": {},
   "outputs": [],
   "source": [
    "public class Point2 {\n",
    "    \n",
    "    private double x;\n",
    "    private double y;\n",
    "    \n",
    "    /**\n",
    "     * Initializes the coordinates of this point to be equal to (0.0, 0.0).\n",
    "     */\n",
    "    public Point2() {\n",
    "        this.x = 0.0;\n",
    "        this.y = 0.0;\n",
    "    }\n",
    "}"
   ]
  },
  {
   "cell_type": "markdown",
   "metadata": {},
   "source": [
    "Not every class requires or should have a no-argument constructor. For example, there is likely no reason to provide a no-argument constructor for the `Card` class because there is no meaningful default playing card."
   ]
  },
  {
   "cell_type": "markdown",
   "metadata": {},
   "source": [
    "## Additional constructors\n",
    "\n",
    "A class will often provide additional constructors that allow the user to specify the state of a newly initialized object. The number and type of constructor parameters will depend on how the state of the object is defined. For example, the `Counter` class might provide a constructor that allows the user to specify the initial value of a counter:"
   ]
  },
  {
   "cell_type": "code",
   "execution_count": null,
   "metadata": {},
   "outputs": [],
   "source": [
    "public class Counter {\n",
    "\n",
    "    private int value;\n",
    "    \n",
    "    /**\n",
    "     * Initializes the value of this counter to be equal to zero.\n",
    "     */\n",
    "    public Counter() {\n",
    "        this.value = 0;\n",
    "    }\n",
    "    \n",
    "    /**\n",
    "     * Initializes the value of this counter to the specified value.\n",
    "     *\n",
    "     * @param value the initial value of this counter\n",
    "     */\n",
    "    public Counter(int value) {\n",
    "        this.value = value;\n",
    "        \n",
    "        // Inside the constructor body the name value refers to the parameter value.\n",
    "        // To use the field of the same name we have to write this.value\n",
    "    }\n",
    "}"
   ]
  },
  {
   "cell_type": "markdown",
   "metadata": {},
   "source": [
    "Notice that the parameter name in the second constructor is `value` which matches the field name `value`. When this occurs we say that the parameter name *shadows* the field name. Inside the constructor body the name `value` corresponds to the parameter. Because shadowing occurs, we must use `this.value` when we want to use the field.\n",
    "\n",
    "Recall that the purpose of a constructor is to initialize an object so that it has well-defined state. The problem with the `Counter` constructor as it is currently implemented is that it allows a counter to have a negative value which breaks the class invariant that the value of a counter is always zero or positive. For the class to guarantee its invariant, the constructor must validate its argument *before* setting the value of its field:"
   ]
  },
  {
   "cell_type": "code",
   "execution_count": null,
   "metadata": {},
   "outputs": [],
   "source": [
    "public class Counter {\n",
    "\n",
    "    private int value;\n",
    "    \n",
    "    /**\n",
    "     * Initializes the value of this counter to be equal to zero.\n",
    "     */\n",
    "    public Counter() {\n",
    "        this.value = 0;\n",
    "    }\n",
    "    \n",
    "    /**\n",
    "     * Initializes the value of this counter to the specified value.\n",
    "     *\n",
    "     * @param value the initial value of this counter\n",
    "     * @throws IllegalArgumentException if value is less than zero\n",
    "     */\n",
    "    public Counter(int value) {\n",
    "        if (value < 0) {\n",
    "            throw new IllegalArgumentException(\"value is negative\");\n",
    "        }\n",
    "        this.value = value;\n",
    "    }\n",
    "}"
   ]
  },
  {
   "cell_type": "markdown",
   "metadata": {},
   "source": [
    "The second constructor now tests if the specified starting value of the counter is less than zero and throws an exception if the test is true. The constructor stops running immediately after the exception is thrown so the field `this.value` is never set to an invalid value. Notice that the Javadoc comment indicates what type of exception can be thrown and the condition under which an exception is thrown which can be verified by running the following cell:"
   ]
  },
  {
   "cell_type": "code",
   "execution_count": null,
   "metadata": {},
   "outputs": [],
   "source": [
    "Counter c = new Counter(-1);"
   ]
  },
  {
   "cell_type": "markdown",
   "metadata": {},
   "source": [
    "The `Point2` class should probably provide a constructor that allows the user to specify the initial coordinates of a point:"
   ]
  },
  {
   "cell_type": "code",
   "execution_count": null,
   "metadata": {},
   "outputs": [],
   "source": [
    "public class Point2 {\n",
    "    \n",
    "    private double x;\n",
    "    private double y;\n",
    "    \n",
    "    /**\n",
    "     * Initializes the coordinates of this point to be equal to (0.0, 0.0).\n",
    "     */\n",
    "    public Point2() {\n",
    "        this.x = 0.0;\n",
    "        this.y = 0.0;\n",
    "    }\n",
    "    \n",
    "    /**\n",
    "     * Initializes the coordinates of this point to the specified\n",
    "     * coordinates.\n",
    "     *\n",
    "     * @param x the x coordinate of this point\n",
    "     * @param y the y coordinate of this point\n",
    "     */\n",
    "    public Point2(double x, double y) {\n",
    "        this.x = x;\n",
    "        this.y = y;\n",
    "    }\n",
    "}"
   ]
  },
  {
   "cell_type": "markdown",
   "metadata": {},
   "source": [
    "The second constructor of `Point2` does not need to validate its arguments because a point can have any `double` coordinates. Notice that shadowing occurs in this constructor and we need to use `this.x` and `this.y` to access the fields of the object."
   ]
  },
  {
   "cell_type": "markdown",
   "metadata": {},
   "source": [
    "The `Card` class should probably provide a constructor that allows the user to specify the rank and suit of a card:"
   ]
  },
  {
   "cell_type": "code",
   "execution_count": null,
   "metadata": {},
   "outputs": [],
   "source": [
    "public class Card {\n",
    "    \n",
    "    private String rank;\n",
    "    private String suit;\n",
    "    \n",
    "    /**\n",
    "     * Initializes this card to have the specified rank and suit.\n",
    "     *\n",
    "     * @param rank the rank of this card\n",
    "     * @param suit the suit of this card\n",
    "     */\n",
    "    public Card(String rank, String suit) {\n",
    "        this.rank = rank;\n",
    "        this.suit = suit;\n",
    "    }\n",
    "}"
   ]
  },
  {
   "cell_type": "markdown",
   "metadata": {},
   "source": [
    "The second `Card` constructor must test both the `rank` and `suit` arguments to ensure that the arguments are a valid rank and a valid suit. There are 13 valid ranks and 4 valid suits for a playing card. When we test if a rank is valid we want to avoid using a large `if` statement that tests if the argument rank is equal to one of the valid ranks:\n",
    "\n",
    "```java\n",
    "boolean validRank = false;\n",
    "if (rank.equals(\"2\")) {\n",
    "    validRank = true;\n",
    "}\n",
    "else if (rank.equals(\"3\")) {\n",
    "    validRank = true;\n",
    "}\n",
    "// ... 11 more else if clauses\n",
    "else {\n",
    "    validRank = false;\n",
    "}\n",
    "if (!validRank) {\n",
    "    throw new IllegalArgumentException();\n",
    "}\n",
    "```\n",
    "\n",
    "Similarly we want to avoid using a logical condition involving many `||` operators:\n",
    "\n",
    "```java\n",
    "boolean validRank = rank.equals(\"2\") || rank.equals(\"3\") || /* 10 more conditionns || */ rank.equals(\"A\");\n",
    "if (!validRank) {\n",
    "    throw new IllegalArgumentException();\n",
    "}\n",
    "```\n",
    "\n",
    "Both approaches are error prone, difficult to debug, and difficult to maintain. Furthermore, users of the class would reasonably want to know the values of the valid ranks and suits.\n",
    "\n",
    "Putting the valid ranks and suits into two `public static final` arrays lets us use a loop to test if a string corresponds to a valid rank or suit; also, users of the class can use the arrays to get the valid ranks and suits. Adding these arrays to the class looks like so:"
   ]
  },
  {
   "cell_type": "code",
   "execution_count": null,
   "metadata": {},
   "outputs": [],
   "source": [
    "public class Card {\n",
    "    \n",
    "    private String rank;\n",
    "    private String suit;\n",
    "    \n",
    "    /**\n",
    "     * The valid ranks for a card.\n",
    "     */\n",
    "    public static final String[] RANKS = {\n",
    "        \"2\", \"3\", \"4\", \"5\", \"6\", \"7\", \"8\", \"9\", \"10\", \"J\", \"Q\", \"K\", \"A\"\n",
    "    };\n",
    "    \n",
    "    /**\n",
    "     * The valid suits for a card.\n",
    "     */\n",
    "    public static final String[] SUITS = {\n",
    "        \"CLUBS\", \"DIAMONDS\", \"HEARTS\", \"SPADES\"\n",
    "    };\n",
    "    \n",
    "    /**\n",
    "     * Initializes this card to have the specified rank and suit.\n",
    "     *\n",
    "     * @param rank the rank of this card\n",
    "     * @param suit the suit of this card\n",
    "     */\n",
    "    public Card(String rank, String suit) {\n",
    "        // search RANKS for rank and throw an exception if necessary\n",
    "        // search SUITS for suit and throw an exception if necessary\n",
    "        this.rank = rank;\n",
    "        this.suit = suit;\n",
    "    }\n",
    "}"
   ]
  },
  {
   "cell_type": "markdown",
   "metadata": {},
   "source": [
    "Using arrays in this situation turns out to be a terrible solution (see the exercises for why) but it is instructive to continue trying to use such an approach.\n",
    "\n",
    "Checking if the argument `rank` is valid requires searching the array `RANKS`. We could write a loop to perform the search but searching an array seems like a commonly performed operation that should be provided by a standard library class. The [`Arrays`](https://docs.oracle.com/en/java/javase/11/docs/api/java.base/java/util/Arrays.html) utility class is a library class containing methods for performing operations on arrays. Curiously, the class does not provide a method for searching unsorted arrays and the array `RANKS` is not sorted in dictionary order. The class does provide a method that returns a list representation of an array and lists in Java have the search method `contains`. Validating the `rank` and `suit` arguments can be done like so:"
   ]
  },
  {
   "cell_type": "code",
   "execution_count": null,
   "metadata": {},
   "outputs": [],
   "source": [
    "import java.util.Arrays;\n",
    "\n",
    "public class Card {\n",
    "    \n",
    "    private String rank;\n",
    "    private String suit;\n",
    "    \n",
    "    /**\n",
    "     * The valid ranks for a card.\n",
    "     */\n",
    "    public static final String[] RANKS = {\n",
    "        \"2\", \"3\", \"4\", \"5\", \"6\", \"7\", \"8\", \"9\", \"10\", \"J\", \"Q\", \"K\", \"A\"\n",
    "    };\n",
    "    \n",
    "    /**\n",
    "     * The valid suits for a card.\n",
    "     */\n",
    "    public static final String[] SUITS = {\n",
    "        \"CLUBS\", \"DIAMONDS\", \"HEARTS\", \"SPADES\"\n",
    "    };\n",
    "    \n",
    "    /**\n",
    "     * Initializes this card to have the specified rank and suit.\n",
    "     *\n",
    "     * @param rank the rank of this card\n",
    "     * @param suit the suit of this card\n",
    "     */\n",
    "    public Card(String rank, String suit) {\n",
    "        if (!Arrays.asList(RANKS).contains(rank)) {\n",
    "            throw new IllegalArgumentException(\"bad rank: \" + rank);\n",
    "        }\n",
    "        if (!Arrays.asList(SUITS).contains(suit)) {\n",
    "            throw new IllegalArgumentException(\"bad suit: \" + suit);\n",
    "        }\n",
    "        this.rank = rank;\n",
    "        this.suit = suit;\n",
    "    }\n",
    "}"
   ]
  },
  {
   "cell_type": "markdown",
   "metadata": {},
   "source": [
    "The expression `Arrays.asList(RANKS)` returns a reference to a `List<String>` (list of strings) object. The expression `Arrays.asList(RANKS).contains(rank)` returns `true` if the list returned by `Arrays.asList(RANKS)` contains a string that is equal to `rank`; otherwise it returns `false`.\n",
    "\n",
    "After verifying that `rank` is a valid rank and `suit` is a valid suit, the fields `this.rank` and `this.suit` can be assigned and the `Card` object is initialized to a valid state. If either the `rank` or `suit` argument is invalid then an exception is thrown as can be validated by running the following cell:"
   ]
  },
  {
   "cell_type": "code",
   "execution_count": null,
   "metadata": {},
   "outputs": [],
   "source": [
    "try {\n",
    "    Card c = new Card(\"1\", \"CLUBS\");\n",
    "}\n",
    "catch (IllegalArgumentException x) {\n",
    "    System.out.println(\"Card constructor failed: \" + x);\n",
    "}\n",
    "try {\n",
    "    Card c = new Card(\"4\", \"fishcakes\");\n",
    "}\n",
    "catch (IllegalArgumentException x) {\n",
    "    System.out.println(\"Card constructor failed: \" + x);\n",
    "}"
   ]
  },
  {
   "cell_type": "markdown",
   "metadata": {},
   "source": [
    "## The copy constructor\n",
    "\n",
    "A copy constructor allows the user to initialize the state of a new object by copying the state of an existing object. A copy constructor has exactly one parameter that is the same type of the class containing the constructor. A simple example of a copy constructor might be:\n",
    "\n",
    "```java\n",
    "public class Widget {\n",
    " \n",
    "    /**\n",
    "     * An example of a copy constructor. Notice that the constructor has one parameter\n",
    "     * and the parameter type is the name of the class.\n",
    "     */\n",
    "    public Widget(Widget other) {\n",
    "        // the body of the constructor where the fields of this object would be\n",
    "        // initialized to equal the fields of the other object\n",
    "    }\n",
    "}\n",
    "```\n",
    "\n",
    "A copy constructor usually performs a field-by-field copy of the values from the `other` object to `this` object.\n",
    "\n",
    "A class does not require a copy constructor but such a constructor can be provided by the implementer of the class if copying an existing makes sense. For example, the `Counter` class might provide a copy constructor that copies the value of another counter:"
   ]
  },
  {
   "cell_type": "code",
   "execution_count": null,
   "metadata": {},
   "outputs": [],
   "source": [
    "public class Counter {\n",
    "\n",
    "    private int value;\n",
    "    \n",
    "    /**\n",
    "     * Initializes the value of this counter to be equal to zero.\n",
    "     */\n",
    "    public Counter() {\n",
    "        this.value = 0;\n",
    "    }\n",
    "    \n",
    "    /**\n",
    "     * Initializes the value of this counter to the specified value.\n",
    "     *\n",
    "     * @param value the initial value of this counter\n",
    "     */\n",
    "    public Counter(int value) {\n",
    "        this.value = value;\n",
    "    }\n",
    "    \n",
    "    /**\n",
    "     * Initializes the value of this counter by copying the value\n",
    "     * from the specified counter.\n",
    "     *\n",
    "     * @param other the counter to copy\n",
    "     */\n",
    "    public Counter(Counter other) {\n",
    "        this.value = other.value;\n",
    "    }\n",
    "}"
   ]
  },
  {
   "cell_type": "markdown",
   "metadata": {},
   "source": [
    "If the remainder of a class is implemented correctly then a copy constructor does not need to validate the argument `other` because `other` refers to an already existing object (and a correctly implemented class should never let an object have an invalid state). In this case, there is no need to validate that the counter referred to by `other` has a valid value."
   ]
  },
  {
   "cell_type": "markdown",
   "metadata": {},
   "source": [
    "Similarly, the `Point2` class might provide a copy constructor that copies the coordinates of another point:"
   ]
  },
  {
   "cell_type": "code",
   "execution_count": null,
   "metadata": {},
   "outputs": [],
   "source": [
    "public class Point2 {\n",
    "    \n",
    "    private double x;\n",
    "    private double y;\n",
    "    \n",
    "    /**\n",
    "     * Initializes the coordinates of this point to be equal to (0.0, 0.0).\n",
    "     */\n",
    "    public Point2() {\n",
    "        this.x = 0.0;\n",
    "        this.y = 0.0;\n",
    "    }\n",
    "    \n",
    "    /**\n",
    "     * Initializes the coordinates of this point to the specified\n",
    "     * coordinates.\n",
    "     *\n",
    "     * @param x the x coordinate of this point\n",
    "     * @param y the y coordinate of this point\n",
    "     */\n",
    "    public Point2(double x, double y) {\n",
    "        this.x = x;\n",
    "        this.y = y;\n",
    "    }\n",
    "    \n",
    "    /**\n",
    "     * Initializes the coordinates of this point by coping the coordinates\n",
    "     * of the specified point.\n",
    "     *\n",
    "     * @param other the point to copy\n",
    "     */\n",
    "    public Point2(Point2 other) {\n",
    "        this.x = other.x;\n",
    "        this.y = other.y;\n",
    "    }\n",
    "}"
   ]
  },
  {
   "cell_type": "markdown",
   "metadata": {},
   "source": [
    "Finally, the `Card` class might provide a copy constructor that copies the rank and suit from another card:"
   ]
  },
  {
   "cell_type": "code",
   "execution_count": null,
   "metadata": {},
   "outputs": [],
   "source": [
    "import java.util.Arrays;\n",
    "\n",
    "public class Card {\n",
    "    \n",
    "    private String rank;\n",
    "    private String suit;\n",
    "    \n",
    "    /**\n",
    "     * The valid ranks for a card.\n",
    "     */\n",
    "    public static final String[] RANKS = {\n",
    "        \"2\", \"3\", \"4\", \"5\", \"6\", \"7\", \"8\", \"9\", \"10\", \"J\", \"Q\", \"K\", \"A\"\n",
    "    };\n",
    "    \n",
    "    /**\n",
    "     * The valid suits for a card.\n",
    "     */\n",
    "    public static final String[] SUITS = {\n",
    "        \"CLUBS\", \"DIAMONDS\", \"HEARTS\", \"SPADES\"\n",
    "    };\n",
    "    \n",
    "    /**\n",
    "     * Initializes this card to have the specified rank and suit.\n",
    "     *\n",
    "     * @param rank the rank of this card\n",
    "     * @param suit the suit of this card\n",
    "     */\n",
    "    public Card(String rank, String suit) {\n",
    "        if (!Arrays.asList(RANKS).contains(rank)) {\n",
    "            throw new IllegalArgumentException(\"bad rank: \" + rank);\n",
    "        }\n",
    "        if (!Arrays.asList(SUITS).contains(suit)) {\n",
    "            throw new IllegalArgumentException(\"bad suit: \" + suit);\n",
    "        }\n",
    "        this.rank = rank;\n",
    "        this.suit = suit;\n",
    "    }\n",
    "    \n",
    "    /**\n",
    "     * Initializes the rank and suit of this card by coping the rank and\n",
    "     * suit of the specified card.\n",
    "     *\n",
    "     * @param other the card to copy\n",
    "     */\n",
    "    public Card(Card other) {\n",
    "        this.rank = other.rank;\n",
    "        this.suit = other.suit;\n",
    "    }\n",
    "}"
   ]
  },
  {
   "cell_type": "markdown",
   "metadata": {},
   "source": [
    "Notice that in all three examples of copy constructors a field of the object is initialized as `this.`*fieldName* = `other.`*fieldName*. A very common mistake made by new programmers is to write `other.`*fieldName* = `this.`*fieldName* which is disastrous! Such a mistake changes the value of the field *fieldName* in the already existing object.\n",
    "\n",
    "Also notice that the copy constructor refers to a field in another object even though all of the fields in our objects are marked `private`. This is perfectly acceptable because the object being copied is an instance of the class in which the copy constructor resides. In other words, the `Card` copy constructor is allowed to access the fields of any `Card` object even if the fields are `private`."
   ]
  },
  {
   "cell_type": "markdown",
   "metadata": {},
   "source": [
    "## Constructor chaining\n"
   ]
  },
  {
   "cell_type": "markdown",
   "metadata": {},
   "source": [
    "Examining the bodies of the three constructors in the `Counter` and `Point2` classes should convince you that all of the constructors essentially do the same thing: The constructors simply assign values to the fields of the object. In fact, both classes could make do with a single constructor. If the `Counter` class only had the single constructor\n",
    "\n",
    "```java\n",
    "public Counter(int value)\n",
    "```\n",
    "\n",
    "then the user could get the effect of the no-argument constructor by writing\n",
    "\n",
    "```java\n",
    "Counter c = new Counter(0);\n",
    "```\n",
    "\n",
    "Similarly, the user could get the effect of the copy constructor by writing\n",
    "\n",
    "```java\n",
    "Counter c = new Counter(other.value());\n",
    "```\n",
    "\n",
    "assuming that `other` is a reference to `Counter` object and that the method `value` returns the value of a counter.\n",
    "\n",
    "If the `Point2` class only had the single constructor\n",
    "\n",
    "```java\n",
    "public Point2(double x, double y)\n",
    "```\n",
    "\n",
    "then the user could get the effect of the no-argument constructor by writing\n",
    "\n",
    "```java\n",
    "Point2 p = new Point2(0.0, 0.0);\n",
    "```\n",
    "\n",
    "Similarly, the user could get the effect of the copy constructor by writing\n",
    "\n",
    "```java\n",
    "Point2 p = new Point2(other.x(), other.y());\n",
    "```\n",
    "\n",
    "assuming that `other` is a reference to `Point2` object and that the methods `x` and `y` return the x and y coordinates of a point.\n",
    "\n",
    "Because constructors of a class tend to perform common operations it is reasonable to ask if there is a way for a constructor to invoke another constructor. For example, suppose that the `Counter` no-argument constructor could invoke the constructor `Counter(int)` with the argument value 0; similarly, the `Counter` copy constructor could invoke the constructor `Counter(int)` with the argument value `other.value`. If this were possible, then we could spend all of our effort implementing and testing the constructor `Counter(int)` and then obtain the other constructors with very little effort.\n",
    "\n",
    "In Java, a constructor can invoke another constructor of the same class using a technique called `constructor chaining`. A constructor that uses chaining is allowed to do so *only on the first line of the constructor*. To invoke another constructor from within a constructor in the same class use the keyword `this` followed by the comma separated argument values inside of parentheses. The `Counter` class constructors re-written to use chaining are shown in the next cell:"
   ]
  },
  {
   "cell_type": "code",
   "execution_count": null,
   "metadata": {},
   "outputs": [],
   "source": [
    "public class Counter {\n",
    "\n",
    "    private int value;\n",
    "    \n",
    "    /**\n",
    "     * Initializes the value of this counter to be equal to zero.\n",
    "     */\n",
    "    public Counter() {\n",
    "        this(0);        // invokes second constructor\n",
    "    }\n",
    "    \n",
    "    /**\n",
    "     * Initializes the value of this counter to the specified value.\n",
    "     *\n",
    "     * @param value the initial value of this counter\n",
    "     */\n",
    "    public Counter(int value) {\n",
    "        if (value < 0) {\n",
    "            throw new IllegalArgumentException(\"value is negative\");\n",
    "        }\n",
    "        this.value = value;\n",
    "    }\n",
    "    \n",
    "    /**\n",
    "     * Initializes the value of this counter by copying the value\n",
    "     * from the specified counter.\n",
    "     *\n",
    "     * @param other the counter to copy\n",
    "     */\n",
    "    public Counter(Counter other) {\n",
    "        this(other.value);     // invokes second constructor\n",
    "    }\n",
    "}"
   ]
  },
  {
   "cell_type": "markdown",
   "metadata": {},
   "source": [
    "The `Point2` class constructors re-written to use constructor chaining are shown in the next cell:"
   ]
  },
  {
   "cell_type": "code",
   "execution_count": null,
   "metadata": {},
   "outputs": [],
   "source": [
    "public class Point2 {\n",
    "    \n",
    "    private double x;\n",
    "    private double y;\n",
    "    \n",
    "    /**\n",
    "     * Initializes the coordinates of this point to be equal to (0.0, 0.0).\n",
    "     */\n",
    "    public Point2() {\n",
    "        this(0.0, 0.0);   // invokes second constructor\n",
    "    }\n",
    "    \n",
    "    /**\n",
    "     * Initializes the coordinates of this point to the specified\n",
    "     * coordinates.\n",
    "     *\n",
    "     * @param x the x coordinate of this point\n",
    "     * @param y the y coordinate of this point\n",
    "     */\n",
    "    public Point2(double x, double y) {\n",
    "        this.x = x;\n",
    "        this.y = y;\n",
    "    }\n",
    "    \n",
    "    /**\n",
    "     * Initializes the coordinates of this point by coping the coordinates\n",
    "     * of the specified point.\n",
    "     *\n",
    "     * @param other the point to copy\n",
    "     */\n",
    "    public Point2(Point2 other) {\n",
    "        this(other.x, other.y);    // invokes second constructor\n",
    "    }\n",
    "}"
   ]
  },
  {
   "cell_type": "markdown",
   "metadata": {},
   "source": [
    "A constructor may chain to another constructor which chains to another constructor, and so on, but the chain must eventually reach a constructor which does not use chaining; in other words, a constructor must be reached that actually performs the job of initializing the state of the object."
   ]
  },
  {
   "cell_type": "markdown",
   "metadata": {},
   "source": [
    "## Exercises\n",
    "\n",
    "1. Suppose that the `Counter` constructor was implemented as follows:\n",
    "    ```java\n",
    "    public class Counter {\n",
    "\n",
    "        private int value;\n",
    "    \n",
    "        public Counter(int value) {\n",
    "            if (value < 0) {\n",
    "                throw new IllegalArgumentException(\"value is negative\");\n",
    "            }\n",
    "            value = value;\n",
    "        }\n",
    "    }\n",
    "    ```\n",
    "   If a user creates a new counter by writing `new Counter(10)` what is the value of the counter?"
   ]
  },
  {
   "cell_type": "markdown",
   "metadata": {},
   "source": [
    "2. Suppose that the `Counter` constructor was implemented as follows:\n",
    "    ```java\n",
    "    public class Counter {\n",
    "\n",
    "        private int value;\n",
    "    \n",
    "        public Counter(int value) {\n",
    "            if (value < 0) {\n",
    "                throw new IllegalArgumentException(\"value is negative\");\n",
    "            }\n",
    "            value = this.value;\n",
    "        }\n",
    "    }\n",
    "    ```\n",
    "   If a user creates a new counter by writing `new Counter(10)` what is the value of the counter?\n"
   ]
  },
  {
   "cell_type": "markdown",
   "metadata": {},
   "source": [
    "3. Suppose that the `Counter` constructor was implemented as follows:\n",
    "    ```java\n",
    "    public class Counter {\n",
    "\n",
    "        private int value;\n",
    "    \n",
    "        public Counter(int value) {\n",
    "            if (this.value < 0) {\n",
    "                throw new IllegalArgumentException(\"value is negative\");\n",
    "            }\n",
    "            this.value = value;\n",
    "        }\n",
    "    }\n",
    "    ```\n",
    "   If a user creates a new counter by writing `new Counter(-10)` is an exception thrown?"
   ]
  },
  {
   "cell_type": "markdown",
   "metadata": {},
   "source": [
    "4. Implement the `Domino` constructors shown in the following cell:"
   ]
  },
  {
   "cell_type": "code",
   "execution_count": null,
   "metadata": {},
   "outputs": [],
   "source": [
    "public class Domino {\n",
    "\n",
    "    /**\n",
    "     * The smallest possible value for a side of a domino.\n",
    "     */\n",
    "    public static final int MIN_VALUE = 0;\n",
    "    \n",
    "    /**\n",
    "     * The largest possible value for a side of a domino. \n",
    "     */\n",
    "    public static final int MAX_VALUE = 6;\n",
    "\n",
    "    /**\n",
    "     * The two values on the domino.\n",
    "     */\n",
    "    private int val1;\n",
    "    private int val2;\n",
    "\n",
    "    /**\n",
    "     * Initializes this domino so that both of its values are\n",
    "     * equal to <code>Domino.MIN_VALUE</code>.\n",
    "     */\n",
    "    public Domino() {\n",
    "        \n",
    "    }\n",
    "\n",
    "    /**\n",
    "     * Initializes this domino to have the specified values.\n",
    "     * \n",
    "     * @param value1\n",
    "     *            a value\n",
    "     * @param value2\n",
    "     *            another value\n",
    "     * @pre. value1 is a legal domino value and value2 is a legal domino value\n",
    "     * @throws IllegalArgumentException\n",
    "     *             if value1 or value2 is not a legal domino value\n",
    "     */\n",
    "    public Domino(int value1, int value2) {\n",
    "        \n",
    "    }\n",
    "\n",
    "    /**\n",
    "     * Initializes this domino so that its values are the same as the specified\n",
    "     * other domino.\n",
    "     * \n",
    "     * @param other\n",
    "     *            a domino\n",
    "     */\n",
    "    public Domino(Domino other) {\n",
    "        \n",
    "    }\n",
    "    \n",
    "}"
   ]
  },
  {
   "cell_type": "markdown",
   "metadata": {},
   "source": [
    "5. If you are familiar with complex numbers create a class for representing complex numbers. Implement suitable constructors for your class. Try to use chaining where possible."
   ]
  },
  {
   "cell_type": "markdown",
   "metadata": {},
   "source": [
    "6. Create a class for representing a standard six-sided [die](https://en.wikipedia.org/wiki/Dice). Implement suitable constructors for your class."
   ]
  },
  {
   "cell_type": "markdown",
   "metadata": {},
   "source": [
    "7. Create a class for representing a die having any number of sides greater than or equal to two. Implement suitable constructors for your class."
   ]
  },
  {
   "cell_type": "markdown",
   "metadata": {},
   "source": [
    "8. Die sides are normally numbered from 1 to $n$ where $n$ is the number of sides on the die but there is no reason why the faces of a die cannot be labelled with arbitrary numbers, text, or images. Create a class for representing a die whose faces are labelled with arbitrary strings. Implement suitable constructors for your class."
   ]
  },
  {
   "cell_type": "markdown",
   "metadata": {},
   "source": [
    "9. Choose a card game that you are familiar with that uses standard playing cards and involves dealing *hands* to players (such as poker, hearts, or euchre). Create a class that represents a hand for the game that you have chosen. Implement suitable constructors for your class. You can use the `Card` class as part of your implementation."
   ]
  },
  {
   "cell_type": "markdown",
   "metadata": {},
   "source": [
    "10. Strings are immutable so we cannot change any of the `String` objects that represent a valid rank or suit. Are arrays immutable? Can we change set the elements of `Card.RANKS` and `Card.SUITS` from outside of the class?"
   ]
  },
  {
   "cell_type": "markdown",
   "metadata": {},
   "source": [
    "11. See Exercises 3-6 in the [Designing simple classes](./designing_simple_classes.ipynb#notebook_id) notebook. Implement suitable constructors for these classes."
   ]
  }
 ],
 "metadata": {
  "kernelspec": {
   "display_name": "Java",
   "language": "java",
   "name": "java"
  },
  "language_info": {
   "codemirror_mode": "text/x-java",
   "file_extension": ".java",
   "mimetype": "",
   "name": "Java",
   "nbconverter_exporter": "",
   "version": "1.8.0_121"
  },
  "toc": {
   "base_numbering": 1,
   "nav_menu": {},
   "number_sections": false,
   "sideBar": false,
   "skip_h1_title": false,
   "title_cell": "Table of Contents",
   "title_sidebar": "Contents",
   "toc_cell": false,
   "toc_position": {},
   "toc_section_display": false,
   "toc_window_display": false
  }
 },
 "nbformat": 4,
 "nbformat_minor": 4
}
