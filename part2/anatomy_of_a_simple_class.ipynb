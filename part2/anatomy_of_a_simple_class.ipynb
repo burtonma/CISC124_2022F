{
 "cells": [
  {
   "cell_type": "code",
   "execution_count": null,
   "metadata": {},
   "outputs": [],
   "source": [
    "// run this cell to prevent Jupyter from displaying the null output cell\n",
    "com.twosigma.beakerx.kernel.Kernel.showNullExecutionResult = false;"
   ]
  },
  {
   "cell_type": "markdown",
   "metadata": {},
   "source": [
    "<a href=\"notebook_id\"></a>\n",
    "# The anatomy of a simple class\n",
    "\n",
    "In Java, almost every *class* is an implementation of a type (the exceptions are abstract classes which are discussed in Part 3 of the notes). When a programmer creates a class, the programmer defines what information is used to represent the type and what operations can be performed by the type. The \"information used to represent the type\" is often called the *data* and the \"operations that can be performed by the type\" is often called the *behaviour*. In Java, the data is represented using *fields* and the behaviour is defined by *methods*.\n",
    "\n",
    "In this notebook we will implement a data structure called a *stack*. The name stack is descriptive of how a stack data structure works. \n",
    "\n",
    "A stack is a collection of elements where the elements can be inserted and removed, but removing an element *always* causes the most recently inserted element to be removed: The stack implements a last-in, first-out or LIFO policy. This implies that a stack keeps its elements in sequence. \n",
    "\n",
    "Conceptually, a stack data structure is similar to the everyday notion of a stack of stuff:\n",
    "\n",
    "![Stacks of stuff](../resources/images/stacks/stack-1.png)\n",
    "\n",
    "Inserting and removing elements from a stack always occur at the top of the stack:\n",
    "\n",
    "![Top of a stack](../resources/images/stacks/stack-2.png)\n",
    "\n",
    "Classically, stacks only support two operations:\n",
    "\n",
    "1. The `push` operation adds an element to the top of a stack.\n",
    "2. The `pop` operation removes the element at the top of a stack."
   ]
  },
  {
   "cell_type": "markdown",
   "metadata": {},
   "source": [
    "<video controls src=\"../resources/images/stacks/push.mp4\" />"
   ]
  },
  {
   "cell_type": "markdown",
   "metadata": {},
   "source": [
    "<video controls src=\"../resources/images/stacks/pop.mp4\" />"
   ]
  },
  {
   "cell_type": "markdown",
   "metadata": {},
   "source": [
    "To implement our stack class we require one more more fields to store the elements that are pushed onto the stack. We cannot use one field per element because we do not know how many elements a user might push on to the stack. This suggests that we need some sort of collection. If you watch the push and pop videos above, you might recognize that pushing an element on to the stack looks like adding an element to the end of a list. Similarly, popping an element from the stack looks like removing an element from the end of a list. It seems that we can use a list to implement a stack.\n",
    "\n",
    "The documentation for the example classes (and many more classes) can be [found here](../resources/doc/ca/queensu/cs/cisc124/notes/basics/Stack.html).\n",
    "\n",
    "The source code for the example classes (and many more classes) can be [found here](../resources/src/ca/queensu/cs/cisc124/notes/basics/Stack.java)."
   ]
  },
  {
   "cell_type": "markdown",
   "metadata": {},
   "source": [
    "## Visual representation of a class\n",
    "\n",
    "A visual representation of the `Stack` class is shown in the following figure. The figure shows what the source code file `Stack.java` looks like.\n",
    "\n",
    "![Visual representation of the Stack class](../resources/images/anatomy_of_a_class.png)\n",
    "\n",
    "For the time being, readers should focus on the structure of the class rather than the code contained in the class.\n",
    "\n",
    "If a class is to be placed inside a package then the package declaration is the first non-comment line of code. A class can be in only one package so there is either zero or one package declaration statements in a source code file.\n",
    "\n",
    "If a class requires other classes not inside the package `java.lang` then those classes must be imported using an import statement so that the compiler can compile the class. Some classes require no other classes so there is may be zero or more import statements.\n",
    "\n",
    "A source code file should normally declare one top-level class (a top-level class is a class that is *not* defined inside of another class) in a source code file. It is legal to declare more than one top-level class in a source code file but there are no benefits to doing so and there are significant risks associated with doing so. Curious readers are encouraged to read *Item 25* of *Effective Java (Third Edition)* by Joshua Bloch for details.\n",
    "\n",
    "Inside of a class, there is usually one or more fields (although there may be zero fields in some cases) that represent the data encapsulated by the class. A field is simply a variable whose scope is the entire body of the class. In our stack implementation, there is a field for the list that holds the elements of the stack.\n",
    "\n",
    "Also inside of a class, there is usually one or more constructors (although there may be zero constructors in some cases). A constructor is responsible for initializing the state of a newly created object. There may be more than one constructor because a user of the class may be able to initialize an object in more than one way.\n",
    "\n",
    "Finally, inside of a class, there is usually one or more methods (although there may be zero methods in some cases). A method performs some sort of action or computation often involving the fields of the class. In our stack implementation, we have methods that add (push) and remove (pop) elements from the list that holds the elements of the stack.\n",
    "\n",
    "It is important to point out that our description of a class is not complete. A class may contain other features (such as other classes) not shown in the figure above."
   ]
  },
  {
   "cell_type": "markdown",
   "metadata": {},
   "source": [
    "## Packages\n",
    "\n",
    "Java uses *packages* to organize classes and interfaces. Conceptually, a package is similar to a folder or directory on a computer file system. A package has a name (just like a directory has a name). A package can contain another package called a *subpackage* (just like a directory can contain another directory). A package can also contain the names of classes and interfaces (just like a directory can contain files).\n",
    "\n",
    "Packages are used to collect together related classes and subpackages. For example, the package `java` contains packages that are part of the Java Standard Edition platform. Inside the package `java` is the package [`lang`](https://docs.oracle.com/en/java/javase/11/docs/api/java.base/java/lang/package-summary.html) that contains packages and classes that are fundamental to the design of the Java programming language. Inside the package `lang` is the package `reflect` that contains classes and interfaces for obtaining information about classes and objects at runtime.\n",
    "\n",
    "The *fully qualified name* of a package is (supposed to be) the universally unique name for the package. The fully qualified name of a package that is not inside of another package is simply the name of the package. For example, the fully qualified name of the package `java` is just `java`. If a package is inside of another package, then its fully qualified name is the fully qualified name of its parent package followed by a period `.` followed by the package name. For example, the fully qualified name of `lang` is `java.lang` and the fully qualified name of `reflect` is `java.lang.reflect`.\n",
    "\n",
    "Fully qualified package names are supposed to be universally unique so that classes having the same name *but are part of different packages* can be used in the same program. For example, suppose that you create your own high performance `String` class and you put your class in the package `my.unique.pkgname`. Then you can use your class and the Java `String` class in the same program by including the fully qualified package name like so:\n",
    "\n",
    "```java\n",
    "String s = \"this is a Java string\";\n",
    "my.unique.pkgname.String t = new my.unique.pkgname.String(\"this is not a Java string\");\n",
    "```\n",
    "\n",
    "In this example, `my.unique.pkgname.String` is the *fully qualified class name* of the hypothetical high performance string class.\n",
    "\n",
    "Unfortunately there is no way to enforce the rule that every organization or individual programmer should be using unique fully qualified package names. The convention that is encouraged is that organizations use their reversed Internet domain name to begin their package names. For example, packages and classes created for use in this course might all be grouped into the package `ca.queensu.cs.cisc124`.\n",
    "\n",
    "To assign a package name to a class use a statement with the following syntax at the beginning of the source code file containing your class:\n",
    "\n",
    "```java\n",
    "package fqpkg-name;\n",
    "```\n",
    "\n",
    "where *fqpkg-name* is the fully qualified package name. \n",
    "\n",
    "In this example, we will use the package name `ca.queensu.cs.cisc124.notes.basics` and our `Stack.java` source code file looks like:"
   ]
  },
  {
   "cell_type": "code",
   "execution_count": null,
   "metadata": {},
   "outputs": [],
   "source": [
    "package ca.queensu.cs.cisc124.notes.basics;"
   ]
  },
  {
   "cell_type": "markdown",
   "metadata": {},
   "source": [
    "## `import` statements\n",
    "\n",
    "An `import` statement allows a class or classes to be used by another class.\n",
    "\n",
    "A class is allowed to use any class in the package `java.lang` without doing anything special. The compiler will automatically import any class from the package `java.lang` if it is required by your class. Note that this is *not* true of classes that are inside subpackages of `java.lang`. For example, an import statement is required to use the classes in the package `java.lang.reflect`.\n",
    "\n",
    "Any class that is not in the package `java.lang` requires an import statement if it is required in your class.\n",
    "\n",
    "An import statement has the syntax:\n",
    "\n",
    "```java\n",
    "import fqclass-name;\n",
    "```\n",
    "\n",
    "where *fqclass-name* is the fully qualified class name.\n",
    "\n",
    "In this example, we will be using the class `java.util.ArrayList` which requires an import statement. Our `Stack.java` source code file now looks like:"
   ]
  },
  {
   "cell_type": "code",
   "execution_count": null,
   "metadata": {},
   "outputs": [],
   "source": [
    "package ca.queensu.cs.cisc124.notes.basics;\n",
    "\n",
    "import java.util.ArrayList;"
   ]
  },
  {
   "cell_type": "markdown",
   "metadata": {},
   "source": [
    "## Class declaration"
   ]
  },
  {
   "cell_type": "markdown",
   "metadata": {},
   "source": [
    "A class declaration is the definition of a new type in Java. The syntax for declaring a class is:\n",
    "\n",
    "```java\n",
    "access-modifier class name {\n",
    "    \n",
    "}\n",
    "```\n",
    "\n",
    "where *access-modifier* is an access modifier described in the next paragraph and *name* is the (unqualified) name of the class. The braces `{}` delimit the body of the class. Fields, constructors, methods, and other classes defined in the class body are called *members* of the class.\n",
    "\n",
    "An access modifier controls which other classes can see the class. For a top-level class (a class not defined inside of another class) there are two choices for the access modifier:\n",
    "\n",
    "* `public`: all other classes can see the class\n",
    "* no access modifier: called *package private* access; only classes in the exact same package can see the class\n",
    "\n",
    "In this example, we want anyone to be able to use our class and the class name will be `Stack`. Adding the class declaration makes our source code file look like:"
   ]
  },
  {
   "cell_type": "code",
   "execution_count": null,
   "metadata": {},
   "outputs": [],
   "source": [
    "package ca.queensu.cs.cisc124.notes.basics;\n",
    "\n",
    "import java.util.ArrayList;\n",
    "\n",
    "public class Stack {\n",
    "    \n",
    "}"
   ]
  },
  {
   "cell_type": "markdown",
   "metadata": {},
   "source": [
    "## Fields\n",
    "\n",
    "Fields, or member variables, are variables that are defined inside the class body. Fields have primarily three uses in a class:\n",
    "\n",
    "1. to represent constants that are meaningful for the class; for example, the field `PI` in the `Math` class represents the mathematical constant $pi$.\n",
    "2. to represent data that belongs to the class\n",
    "3. to represent data that belongs to instances of the class\n",
    "\n",
    "Fields are discussed in greater detail in the [Fields](fields.ipynb#notebook_id) notebook.\n",
    "\n",
    "All members of a class can have an access modifier. In addition to `public` and package private, there are two other access modifiers that a member can have:\n",
    "\n",
    "* `private`: the member is visible only to other members of the class\n",
    "* `protected`: the member is visible to classes in the exact same package as the class (same as package private) *and* to subclasses of the class. `protected` access is discussed in greater detail in the [Inheritance](inheritance.ipynb#notebook_id) notebook.\n",
    "\n",
    "The principles of encapsulation and data hiding strongly suggest that most fields should be hidden from other classes; in Java, this means that most fields should have the `private` access modifier.\n",
    "\n",
    "Our class has one field, and `ArrayList` that holds the strings of the stack in a particular order. The string at the end of the list corresponds to the string that is on top of the stack. Most Java programmers place fields at the beginning of the class body. Adding the `ArrayList` field makes our source code file look like:"
   ]
  },
  {
   "cell_type": "code",
   "execution_count": null,
   "metadata": {},
   "outputs": [],
   "source": [
    "package ca.queensu.cs.cisc124.notes.basics;\n",
    "\n",
    "import java.util.ArrayList;\n",
    "\n",
    "public class Stack {\n",
    "    \n",
    "    private ArrayList<String> stack;\n",
    "    \n",
    "}"
   ]
  },
  {
   "cell_type": "markdown",
   "metadata": {},
   "source": [
    "## Constructors\n",
    "\n",
    "The purpose of a constructor is to initialize the state of a newly created object. A user of our class uses the `new` operator to make a new stack like so:\n",
    "\n",
    "```java\n",
    "Stack s = new Stack();\n",
    "```\n",
    "\n",
    "The `Stack()` after the `new` operator is a constructor call. The name of a constructor is always the same as the name of the class that it is defined in.\n",
    "\n",
    "Constructors are discussed in greater detail in the [Constructors](./constructors.ipynb#notebook_id) notebook.\n",
    "\n",
    "Users of our class need to be able to invoke a `Stack` constructor; therefore, our class should have at least one `public` constructor.\n",
    "\n",
    "Our class has one constructor that initializes the stack to be an empty stack that is ready for elements to be pushed onto it. The constructor needs to make sure that there is an `ArrayList` object that is ready to accept elements. We have a field named `stack` that can refer to an `ArrayList` object but *it does not yet refer to any object* because we have not yet assigned a value to it. The purpose of the constructor is to assign an `ArrayList` to the field. Adding our constructor makes our source code file look like:"
   ]
  },
  {
   "cell_type": "code",
   "execution_count": null,
   "metadata": {},
   "outputs": [],
   "source": [
    "package ca.queensu.cs.cisc124.notes.basics;\n",
    "\n",
    "import java.util.ArrayList;\n",
    "\n",
    "public class Stack {\n",
    "\n",
    "    private ArrayList<String> stack;\n",
    "    \n",
    "    public Stack() {\n",
    "        this.stack = new ArrayList<>();\n",
    "    }\n",
    "}"
   ]
  },
  {
   "cell_type": "markdown",
   "metadata": {},
   "source": [
    "## Methods\n",
    "\n",
    "Methods define the actions that a class or object can perform. Often, a method accesses or modifies one or more fields.\n",
    "\n",
    "Methods are discussed in greater detail in the [Methods](./methods.ipynb#notebook_id) notebook.\n",
    "\n",
    "As mentioned earlier, a stack as two operations named *push* and *pop*; these operations will be implemented as methods named `push` and `pop`. \n",
    "\n",
    "A third operation most users of the `Stack` class would appreciate is an operation that returned the number of elements in the stack; this operation will be implemented as a method named `size`. \n",
    "\n",
    "Finally, a useful fourth operation is for a stack to return a string representation of its state. For a stack, a useful string representation might be each string on the stack on separate lines in order starting from the top of the stack and going to the bottom of the stack. Returning a string representation in Java is performed by providing a customized `toString` method.\n",
    "\n",
    "All four of the these methods should have `public` access so that any other class can use them.\n",
    "\n",
    "The `push` method needs to know what string element should be pushed on to the top of the stack. This information is conveyed as a parameter named `elem` of the method. \n",
    "The `push` method does not need to return a value to the user; in Java this indicated by the `void` keyword in front of the method name.\n",
    "\n",
    "The `pop` method needs to return the string that was popped from the top of the stack; in Java this is indicated by the `String` class name in front of the method name.\n",
    "\n",
    "Adding our three methods makes our source code file look like:"
   ]
  },
  {
   "cell_type": "code",
   "execution_count": null,
   "metadata": {},
   "outputs": [],
   "source": [
    "package ca.queensu.cs.cisc124.notes.basics;\n",
    "\n",
    "import java.util.ArrayList;\n",
    "\n",
    "public class Stack {\n",
    "\n",
    "    private ArrayList<String> stack;\n",
    "    \n",
    "    public Stack() {\n",
    "        this.stack = new ArrayList<>();\n",
    "    }\n",
    "\n",
    "    public int size() {\n",
    "        return this.stack.size();\n",
    "    }\n",
    "\n",
    "    public void push(String elem) {\n",
    "        this.stack.add(elem);\n",
    "    }\n",
    "\n",
    "    public String pop() {\n",
    "        String elem = this.stack.remove(this.size() - 1);\n",
    "        return elem;\n",
    "    }\n",
    "\n",
    "    public String toString() {\n",
    "        StringBuilder b = new StringBuilder(\"Stack:\");\n",
    "        if (this.size() != 0) {\n",
    "            for (int i = this.size() - 1; i >= 0; i--) {\n",
    "                b.append('\\n');\n",
    "                b.append(this.stack.get(i));\n",
    "            }\n",
    "        }\n",
    "        return b.toString();\n",
    "    }\n",
    "}\n"
   ]
  },
  {
   "cell_type": "markdown",
   "metadata": {},
   "source": [
    "## Testing the `Stack` class\n",
    "\n",
    "To test our `Stack` class we can create another class having a `main` method that creates a `Stack` object, pushes some strings on to the stack, and then pops the strings from the stack:"
   ]
  },
  {
   "cell_type": "code",
   "execution_count": null,
   "metadata": {},
   "outputs": [],
   "source": [
    "package ca.queensu.cs.cisc124.notes.basics;\n",
    "\n",
    "public class TestStack {\n",
    "\n",
    "    public static void main(String[] args) {\n",
    "        Stack t = new Stack();\n",
    "        t.push(\"a\");\n",
    "        t.push(\"b\");\n",
    "        t.push(\"c\");\n",
    "        System.out.println(\"size of stack: \" + t.size());\n",
    "        System.out.println(t);\n",
    "        System.out.println();\n",
    "        \n",
    "        String elem = t.pop();\n",
    "        System.out.println(\"popped : \" + elem);\n",
    "        System.out.println(\"size of stack: \" + t.size());\n",
    "        System.out.println(t);\n",
    "        System.out.println();\n",
    "        \n",
    "        elem = t.pop();\n",
    "        System.out.println(\"popped : \" + elem);\n",
    "        System.out.println(\"size of stack: \" + t.size());\n",
    "        System.out.println(t);\n",
    "        System.out.println();\n",
    "        \n",
    "        elem = t.pop();\n",
    "        System.out.println(\"popped : \" + elem);\n",
    "        System.out.println(\"size of stack: \" + t.size());\n",
    "        System.out.println(t);\n",
    "    }\n",
    "}"
   ]
  },
  {
   "cell_type": "markdown",
   "metadata": {},
   "source": [
    "In this notebook you can run the `TestStack` program by running the next cell:"
   ]
  },
  {
   "cell_type": "code",
   "execution_count": null,
   "metadata": {},
   "outputs": [],
   "source": [
    "package ca.queensu.cs.cisc124.notes.basics;\n",
    "\n",
    "TestStack.main(null);"
   ]
  },
  {
   "cell_type": "markdown",
   "metadata": {},
   "source": [
    "If you are working in an IDE you should be able to compile and run the `TestStack` class using the tools provided by your IDE."
   ]
  },
  {
   "cell_type": "markdown",
   "metadata": {},
   "source": [
    "## Exercises\n",
    "\n",
    "1. If you pop all of the elements from one stack and push them onto another stack as they are popped what happens to the order of the elements?"
   ]
  }
 ],
 "metadata": {
  "kernelspec": {
   "display_name": "Java",
   "language": "java",
   "name": "java"
  },
  "language_info": {
   "codemirror_mode": "text/x-java",
   "file_extension": ".java",
   "mimetype": "",
   "name": "Java",
   "nbconverter_exporter": "",
   "version": "1.8.0_121"
  },
  "toc": {
   "base_numbering": 1,
   "nav_menu": {},
   "number_sections": false,
   "sideBar": false,
   "skip_h1_title": false,
   "title_cell": "Table of Contents",
   "title_sidebar": "Contents",
   "toc_cell": false,
   "toc_position": {},
   "toc_section_display": false,
   "toc_window_display": false
  }
 },
 "nbformat": 4,
 "nbformat_minor": 4
}
