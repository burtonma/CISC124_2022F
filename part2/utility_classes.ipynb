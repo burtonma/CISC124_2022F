{
 "cells": [
  {
   "cell_type": "code",
   "execution_count": null,
   "metadata": {},
   "outputs": [],
   "source": [
    "// run this cell to prevent Jupyter from displaying the null output cell\n",
    "com.twosigma.beakerx.kernel.Kernel.showNullExecutionResult = false;"
   ]
  },
  {
   "cell_type": "markdown",
   "metadata": {},
   "source": [
    "<a id=\"notebook_id\"></a>\n",
    "# Utility classes\n",
    "\n",
    "Unlike most classes in Java the purpose of a utility class is not to create objects. Instead, a utility class is used to group together related fields and methods where creating an object to access the fields and methods is not required. Utility classes are less common than regular classes but there are several commonly used examples of utility classes in Java:\n",
    "\n",
    "* `java.lang.Math` contains fields representing important mathematical constants and methods for performing basic numeric operations such as the elementary exponential, logarithm, square root, and trigonometric functions. \n",
    "* `java.lang.System` contains fields and methods related to the underlying computing system such as the standard input and output streams and accessing the system time.\n",
    "* `java.util.Arrays` contains methods for manipulating arrays (such as sorting and searching).\n",
    "* `java.util.Collections` consists methods that operate on or return collections."
   ]
  },
  {
   "cell_type": "markdown",
   "metadata": {},
   "source": [
    "## Using a utility class\n",
    "\n",
    "Two features of a utility class are a lack of visible constructors and all fields and methods are `static`. To access a field or a method in a utility class you simply use the name of the class followed by the `.` operator. For example, the cosine and sine of an angle can be computed using the `Math` utility class like so:"
   ]
  },
  {
   "cell_type": "code",
   "execution_count": null,
   "metadata": {},
   "outputs": [],
   "source": [
    "double x = Math.cos(Math.PI / 3.0);\n",
    "double y = Math.sin(Math.PI / 3.0);\n",
    "System.out.println(\"point on unit circle at 60 degrees: (\" + x + \", \" + y + \")\");"
   ]
  },
  {
   "cell_type": "markdown",
   "metadata": {},
   "source": [
    "The state of memory immediately after running the lines of code in the cell above would resemble:\n",
    "\n",
    "| Address | Type | Variable | Value | |\n",
    "| -: | -: | -: | -: | :- |\n",
    "| 0 | | | | |\n",
    "| 1 | | | | |\n",
    "| ... | | | | |\n",
    "| 100 | `double` | `x` | 0.500... | |\n",
    "| 101 | `double` | `y` | 0.866... | |\n",
    "| ... | | | | |\n",
    "| 2024 | `Math` class | | |  |\n",
    "|      | `double` | `E` | 2.718... |\n",
    "|      | `double` | `PI` | 3.141... |\n",
    "| ... | | | | |\n",
    "| 2300 | `System` class | | | fields not shown |\n",
    "| ... | | | | |\n",
    "\n",
    "Notice that the `Math` and `System` classes are loaded into memory but there are no `Math` or `System` objects."
   ]
  },
  {
   "cell_type": "markdown",
   "metadata": {},
   "source": [
    "## Implementing a utility class\n",
    "\n",
    "Suppose that we want to create a utility class that lets the user compute Eistein's famous mass-energy equivalence equation $E = mc^2$ where $m$ is the mass of an object in kilograms and $c$ is the speed of light in metres per second. We begin by creating an ordinary class:"
   ]
  },
  {
   "cell_type": "code",
   "execution_count": null,
   "metadata": {},
   "outputs": [],
   "source": [
    "public class Relativity {\n",
    "    \n",
    "}"
   ]
  },
  {
   "cell_type": "markdown",
   "metadata": {},
   "source": [
    "Next we add a field to represent the speed of light. The speed of light is a physical constant and users of the class are likely to want to be able to access the value of the speed of the light; therefore, we make it a `public static final` field:"
   ]
  },
  {
   "cell_type": "code",
   "execution_count": null,
   "metadata": {},
   "outputs": [],
   "source": [
    "public class Relativity {\n",
    "    /**\n",
    "     * Speed of light in vacuum in metres per second.\n",
    "     */\n",
    "    public static final double C = 299792458;\n",
    "}"
   ]
  },
  {
   "cell_type": "markdown",
   "metadata": {},
   "source": [
    "Finally we add a method that lets the user compute $E = mc^2$. The method has the modifiers `public` and `static` because we want the method to be visible to all other classes and users do not require an object to use the method:"
   ]
  },
  {
   "cell_type": "code",
   "execution_count": null,
   "metadata": {},
   "outputs": [],
   "source": [
    "public class Relativity {\n",
    "    /**\n",
    "     * Speed of light in vacuum in metres per second.\n",
    "     */\n",
    "    public static final double C = 299792458;\n",
    "    \n",
    "    /**\n",
    "     * Returns the energy in Joules equivalent to the specified mass in kilograms.\n",
    "     *\n",
    "     * @param mass the mass in kilograms\n",
    "     * @return energy in Joules equivalent to the specified mass\n",
    "     */\n",
    "    public static double massEnergy(double mass) {\n",
    "        double energy = mass * Relativity.C * Relativity.C;\n",
    "        return energy;\n",
    "    }\n",
    "}"
   ]
  },
  {
   "cell_type": "markdown",
   "metadata": {},
   "source": [
    "We can use the utility class to compute the energy equivalent of 1 gram of matter:"
   ]
  },
  {
   "cell_type": "code",
   "execution_count": null,
   "metadata": {},
   "outputs": [],
   "source": [
    "double mass = 0.001; \n",
    "double energy = Relativity.massEnergy(mass);\n",
    "System.out.println(\"1 gram = \" + energy + \" Joules\");"
   ]
  },
  {
   "cell_type": "markdown",
   "metadata": {},
   "source": [
    "One way to verify that the result is correct is to [consult an independent source](https://www.wolframalpha.com/input/?i=1+gram+*+c%5E2) (for readers who visit the link, note the comparisons to other sources of energy)."
   ]
  },
  {
   "cell_type": "markdown",
   "metadata": {},
   "source": [
    "## Preventing instantiation\n",
    "\n",
    "Recall that a utility class should have no visible constructors, and note that we did not explicitly implement a constructor in the `Relativity` class. Surprisingly, we can create an instance of the `Relativity` class by invoking the no-argument constructor:"
   ]
  },
  {
   "cell_type": "code",
   "execution_count": null,
   "metadata": {},
   "outputs": [],
   "source": [
    "Relativity r = new Relativity();\n",
    "System.out.println(\"successfully made a Relativity instance\");"
   ]
  },
  {
   "cell_type": "markdown",
   "metadata": {},
   "source": [
    "In Java, if the programmer does not define a constructor in a class then the compiler silently synthesizes a `public` no-argument constructor for the class. If the programmer defines one or more constructors for the class then the compiler will not synthesize a constructor for the class (even if the programmer did not define a no-argument constructor).\n",
    "\n",
    "To prevent users from creating an instance of a utility class, the utility class should always define a `private` constructor. A `private` constructor is not visible outside of the class and the presence of a defined constructor stops the compiler from synthesizing a `public` constructor. The `private` constructor should throw an exception so that instantiation is prevented in case the programmer accidentally invokes the constructor from within the class.\n",
    "\n",
    "After adding a private constructor the final version of the `Relativity` class is:"
   ]
  },
  {
   "cell_type": "code",
   "execution_count": null,
   "metadata": {},
   "outputs": [],
   "source": [
    "public class Relativity {\n",
    "    /**\n",
    "     * Speed of light in vacuum in metres per second.\n",
    "     */\n",
    "    public static final double C = 299792458;\n",
    "\n",
    "    /**\n",
    "     * Suppress constructor creation by compiler to prevent instantiation.\n",
    "     */\n",
    "    private Relativity() {\n",
    "        throw new AssertionError();\n",
    "    }\n",
    "    \n",
    "    /**\n",
    "     * Returns the energy in Joules equivalent to the specified mass in kilograms.\n",
    "     *\n",
    "     * @param mass the mass in kilograms\n",
    "     * @return energy in Joules equivalent to the specified mass\n",
    "     */\n",
    "    public static double massEnergy(double mass) {\n",
    "        double energy = mass * Relativity.C * Relativity.C;\n",
    "        return energy;\n",
    "    }\n",
    "}"
   ]
  },
  {
   "cell_type": "markdown",
   "metadata": {},
   "source": [
    "Now attempting to create a `Relativity` object fails to compile:"
   ]
  },
  {
   "cell_type": "code",
   "execution_count": null,
   "metadata": {},
   "outputs": [],
   "source": [
    "Relativity r = new Relativity();\n",
    "System.out.println(\"successfully made a Relativity instance\");"
   ]
  },
  {
   "cell_type": "markdown",
   "metadata": {},
   "source": [
    "## Exercises\n",
    "\n",
    "1. Complete the following utility class containing operations on strings. The Hamming distance is [described here](https://en.wikipedia.org/wiki/Hamming_distance). There are many other [string distance metrics](https://en.wikipedia.org/wiki/String_metric). Add any missing features that a utility class should have."
   ]
  },
  {
   "cell_type": "code",
   "execution_count": null,
   "metadata": {},
   "outputs": [],
   "source": [
    "package ca.queensu.cs.cisc124.notes.utilityclasses;\n",
    "\n",
    "public class Strings {\n",
    "\n",
    "    /**\n",
    "     * Returns the Hamming distance between two strings.\n",
    "     * \n",
    "     * @param s a string\n",
    "     * @param t a string\n",
    "     * @return the Hamming distance between the two strings\n",
    "     * @throws NullPointerException     if s or t is null\n",
    "     * @throws IllegalArgumentException if s and t have different lengths\n",
    "     */\n",
    "    public static int hammingDistance(String s, String t) {\n",
    "        \n",
    "    }\n",
    "\n",
    "    /**\n",
    "     * Returns {@code true} if {@code s} is a palindrome, {@code false} otherwise. A\n",
    "     * string is a palindrome if it is equal to the reversal of itself.\n",
    "     * \n",
    "     * @param s a string\n",
    "     * @return true if s is a palindrom, false otherwise\n",
    "     */\n",
    "    public static boolean isPalindrome(String s) {\n",
    "        \n",
    "    }\n",
    "\n",
    "    /**\n",
    "     * Returns a new string equal to {@code c} repeated {@code n} times. Returns an\n",
    "     * empty string if {@code n <= 0}.\n",
    "     * \n",
    "     * @param c a character to repeat\n",
    "     * @param n the number of times to repeat the character\n",
    "     * @return a new string equal to repeated n times\n",
    "     */\n",
    "    public static String repeat(char c, int n) {\n",
    "        \n",
    "    }\n",
    "\n",
    "    /**\n",
    "     * Returns a new string having the characters of {@code s} in reverse order.\n",
    "     * Returns the empty string if {@code s == null} is {@code true}.\n",
    "     * \n",
    "     * @param s a string\n",
    "     * @return a new string having the characters of s in reverse order\n",
    "     */\n",
    "    public static String reverse(String s) {\n",
    "        \n",
    "    }\n",
    "}\n"
   ]
  }
 ],
 "metadata": {
  "kernelspec": {
   "display_name": "Java",
   "language": "java",
   "name": "java"
  },
  "language_info": {
   "codemirror_mode": "text/x-java",
   "file_extension": ".java",
   "mimetype": "",
   "name": "Java",
   "nbconverter_exporter": "",
   "version": "1.8.0_121"
  },
  "toc": {
   "base_numbering": 1,
   "nav_menu": {},
   "number_sections": false,
   "sideBar": false,
   "skip_h1_title": false,
   "title_cell": "Table of Contents",
   "title_sidebar": "Contents",
   "toc_cell": false,
   "toc_position": {},
   "toc_section_display": false,
   "toc_window_display": false
  }
 },
 "nbformat": 4,
 "nbformat_minor": 4
}
