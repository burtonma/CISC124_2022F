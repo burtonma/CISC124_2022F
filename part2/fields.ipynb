{
 "cells": [
  {
   "cell_type": "code",
   "execution_count": null,
   "metadata": {},
   "outputs": [],
   "source": [
    "// run this cell to prevent Jupyter from displaying the null output cell\n",
    "com.twosigma.beakerx.kernel.Kernel.showNullExecutionResult = false;"
   ]
  },
  {
   "cell_type": "markdown",
   "metadata": {},
   "source": [
    "<a href=\"notebook_id\"></a>\n",
    "# Fields\n",
    "\n",
    "Fields are used by classes and objects to store information. Fields are also referred to as *member variables* because they can be thought of as variables that are members of the class.\n",
    "\n",
    "When creating a class the implementer must decide on what information needs to be stored by independent instances of the class. The implementer must then decide on what fields can be used to represent the information needed by the instances. The set of fields and their values are called *the state* of an instance.\n",
    "\n",
    "When we use the term field we usually are referring to *instance fields* which are fields that belong to individual objects of a class; that is, every object has its own independent copy of an instance field. A *static field* is a field that belongs to the class that declared the field; only one copy of a static field exists and that copy resides in the class. Objects of the class can access a static field of the class but the same field is shared between all objects of the class."
   ]
  },
  {
   "cell_type": "markdown",
   "metadata": {},
   "source": [
    "## Declaring fields\n",
    "\n",
    "A field declaration defines the type and name of a field in a class. \n",
    "\n",
    "A field declaration looks like:\n",
    "\n",
    "```java\n",
    "modifiers type fieldName;\n",
    "```\n",
    "\n",
    "where *modifiers* are optional field modifiers described below, *type* is the type of the field, and `fieldName` is the name of the field.\n",
    "\n",
    "In Java, a field name must begin with what is referred to as a *Java letter*. A Java letter includes the characters A-Z, a-z, and for historical reasons the dollar sign `$` and the underscore character `_`; Java letters also include Unicode characters corresponding to letters in other languages.\n",
    "\n",
    "By convention, field names are written using [camel case](https://en.wikipedia.org/wiki/Camel_case): The first letter of the class name is in lower case, the remaining letters of the name are in lowercase except for multi-word class names where each word also begins with a capital letter. For example, the field name `minVal` is used instead of `Minval`, `min_val`, `MINVAL` or any other variation.\n",
    "\n",
    "The remaining characters in a field name can be made up of any number of Java letters or any *Java digits*. A Java digit includes the digits 0-9 and Unicode characters corresponding to digits in other languages.\n",
    "\n",
    "The fields in a class must have unique names."
   ]
  },
  {
   "cell_type": "markdown",
   "metadata": {},
   "source": [
    "## Field modifiers\n",
    "\n",
    "The legal field modifiers are:\n",
    "\n",
    "- access modifiers:\n",
    "    - `public`\n",
    "    - `protected`\n",
    "    - no access modifier\n",
    "    - `private`\n",
    "- `static`\n",
    "- `final`\n",
    "- `transient`\n",
    "- `volatile`\n",
    "\n",
    "For the time being the only modifiers that are relevant to our purposes are the modifiers `public`, `private`, `static`, and `final`.\n",
    "\n",
    "A `public` field is visible to all classes that have access to the class that the field is declared in. Public fields should generally be avoided to ensure proper encapsulation and information hiding. The common exception to this guideline is for fields that represent constant values that users of the class might find useful (e.g., `Math.PI`).\n",
    "\n",
    "A `protected` field is visible to all classes that are in the same package as the class that the field is declared in, and to subclasses of the class that the field is declared in (subject to some restrictions). The `protected` modifier will be discussed in greater detail in Part 3 of the notes.\n",
    "\n",
    "A field with no access modifier is said to have *package private* access. The field is visible to all classes in the same package as the class that the field is declared in.\n",
    "\n",
    "A `private` field is visible only in the class that the field is declared in. A useful guideline is to make all fields `private`; only if another class in the same package really needs access to a field should you consider making the field package private.\n",
    "\n",
    "A `static` field belongs to the declaring class. Static fields are discussed in greater detail in the [Static features](./static_features.ipynb#notebook_id) notebook.\n",
    "\n",
    "A `final` field can be assigned a value only once; after the field has been assigned a value any attempt to re-assign the value will result in a compile-time error.\n",
    "\n",
    "A `transient` field is a field that is not part of the persistent state of an object. In Java an object can be serialized which means that the state of the object is converted into a stream of bytes so that the object can be saved to disk or transmitted over a network connection. Transient fields are not serialized. Interested readers can find more information about serialization from the [Java Object Serialization](https://docs.oracle.com/javase/8/docs/technotes/guides/serialization/index.html) web page.\n",
    "\n",
    "The `volatile` modifier is used in concurrent programming and is beyond the scope of this discussion. Interested readers can find more information about concurrency from Oracle's [Concurrency tutorial](https://docs.oracle.com/javase/tutorial/essential/concurrency/index.html)."
   ]
  },
  {
   "cell_type": "markdown",
   "metadata": {},
   "source": [
    "## The state of a `Counter` object\n",
    "\n",
    "Instances of the `Counter` class need to keep track of the current count value which is an integer value between 0 and `Integer.MAX_VALUE`, inclusive. A suitable field for representing the current count value is an `int`. A `long`, `double`, `BigInteger`, or `BigDecimal` field would also work but would require more memory with no immediately obvious benefit.\n",
    "\n",
    "We declare one field named `value` for the `Counter` class that represents the current count value for the counter object."
   ]
  },
  {
   "cell_type": "code",
   "execution_count": null,
   "metadata": {},
   "outputs": [],
   "source": [
    "public class Counter {\n",
    "    \n",
    "    private int value;\n",
    "}"
   ]
  },
  {
   "cell_type": "markdown",
   "metadata": {},
   "source": [
    "## The state of a `Point2` object\n",
    "\n",
    "Every `Point2` instance has its own $x$ and $y$ coordinate. Our implementation models two-dimensional points having real coordinates so the obvious potential field types are `float`, `double`, and `BigDecimal`.\n",
    "\n",
    "When choosing between `float` and `double` the guideline is to choose `double` unless there are compelling reasons to choose `float` to conserve memory usage. One example where this commonly occurs is training deep neural networks in machine learning applications. Another example is computer graphics applications where a scene might consist of millions or billions  (or more) of points.\n",
    "\n",
    "`BigDecimal` is an appropriate choice only when it is known that very high precision is required.\n",
    "\n",
    "After choosing the type we have to decide how to represent the $x$ and $y$ coordinates of a point. An obvious choice is to use a separate field for each coordinate.\n",
    "\n",
    "We declare two fields named `x` and `y` for the `Point2` class that represents the values of the $x$ and $y$ coordinates of a point object."
   ]
  },
  {
   "cell_type": "code",
   "execution_count": null,
   "metadata": {},
   "outputs": [],
   "source": [
    "public class Point2 {\n",
    "    \n",
    "    private double x;\n",
    "    private double y;\n",
    "}"
   ]
  },
  {
   "cell_type": "markdown",
   "metadata": {},
   "source": [
    "## The state of a `Domino` object\n",
    "\n",
    "Every `Domino` object has its own two face values that are integer values between 0 and 6. Any primitive numeric type could be used to represent the two values but there is no strong reason not to choose `int`. We will name the two instance fields `val1` and `val2`.\n",
    "\n",
    "The values 0 and 6 are potentially useful constants that users of the class might want access to. We can create two `public static final int` constant fields for these two values named `MIN_VALUE` and `MAX_VALUE`:\n",
    "\n",
    "- `public` because we want to allow users of the class access to these values\n",
    "- `static` because there is no need for every object to have a copy of these fields; one copy in the class `Domino` is sufficient to represent a constant value\n",
    "- `final` because the values should not change after they have been assigned their values"
   ]
  },
  {
   "cell_type": "code",
   "execution_count": null,
   "metadata": {},
   "outputs": [],
   "source": [
    "public class Domino {\n",
    "    \n",
    "    public static final int MIN_VALUE = 0;\n",
    "    public static final int MAX_VALUE = 6;\n",
    "\n",
    "    private int val1;\n",
    "    private int val2;\n",
    "}"
   ]
  },
  {
   "cell_type": "markdown",
   "metadata": {},
   "source": [
    "## The state of a `Card` object\n",
    "\n",
    "Every `Card` object has its own rank and suit.  \n",
    "\n",
    "The ranks include the integer values between 2 and 10, inclusive, and the ranks *jack*, *queen*, *king*, and *ace*. Here we have a problem where the value of a rank is not obviously of a particular type. One possibility is to use the integer values 11, 12, 13, and 14 for the jack, queen, king, and ace ranks. Another possibility is to use a `String` for all of the ranks. A third possiblity is to create a separate class to represent ranks. For the time being, we will use a `String` field to represent the rank of a card.\n",
    "\n",
    "The suit of a card is one of *clubs*, *diamonds*, *hearts*, or *spades*. As with the rank, there are several alternatives for representing the suit of a card. We could use the integer values 0, 1, 2, and 3 to represent the suits. We could use a `String` to represent each suit. And we could create a separate class to represent suits. For the time being, we will use a `String` field to represent the suit of a card.\n",
    "\n",
    "Users of the `Card` class might want access to the valid card ranks and suits. We could create 13 separate `public static final` fields for the valid ranks and 4 separate fields for the valid suits. Instead, let's see what happens if we use an array to store the fields and a second array to store the suits.\n",
    "\n",
    "The fields of our class are shown in the following cell:"
   ]
  },
  {
   "cell_type": "code",
   "execution_count": null,
   "metadata": {},
   "outputs": [],
   "source": [
    "public class Card {\n",
    "    private String rank;\n",
    "    private String suit;\n",
    "    \n",
    "    public static final String[] RANKS = {\n",
    "        \"2\", \"3\", \"4\", \"5\", \"6\", \"7\", \"8\", \"9\", \"10\", \"J\", \"Q\", \"K\", \"A\"\n",
    "    };\n",
    "    \n",
    "    public static final String[] SUITS = {\n",
    "        \"CLUBS\", \"DIAMONDS\", \"HEARTS\", \"SPADES\"\n",
    "    };\n",
    "    \n",
    "}"
   ]
  },
  {
   "cell_type": "markdown",
   "metadata": {},
   "source": [
    "## Exercises\n",
    "\n",
    "1. For the `Counter` class why is a `float` field for the current count not appropriate?\n",
    "\n",
    "2. Instead of using two fields what is an alternative way to store the $x$ and $y$ coordinates of a point in the `Point2` class?\n",
    "\n",
    "3. Compile the `Domino` class (by running the appropriate cell in this notebook, or using eclipse). Then try to change the value of `Domino.MIN_VALUE` or `Domino.MAX_VALUE` from outside of the class. What happens?"
   ]
  },
  {
   "cell_type": "code",
   "execution_count": null,
   "metadata": {},
   "outputs": [],
   "source": [
    "// Exercise 3\n",
    "// try changing Domino.MIN_VALUE or Domino.MAX_VALUE on the next line\n"
   ]
  },
  {
   "cell_type": "markdown",
   "metadata": {},
   "source": [
    "4. See Exercise 3 in the [Designing simple classes](./designing_simple_classes.ipynb#notebook_id) notebook. What fields does your time of day class have?"
   ]
  },
  {
   "cell_type": "markdown",
   "metadata": {},
   "source": [
    "5. See Exercise 4 in the [Designing simple classes](./designing_simple_classes.ipynb#notebook_id) notebook. What fields does your stopwatch class have? Note that a stopwatch needs to be able to measure elapsed time. See the [documentation for `System.nanoTime`](https://docs.oracle.com/en/java/javase/11/docs/api/java.base/java/lang/System.html#nanoTime()) for details on how to accomplish this."
   ]
  },
  {
   "cell_type": "markdown",
   "metadata": {},
   "source": [
    "6. See Exercise 5 in the [Designing simple classes](./designing_simple_classes.ipynb#notebook_id) notebook. What fields does your appointment class have?"
   ]
  },
  {
   "cell_type": "markdown",
   "metadata": {},
   "source": [
    "7. See Exercise 6 in the [Designing simple classes](./designing_simple_classes.ipynb#notebook_id) notebook. What fields do\n",
    "your classes have?"
   ]
  }
 ],
 "metadata": {
  "kernelspec": {
   "display_name": "Java",
   "language": "java",
   "name": "java"
  },
  "language_info": {
   "codemirror_mode": "text/x-java",
   "file_extension": ".java",
   "mimetype": "",
   "name": "Java",
   "nbconverter_exporter": "",
   "version": "1.8.0_121"
  },
  "toc": {
   "base_numbering": 1,
   "nav_menu": {},
   "number_sections": false,
   "sideBar": false,
   "skip_h1_title": false,
   "title_cell": "Table of Contents",
   "title_sidebar": "Contents",
   "toc_cell": false,
   "toc_position": {},
   "toc_section_display": false,
   "toc_window_display": false
  }
 },
 "nbformat": 4,
 "nbformat_minor": 4
}
