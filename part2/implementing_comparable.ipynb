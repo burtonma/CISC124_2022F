{
 "cells": [
  {
   "cell_type": "code",
   "execution_count": null,
   "metadata": {},
   "outputs": [],
   "source": [
    "// run this cell to prevent Jupyter from displaying the null output cell\n",
    "com.twosigma.beakerx.kernel.Kernel.showNullExecutionResult = false;"
   ]
  },
  {
   "cell_type": "markdown",
   "metadata": {},
   "source": [
    "<a id='notebook_id'></a>\n",
    "# Implementing `Comparable`\n",
    "\n",
    "Many value types have what is called a *total ordering*. Loosely speaking, a class has a total ordering if we can take *all* of the unique instances of the class and sort them from smallest to largest. For example:\n",
    "\n",
    "* we can sort all `Integer` instances from `Integer.MIN_VALUE` to `Integer.MAX_VALUE`\n",
    "* we can sort all `String` instances using dictionary order\n",
    "* we can sort all `Date` instances using chronological order\n",
    "* we can sort all `Point2` instances by their distance from the origin\n",
    "\n",
    "Whenever you create a value type class you should consider implementing the `Comparable` interface if it makes sense that a user of your class would want to sort a collection of instances of the class.\n",
    "\n",
    "Interfaces are discussed in greater detail in Part 3 of the course notebooks; however, the `Comparable` interface is a simple and useful interface worth discussing now."
   ]
  },
  {
   "cell_type": "markdown",
   "metadata": {},
   "source": [
    "## The `Comparable` interface\n",
    "\n",
    "The [`Comparable` interface](https://docs.oracle.com/en/java/javase/11/docs/api/java.base/java/lang/Comparable.html) declares a method named `compareTo`\n",
    "\n",
    "```\n",
    "int compareTo (T o)\n",
    "\n",
    "Compares this object with the specified object for order. Returns a negative integer, zero, or a positive integer as this object is less than, equal to, or greater than the specified object.\n",
    "```\n",
    "\n",
    "The contract for the `compareTo` method indicates that `compareTo` is more or less the substitute for the `<`, `>`, and `==` operators when working with references.\n",
    "Note that the contract of `compareTo` only specifies the sign of the non-zero return values and does not specify the magnitude. It is up to the implementer to decide if the magnitude is significant or not.\n",
    "\n",
    "Classes that implement the `Comparable` interface allow the programmer to compare instances of the class for order. For example, the `String` class allows the programmer to compare `String` instances in lexicographical (dictionary) order:"
   ]
  },
  {
   "cell_type": "code",
   "execution_count": null,
   "metadata": {},
   "outputs": [],
   "source": [
    "String s = \"aardvark\";\n",
    "String t = \"avocado\";\n",
    "int cmp = s.compareTo(t);\n",
    "if (cmp < 0) {\n",
    "    System.out.println(s + \" comes before \" + t);\n",
    "}\n",
    "else if (cmp > 0) {\n",
    "    System.out.println(t + \" comes before \" + s);\n",
    "}\n",
    "else {\n",
    "    System.out.println(s + \" and \" + t + \" are the same strings\");\n",
    "}"
   ]
  },
  {
   "cell_type": "markdown",
   "metadata": {},
   "source": [
    "Because `String` implements the `Comparable` interface the programmer can pass a `List` of strings to the `Collections.sort` method or use the `List.sort` method to sort a list of strings:"
   ]
  },
  {
   "cell_type": "code",
   "execution_count": null,
   "metadata": {},
   "outputs": [],
   "source": [
    "import java.util.Arrays;\n",
    "import java.util.Collections;\n",
    "import java.util.List;\n",
    "\n",
    "List<String> t = Arrays.asList(\"ziti\", \"fettuccine\", \"spaghetti\", \"bucatini\", \"lasagna\");\n",
    "System.out.println(\"unsorted list: \" + t);\n",
    "Collections.sort(t);\n",
    "System.out.println(\"sorted list  : \" + t);"
   ]
  },
  {
   "cell_type": "markdown",
   "metadata": {},
   "source": [
    "## The `compareTo` contract\n",
    "\n",
    "The `compareTo` contract has three requirements:\n",
    "\n",
    "1. The implementor must ensure `sgn(x.compareTo(y)) == -sgn(y.compareTo(x))` for all `x` and `y`. (This implies that `x.compareTo(y)` must throw an exception if and only if `y.compareTo(x)` throws an exception.)\n",
    "2. The implementor must also ensure that the relation is transitive: `(x.compareTo(y) > 0 && y.compareTo(z) > 0)` implies `x.compareTo(z) > 0`.\n",
    "3. Finally, the implementor must ensure that `x.compareTo(y)==0` implies that `sgn(x.compareTo(z)) == sgn(y.compareTo(z))`, for all `z`.\n",
    "\n",
    "The notation `sgn`(*expression*) denotes the mathematical signum function which returns +1, 0, or -1 if *expression* is positive, zero, or negative, respectively.\n",
    "\n",
    "Requirement 1 simply states that two objects must agree on their ordering.\n",
    "\n",
    "Requirement 2 simply states that if `x` is greater than `y` then `x` is also greater than every object that `y` is greater than.\n",
    "\n",
    "Requirement 3 simply states that if `x` and `y` compare as equals then `x` compares to all other objects `z` in the same way that `y` compares to `z`.\n",
    "\n",
    "If a `compareTo` method fails to satisfy the `compareTo` contract then any method that relies on the `Comparator` interface will fail to meet its obligations. Classes that depend on comparisons include the sorted collection classes `TreeSet` and `TreeMap` and the utility classes `Collections` and `Arrays` that implement sorting and searching algorithms.\n",
    "\n",
    "While the contract is mathematical in nature, implementing `compareTo` is often straightforward as the following examples illustrate."
   ]
  },
  {
   "cell_type": "markdown",
   "metadata": {},
   "source": [
    "## Implementing the `Comparable` interface for `Counter`\n",
    "\n",
    "Counters have a total ordering because the counter value is simply a non-negative integer value and integers have a total ordering. Implementing the `Comparable` interface for our `Counter` class involves the following steps:\n",
    "\n",
    "1. Add `implements Comparable<Counter>` to the end of the `Counter` class header. This indicates that the `Counter` class will implement the methods of the `Comparable` interface.\n",
    "2. Add and implement the `compareTo` method to the `Counter` class.\n",
    "\n",
    "A minimal version of the `Counter` class where we have started to implement the `Comparable` interface is shown in the following cell. Run the cell to compile the class."
   ]
  },
  {
   "cell_type": "code",
   "execution_count": null,
   "metadata": {},
   "outputs": [],
   "source": [
    "public class Counter implements Comparable<Counter> {\n",
    "\n",
    "    private int value;\n",
    "\n",
    "    public Counter(int value) {\n",
    "        if (value < 0) {\n",
    "            throw new IllegalArgumentException(\"value must be non-negative\");\n",
    "        }\n",
    "        this.value = value;\n",
    "    }\n",
    "    \n",
    "    // other constructors and methods not shown\n",
    "\n",
    "    /**\n",
    "     * Compares the value of this counter to the value of another counter. The\n",
    "     * result is a positive integer if the value of this counter is greater than the\n",
    "     * value of the other counter; zero if the value of this counter is equal to the\n",
    "     * value of the other counter; a negative integer if the value of this counter is\n",
    "     * less than the value of the other counter\n",
    "     * \n",
    "     * \n",
    "     * @param other the other counter to compare to\n",
    "     * @return a positive value if the value of this counter is greater than the\n",
    "     *         value of the other counter; zero if the value of this counter is\n",
    "     *         equal to the value of the other counter; a negative value if the\n",
    "     *         value of this counter is less than the value of the other counter\n",
    "     */\n",
    "    @Override\n",
    "    public int compareTo(Counter other) {\n",
    "        \n",
    "        return 0;\n",
    "    }\n",
    "}"
   ]
  },
  {
   "cell_type": "markdown",
   "metadata": {},
   "source": [
    "There are three noteworthy aspects of the `Counter` implementation shown above:\n",
    "\n",
    "1. The class header now includes `implements Comparable<Counter>` which indicates that the class implements the `Comparable` interface so that `Counter` objects can be compared to one another.\n",
    "2. There is an optional `@Override` annotation before the `compareTo` method header. The `@Override` annotation indicates to the compiler that we are intending to override the method following the annotation. The compiler will check if the method is in fact overridable; more details will be given in Part 3 of the ntoes. For our current purposes, adding the `@Override` annotation will force the compiler to check if our method has the correct access modifier (`public`), returns the correct type (`int`), has the correct name (`compareTo`), and has the correct parameter list (`Counter`).\n",
    "3. `compareTo` currently returns the value 0 which allows the class to be compiled.\n",
    "\n",
    "Implementing the `compareTo` method is simple enough:\n",
    "\n",
    "```java\n",
    "@Override\n",
    "public int compareTo(Counter other) {\n",
    "    if (this.value < other.value) {\n",
    "        return -1;\n",
    "    }\n",
    "    else if (this.value == other.value) {\n",
    "        return 0;\n",
    "    }\n",
    "    else {\n",
    "        return 1;\n",
    "    }\n",
    "}\n",
    "```\n",
    "\n",
    "This version of `compareTo` returns -1, 0, or 1 if `this` `Counter`'s value is less than, equal to, or greater than the `other` `Counter`'s value.\n",
    "\n",
    "Alternatively, we could implement `compareTo` as:\n",
    "\n",
    "```java\n",
    "@Override\n",
    "public int compareTo(Counter other) {\n",
    "    return this.value - other.value;\n",
    "}\n",
    "```\n",
    "\n",
    "This version of `compareTo` returns a negative integer value, 0, or a positive integer value if `this` `Counter`'s value is less than, equal to, or greater than the `other` `Counter`'s value. Note that caution is required to ensure that the result does not overflow when a difference is returned. In this version, the magnitude of the return value is significant (see the exercises).\n",
    "\n",
    "Yet another version of `compareTo` delegates the comparison of the `Counter` values to the `Integer` class:\n",
    "\n",
    "```java\n",
    "@Override\n",
    "public int compareTo(Counter other) {\n",
    "    return Integer.compare(this.value, other.value);\n",
    "}\n",
    "```\n",
    "\n",
    "If we view the documentation for the static method [Integer.compare](https://docs.oracle.com/en/java/javase/11/docs/api/java.base/java/lang/Integer.html#compare(int,int)) we see that the method returns a value that satisfies the contract of `compareTo`. All of the other numeric wrapper classes also have a method named `compare`.\n",
    "\n",
    "All three versions of `compareTo` are acceptable but the third version should be preferred. The second version has the advantage of returning a value that carries extra information but is not suitable in general because of the possibility of integer overflow. The third version has the advantage of delegating to a well tested method that will always return an acceptable value.\n",
    "\n",
    "Run the next cell to compile the `Counter` class that uses the third version of the `compareTo` method."
   ]
  },
  {
   "cell_type": "code",
   "execution_count": null,
   "metadata": {},
   "outputs": [],
   "source": [
    "public class Counter implements Comparable<Counter> {\n",
    "\n",
    "    private int value;\n",
    "\n",
    "    public Counter(int value) {\n",
    "        if (value < 0) {\n",
    "            throw new IllegalArgumentException(\"value must be non-negative\");\n",
    "        }\n",
    "        this.value = value;\n",
    "    }\n",
    "    \n",
    "    // other constructors and methods not shown\n",
    "\n",
    "    @Override\n",
    "    public int compareTo(Counter other) {\n",
    "        return Integer.compare(this.value, other.value);\n",
    "    }\n",
    "}"
   ]
  },
  {
   "cell_type": "markdown",
   "metadata": {},
   "source": [
    "See the exercises for examples of using the `Counter` class and its `compareTo` method."
   ]
  },
  {
   "cell_type": "markdown",
   "metadata": {},
   "source": [
    "## Implementing the `Comparable` interface for `Point2`\n",
    "\n",
    "Suppose that we wanted to compare `Point2` instances by their distance from the origin; what steps do we require to implement the `compareTo` method for `Point2`? Remember that `compareTo` has the following header:\n",
    "\n",
    "```java\n",
    "public int compareTo(Point2 other)\n",
    "```\n",
    "\n",
    "The steps for implementing `compareTo` might be:\n",
    "\n",
    "1. Compute the distance from the origin for `this` point\n",
    "2. Compute the distance from the origin for the `other` point\n",
    "3. Compare the two distances returning a:\n",
    "    1. positive integer if `this` point is farther from the origin\n",
    "    2. negative integer if `this` point is closer to the origin\n",
    "    3. return zero if the points are the same distance from the origin\n",
    "    \n",
    "A minimal version of the `Point2` class that implements the `Comparable` interface might be:"
   ]
  },
  {
   "cell_type": "code",
   "execution_count": null,
   "metadata": {},
   "outputs": [],
   "source": [
    "public class Point2 implements Comparable<Point2> {\n",
    "    \n",
    "    private double x;\n",
    "    private double y;\n",
    "    \n",
    "    public Point2(double x, double y) {\n",
    "        this.x = x;\n",
    "        this.y = y;\n",
    "    }\n",
    "    \n",
    "    @Override\n",
    "    public int compareTo(Point2 other) {\n",
    "        double thisDist = Math.hypot(this.x, this.y);      // Step 1\n",
    "        double otherDist = Math.hypot(other.x, other.y);   // Step 2\n",
    "        if (thisDist > otherDist) {                         \n",
    "            return 1;                                      // Step 3A\n",
    "        }\n",
    "        else if (otherDist > thisDist) {\n",
    "            return -1;                                     // Step 3B\n",
    "        }\n",
    "        else {\n",
    "            return 0;                                      // Step 3C\n",
    "        }\n",
    "    }\n",
    "}"
   ]
  },
  {
   "cell_type": "code",
   "execution_count": null,
   "metadata": {},
   "outputs": [],
   "source": [
    "System.out.println(-0.0d);\n",
    "System.out.println(Math.hypot(Double.MAX_VALUE, 1.0e308));"
   ]
  },
  {
   "cell_type": "markdown",
   "metadata": {},
   "source": [
    "A small example of using the `compareTo` method is shown below:"
   ]
  },
  {
   "cell_type": "code",
   "execution_count": null,
   "metadata": {},
   "outputs": [],
   "source": [
    "Point2 p = new Point2(1.0, 1.0);\n",
    "Point2 q = new Point2(2.5, 3.0);\n",
    "Point2 r = new Point2(-1.0, 1.0);\n",
    "\n",
    "System.out.println(p.compareTo(q));\n",
    "System.out.println(q.compareTo(p));\n",
    "System.out.println(p.compareTo(r));\n"
   ]
  },
  {
   "cell_type": "markdown",
   "metadata": {},
   "source": [
    "Similarly to the `Counter` example, we should prefer to delegate the comparison logic to a standard library method:\n",
    "\n",
    "```java\n",
    "@Override\n",
    "public int compareTo(Point2 other) {\n",
    "    double thisDist = Math.hypot(this.x, this.y);      // Step 1\n",
    "    double otherDist = Math.hypot(other.x, other.y);   // Step 2\n",
    "    return Double.compare(thisDist, otherDist);        // Step 3A, B, and C\n",
    "}\n",
    "```"
   ]
  },
  {
   "cell_type": "markdown",
   "metadata": {},
   "source": [
    "If we view the documentation for the method [Double.compare](https://docs.oracle.com/en/java/javase/11/docs/api/java.base/java/lang/Double.html#compare(double,double)) we see that the method returns a value that satisfies the contract of `compareTo`. The reason for using `Double.compare` here is the same as using `Double.compare` when overriding `equals`.\n",
    "\n",
    "Note that there are many different ways to compare two-dimensional points; see the exercises for some examples."
   ]
  },
  {
   "cell_type": "markdown",
   "metadata": {},
   "source": [
    "## Implementing the `Comparable` interface for `Domino`\n",
    "\n",
    "The order in which the fields are compared in classes with more than one field is an important consideration when implementing `compareTo`. Consider the problem of comparing two dominoes `x` and `y`; we could compare two dominoes using:\n",
    "\n",
    "1. their smaller values (the smallest value of domino `x` is compared to the smallest value on domino `y`)\n",
    "2. their larger values (the largest value of domino `x` is compared to the largest value on domino `y`)\n",
    "3. their smaller values followed by their larger values (the smallest value of domino `x` is compared to the smallest value on domino `y`, if these values are equal then the largest value of domino `x` is compared to the largest value on domino `y`)\n",
    "\n",
    "Implementing `compareTo` using option 3 in the list above lets the programmer easily sort dominoes like so:\n",
    "\n",
    "<img src=\"../resources/images/double-six.png\" />\n",
    "\n",
    "In the figure above the dominoes are sorted from smallest to largest starting in the upper-left and moving across the columns and then down the rows.\n",
    "\n",
    "A minimal version of the `Domino` class that implements the `Comparable` interface might be:"
   ]
  },
  {
   "cell_type": "code",
   "execution_count": null,
   "metadata": {},
   "outputs": [],
   "source": [
    "public class Domino implements Comparable<Domino> {\n",
    "\n",
    "    /**\n",
    "     * The two values on the domino.\n",
    "     */\n",
    "    private int val1;\n",
    "    private int val2;\n",
    "\n",
    "    public Domino(int value1, int value2) {\n",
    "        // validation of value1 and value2 not shown here\n",
    "        this.val1 = value1;\n",
    "        this.val2 = value2;\n",
    "    }\n",
    "\n",
    "    public int getSmallerValue() {\n",
    "        int result = this.val1 <= this.val2 ? this.val1 : this.val2;\n",
    "        return result;\n",
    "    }\n",
    "\n",
    "    public int getLargerValue() {\n",
    "        int result = this.val1 >= this.val2 ? this.val1 : this.val2;\n",
    "        return result;\n",
    "    }\n",
    "\n",
    "    @Override\n",
    "    public int compareTo(Domino other) {\n",
    "        int result = Integer.compare(this.getSmallerValue(), other.getSmallerValue());\n",
    "        if (result == 0) {\n",
    "            result = Integer.compare(this.getLargerValue(), other.getLargerValue());\n",
    "        }\n",
    "        return result;\n",
    "    }\n",
    "    \n",
    "    // other methods and constructors not shown\n",
    "}"
   ]
  },
  {
   "cell_type": "markdown",
   "metadata": {},
   "source": [
    "## Consistency with `equals`\n",
    "\n",
    "The documentation for `compareTo` strongly recommends *but does not require* that `compareTo` be consistent with `equals`. Consistency with `equals` means that:\n",
    "\n",
    "if `x.equals(y)` is `true` then `x.compareTo(y)` returns 0 \n",
    "\n",
    "**AND** \n",
    "\n",
    "if `x.compareTo(y)` is 0 then `x.equals(y)` returns `true` \n",
    "\n",
    "If an implementation of `compareTo` is not consistent with `equals` then the documentation for the `compareTo` method should clearly indicate this fact. The recommended language is \"Note: this class has a natural ordering that is inconsistent with equals.\"\n",
    "\n",
    "At first glance it seems that every sensible implementation of `compareTo` should be consistent with `equals` but it is easy to find reasonable examples where this is not the case:\n",
    "\n",
    "* In many card games, playing cards are compared only by their rank (e.g., the queen of hearts has the same value as the queen of clubs) but two playing cards need the same rank and suit to be equal (e.g., the queen of hearts is not equal to the queen of clubs).\n",
    "* Suppose you had a class `Citizen` that represents Canadian citizens. A sensible implementation of `equals` would be that a citizen is only equal to itself. A possible implementation of `compareTo` that is inconsistent with `equals` might compare citizens by their last name followed by their given name.\n",
    "* A page in a book is only equal to itself, but it is reasonable to want to compare pages by their page number.\n",
    "* The `Point2` implementation of `compareTo` described above is inconsistent with `equals` because two points are equal if and only if their coordinates are equal.\n",
    "* The [`BigDecimal`](https://docs.oracle.com/en/java/javase/11/docs/api/java.base/java/math/BigDecimal.html#compareTo(java.math.BigDecimal)) class has an implementation of `compareTo` that is inconsistent with `equals`."
   ]
  },
  {
   "cell_type": "markdown",
   "metadata": {},
   "source": [
    "## Exercises\n",
    "\n",
    "1. See the `Counter` class in the next cell. Implement the method `min` that returns the counter having the smaller value. Implement the method `max` that returns the counter having the largest value over all counters in a list."
   ]
  },
  {
   "cell_type": "code",
   "execution_count": null,
   "metadata": {},
   "outputs": [],
   "source": [
    "import java.util.List;\n",
    "\n",
    "public class Counter implements Comparable<Counter> {\n",
    "\n",
    "    private int value;\n",
    "\n",
    "    public Counter(int value) {\n",
    "        if (value < 0) {\n",
    "            throw new IllegalArgumentException(\"value must be non-negative\");\n",
    "        }\n",
    "        this.value = value;\n",
    "    }\n",
    "    \n",
    "    // other constructors and methods not shown\n",
    "\n",
    "    @Override\n",
    "    public int compareTo(Counter other) {\n",
    "        return Integer.compare(this.value, other.value);\n",
    "    }\n",
    "    \n",
    "    public static Counter min(Counter c1, Counter c2) {\n",
    "        \n",
    "    }\n",
    "    \n",
    "    public static Counter max(List<Counter> c) {\n",
    "        \n",
    "    }\n",
    "} "
   ]
  },
  {
   "cell_type": "markdown",
   "metadata": {},
   "source": [
    "2. There are many possible ways to compare two points; for example:\n",
    "\n",
    "    - by their $x$ coordinates\n",
    "    - by their $y$ coordinates\n",
    "    - by their $x$ coordinates and then their by their $y$ coordinates if their $x$ coordinates are equal\n",
    "    - by their $y$ coordinates and then their by their $x$ coordinates if their $y$ coordinates are equal\n",
    "    - by their [Manhattan distance](https://en.wikipedia.org/wiki/Taxicab_geometry) from the origin\n",
    "    \n",
    "  Implement `compareTo` for the `Point2` class using a few of the different ways of comparing points listed above. Which of the ways of comparing points listed above are consistent with `equals`?"
   ]
  },
  {
   "cell_type": "markdown",
   "metadata": {},
   "source": [
    "3. The `compareTo` implementation shown in the notes for the `Point2` class has some limitations. What are they?"
   ]
  },
  {
   "cell_type": "markdown",
   "metadata": {},
   "source": [
    "4. Implement `compareTo` for the `Card` class in the next cell."
   ]
  },
  {
   "cell_type": "code",
   "execution_count": null,
   "metadata": {},
   "outputs": [],
   "source": [
    "import java.util.Arrays;\n",
    "\n",
    "public class Card implements Comparable<Card> {\n",
    "    private String rank;\n",
    "    private String suit;\n",
    "    \n",
    "    public static final String[] RANKS = {\n",
    "        \"2\", \"3\", \"4\", \"5\", \"6\", \"7\", \"8\", \"9\", \"10\", \"J\", \"Q\", \"K\", \"A\"\n",
    "    };\n",
    "    \n",
    "    public static final String[] SUITS = {\n",
    "        \"CLUBS\", \"DIAMONDS\", \"HEARTS\", \"SPADES\"\n",
    "    };\n",
    "    \n",
    "    public Card(String rank, String suit) {\n",
    "        if (!Arrays.asList(RANKS).contains(rank)) {\n",
    "            throw new IllegalArgumentException();\n",
    "        }\n",
    "        if (!Arrays.asList(SUITS).contains(suit)) {\n",
    "            throw new IllegalArgumentException();\n",
    "        }\n",
    "        this.rank = rank;\n",
    "        this.suit = suit;\n",
    "    }\n",
    "    \n",
    "    @Override\n",
    "    public boolean equals(Object obj) {\n",
    "        // Step 1\n",
    "        if (this == obj) {\n",
    "            return true;\n",
    "        }\n",
    "        \n",
    "        // Step 2\n",
    "        if (!(obj instanceof Card)) {\n",
    "            return false;\n",
    "        }\n",
    "        \n",
    "        // Step 3\n",
    "        Card other = (Card) obj;\n",
    "        \n",
    "        // Step 4\n",
    "        if (this.rank.equals(other.rank) && this.suit.equals(other.suit)) {\n",
    "            return true;\n",
    "        }\n",
    "        return false;\n",
    "    }\n",
    "    \n",
    "    /**\n",
    "     * Compares two cards using their ranks.\n",
    "     *\n",
    "     * @param other a card to compare with this card\n",
    "     * @return a negative value, zero, or a positive value if the rank of this\n",
    "     *         card is less than, equal to, or greater than the rank of the \n",
    "     *         other card\n",
    "     */\n",
    "    @Override\n",
    "    public int compareTo(Card other) {\n",
    "        \n",
    "    }\n",
    "}"
   ]
  },
  {
   "cell_type": "markdown",
   "metadata": {},
   "source": [
    "5. See Exercises 3-6 in the [Designing simple classes](./designing_simple_classes.ipynb#notebook_id) notebook. Modify the classes so that they implement the `Comparable` interface. It is up to you how `compareTo` should be defined for these classes."
   ]
  },
  {
   "cell_type": "markdown",
   "metadata": {},
   "source": [
    "6. See Exercise 9 in the [Constructors](./constructors.ipynb#notebook_id) notebook. If it makes sense for your class, modify your class so that it implements the `Comparable` interface. Note that this could be quite difficult depending on the card game that you chose. For example, if you chose the game poker then you would need to be able to evaluate the different types of poker hands for value."
   ]
  },
  {
   "cell_type": "markdown",
   "metadata": {},
   "source": [
    "7. Suppose that you implemented a class that represents the choice of hand shape in the game [rock paper scissors](https://en.wikipedia.org/wiki/Rock_paper_scissors) (i.e., each instance of the class is either a rock, paper, or scissors). Is it possible to implement a correct `compareTo` method for such a class; that is, can you guarantee that each clause of the `compareTo` contract is satisfied?"
   ]
  },
  {
   "cell_type": "markdown",
   "metadata": {},
   "source": [
    "8. See Exercise 7 in the [Overriding `hashCode`](./overriding_hashcode.ipynb#notebook_id) notebook. How do you implement the `Comparable` interface for an arbitrary length binary number?"
   ]
  }
 ],
 "metadata": {
  "kernelspec": {
   "display_name": "Java",
   "language": "java",
   "name": "java"
  },
  "language_info": {
   "codemirror_mode": "text/x-java",
   "file_extension": ".java",
   "mimetype": "",
   "name": "Java",
   "nbconverter_exporter": "",
   "version": "1.8.0_121"
  },
  "toc": {
   "base_numbering": 1,
   "nav_menu": {},
   "number_sections": false,
   "sideBar": false,
   "skip_h1_title": false,
   "title_cell": "Table of Contents",
   "title_sidebar": "Contents",
   "toc_cell": false,
   "toc_position": {},
   "toc_section_display": false,
   "toc_window_display": false
  }
 },
 "nbformat": 4,
 "nbformat_minor": 4
}
