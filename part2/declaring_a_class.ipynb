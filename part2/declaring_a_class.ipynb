{
 "cells": [
  {
   "cell_type": "code",
   "execution_count": null,
   "metadata": {},
   "outputs": [],
   "source": [
    "// run this cell to prevent Jupyter from displaying the null output cell\n",
    "com.twosigma.beakerx.kernel.Kernel.showNullExecutionResult = false;"
   ]
  },
  {
   "cell_type": "markdown",
   "metadata": {},
   "source": [
    "<a href=\"notebook_id\"></a>\n",
    "# Declaring a class\n",
    "\n",
    "A class declaration defines a new reference type and describes how the type is implemented.\n",
    "\n",
    "Recall that a top-level class is a class that is not defined inside another class.\n",
    "In its simplest form, a top-level class declaration looks like:\n",
    "\n",
    "```java\n",
    "modifiers class ClassName {\n",
    "    // inside the braces is called the class body\n",
    "    \n",
    "}\n",
    "```\n",
    "\n",
    "where *modifiers* are optional class modifiers described below, `class` is a keyword indicating the class declaration, and `ClassName` is the name of the class.\n",
    "\n",
    "In Java, a class name must begin with what is referred to as a *Java letter*. A Java letter includes the characters A-Z, a-z, and for historical reasons the dollar sign `$` and the underscore character `_`; Java letters also include Unicode characters corresponding to letters in other languages.\n",
    "\n",
    "By convention, class names are written using [upper camel case](https://en.wikipedia.org/wiki/Camel_case): The first letter of the class name is capitalized, the remaining letters of the name are in lowercase except for multi-word class names where each word also begins with a capital letter. For example, the class name `ArrayList` is used instead of `arraylist`, `Array_List`, `arrayList` or any other variation.\n",
    "\n",
    "The remaining characters in a class name can be made up of any number of Java letters or any *Java digits*. A Java digit includes the digits 0-9 and Unicode characters corresponding to digits in other languages."
   ]
  },
  {
   "cell_type": "markdown",
   "metadata": {},
   "source": [
    "## Class modifiers\n",
    "\n",
    "In a top-level class, the legal class modifiers are:\n",
    "\n",
    "- `public`\n",
    "- `abstract`\n",
    "- `final`\n",
    "- `strictfp` (we will not use this modifier in any other notebooks)\n",
    "\n",
    "For the time being, the only modifier that is relevant to our purposes is the modifier `public`.\n",
    "\n",
    "A `public` class is visible to all other classes and is usually present unless the class is intended to be used inside of a single package (for reasons of modularity). If the `public` modifier is absent from the class declaration then the class is said to have *package private* access which means that the class is only visible inside of the package that it is declared in.\n",
    "\n",
    "An `abstract` class is an incomplete class that is intended to be used as a super class of an inheritance hierarchy. Abstract classes are discussed in Part 3 of the notes.\n",
    "\n",
    "A `final` class is a class that cannot be extended via inheritance. Final classes are discussed in Part 3 of the notes.\n",
    "\n",
    "The modifier `strictfp` is used to indicate that a class is *FP-strict* which forces all floating-point calculations performed inside the class to adhere to the IEEE754 floating-point standards; this guarantees that floating-point calculations will always yield the same result regardless of the computing platform. On modern computing hardware likely to run Java this no longer seems to be an issue; see [this Java Enhancement Proposal](http://openjdk.java.net/jeps/306) for some discussion."
   ]
  },
  {
   "cell_type": "markdown",
   "metadata": {},
   "source": [
    "## Declaring our four classes\n",
    "\n",
    "Declaring the four classes that will implement is straightforward."
   ]
  },
  {
   "cell_type": "code",
   "execution_count": null,
   "metadata": {},
   "outputs": [],
   "source": [
    "public class Counter {\n",
    "    \n",
    "}"
   ]
  },
  {
   "cell_type": "code",
   "execution_count": null,
   "metadata": {},
   "outputs": [],
   "source": [
    "public class Point2 {\n",
    "    \n",
    "}"
   ]
  },
  {
   "cell_type": "code",
   "execution_count": null,
   "metadata": {},
   "outputs": [],
   "source": [
    "public class Domino {\n",
    "    \n",
    "}"
   ]
  },
  {
   "cell_type": "code",
   "execution_count": null,
   "metadata": {},
   "outputs": [],
   "source": [
    "public class Card {\n",
    "    \n",
    "}"
   ]
  },
  {
   "cell_type": "markdown",
   "metadata": {},
   "source": [
    "## Exercises\n",
    "\n",
    "1. If you have attempted Exercise 6 from the [Designing simple classes](./designing_simple_classes.ipynb#notebook_id) notebook then consider declaring the class or classes that you came up with in eclipse or your choice of Java IDE."
   ]
  }
 ],
 "metadata": {
  "kernelspec": {
   "display_name": "Java",
   "language": "java",
   "name": "java"
  },
  "language_info": {
   "codemirror_mode": "text/x-java",
   "file_extension": ".java",
   "mimetype": "",
   "name": "Java",
   "nbconverter_exporter": "",
   "version": "1.8.0_121"
  },
  "toc": {
   "base_numbering": 1,
   "nav_menu": {},
   "number_sections": false,
   "sideBar": false,
   "skip_h1_title": false,
   "title_cell": "Table of Contents",
   "title_sidebar": "Contents",
   "toc_cell": false,
   "toc_position": {},
   "toc_section_display": false,
   "toc_window_display": false
  }
 },
 "nbformat": 4,
 "nbformat_minor": 4
}
