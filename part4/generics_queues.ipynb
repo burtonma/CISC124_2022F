{
 "cells": [
  {
   "cell_type": "code",
   "execution_count": null,
   "metadata": {},
   "outputs": [],
   "source": [
    "// run this cell to prevent Jupyter from displaying the null output cell\n",
    "com.twosigma.beakerx.kernel.Kernel.showNullExecutionResult = false;"
   ]
  },
  {
   "cell_type": "markdown",
   "metadata": {},
   "source": [
    "<a id=\"notebook_id\"></a>\n",
    "# Queues\n",
    "\n",
    "<div class=\"alert alert-block alert-success\"> \n",
    "    Source code for this notebook can be found in the package <tt>ca.queensu.cisc124.notes.generics.basics</tt>.\n",
    "</div>\n",
    "\n",
    "A queue (pronounced like the letter 'q') is a collection of elements where the elements can be\n",
    "inserted and removed, but inserting an element always occurs at the back of the queue and\n",
    "removing an element always occurs at the front of the queue. The queue implements a\n",
    "first-in, first-out or FIFO policy, which implies that the queue keeps its elements in \n",
    "sequence.\n",
    "\n",
    "Conceptually, a queue data structure is similar to the everyday notion of a queue\n",
    "of customers:\n",
    "\n",
    "![A queue of customers](../resources/images/queues/queues.png)\n",
    "\n",
    "In the figure above, customers enter the queue at the back of the queue and customers\n",
    "exit the queue at the front of the queue. The red arrow points to the location where \n",
    "the next customer would be in the queue and the blue arrow points to the customer\n",
    "that next exits the queue.\n",
    "\n",
    "\n",
    "Classically, a queue supports only two operations:\n",
    "\n",
    "1. The `enqueue` operation adds an element to the back of a queue.\n",
    "2. The `dequeue` operation removes the element at the front of a queue.\n",
    "\n",
    "![The enqueue operation](images/enqueue.mp4)\n",
    "\n",
    "![The dequeue operation](images/dequeue.mp4)\n",
    "\n",
    "These two operations are illustrated in the videos below:"
   ]
  },
  {
   "cell_type": "markdown",
   "metadata": {},
   "source": [
    "<video controls src=\"../resources/images/queues/enqueue.mp4\" />"
   ]
  },
  {
   "cell_type": "markdown",
   "metadata": {},
   "source": [
    "<a id=\"vid-dequeue\"></a>\n",
    "<video controls src=\"../resources/images/queues/dequeue.mp4\" />"
   ]
  },
  {
   "cell_type": "markdown",
   "metadata": {},
   "source": [
    "In many actual implementations additional operations are also supported:\n",
    "\n",
    "3. The `size` operation returns the number of elements in the queue.\n",
    "4. The `isEmpty` operation returns true if the queue is empty (has no elements).\n",
    "5. The `front` operation returns the front element of the queue without removing it from the queue.\n",
    "6. The `back` operation returns the back element of the queue without removing it from the queue.\n",
    "\n",
    "A generic Java interface for queues is very similar to the interface for stacks:"
   ]
  },
  {
   "cell_type": "code",
   "execution_count": 1,
   "metadata": {},
   "outputs": [
    {
     "data": {
      "text/plain": [
       "com.twosigma.beaker.javash.bkr23774bda.Queue"
      ]
     },
     "execution_count": 1,
     "metadata": {},
     "output_type": "execute_result"
    }
   ],
   "source": [
    "public interface Queue<E> {\n",
    "\n",
    "    /**\n",
    "     * Returns the number of elements in this queue.\n",
    "     * \n",
    "     * @return the number of elements in this queue\n",
    "     */\n",
    "    public int size();\n",
    "\n",
    "    /**\n",
    "     * Returns {@code true} if this queue contains no elements. The default\n",
    "     * implementation simply returns {@code size() == 0}.\n",
    "     * \n",
    "     * @return true if this queue contains no elements\n",
    "     */\n",
    "    default boolean isEmpty() {\n",
    "        return this.size() == 0;\n",
    "    }\n",
    "\n",
    "    /**\n",
    "     * Adds the specified element to the back of this queue.\n",
    "     * \n",
    "     * @param elem the element to be added to the back of this queue\n",
    "     */\n",
    "    public void enqueue(E elem);\n",
    "\n",
    "    /**\n",
    "     * Removes the element from the front of this queue and returns the element.\n",
    "     * \n",
    "     * @return the front element of this queue\n",
    "     * @throws RuntimeException if this queue is empty\n",
    "     */\n",
    "    public E dequeue();\n",
    "\n",
    "    /**\n",
    "     * Looks at the element at the front of this queue without removing it from the\n",
    "     * queue.\n",
    "     * \n",
    "     * @return the element at the front of this queue\n",
    "     * @throws RuntimeException if this queue is empty\n",
    "     */\n",
    "    public E front();\n",
    "    \n",
    "    /**\n",
    "     * Looks at the element at the back of this queue without removing it from the\n",
    "     * queue.\n",
    "     * \n",
    "     * @return the element at the back of this queue\n",
    "     * @throws RuntimeException if this queue is empty\n",
    "     */\n",
    "    public E back();\n",
    "}\n"
   ]
  },
  {
   "cell_type": "markdown",
   "metadata": {},
   "source": [
    "Before continuing, it is important to point out that the Java Standard Library includes a `Queue` interface that has many more\n",
    "operations than the classical queue abstract data type; in fact, Java's `Queue` interface includes all of the operations from\n",
    "the `Collection` interface which allows removal of an element from the middle of the queue as an optional operation. Java does\n",
    "not use the names `enqueue` and `dequeue` for the enqueue and dequeue operations. Instead, Java uses the names `add` and\n",
    "`offer` for the enqueue operations, and `remove` and `poll` for the dequeue operation.    \n",
    "\n",
    "It is also important to point out that Java's `LinkedList` class implements Java's `Queue` interface, so the programmer\n",
    "can always use a `LinkedList` whenever a queue is required."
   ]
  },
  {
   "cell_type": "markdown",
   "metadata": {},
   "source": [
    "It is easy to implement a queue using an `ArrayList` where the front of the list represents the front of the queue and the\n",
    "end of the list represents the back of the queue."
   ]
  },
  {
   "cell_type": "markdown",
   "metadata": {},
   "source": [
    "**Exercise 1** Implement a class named `ListQueue` that implements our `Queue` interface where the elements of the queue\n",
    "are stored in an `ArrayList` field."
   ]
  },
  {
   "cell_type": "code",
   "execution_count": 3,
   "metadata": {},
   "outputs": [
    {
     "data": {
      "text/plain": [
       "com.twosigma.beaker.javash.bkr23774bda.ListQueue"
      ]
     },
     "execution_count": 3,
     "metadata": {},
     "output_type": "execute_result"
    }
   ],
   "source": [
    "// Exercise 1\n",
    "import java.util.List;\n",
    "import java.util.ArrayList;\n",
    "\n",
    "public class ListQueue<E> implements Queue<E> {\n",
    "    private List<E> q;\n",
    "    \n",
    "    public ListQueue() {\n",
    "        this.q = new ArrayList<>();\n",
    "    }\n",
    "    \n",
    "    @Override\n",
    "    public int size() {\n",
    "        return this.q.size();\n",
    "    }\n",
    "    \n",
    "    @Override\n",
    "    public void enqueue(E elem) {\n",
    "        this.q.add(elem);\n",
    "    }\n",
    "    \n",
    "    private void throwIfEmpty() {\n",
    "        if (this.isEmpty()) {\n",
    "            throw new RuntimeException(\"empty queue\");\n",
    "        }\n",
    "    }\n",
    "    \n",
    "    @Override\n",
    "    public E dequeue() {\n",
    "        this.throwIfEmpty();\n",
    "        return this.q.remove(0);\n",
    "    }\n",
    "    \n",
    "    @Override\n",
    "    public E front() {\n",
    "        this.throwIfEmpty();\n",
    "        return this.q.get(0);\n",
    "    }\n",
    "    \n",
    "    @Override\n",
    "    public E back() {\n",
    "        this.throwIfEmpty();\n",
    "        return this.q.get(this.q.size() - 1);\n",
    "    }\n",
    "    \n",
    "    @Override\n",
    "    public String toString() {\n",
    "        return this.q.toString();\n",
    "    }\n",
    "}"
   ]
  },
  {
   "cell_type": "markdown",
   "metadata": {},
   "source": [
    "**Exercise 2** What is the worst-case complexity of the `enqueue` operation for the `ListQueue` class?"
   ]
  },
  {
   "cell_type": "markdown",
   "metadata": {},
   "source": [
    "**Exercise 3** What is the amortized complexity of the `enqueue` operation for the `ListQueue` class?"
   ]
  },
  {
   "cell_type": "markdown",
   "metadata": {},
   "source": [
    "**Exercise 4** What is the worst-case complexity of the `dequeue` operation for the `ListQueue` class? When does the worst-case complexity occur?"
   ]
  },
  {
   "cell_type": "markdown",
   "metadata": {},
   "source": [
    "After completing the exercises above, it should be clear to the reader that using an `ArrayList` to implement a queue is less\n",
    "effective than using an `ArrayList` to implement a stack. The next notebook illustrates a computationally more efficient\n",
    "way to implement a queue using an array."
   ]
  },
  {
   "cell_type": "code",
   "execution_count": null,
   "metadata": {},
   "outputs": [],
   "source": []
  }
 ],
 "metadata": {
  "kernelspec": {
   "display_name": "Java",
   "language": "java",
   "name": "java"
  },
  "language_info": {
   "codemirror_mode": "text/x-java",
   "file_extension": ".java",
   "mimetype": "",
   "name": "Java",
   "nbconverter_exporter": "",
   "version": "1.8.0_121"
  },
  "toc": {
   "base_numbering": 1,
   "nav_menu": {},
   "number_sections": false,
   "sideBar": false,
   "skip_h1_title": false,
   "title_cell": "Table of Contents",
   "title_sidebar": "Contents",
   "toc_cell": false,
   "toc_position": {},
   "toc_section_display": false,
   "toc_window_display": false
  }
 },
 "nbformat": 4,
 "nbformat_minor": 4
}
