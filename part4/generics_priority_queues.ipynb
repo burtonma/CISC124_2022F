{
 "cells": [
  {
   "cell_type": "code",
   "execution_count": null,
   "metadata": {},
   "outputs": [],
   "source": [
    "// run this cell to prevent Jupyter from displaying the null output cell\n",
    "com.twosigma.beakerx.kernel.Kernel.showNullExecutionResult = false;"
   ]
  },
  {
   "cell_type": "markdown",
   "metadata": {},
   "source": [
    "# Priority queues\n",
    "\n",
    "In real life, many types of queues are not first-in, first-out queues. Instead, items in the queue are served based on some criteria other than their arrival order. For example:\n",
    "\n",
    "* in a hospital emergency room, patients are seen by doctors in order of the severity of the patients' condition\n",
    "* some entertainment venues allow VIPs to move to the front of the queue\n",
    "* in airport check-in queues, passengers can sometimes move forwards in the queue if their flight is leaving soon\n",
    "\n",
    "A priority queue is a queue where elements are served based on their priority rather than on their arrival order.\n",
    "In a priority queue, the elements are key-value pairs. The *key* is interpreted as the priority of the element. \n",
    "The *value* corresponds to an element in a regular queue; it is simply any value that we want to store in the queue.\n",
    "\n",
    "Keys do not need to be unique but they must be comparable (using less than, equal to, and greater than)\n",
    "so that the queue can determine which element has the highest priority.\n",
    "Elements with higher priority are served before elements with lower priority (some descriptions of priority queues serve elements with lower priority first).\n",
    "Elements having the same priority are typically served in their arrival order.\n",
    "\n",
    "Example usages of priority queues in computing applications include:\n",
    "\n",
    "* CPU scheduling algorithms found in operating systems may use a priority queue to schedule processes\n",
    "* many network applications use priority queues to manage bandwidth\n",
    "* [Dijkstra's algorithm](https://en.wikipedia.org/wiki/Dijkstra%27s_algorithm) for finding the shortest path between nodes in a graph can be implemented using\n",
    "a priority queue\n",
    "\n",
    "Implementing a high-quality priority queue is beyond the scope of this notebook (curious readers can refer to the [Wikipedia page](https://en.wikipedia.org/wiki/Priority_queue)\n",
    "for more information). Our motivation for studying priority queues is two-fold:\n",
    "\n",
    "1. to illustrate how an interface can extend an existing interface\n",
    "2. to illustrate how to impose restrictions on a generic type variable"
   ]
  },
  {
   "cell_type": "markdown",
   "metadata": {},
   "source": [
    "## A priority queue interface\n",
    "\n",
    "A priority queue is a kind of queue where the `enqueue` operation differs from that of an ordinary queue because the caller must specify the priority of the\n",
    "enqueued value."
   ]
  },
  {
   "cell_type": "code",
   "execution_count": null,
   "metadata": {},
   "outputs": [],
   "source": [
    "%classpath add jar ../resources/jar/notes.jar\n",
    "\n",
    "import ca.queensu.cs.cisc124.notes.generics.basics.Queue;\n",
    "\n",
    "public interface PriorityQueue<K, E> extends Queue<E> {\n",
    "    \n",
    "    public void enqueue(E elem);\n",
    "    \n",
    "    public void enqueue(E elem, K priority);\n",
    "}"
   ]
  },
  {
   "cell_type": "markdown",
   "metadata": {},
   "source": [
    "<a id=\"notebook_id\"></a>\n",
    "# Bounded type variables\n",
    "\n",
    "Some generic classes and methods require restrictions on what types can be used as type variables. For example, a generic class might have a type variable\n",
    "that must be a numeric type; in such cases, we might require the type variable to be some type that is a subclass of `java.lang.Number` (the superclass of\n",
    "the numeric wrapper classes `Integer`, `Double`, etc).\n",
    "\n",
    "Another common requirement is that a type variable must be some type that is sortable; in such cases, we might require the type variable to implement\n",
    "the `Comparable` interface.\n",
    "\n",
    "A *bounded type variable* is a type variable that must extend some specified superclass, or that must implement some specified interface.\n",
    "\n",
    "EXAMPLES"
   ]
  },
  {
   "cell_type": "code",
   "execution_count": null,
   "metadata": {},
   "outputs": [],
   "source": []
  }
 ],
 "metadata": {
  "kernelspec": {
   "display_name": "Java",
   "language": "java",
   "name": "java"
  },
  "language_info": {
   "codemirror_mode": "text/x-java",
   "file_extension": ".java",
   "mimetype": "",
   "name": "Java",
   "nbconverter_exporter": "",
   "version": "1.8.0_121"
  },
  "toc": {
   "base_numbering": 1,
   "nav_menu": {},
   "number_sections": false,
   "sideBar": false,
   "skip_h1_title": false,
   "title_cell": "Table of Contents",
   "title_sidebar": "Contents",
   "toc_cell": false,
   "toc_position": {},
   "toc_section_display": false,
   "toc_window_display": false
  }
 },
 "nbformat": 4,
 "nbformat_minor": 4
}
