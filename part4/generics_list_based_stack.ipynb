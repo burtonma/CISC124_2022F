{
 "cells": [
  {
   "cell_type": "code",
   "execution_count": null,
   "metadata": {},
   "outputs": [],
   "source": [
    "// run this cell to prevent Jupyter from displaying the null output cell\n",
    "com.twosigma.beakerx.kernel.Kernel.showNullExecutionResult = false;"
   ]
  },
  {
   "cell_type": "markdown",
   "metadata": {},
   "source": [
    "<a id=\"notebook_id\"></a>\n",
    "# `ArrayList`-based stack\n",
    "\n",
    "<div class=\"alert alert-block alert-success\"> \n",
    "    Source code for this notebook can be found in the package <tt>ca.queensu.cisc124.notes.generics.basics</tt>.\n",
    "</div>\n",
    "\n",
    "In the previous notebook we saw two approaches to creating stacks of different types of elements:\n",
    "\n",
    "1. create a different stack class for each element type\n",
    "    * while easy to do, this has significant disadvantages:\n",
    "        * there is substantial code duplication\n",
    "        * we cannot pass instances of the different stack classes to methods using the `Stack` interface because the interface describes a stack of strings\n",
    "2. create a stack class where the element type is `Object`\n",
    "    * this approach does allow for stacks of different element types but has significant disadvantages:\n",
    "        * the programmer must cast the return value from `pop` because an `Object` reference is returned\n",
    "        * there is no type safety because any element type can be pushed onto a stack\n",
    "\n",
    "In the first approach, we saw that the type of element stored in the stack has almost no influence on the implementation of the stack class because we never need to invoke a method\n",
    "or constructor using the element type. In other words, the type of element stored in the stack is an implementation detail that we would like to abstract away. If Java had a mechanism \n",
    "that allowed the programmer to store the element type in a variable, then we could store the element type in a variable\n",
    "and use the variable whenever we needed to refer to the element type. This is precisely what Java's generics facility allows the programmer to do.\n",
    "\n",
    "Java's generics facility allows the programmer to create classes, enumerations, interfaces, and methods having one or more *type variables* (also called *type parameters*). \n",
    "A type variable is a name that is used as a placeholder for an actual type. For example, `List<E>` is a generic interface and `ArrayList<E>` is a generic class both having the type variable `E`.\n",
    "Generics allow the programmer to generalize a class or interface by allowing types to become parameters of the class or interface.\n",
    "\n"
   ]
  },
  {
   "cell_type": "markdown",
   "metadata": {},
   "source": [
    "### Using a generic type\n",
    "\n",
    "Before seeing how to create a generic class or interface, it is worth briefly reviewing how to use a generic type.\n",
    "To use a generic class or method, the programmer specifies an actual type for each of the type variables.. For example, a list-of-strings can be created by specifying the \n",
    "type `String` for the type variable:"
   ]
  },
  {
   "cell_type": "code",
   "execution_count": null,
   "metadata": {},
   "outputs": [],
   "source": [
    "import java.util.List;\n",
    "import java.util.ArrayList;\n",
    "\n",
    "List<String> t = new ArrayList<String>();    // type variable is String"
   ]
  },
  {
   "cell_type": "markdown",
   "metadata": {},
   "source": [
    "The previous example can be simplified slightly in Java versions 7 and beyond by taking advantage of *generic type inference*:\n",
    "\n",
    "> You can replace the type arguments required to invoke the constructor of a generic class with an empty set of type parameters (`<>`) \n",
    "> as long as the compiler can infer the type arguments from the context. This pair of angle brackets is informally called *the diamond*.\n",
    ">\n",
    "> [Type Inference and Instantiation of Generic Classes](https://docs.oracle.com/javase/tutorial/java/generics/genTypeInference.html#type-inference-instantiation)\n",
    "\n",
    "Because `t` is declared to be a list-of-string, the type variable can be omitted from the constructor call:"
   ]
  },
  {
   "cell_type": "code",
   "execution_count": null,
   "metadata": {},
   "outputs": [],
   "source": [
    "import java.util.List;\n",
    "import java.util.ArrayList;\n",
    "\n",
    "List<String> t = new ArrayList<>();    // no type variable needed to call the ArrayList constructor\n",
    "                                       // because t is declared to be List<String>"
   ]
  },
  {
   "cell_type": "markdown",
   "metadata": {},
   "source": [
    "<div class=\"alert alert-info\">\n",
    "\n",
    "**Type variables must be reference types:** A limitation of Java generics is that type variables must be reference types; primitive types are not allowed as type variables.\n",
    "The reason for this is that generics were added to the Java language some time after the language had been in wide use, and allowing primitive types as type variables would\n",
    "have required existing code to have to be re-compiled or modified. The details of the design choices behind Java generics and a possible approach for allowing primitive types\n",
    "    as type variables are described in the [following article](http://cr.openjdk.java.net/~briangoetz/valhalla/specialization.html#design-choices-behind-java-generics).\n",
    "\n",
    "</div>"
   ]
  },
  {
   "cell_type": "markdown",
   "metadata": {},
   "source": [
    "## Implementing a generic stack interface and class\n",
    "\n",
    "To create a generic stack type, we need to add a type variable to the interface and class declarations. While any Java identifier can be used for a type variable name, the convention is to\n",
    "usually use a single capitalized letter for the type variable name. \n",
    "\n",
    "> This stands in sharp contrast to the variable naming conventions that you already know about, and with good reason: Without this convention, it would be difficult to tell the\n",
    "> difference between a type variable and an ordinary class or interface name.\n",
    ">\n",
    "> The most commonly used type parameter names are:\n",
    "> \n",
    "> * E - Element (used extensively by the Java Collections Framework)\n",
    "> * K - Key\n",
    "> * N - Number\n",
    "> * T - Type\n",
    "> * V - Value\n",
    ">\n",
    "> [Type Parameter Naming Conventions](https://docs.oracle.com/javase/tutorial/java/generics/types.html)\n",
    "\n",
    "`T` is the default type variable name suggested by the Java Language Specification. If a generic class requires more than one type variable, then it is common to use\n",
    "the names `T`, `U`, `V`, and so on, or `T1`, `T2`, `T3`, and so on.\n",
    "\n",
    "`K` and `V` are the names used in the Java Collections Framework for the key and value types when working with maps.\n",
    "\n",
    "`E` is used in the Java Collections Framework when *defining* classes and interfaces that represent a collection of elements (such as lists and sets); for example,\n",
    "inside the `List` class the element type is referred to as `E`. \n",
    "\n",
    "Outside of the defining class, it is also common to use `T` as the type variable name when working with a collection of elements; for example,\n",
    "the `Collections` utility class uses both `List<T>` and `List<E>` when referring to a generic list."
   ]
  },
  {
   "cell_type": "markdown",
   "metadata": {},
   "source": [
    "Because a stack also represents a collection of elements, we the name `E` for the type variable name.\n",
    "\n",
    "The type variable appears immediately after the interface or class name inside a pair of angle brackets (`<>`):"
   ]
  },
  {
   "cell_type": "code",
   "execution_count": null,
   "metadata": {},
   "outputs": [],
   "source": [
    "public interface Stack<E> {    // type variable appears in angle brackets after the interface name\n",
    "\n",
    "}"
   ]
  },
  {
   "cell_type": "markdown",
   "metadata": {},
   "source": [
    "We can use the name `E` inside the `Stack` interface whenever we need to refer to the element type. \n",
    "\n",
    "Changing the original `Stack` interface to a generic interface is as simple as replacing the element type `String` with the type variable `E`:\n",
    "\n",
    "1. change the parameter type of `push` to `E`\n",
    "2. change the return type of `pop` to `E`\n",
    "\n",
    "A fully implemented generic interface (minus the Javadoc comments) with the modifications marked by comments is shown below (run the cell to compile the interface): "
   ]
  },
  {
   "cell_type": "code",
   "execution_count": null,
   "metadata": {},
   "outputs": [],
   "source": [
    "public interface Stack<E> {\n",
    "\n",
    "    public int size();\n",
    "\n",
    "    default boolean isEmpty() {\n",
    "        return this.size() == 0;\n",
    "    }\n",
    "\n",
    "    public void push(E elem);        // 1, change method parameter from String to E\n",
    "\n",
    "    public E pop();                  // 2, change return type from String to E\n",
    "}"
   ]
  },
  {
   "cell_type": "markdown",
   "metadata": {},
   "source": [
    "Changing the original `ListStack` class to a generic class is as simple as replacing the element type `String` with the type variable `E`:\n",
    "\n",
    "1. add the type variable declaration `<E>` after the class name (and generic interface name)\n",
    "2. change the list element type to `E`\n",
    "3. change the parameter type of `push` to `E`\n",
    "4. in the `pop` method declaration, change the return type to `E`\n",
    "5. in the `pop` method body, change the local variable type of `elem` to `E`\n",
    "\n",
    "A fully implemented generic class with the modifications marked by comments is shown below (run the cell to compile the class): "
   ]
  },
  {
   "cell_type": "code",
   "execution_count": null,
   "metadata": {},
   "outputs": [],
   "source": [
    "import java.util.ArrayList;\n",
    "\n",
    "public class ListStack<E> implements Stack<E> {         // 1\n",
    "    \n",
    "    private ArrayList<E> stack;                         // 2\n",
    "    \n",
    "    public ListStack() {\n",
    "        this.stack = new ArrayList<>();\n",
    "    }\n",
    "\n",
    "    @Override\n",
    "    public int size() {\n",
    "        return this.stack.size();\n",
    "    }\n",
    "\n",
    "    @Override\n",
    "    public void push(E elem) {                          // 3\n",
    "        this.stack.add(elem);\n",
    "    }\n",
    "\n",
    "    @Override\n",
    "    public E pop() {                                    // 4\n",
    "        if (this.isEmpty()) {\n",
    "            throw new RuntimeException(\"popped an empty stack\");\n",
    "        }\n",
    "        E elem = this.stack.remove(this.size() - 1);    // 5\n",
    "        return elem;\n",
    "    }\n",
    "\n",
    "    @Override\n",
    "    public String toString() {\n",
    "        StringBuilder b = new StringBuilder(\"Stack:\");\n",
    "        if (this.size() != 0) {\n",
    "            for (int i = this.size() - 1; i >= 0; i--) {\n",
    "                b.append('\\n');\n",
    "                b.append(this.stack.get(i));\n",
    "            }\n",
    "        }\n",
    "        return b.toString();\n",
    "    }\n",
    "}"
   ]
  },
  {
   "cell_type": "markdown",
   "metadata": {},
   "source": [
    "<a id=\"test_program\"></a>\n",
    "A short test program that creates stacks of different element types is shown below:"
   ]
  },
  {
   "cell_type": "code",
   "execution_count": null,
   "metadata": {},
   "outputs": [],
   "source": [
    "// make sure to run the previous code cell to compile the Stack interface and ListStack class first\n",
    "\n",
    "Stack<String> s = new ListStack<>();\n",
    "s.push(\"a\");\n",
    "s.push(\"b\");\n",
    "s.push(\"c\");\n",
    "System.out.println(s);\n",
    "System.out.println();\n",
    "\n",
    "Stack<Integer> t = new ListStack<>();\n",
    "t.push(1);\n",
    "t.push(2);\n",
    "t.push(3);\n",
    "System.out.println(t);\n",
    "System.out.println();\n",
    "\n",
    "Stack<Double> u = new ListStack<>();\n",
    "u.push(1.0);\n",
    "u.push(2.0);\n",
    "u.push(3.0);\n",
    "System.out.println(u);\n",
    "System.out.println();"
   ]
  },
  {
   "cell_type": "markdown",
   "metadata": {},
   "source": [
    "### Type safety\n",
    "\n",
    "Our generic `ListStack` class is type-safe: The compiler will not allow elements to pushed onto a stack where the element type is not compatible with the type variable of the stack\n",
    "(run the following cell to see the compile-time error caused by trying to pushing a `double` value onto a stack of strings):"
   ]
  },
  {
   "cell_type": "code",
   "execution_count": null,
   "metadata": {},
   "outputs": [],
   "source": [
    "// make sure to run the previous code cells to compile the Stack interface and ListStack class first\n",
    "\n",
    "Stack<String> s = new ListStack<>();    // a stack of strings\n",
    "s.push(\"hello\");                        // ok\n",
    "s.push(1.0);                            // compile-time error: 1.0 is not a String instance"
   ]
  },
  {
   "cell_type": "markdown",
   "metadata": {},
   "source": [
    "Using generics, we can write type-safe methods. For example, the `sumAndClear` method from the previous notebook can be made type-safe by changing the method parameter type\n",
    "to `Stack<Integer>`:"
   ]
  },
  {
   "cell_type": "code",
   "execution_count": null,
   "metadata": {},
   "outputs": [],
   "source": [
    "public class Sum {\n",
    "    \n",
    "    /**\n",
    "     * Returns the sum of the elements in a stack of int (or byte, char, short) or\n",
    "     * zero if the stack is empty. Removes all elements from the specified stack.\n",
    "     *\n",
    "     * <p>\n",
    "     * The returned sum may overflow the range of int.\n",
    "     *\n",
    "     * @param intStack a stack of Integer\n",
    "     * @return the sum of the elements in the stack\n",
    "     * @throws ClassCastException if the stack contains non-Integer references\n",
    "     */\n",
    "    public static int sumAndClear(Stack<Integer> intStack) {\n",
    "        int sum = 0;\n",
    "        while (intStack.size() > 0) {\n",
    "            Integer elem = intStack.pop();\n",
    "            sum += elem;      // no cast needed because pop returns an Integer reference\n",
    "        }\n",
    "        return sum;\n",
    "    }\n",
    "}"
   ]
  },
  {
   "cell_type": "markdown",
   "metadata": {},
   "source": [
    "Passing a stack of `Integer` to the method works as expected:"
   ]
  },
  {
   "cell_type": "code",
   "execution_count": null,
   "metadata": {},
   "outputs": [],
   "source": [
    "// make sure to run the previous code cells to compile the Stack interface, ListStack class, and Sum class first\n",
    "\n",
    "Stack<Integer> s = new ListStack<>();    // a stack of integer\n",
    "s.push(1);\n",
    "s.push(2);\n",
    "s.push(3);\n",
    "System.out.println(Sum.sumAndClear(s));"
   ]
  },
  {
   "cell_type": "markdown",
   "metadata": {},
   "source": [
    "Attempting to pass a stack of non-`Integer` values results in a compile-time error (run the following cell to view the error):"
   ]
  },
  {
   "cell_type": "code",
   "execution_count": null,
   "metadata": {},
   "outputs": [],
   "source": [
    "// make sure to run the previous code cells to compile the Stack interface, ListStack class, and Sum class first\n",
    "\n",
    "Stack<String> s = new ListStack<>();    // a stack of string\n",
    "s.push(\"hello\");\n",
    "s.push(\"goodbye\");\n",
    "System.out.println(Sum.sumAndClear(s));"
   ]
  },
  {
   "cell_type": "markdown",
   "metadata": {},
   "source": [
    "**Exercise 1** It is sometimes useful to allow the user of a stack to look at the top element of the stack without popping the element. Add a method named `peek` to the `Stack` interface that returns the\n",
    "top element of the stack without popping the element.\n",
    "\n",
    "**Exercise 2** Add a method named `contains` to the `Stack` interface that returns `true` if a specified element is somewhere in the stack.\n",
    "\n",
    "**Exercise 3** Add a method named `reverse` to the `Stack` interface that reverses the order of the elements in this stack."
   ]
  },
  {
   "cell_type": "code",
   "execution_count": null,
   "metadata": {},
   "outputs": [],
   "source": [
    "// Exercises 1, 2, 3\n",
    "\n",
    "public interface Stack<E> {\n",
    "\n",
    "    public int size();\n",
    "\n",
    "    default boolean isEmpty() {\n",
    "        return this.size() == 0;\n",
    "    }\n",
    "\n",
    "    public void push(E elem);\n",
    "\n",
    "    public E pop();\n",
    "}"
   ]
  },
  {
   "cell_type": "markdown",
   "metadata": {},
   "source": [
    "**Exercise 4** Implement the `peek` method in the `ListStack` class.\n",
    "\n",
    "**Exercise 5** Implement the `contains` method in the `ListStack` class.\n",
    "\n",
    "**Exercise 6** Implement the `reverse` method in the `ListStack` class.\n",
    "\n",
    "**Exercise 7** Add a copy constructor to the `ListStack` class.\n",
    "\n",
    "**Exercise 8** Add a constructor that initializes a `ListStack` by pushing all of the elements from a specified `Collection<E>` onto the stack (so that the last element of the collection\n",
    "ends up on top of the stack).\n",
    "\n",
    "**Exercise 9** Add a static factory method to the `ListStack` class that returns a new stack having all of the elements of a specified `ListStack` in reverse order."
   ]
  },
  {
   "cell_type": "code",
   "execution_count": null,
   "metadata": {},
   "outputs": [],
   "source": [
    "// Exercises 4 through 9\n",
    "\n",
    "import java.util.ArrayList;\n",
    "\n",
    "public class ListStack<E> implements Stack<E> {\n",
    "    \n",
    "    private ArrayList<E> stack;\n",
    "    \n",
    "    public ListStack() {\n",
    "        this.stack = new ArrayList<>();\n",
    "    }\n",
    "\n",
    "    public int size() {\n",
    "        return this.stack.size();\n",
    "    }\n",
    "\n",
    "    public void push(E elem) {\n",
    "        this.stack.add(elem);\n",
    "    }\n",
    "\n",
    "    public E pop() {\n",
    "        if (this.isEmpty()) {\n",
    "            throw new RuntimeException(\"popped an empty stack\");\n",
    "        }\n",
    "        E elem = this.stack.remove(this.size() - 1);\n",
    "        return elem;\n",
    "    }\n",
    "\n",
    "    @Override\n",
    "    public String toString() {\n",
    "        StringBuilder b = new StringBuilder(\"Stack:\");\n",
    "        if (this.size() != 0) {\n",
    "            for (int i = this.size() - 1; i >= 0; i--) {\n",
    "                b.append('\\n');\n",
    "                b.append(this.stack.get(i));\n",
    "            }\n",
    "        }\n",
    "        return b.toString();\n",
    "    }\n",
    "}"
   ]
  }
 ],
 "metadata": {
  "kernelspec": {
   "display_name": "Java",
   "language": "java",
   "name": "java"
  },
  "language_info": {
   "codemirror_mode": "text/x-java",
   "file_extension": ".java",
   "mimetype": "",
   "name": "Java",
   "nbconverter_exporter": "",
   "version": "1.8.0_121"
  },
  "toc": {
   "base_numbering": 1,
   "nav_menu": {},
   "number_sections": false,
   "sideBar": false,
   "skip_h1_title": false,
   "title_cell": "Table of Contents",
   "title_sidebar": "Contents",
   "toc_cell": false,
   "toc_position": {},
   "toc_section_display": false,
   "toc_window_display": false
  }
 },
 "nbformat": 4,
 "nbformat_minor": 4
}
