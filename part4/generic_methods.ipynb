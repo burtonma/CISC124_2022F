{
 "cells": [
  {
   "cell_type": "code",
   "execution_count": null,
   "metadata": {},
   "outputs": [],
   "source": [
    "// run this cell to prevent Jupyter from displaying the null output cell\n",
    "com.twosigma.beakerx.kernel.Kernel.showNullExecutionResult = false;"
   ]
  },
  {
   "cell_type": "markdown",
   "metadata": {},
   "source": [
    "<a id=\"notebook_id\"></a>\n",
    "# Generic methods\n",
    "\n",
    "<div class=\"alert alert-block alert-success\"> \n",
    "    Source code for this notebook can be found in the package <tt>ca.queensu.cisc124.notes.generics.basics</tt>.\n",
    "</div>\n",
    "\n",
    "Generic methods are methods that have their own type variables. Unlike a generic class or interface, the scope of the type variables of a generic method are limited to the\n",
    "method that declared the type variables.\n",
    "\n",
    "Generic methods can appear in any class but they commonly appear in utility classes related to generic types. Some commonly used utility classes containing generic methods\n",
    "include:\n",
    "\n",
    "* `Arrays` : contains generic methods operating on arrays\n",
    "* `Collections` : contains generic methods operating on lists, sets, and maps\n",
    "* `Objects` : contains generic methods related to fundamental object operations"
   ]
  },
  {
   "cell_type": "markdown",
   "metadata": {},
   "source": [
    "## Generic stack methods\n",
    "\n",
    "We will create a utility class named `Stacks` containing generic methods that operate on stacks to illustrate how to implement generic methods.\n",
    "\n",
    "<div class=\"alert alert-info\">\n",
    "    It is common practice to pluralize a class name <tt>X</tt> when creating a utility class intended to operate on <tt>X</tt> instances (e.g., the <tt>Objects</tt> \n",
    "    utility class operates on <tt>Object</tt> instances). Our <tt>Stacks</tt> utility class operates on <tt>Stack</tt> instances.\n",
    "</div>\n",
    "\n",
    "\n",
    "**Exercise 1:** There are many methods not in the `Stack` class that users might find useful. Try to describe a few such methods. Some answers follow in the next cell."
   ]
  },
  {
   "cell_type": "markdown",
   "metadata": {},
   "source": [
    "The obvious useful methods not currently in the `Stack` class are `equals` and `hashCode`. `hashCode` is easy to implement but if you try to implement `equals` you will run\n",
    "into some problems (try it and see).\n",
    "\n",
    "<div class=\"alert alert-info\">\n",
    "    Two of the problems occur because of type erasure; the (best) solution is to use a <i>generic wildcard</i> when using <tt>instanceof</tt> and\n",
    "    performing the necessary cast. Curious readers should refer to the official <a href=\"https://docs.oracle.com/javase/tutorial/java/generics/index.html\">Generics tutorial</a>.\n",
    "    <br />\n",
    "    The third problem is that you have to decide if a particular kind of stack can be equal to any other kind of stack\n",
    "    (e.g., can an <tt>ArrayStack</tt> be equal to a <tt>ListStack</tt>?).\n",
    "</div>\n",
    "\n",
    "Four methods that might be useful that are not currently in the `Stack` class are:\n",
    "\n",
    "* `clear`: a method that removes all of the elements from a stack\n",
    "* `pushAll`: a method that pushes all of the elements from a source `Collection` onto a destination stack without permanently modifying the state of the source collection\n",
    "* `popAll`: a method that pops all of the elements from a source stack into a destination `Collection`\n",
    "* `contains`: a method that determines if a specified stack contains a specified object without permanently modifying the state of the stack\n",
    "\n",
    "A brief discussion regarding the implementation of these methods follows next."
   ]
  },
  {
   "cell_type": "markdown",
   "metadata": {},
   "source": [
    "### `clear`\n",
    "\n",
    "Clearing a stack should remove all of the elements from the stack so that the final size of the stack is zero. Note that the element type\n",
    "of the stack is unimportant because the method does not do anything with the popped elements.\n",
    "\n",
    "Without access to the fields of the `Stack` class, clearing a stack requires popping all of the elements from the stack until the stack is empty.\n",
    "\n",
    "When implementing a generic method, the type variables appear inside angled brackets immediately before the return type. Because we are outside of the `Stack` class, we \n",
    "will use the type variable name `T` in our methods. The `clear` method can be implemented with a simple loop as shown below:"
   ]
  },
  {
   "cell_type": "code",
   "execution_count": null,
   "metadata": {},
   "outputs": [],
   "source": [
    "%classpath add jar ../resources/jar/notes.jar\n",
    "\n",
    "import java.util.Collection;\n",
    "import ca.queensu.cs.cisc124.notes.generics.basics.Stack;\n",
    "\n",
    "public class Stacks {  // class itself is not generic, no type variable after class name\n",
    "    \n",
    "    public static <T> void clear(Stack<T> s) {  // method is generic, type variable appears before return type\n",
    "        while (s.size() > 0) {\n",
    "            s.pop();\n",
    "        }\n",
    "        // notice that T is never used inside the method body which suggests\n",
    "        // that the generic type is in fact not needed\n",
    "    }\n",
    "}"
   ]
  },
  {
   "cell_type": "markdown",
   "metadata": {},
   "source": [
    "A small program using the `clear` method is shown below (don't forget to run the previous cell to compile the `Stacks` class before running the test program):"
   ]
  },
  {
   "cell_type": "code",
   "execution_count": null,
   "metadata": {},
   "outputs": [],
   "source": [
    "%classpath add jar ../resources/jar/notes.jar\n",
    "\n",
    "import ca.queensu.cs.cisc124.notes.generics.basics.Stack;\n",
    "import ca.queensu.cs.cisc124.notes.generics.basics.ArrayStack;\n",
    "\n",
    "Stack<String> s = new ArrayStack<>();\n",
    "s.push(\"a\");\n",
    "s.push(\"b\");\n",
    "s.push(\"c\");\n",
    "System.out.println(s);\n",
    "System.out.println();\n",
    "\n",
    "Stacks.clear(s);\n",
    "System.out.println(\"s.size() after clearing : \" + s.size());"
   ]
  },
  {
   "cell_type": "markdown",
   "metadata": {},
   "source": [
    "### `pushAll` and `popAll`\n",
    "\n",
    "`pushAll` takes the elements from a source `Collection` and pushes all of the elements onto a destination `Stack`. The method does not remove the elements from the source\n",
    "collection. If, immediately before calling the method, the size of the collection is $m$ and the size of the stack is $n$ then the final size of the stack is $m + n$ and the\n",
    "collection is unchanged.\n",
    "\n",
    "The element types of the collection and stack matter for `pushAll`: The element type of the collection must be substitutable for the element type of the stack to push the\n",
    "elements onto the stack.\n",
    "\n",
    "`popAll` pops the elements from a source `Stack` and adds the elements to the end of a destination `Collection`. If, immediately before calling the method, the size of the \n",
    "collection is $m$ and the size of the stack is $n$ then the final size of the stack is $0$ and the final size of the collection is $m + n$.\n",
    "\n",
    "The element types of the collection and stack matter for `popAll`: The element type of the stack must be substitutable for the element type of the collection to add the\n",
    "elements to the end of the collection.\n",
    "\n",
    "The two methods can be implemeted with simple loops as shown below:"
   ]
  },
  {
   "cell_type": "code",
   "execution_count": null,
   "metadata": {},
   "outputs": [],
   "source": [
    "%classpath add jar ../resources/jar/notes.jar\n",
    "\n",
    "import java.util.Collection;\n",
    "import ca.queensu.cs.cisc124.notes.generics.basics.Stack;\n",
    "\n",
    "public class Stacks {\n",
    "    \n",
    "    public static <T> void clear(Stack<T> s) {\n",
    "        while (s.size() > 0) {\n",
    "            s.pop();\n",
    "        }\n",
    "    }\n",
    "    \n",
    "    public static <T> void pushAll(Collection<T> src, Stack<T> dest) {  // method is generic, type variable appears before return type\n",
    "        for (T elem : src) {\n",
    "            dest.push(elem);\n",
    "        }\n",
    "        // T is needed to iterate over src and to determine if the element has the correct type to be pushed onto dest\n",
    "    }\n",
    "    \n",
    "    public static <T> void popAll(Stack<T> src, Collection<T> dest) {   // method is generic, type variable appears before return type\n",
    "        while (src.size() > 0) {\n",
    "            dest.add(src.pop());\n",
    "        }\n",
    "        // T is needed to determine if the element has the correct type to be added to dest\n",
    "    }\n",
    "}"
   ]
  },
  {
   "cell_type": "markdown",
   "metadata": {},
   "source": [
    "A small program using the `pushAll` and `popAll` methods is shown below (don't forget to run the previous cell to compile the `Stacks` class before running the test program):"
   ]
  },
  {
   "cell_type": "code",
   "execution_count": null,
   "metadata": {},
   "outputs": [],
   "source": [
    "%classpath add jar ../resources/jar/notes.jar\n",
    "\n",
    "import java.util.ArrayList;\n",
    "import java.util.Arrays;\n",
    "import java.util.Collection;\n",
    "import ca.queensu.cs.cisc124.notes.generics.basics.Stack;\n",
    "import ca.queensu.cs.cisc124.notes.generics.basics.ArrayStack;\n",
    "\n",
    "\n",
    "Stack<String> s = new ArrayStack<>();\n",
    "\n",
    "Collection<String> coll = new ArrayList<>(Arrays.asList(\"A\", \"B\", \"C\"));\n",
    "\n",
    "System.out.println(\"Collection before pushAll: \" + coll);\n",
    "Stacks.pushAll(coll, s);\n",
    "System.out.println(\"Collection after pushAll: \" + coll);\n",
    "System.out.println(s);\n",
    "System.out.println();\n",
    "\n",
    "Stacks.popAll(s, coll);\n",
    "System.out.println(\"Collection after popAll: \" + coll);\n",
    "System.out.println(s);"
   ]
  },
  {
   "cell_type": "markdown",
   "metadata": {},
   "source": [
    "### `contains`\n",
    "\n",
    "`contains` searches a stack for a specified object without permanently modifying the state of the stack. Conceptually, we want to iterate over \n",
    "the elements of the stack and test if each element is equal to\n",
    "the specified object using `equals`. Unfortunately, our utility class does not have access to the fields of the stack so we must create an algorithm that uses only\n",
    "`push` and `pop`.\n",
    "\n",
    "We can compare the top element `elem` of the stack with the searched for object `obj` by popping the stack and testing if `elem.equals(obj)` is `true`. Popping the stack\n",
    "changes the state of the stack so we must remember to push the popped element back onto the stack. If we pop more than one element from the stack during the search, there\n",
    "will be multiple elements to push back onto the stack so we will require some sort of temporary collection to store the popped elements. Furthermore, we must ensure that\n",
    "the order of the elements in the stack is the same as the order of the elements of original stack.\n",
    "\n",
    "Using a second temporary stack to store the popped elements solves both the element storage and ordering problems. The idea is to pop elements from the input stack and push\n",
    "them onto a temporary stack as they are popped. When the searched for element is found or when the original stack is empty, the elements from the temporary stack are popped\n",
    "and pushed back onto the original stack.\n",
    "\n",
    "The following image illustrates popping elements from the input stack `s` until the input stack is empty. Each time an element is popped from `s` it is pushed onto the\n",
    "temporary stack `tmp`. Notice that when `s` becomes empty, the order of the elements in `tmp` is the reverse order of the elements in the original stack `s`.\n",
    "\n",
    "![](../resources/images/stacks/stacks-contains-1.png)\n",
    "\n",
    "To restore the state of `s`, elements are popped from `tmp` until `tmp` is empty. Each time an element is popped from `tmp` it is pushed onto the\n",
    "input stack `s`. Notice that when `tmp` becomes empty, the order of the elements in `s` is restored to the original ordering.\n",
    "\n",
    "![](../resources/images/stacks/stacks-contains-2.png)\n",
    "\n",
    "When searching for an object `obj` we can stop popping elements from `s` when a popped element is equal to `obj`, and then restore the original ordering of `s` by popping\n",
    "elements from `tmp` and pushing them back onto `s` until `tmp` is empty. The complete implementation of `contains` is shown below:"
   ]
  },
  {
   "cell_type": "code",
   "execution_count": null,
   "metadata": {},
   "outputs": [],
   "source": [
    "%classpath add jar ../resources/jar/notes.jar\n",
    "\n",
    "import java.util.Collection;\n",
    "import ca.queensu.cs.cisc124.notes.generics.basics.Stack;\n",
    "import ca.queensu.cs.cisc124.notes.generics.basics.ArrayStack;\n",
    "\n",
    "\n",
    "public class Stacks {\n",
    "    \n",
    "    public static <T> void clear(Stack<T> s) {\n",
    "        while (s.size() > 0) {\n",
    "            s.pop();\n",
    "        }\n",
    "    }\n",
    "    \n",
    "    public static <T> void pushAll(Collection<T> src, Stack<T> dest) {\n",
    "        for (T elem : src) {\n",
    "            dest.push(elem);\n",
    "        }\n",
    "    }\n",
    "    \n",
    "    public static <T> void popAll(Stack<T> src, Collection<T> dest) {\n",
    "        while (src.size() > 0) {\n",
    "            dest.add(src.pop());\n",
    "        }\n",
    "    }\n",
    "    \n",
    "    public static <T> boolean contains(Stack<T> s, Object obj) {\n",
    "        boolean result = false;\n",
    "        Stack<T> tmp = new ArrayStack<>();\n",
    "        \n",
    "        // pop elements from s until obj is found (but don't pop an empty stack!)\n",
    "        // store popped elements in tmp\n",
    "        while (s.size() > 0 && !result) {\n",
    "            T elem = s.pop();\n",
    "            if (elem.equals(obj)) {\n",
    "                result = true;\n",
    "            }\n",
    "            tmp.push(elem);\n",
    "        }\n",
    "        \n",
    "        // pop elements from tmp back onto s so that the state of\n",
    "        // s appears unchanged to the caller\n",
    "        while (tmp.size() > 0) {\n",
    "            s.push(tmp.pop());\n",
    "        }\n",
    "        return result;\n",
    "    }\n",
    "}"
   ]
  },
  {
   "cell_type": "markdown",
   "metadata": {},
   "source": [
    "Exercises 2-5 can be completed in the previous cell containing the `Stacks` utility class.\n",
    "\n",
    "**Exercise 2** Implement the method `remove(Stack<T> s, Object obj)` that removes the top-most, non-null element equal to `obj` from `s` and returns the removed element or `null` if the element is not in the stack. The order of the remaining elements of the stack should be unchanged after the method finishes.\n",
    "\n",
    "**Exercise 3** Implement the method `removeAll(Stack<T> sObject obj)` that removes all of the non-null elements equal to `obj` from `s` (and returns no value).  The order of the remaining elements of the stack should be unchanged after the method finishes.\n",
    "\n",
    "**Exercise 4** Implement the method `reverse(Stack<T> s)` that reverses the order of the elements in the stack `s` (and returns no value). Assume that `s` does not have its own `reverse` method."
   ]
  },
  {
   "cell_type": "markdown",
   "metadata": {},
   "source": [
    "**Exercise 5** Create the utility class `Queues` that contains generic methods that operate on queues. Implement the following static methods:\n",
    "\n",
    "* `clear(Queue<T> q)`: removes all of the elements from `q`\n",
    "* `enqueueAll(Collection<T> src, Queue<T> dest)`: enqueue all of the elements from `src` into `dest` without removing the elements from `src`\n",
    "* `dequeueAll(Queue<T> src, Collection<T> dest)`: dequeue all of the elements from `src` adding them to the end of `dest`\n",
    "* `contains(Queue<T> q, Object obj)`: returns `true` if `q` has at least one element equal to `obj`, and returns `false` otherwise"
   ]
  },
  {
   "cell_type": "code",
   "execution_count": null,
   "metadata": {},
   "outputs": [],
   "source": [
    "// Exercise 5\n",
    "%classpath add jar ../resources/jar/notes.jar\n",
    "\n",
    "import java.util.Collection;\n",
    "import ca.queensu.cs.cisc124.notes.generics.basics.ArrayQueue;\n",
    "import ca.queensu.cs.cisc124.notes.generics.basics.ArrayStack;\n",
    "import ca.queensu.cs.cisc124.notes.generics.basics.Queue;\n",
    "import ca.queensu.cs.cisc124.notes.generics.basics.Stack;\n",
    "\n"
   ]
  },
  {
   "cell_type": "markdown",
   "metadata": {},
   "source": [
    "**Exercise 6** Repeat Exercises 2-4 for the `Queues` utility class where the methods operate on queues instead of stacks."
   ]
  },
  {
   "cell_type": "code",
   "execution_count": null,
   "metadata": {},
   "outputs": [],
   "source": []
  }
 ],
 "metadata": {
  "kernelspec": {
   "display_name": "Java",
   "language": "java",
   "name": "java"
  },
  "language_info": {
   "codemirror_mode": "text/x-java",
   "file_extension": ".java",
   "mimetype": "",
   "name": "Java",
   "nbconverter_exporter": "",
   "version": "1.8.0_121"
  },
  "toc": {
   "base_numbering": 1,
   "nav_menu": {},
   "number_sections": false,
   "sideBar": false,
   "skip_h1_title": false,
   "title_cell": "Table of Contents",
   "title_sidebar": "Contents",
   "toc_cell": false,
   "toc_position": {},
   "toc_section_display": false,
   "toc_window_display": false
  }
 },
 "nbformat": 4,
 "nbformat_minor": 4
}
