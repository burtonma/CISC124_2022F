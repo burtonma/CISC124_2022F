{
 "cells": [
  {
   "cell_type": "code",
   "execution_count": null,
   "metadata": {},
   "outputs": [],
   "source": [
    "// run this cell to prevent Jupyter from displaying the null output cell\n",
    "com.twosigma.beakerx.kernel.Kernel.showNullExecutionResult = false;"
   ]
  },
  {
   "cell_type": "markdown",
   "metadata": {},
   "source": [
    "<a id=\"notebook_id\"></a>\n",
    "# Wildcard type variables\n",
    "\n",
    "Recall the utility class `Stacks` (repeated in the next cell for convenience) that provides generic methods that operate on stacks:"
   ]
  },
  {
   "cell_type": "code",
   "execution_count": null,
   "metadata": {},
   "outputs": [],
   "source": [
    "%classpath add jar ../resources/jar/notes.jar\n",
    "\n",
    "import java.util.Collection;\n",
    "import ca.queensu.cs.cisc124.notes.generics.intro.Stack;\n",
    "\n",
    "public class Stacks {\n",
    "    \n",
    "    public static <T> void clear(Stack<T> s) {\n",
    "        while (s.size() > 0) {\n",
    "            s.pop();\n",
    "        }\n",
    "    }\n",
    "    \n",
    "    public static <T> void pushAll(Collection<T> src, Stack<T> dest) {\n",
    "        for (T elem : src) {\n",
    "            dest.push(elem);\n",
    "        }\n",
    "    }\n",
    "    \n",
    "    public static <T> void popAll(Stack<T> src, Collection<T> dest) {\n",
    "        while (src.size() > 0) {\n",
    "            dest.add(src.pop());\n",
    "        }\n",
    "    }\n",
    "    \n",
    "    public static <E> boolean contains(Stack<E> s, Object obj) {\n",
    "        boolean result = false;\n",
    "        Stack<E> tmp = new Stack<E>();\n",
    "        \n",
    "        while (s.size() > 0 && !result) {\n",
    "            E elem = s.pop();\n",
    "            if (elem.equals(obj)) {\n",
    "                result = true;\n",
    "            }\n",
    "            tmp.push(elem);\n",
    "        }\n",
    "        \n",
    "        while (tmp.size() > 0) {\n",
    "            s.push(tmp.pop());\n",
    "        }\n",
    "        return result;\n",
    "    }\n",
    "}"
   ]
  },
  {
   "cell_type": "markdown",
   "metadata": {},
   "source": [
    "The class is implemented correctly, but the two methods `pushAll` and `popAll` are somewhat inflexible because the element type of the collection and the stack\n",
    "must match exactly."
   ]
  }
 ],
 "metadata": {
  "kernelspec": {
   "display_name": "Java",
   "language": "java",
   "name": "java"
  },
  "language_info": {
   "codemirror_mode": "text/x-java",
   "file_extension": ".java",
   "mimetype": "",
   "name": "Java",
   "nbconverter_exporter": "",
   "version": "1.8.0_121"
  },
  "toc": {
   "base_numbering": 1,
   "nav_menu": {},
   "number_sections": false,
   "sideBar": false,
   "skip_h1_title": false,
   "title_cell": "Table of Contents",
   "title_sidebar": "Contents",
   "toc_cell": false,
   "toc_position": {},
   "toc_section_display": false,
   "toc_window_display": false
  }
 },
 "nbformat": 4,
 "nbformat_minor": 4
}
