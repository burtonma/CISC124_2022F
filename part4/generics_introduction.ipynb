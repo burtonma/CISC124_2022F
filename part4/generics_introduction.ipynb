{
 "cells": [
  {
   "cell_type": "code",
   "execution_count": null,
   "metadata": {},
   "outputs": [],
   "source": [
    "// run this cell to prevent Jupyter from displaying the null output cell\n",
    "com.twosigma.beakerx.kernel.Kernel.showNullExecutionResult = false;"
   ]
  },
  {
   "cell_type": "markdown",
   "metadata": {},
   "source": [
    "<a id=\"notebook_id\"></a>\n",
    "# Generics: Introduction\n",
    "\n",
    "<div class=\"alert alert-block alert-success\"> \n",
    "    Source code for this notebook can be found in the package <tt>ca.queensu.cisc124.notes.generics.intro</tt>.\n",
    "</div>\n",
    "\n",
    "Java 5 introduced *generics* to the Java language. The introduction of generics was a major undertaking; great care and some significant compromises were made by the designers\n",
    "of the Java language to incorporate generics without breaking the large body of existing Java code.\n",
    "\n",
    "We have already used generic interfaces such as `List`, `Set`, `Map`, and `Comparable` and generic classes such as `ArrayList`, `HashSet`, and `HashMap`. \n",
    "\n",
    "\n",
    "\n",
    "\n",
    "This notebook \n",
    "illustrates why the designers of the Java language introduced generics to the language."
   ]
  },
  {
   "cell_type": "markdown",
   "metadata": {},
   "source": [
    "## Revisiting the `Stack` interface and `ListStack` class\n",
    "\n",
    "The `Stack` interface and `ListStack` class were described in the [Interfaces: Stacks](../part3/interfaces_stacks.ipynb#notebook_id) notebook. The `Stack` interface shown in the following cell\n",
    "describes a data structure representing a stack of strings:"
   ]
  },
  {
   "cell_type": "code",
   "execution_count": null,
   "metadata": {},
   "outputs": [],
   "source": [
    "/**\n",
    " * The {@code Stack} interface represents a last-in-first-out (LIFO) stack of\n",
    " * strings. In addition to the usual push and pop methods, this interface\n",
    " * allows the user to get the number of strings in a stack and to query\n",
    " * if the stack is empty.\n",
    " */\n",
    "public interface Stack {\n",
    "\n",
    "    /**\n",
    "     * Returns the number of elements in this stack.\n",
    "     * \n",
    "     * @return the number of elements in this stack\n",
    "     */\n",
    "    public int size();\n",
    "\n",
    "    /**\n",
    "     * Returns {@code true} if this stack contains no elements. The default\n",
    "     * implementation simply returns {@code size() == 0}.\n",
    "     * \n",
    "     * @return true if this stack contains no elements\n",
    "     */\n",
    "    default boolean isEmpty() {\n",
    "        return this.size() == 0;\n",
    "    }\n",
    "\n",
    "    /**\n",
    "     * Pushes the specified element on to the top of this stack.\n",
    "     * \n",
    "     * @param elem the element to be pushed on to the top of this stack\n",
    "     */\n",
    "    public void push(String elem);\n",
    "\n",
    "    /**\n",
    "     * Removes the element on the top of this stack and returns the element.\n",
    "     * \n",
    "     * @return the top element of this stack\n",
    "     * @throws RuntimeException if the stack is empty\n",
    "     */\n",
    "    public String pop();\n",
    "}"
   ]
  },
  {
   "cell_type": "markdown",
   "metadata": {},
   "source": [
    "`ListStack` is a stack implementation that uses an `ArrayList` to store the elements of the stack:"
   ]
  },
  {
   "cell_type": "code",
   "execution_count": null,
   "metadata": {},
   "outputs": [],
   "source": [
    "import java.util.ArrayList;\n",
    "\n",
    "public class ListStack implements Stack {\n",
    "\n",
    "    private ArrayList<String> stack;\n",
    "    \n",
    "    public ListStack() { \n",
    "        this.stack = new ArrayList<>();\n",
    "    }\n",
    "\n",
    "    @Override \n",
    "    public int size() {\n",
    "        return this.stack.size();\n",
    "    }\n",
    "\n",
    "    @Override\n",
    "    public void push(String elem) {\n",
    "        this.stack.add(elem);\n",
    "    }\n",
    "\n",
    "    @Override\n",
    "    public String pop() {\n",
    "        if (this.isEmpty()) {\n",
    "            throw new RuntimeException(\"popped an empty stack\");\n",
    "        }\n",
    "        String elem = this.stack.remove(this.size() - 1);\n",
    "        return elem;\n",
    "    }\n",
    "\n",
    "    @Override\n",
    "    public String toString() {\n",
    "        StringBuilder b = new StringBuilder(\"Stack:\");\n",
    "        if (this.size() != 0) {\n",
    "            for (int i = this.size() - 1; i >= 0; i--) {\n",
    "                b.append('\\n');\n",
    "                b.append(this.stack.get(i));\n",
    "            }\n",
    "        }\n",
    "        return b.toString();\n",
    "    }\n",
    "}"
   ]
  },
  {
   "cell_type": "markdown",
   "metadata": {},
   "source": [
    "**Exercise 1:** Examine the constructor and the methods of the `ListStack` class. Do any of constructors or methods directly call a `String` method or constructor? (answer follows)"
   ]
  },
  {
   "cell_type": "markdown",
   "metadata": {},
   "source": [
    "While the `ListStack` class represents a stack of strings, none of the constructors or methods directly call a `String` method or constructor. This means that we should be able to\n",
    "implement a stack holding elements of a different type with only very minor modifications to the current `ListStack` implementation."
   ]
  },
  {
   "cell_type": "markdown",
   "metadata": {},
   "source": [
    "**Exercise 2:** Implement a class representing a stack of `Integer` elements. (answer follows)"
   ]
  },
  {
   "cell_type": "code",
   "execution_count": null,
   "metadata": {},
   "outputs": [],
   "source": [
    "// Exericise 2\n",
    "\n",
    "import java.util.ArrayList;\n",
    "\n",
    "public class ListIntStack {\n",
    "    \n",
    "}"
   ]
  },
  {
   "cell_type": "markdown",
   "metadata": {},
   "source": [
    "Implementing a stack-of-integers class requires seven changes to the existing `ListStack` class:\n",
    "\n",
    "1. change the name of the class (so that the different stack classes have different names)\n",
    "2. remove `implements Stack` because the `Stack` interface describes a stack of strings\n",
    "3. change the field type to `ArrayList<Integer>`\n",
    "4. change the constructor name to match the class name\n",
    "5. change the parameter type of `push` to `Integer`\n",
    "6. change the return type of `pop` to `Integer`\n",
    "7. change the type of the local variable `s` in `pop`\n",
    "\n",
    "A fully implemented stack-of-integers class with the modifications marked by comments is shown below:"
   ]
  },
  {
   "cell_type": "code",
   "execution_count": null,
   "metadata": {},
   "outputs": [],
   "source": [
    "import java.util.ArrayList;\n",
    "\n",
    "public class ListIntStack {                                   // 1, 2\n",
    "\n",
    "    private ArrayList<Integer> stack;                         // 3\n",
    "    \n",
    "    public ListIntStack() {                                   // 4\n",
    "        this.stack = new ArrayList<>();\n",
    "    }\n",
    "\n",
    "    public int size() {\n",
    "        return this.stack.size();\n",
    "    }\n",
    "    \n",
    "    public boolean isEmpty() {\n",
    "        return this.size() == 0;\n",
    "    }\n",
    "\n",
    "    public void push(Integer elem) {                          // 5 change method parameter type from String to Integer\n",
    "        this.stack.add(elem);\n",
    "    }\n",
    "\n",
    "    public Integer pop() {                                    // 6 change return type from String to Integer\n",
    "        if (this.isEmpty()) {\n",
    "            throw new RuntimeException(\"popped an empty stack\");\n",
    "        }\n",
    "        Integer elem = this.stack.remove(this.size() - 1);    // 7 change local variable type from String to Integer\n",
    "        return elem;\n",
    "    }\n",
    "\n",
    "    @Override\n",
    "    public String toString() {\n",
    "        StringBuilder b = new StringBuilder(\"Stack:\");\n",
    "        if (this.size() != 0) {\n",
    "            for (int i = this.size() - 1; i >= 0; i--) {\n",
    "                b.append('\\n');\n",
    "                b.append(this.stack.get(i));\n",
    "            }\n",
    "        }\n",
    "        return b.toString();\n",
    "    }\n",
    "}"
   ]
  },
  {
   "cell_type": "markdown",
   "metadata": {},
   "source": [
    "For the moment, ignore the fact that `ListIntStack` no longer implements the `Stack` interface (although this is a significant drawback because we can no longer pass a `ListIntStack`\n",
    "object to a method that takes a `Stack` reference).\n",
    "\n",
    "Focusing on changes 5, 6, and 7, notice that the only modifications required to change the implementation from a stack-of-strings to a stack-of-integers are modifying some type names.\n",
    "It would be easy to create different\n",
    "stack classes for different element types simply by copying `ListStack` and making the modifications described above, but we **really** want to avoid doing so because we would end up duplicating\n",
    "almost all of the code everytime we wanted a stack of some other element type.\n",
    "\n",
    "Before generics were introduced to the Java langauge, code duplication was avoided by implementing a stack of `Object`s:"
   ]
  },
  {
   "cell_type": "code",
   "execution_count": null,
   "metadata": {},
   "outputs": [],
   "source": [
    "import java.util.ArrayList;\n",
    "\n",
    "public class ListObjectStack {\n",
    "\n",
    "    private ArrayList<Object> stack;                         // list of Object\n",
    "    \n",
    "    public ListObjectStack() {\n",
    "        this.stack = new ArrayList<>();\n",
    "    }\n",
    "\n",
    "    public int size() {\n",
    "        return this.stack.size();\n",
    "    }\n",
    "    \n",
    "    public boolean isEmpty() {\n",
    "        return this.size() == 0;\n",
    "    }\n",
    "\n",
    "    public void push(Object elem) {                          // push an object onto the stack\n",
    "        this.stack.add(elem);\n",
    "    }\n",
    "\n",
    "    public Object pop() {                                    // pop an object from the stack\n",
    "        if (this.isEmpty()) {                  // added to satisfy the updated contract of pop\n",
    "            throw new RuntimeException(\"popped an empty stack\");\n",
    "        }\n",
    "        Object elem = this.stack.remove(this.size() - 1);    // remove an object from the end of the list\n",
    "        return elem;\n",
    "    }\n",
    "\n",
    "    @Override\n",
    "    public String toString() {\n",
    "        StringBuilder b = new StringBuilder(\"ObjectStack:\");\n",
    "        if (this.size() != 0) {\n",
    "            for (int i = this.size() - 1; i >= 0; i--) {\n",
    "                b.append('\\n');\n",
    "                b.append(this.stack.get(i));\n",
    "            }\n",
    "        }\n",
    "        return b.toString();\n",
    "    }\n",
    "}"
   ]
  },
  {
   "cell_type": "markdown",
   "metadata": {},
   "source": [
    "Such a solution is inconvenient for the user of the class because the user must cast the reference returned by `pop` if they want to use the reference to invoke a method:"
   ]
  },
  {
   "cell_type": "code",
   "execution_count": null,
   "metadata": {},
   "outputs": [],
   "source": [
    "ListObjectStack stringStack = new ListObjectStack();\n",
    "stringStack.push(\"hello\");\n",
    "stringStack.push(\"konnichiwa\");\n",
    "stringStack.push(\"hallo\");\n",
    "\n",
    "String s = (String) stringStack.pop();      // cast needed because pop returns an Object reference\n",
    "System.out.println(s.toUpperCase());"
   ]
  },
  {
   "cell_type": "markdown",
   "metadata": {},
   "source": [
    "A more significant problem with the stack of `Object` approach is the lack of type safety: *Any* reference can be pushed onto such a stack:"
   ]
  },
  {
   "cell_type": "code",
   "execution_count": null,
   "metadata": {},
   "outputs": [],
   "source": [
    "import java.util.Date;\n",
    "\n",
    "ListObjectStack stringStack = new ListObjectStack();\n",
    "stringStack.push(\"hello\");\n",
    "stringStack.push(\"konnichiwa\");\n",
    "stringStack.push(\"hallo\");\n",
    "stringStack.push(1);                           // works, 1 is autoboxed to an Integer object\n",
    "stringStack.push(new ListObjectStack());       // works\n",
    "stringStack.push(new Date());                  // works\n",
    "System.out.println(stringStack);"
   ]
  },
  {
   "cell_type": "markdown",
   "metadata": {},
   "source": [
    "In the example above, `stringStack` is a stack that contains references to three `String` objects, an `Integer` object, a `Stack` object, and a `Date` object. There is no way\n",
    "for the programmer to prevent non-string references from being pushed onto the stack.\n",
    "\n",
    "The lack of type safety makes it impossible to write type-safe methods. The following cell shows a method that sums the elements of a stack assuming that the elements\n",
    "in the stack are all castable to the type `Integer`:"
   ]
  },
  {
   "cell_type": "code",
   "execution_count": null,
   "metadata": {},
   "outputs": [],
   "source": [
    "public class Sum {\n",
    "    \n",
    "    /**\n",
    "     * Returns the sum of the elements in a stack of int (or byte, char, short) or\n",
    "     * zero if the stack is empty. Removes all elements from the specified stack.\n",
    "     *\n",
    "     * <p>\n",
    "     * The returned sum may overflow the range of int.\n",
    "     *\n",
    "     * @param intStack a stack of Integer\n",
    "     * @return the sum of the elements in the stack\n",
    "     * @throws ClassCastException if the stack contains non-Integer references\n",
    "     */\n",
    "    public static int sumAndClear(ListObjectStack intStack) {\n",
    "        int sum = 0;\n",
    "        while (intStack.size() > 0) {\n",
    "            Object elem = intStack.pop();\n",
    "            sum += (Integer) elem;      // cast needed because pop returns an Object reference\n",
    "        }\n",
    "        return sum;\n",
    "    }\n",
    "}"
   ]
  },
  {
   "cell_type": "markdown",
   "metadata": {},
   "source": [
    "The method works fine if the stack contains only `Integer` references:"
   ]
  },
  {
   "cell_type": "code",
   "execution_count": null,
   "metadata": {},
   "outputs": [],
   "source": [
    "ListObjectStack s = new ListObjectStack();\n",
    "s.push(1);\n",
    "s.push(2);\n",
    "s.push(3);\n",
    "System.out.println(Sum.sumAndClear(s));"
   ]
  },
  {
   "cell_type": "markdown",
   "metadata": {},
   "source": [
    "However, the method fails at *runtime* if it is passed a stack containing a non-`Integer` reference because the cast fails (run the next cell to see the error):"
   ]
  },
  {
   "cell_type": "code",
   "execution_count": null,
   "metadata": {},
   "outputs": [],
   "source": [
    "ListObjectStack s = new ListObjectStack();\n",
    "s.push(1);\n",
    "s.push(\"hello\");\n",
    "s.push(2);\n",
    "System.out.println(Sum.sumAndClear(s));"
   ]
  },
  {
   "cell_type": "markdown",
   "metadata": {},
   "source": [
    "The Jupyter notebook obscures the fact that the previous example compiles cleanly (without even a warning). The programmer has no indication that there is an error in their code until the program is run.\n",
    "\n",
    "The next notebook illustrates how to use Java's generics facility to provide a typesafe way to create a generic class that avoids code duplication."
   ]
  },
  {
   "cell_type": "code",
   "execution_count": null,
   "metadata": {},
   "outputs": [],
   "source": []
  }
 ],
 "metadata": {
  "kernelspec": {
   "display_name": "Java",
   "language": "java",
   "name": "java"
  },
  "language_info": {
   "codemirror_mode": "text/x-java",
   "file_extension": ".java",
   "mimetype": "",
   "name": "Java",
   "nbconverter_exporter": "",
   "version": "1.8.0_121"
  },
  "toc": {
   "base_numbering": 1,
   "nav_menu": {},
   "number_sections": false,
   "sideBar": false,
   "skip_h1_title": false,
   "title_cell": "Table of Contents",
   "title_sidebar": "Contents",
   "toc_cell": false,
   "toc_position": {},
   "toc_section_display": false,
   "toc_window_display": false
  }
 },
 "nbformat": 4,
 "nbformat_minor": 4
}
