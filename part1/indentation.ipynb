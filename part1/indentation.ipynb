{
 "cells": [
  {
   "cell_type": "code",
   "execution_count": null,
   "metadata": {},
   "outputs": [],
   "source": [
    "// run this cell to prevent Jupyter from displaying the null output cell\n",
    "com.twosigma.beakerx.kernel.Kernel.showNullExecutionResult = false;"
   ]
  },
  {
   "cell_type": "markdown",
   "metadata": {},
   "source": [
    "# Indentation\n",
    "\n",
    "There is a fundamental difference in the use of indentation between Python and Java.\n",
    "\n",
    "## Python\n",
    "\n",
    "Recall that Python uses indentation at the beginning of a line to group statements. A continuous sequence of one or more statements having the same indentation are said to have the same indentation level."
   ]
  },
  {
   "cell_type": "code",
   "execution_count": null,
   "metadata": {},
   "outputs": [],
   "source": [
    "%%python\n",
    "\n",
    "n = int(18)        # change the value of n, does the loop always stop?\n",
    "print('Starting value of n: ' + str(n))\n",
    "while n != 1:\n",
    "    if n % 2 == 0:\n",
    "        n = n // 2\n",
    "    else:\n",
    "        n = 3 * n + 1\n",
    "    print(n)"
   ]
  },
  {
   "cell_type": "markdown",
   "metadata": {},
   "source": [
    "In the preceding example, changing the indentation level of the `print(n)` statement inside the loop changes the produced output. Increasing the indentation level by 1 prints the value of `n` only when the value of `n` is odd at the start of the current loop iteration. Decreasing the indentation level by 1 prints the value of `n` after the loop has completed running."
   ]
  },
  {
   "cell_type": "markdown",
   "metadata": {},
   "source": [
    "## Java\n",
    "\n",
    "Java considers indentation at the beginning of a line containing a statement to be simply whitespace having no significance. Java programmers use indentation to improve the readability of their of code but no syntax errors are caused by the lack of or over use of indentation.\n",
    "\n",
    "Java uses braces `{}` to group statements. One or more statements placed within a pair of braces is said to form a _block_. Statements within a block are usually indented for readability. The Python code example shown above could be rewritten in Java like so:"
   ]
  },
  {
   "cell_type": "code",
   "execution_count": null,
   "metadata": {},
   "outputs": [],
   "source": [
    "int n = 18;\n",
    "System.out.println(\"Starting value of n: \" + n);\n",
    "while (n != 1) {\n",
    "    if (n % 2 == 0) {\n",
    "        n = n / 2;\n",
    "    }\n",
    "    else {\n",
    "        n = 3 * n + 1;\n",
    "    }\n",
    "    System.out.println(n);\n",
    "}"
   ]
  },
  {
   "cell_type": "markdown",
   "metadata": {},
   "source": [
    "As mentioned earlier, whitespace at the beginning of a line starting a statement is not meaningful in Java; the preceding example will compile and run even if it is written like so:"
   ]
  },
  {
   "cell_type": "code",
   "execution_count": null,
   "metadata": {},
   "outputs": [],
   "source": [
    "                                                                                int n = 18;\n",
    "System.out.println(\"Starting value of n: \" + n);\n",
    "while (n != 1) {\n",
    "if (n % 2 == 0) {\n",
    "n = n / 2;\n",
    "}\n",
    "                                else {\n",
    "n = 3 * n + 1;\n",
    "        }\n",
    "    System.out.println(n);\n",
    "}"
   ]
  },
  {
   "cell_type": "markdown",
   "metadata": {},
   "source": [
    "Hopefully you agree that consistent indenting of blocks and statements within blocks makes Java code easier to read. Most Java editing programs have the capability to prettify (syntactically correct) Java code so that the indentation and placement of braces is consistent throughout a Java file and the reader is encouraged to make use of such tools."
   ]
  }
 ],
 "metadata": {
  "kernelspec": {
   "display_name": "Java",
   "language": "java",
   "name": "java"
  },
  "language_info": {
   "codemirror_mode": "text/x-java",
   "file_extension": ".java",
   "mimetype": "",
   "name": "Java",
   "nbconverter_exporter": "",
   "version": "1.8.0_121"
  },
  "toc": {
   "base_numbering": 1,
   "nav_menu": {},
   "number_sections": false,
   "sideBar": false,
   "skip_h1_title": false,
   "title_cell": "Table of Contents",
   "title_sidebar": "Contents",
   "toc_cell": false,
   "toc_position": {},
   "toc_section_display": false,
   "toc_window_display": false
  }
 },
 "nbformat": 4,
 "nbformat_minor": 4
}
