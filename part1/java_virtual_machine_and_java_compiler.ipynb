{
 "cells": [
  {
   "cell_type": "code",
   "execution_count": null,
   "metadata": {},
   "outputs": [],
   "source": [
    "// run this cell to prevent Jupyter from displaying the null output cell\n",
    "com.twosigma.beakerx.kernel.Kernel.showNullExecutionResult = false;"
   ]
  },
  {
   "cell_type": "markdown",
   "metadata": {},
   "source": [
    "<a id='notebook_id'></a>\n",
    "# The Java Virtual Machine and Java compiler\n",
    "\n",
    "From [The Java® Virtual Machine Specification](https://docs.oracle.com/javase/specs/jvms/se11/html/jvms-1.html#jvms-1.1):\n",
    "\n",
    "> The Java platform was initially developed to address the problems of building software for networked consumer devices. It was designed to support multiple host architectures and to allow secure delivery of software components. To meet these requirements, compiled code had to survive transport across networks, operate on any client, and assure the client that it was safe to run.\n",
    "\n",
    "One of the goals of the Java language creators was to create a general purpose language that could be used to write a program once and have that program run on a wide variety of computers without requiring any extra work from the programmer; the slogan \"Write once, run everywhere\" was created to advertise the cross-platform capabilities of the Java language.\n",
    "\n",
    "For some historical perspective, the main competing general purpose programming languages at the time when the Java language was invented were C and C++. In C and C++, a simple program could be written once but it would have to be converted to a runnable form for each different computing platform; this required a separate toolchain and often programmers for every platform that a developer wanted to release their software on. This is still true today which is one of the reasons why many software applications are available exclusively on a single platform."
   ]
  },
  {
   "cell_type": "markdown",
   "metadata": {},
   "source": [
    "## The Java Virtual Machine\n",
    "\n",
    "The Java Virtual Machine (JVM) is the cornerstone of the Java platform. The Java language creators got around the problem of dealing with the differences in multiple computing platforms by defining a single abstract computing machine called the JVM and a programming language called Java for that particular machine. Instead of having to customize their program for multiple different platforms, a developer could write a program in Java knowing that their program would always run on a JVM.\n",
    "\n",
    "Most implementations of the JVM are in fact virtual; that is, the vast majority of JVMs are computer programs that simulate a computing machine meeting the [JVM specifications](https://docs.oracle.com/javase/specs/jvms/se11/html/jvms-1.html). The problem of developing software for multiple different computing platforms was transformed into the problem of implementing a JVM for multiple computing platforms, but implementing and maintaining the JVMs could be done once by a small number of organizations.\n",
    "\n",
    "The JVM is a machine specification which means that it is possible to create other languages that can run on a JVM; it is even possible to create implementations of existing languages such as Python that can run on a JVM. The [Wikipedia List of JVM languges page](https://en.wikipedia.org/wiki/List_of_JVM_languages) documents many of the languages that can currently run on a JVM."
   ]
  },
  {
   "cell_type": "markdown",
   "metadata": {},
   "source": [
    "## The Java compiler\n",
    "\n",
    "The Java language is called a *high-level language* because it does not require the programmer to directly interact with the low-level machine specific details such as directly invoking machine specific instructions or directly accessing specific areas of memory. Instead, the language provides human readable constructs such as named variables, conditional statements, loops, and object creation for the programmer to use to create Java source code.\n",
    "\n",
    "A runnable version of a program is made up of machine instructions so the human readable Java source code must be converted into machine instructions. The conversion is performed by a computer program called the Java *compiler*. In general, a compiler is a computer program that translates code written in one language to another language. The Java compiler translates Java source code into a language called *byte code*.\n",
    "\n",
    "Byte code is made up of the instructions that the JVM can recognize and execute. As of 2015, the JVM uses 202 different instructions; any program that runs on a JVM is made up of some combination of these 202 instructions. Compared to Java, byte code is a low-level language; it is less readable for humans and deals with operations that occur at the machine level. A [list of Java byte code instructions can be found here](https://en.wikipedia.org/wiki/Java_bytecode_instruction_listings) for curious readers.\n",
    "\n",
    "A Java compiler might perform the following main steps:\n",
    "\n",
    "1. Reads the source code file separating the text of the file into tokens. Tokens include program elements such as keywords, operators, class and variable names, whitespace, semi-colons, and literals.\n",
    "2. Analyzes the sequence of tokens to determine if the source code follows the rules of Java language.  For example, if a programmer started the \"Hello, world!\" program with:\n",
    "```java\n",
    "HelloWorld class\n",
    "```\n",
    "instead of\n",
    "```java\n",
    "class HelloWorld\n",
    "```\n",
    "the compiler might generate an error message like so:\n",
    "```\n",
    "HelloWorld.java:3: error: class, interface, or enum expected\n",
    "HelloWorld class {\n",
    "^\n",
    "HelloWorld.java:3: error: <identifier> expected\n",
    "HelloWorld class {\n",
    "                ^\n",
    "2 errors\n",
    "```\n",
    "The first error indicates that the keyword `class` was expected where `HelloWorld` appears and the second error indicates that an identifier (the class name) is expected after the keyword `class`.\n",
    "3. Determine if the program is meaningful. Just as it is possible to write a non-sensical English sentence that follows all of the rules of grammar (e.g., [*Colorless green ideas sleep furiously*](https://en.wikipedia.org/wiki/Colorless_green_ideas_sleep_furiously)) it is possible to write a Java statement that is not meaningful even though it follows the rules of the Java language. For example, the statement\n",
    "```java\n",
    "x = \"this might be an error\";\n",
    "```\n",
    "is a grammatically correct assignment statement in Java but it is non-sensical if the type of `x` is not `String`. If any errors are found the compiler stops, reports the error or errors that were found, and compilation fails.\n",
    "4. After the program is determined to be meaningful, the compiler can translate the Java code into bytecode and output the result as a *class file*.\n",
    "\n",
    "It is important to re-emphasize that the bytecode output by the Java compiler is platform independent meaning that it can be run on *any* JVM regardless of the computer or operating system that the JVM is running on."
   ]
  },
  {
   "cell_type": "markdown",
   "metadata": {},
   "source": [
    "## Compiling and running `HelloWorld.java`\n",
    "\n",
    "Recall the \"Hello, world!\" Java program:\n",
    "\n",
    "```java\n",
    "class HelloWorld {\n",
    "\n",
    "    public static void main(String... args) {\n",
    "        System.out.println(\"Hello, world!\");\n",
    "    }\n",
    "}\n",
    "```\n",
    "\n",
    "Somewhere on their file system, the programmer will have saved this program as a file named `HelloWorld.java`. The programmer can now attempt to compile the file `HelloWorld.java`. The Java SE compiler is a program called `javac`. Assuming that a Java Development Kit (JDK) has been installed and configured on your computer, the compiler can be run from the command line in the directory containing the file `HelloWorld.java` like so:\n",
    "\n",
    "```\n",
    "javac HelloWorld.java\n",
    "```\n",
    "\n",
    "If compilation is successful then a class file named `HelloWorld.class` will be written by the compiler into the working directory. The class file contains the bytecode of the program. The class file can be copied and distributed to anyone and run on any JVM.\n",
    "\n",
    "Assuming that a JDK or Java Runtime Environment (JRE) has been installed and configured on your computer, the program can be run on a JVM from the command line containing the class file like so:\n",
    "\n",
    "```\n",
    "java HelloWorld\n",
    "```\n",
    "\n",
    "The program `java` is called the Java application launcher. It starts the \"Hello, world!\" program by starting a JVM, loading the `HelloWorld` class, and calling the `main` method of the `HelloWorld` class.\n",
    "\n",
    "The [Interpreted versus compiled languages](./interpreted_vs_compiled.ipynb#notebook_id) notebook contains detailed instructions and a video showing the reader how to manually compile and run the \"Hello, world!\" program."
   ]
  },
  {
   "cell_type": "code",
   "execution_count": null,
   "metadata": {},
   "outputs": [],
   "source": []
  }
 ],
 "metadata": {
  "kernelspec": {
   "display_name": "Java",
   "language": "java",
   "name": "java"
  },
  "language_info": {
   "codemirror_mode": "text/x-java",
   "file_extension": ".java",
   "mimetype": "",
   "name": "Java",
   "nbconverter_exporter": "",
   "version": "1.8.0_121"
  },
  "toc": {
   "base_numbering": 1,
   "nav_menu": {},
   "number_sections": false,
   "sideBar": false,
   "skip_h1_title": false,
   "title_cell": "Table of Contents",
   "title_sidebar": "Contents",
   "toc_cell": false,
   "toc_position": {},
   "toc_section_display": false,
   "toc_window_display": false
  }
 },
 "nbformat": 4,
 "nbformat_minor": 4
}
