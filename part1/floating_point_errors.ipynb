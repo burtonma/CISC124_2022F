{
 "cells": [
  {
   "cell_type": "code",
   "execution_count": null,
   "metadata": {},
   "outputs": [],
   "source": [
    "// run this cell to prevent Jupyter from displaying the null output cell\n",
    "com.twosigma.beakerx.kernel.Kernel.showNullExecutionResult = false;"
   ]
  },
  {
   "cell_type": "markdown",
   "metadata": {},
   "source": [
    "<a id='notebook_id'></a>\n",
    "# Floating-point errors\n",
    "\n",
    "The fact that there are a finite number of floating-point values but an infinite number of real values implies that\n",
    "the result of a floating-point computation will almost always contain some error from the true result. This notebook\n",
    "describes some basic ideas in measuring floating-point errors, why errors occur when performing basic arithmetic,\n",
    "and how to reduce or avoid such errors.\n",
    "\n",
    "Throughout this notebook we use the three digit base-10 floating-point format described in the\n",
    "[Representing real numbers on a computer](./floating_point_representation.ipynb#notebook_id) notebook.\n",
    "\n",
    "This notebook is [based on the article](https://docs.oracle.com/cd/E19957-01/800-7895/800-7895.pdf)\n",
    "*What Every Computer Scientist Should Know About Floating-Point Arithmetic* or WECSSKAFPA for short.\n"
   ]
  },
  {
   "cell_type": "markdown",
   "metadata": {},
   "source": [
    "## Rounding error\n",
    "\n",
    "When performing arithmetic with floating-point values, most calculations will produce quantities that cannot be exactly\n",
    "represented (for example, see Exercise 13 of the [Representing real numbers on a computer](./floating_point_representation.ipynb#notebook_id) notebook). For example, the value $0.1$ cannot be represented exactly using a Java `double`; therefore, it is not too surprising that the following\n",
    "program prints `false`:"
   ]
  },
  {
   "cell_type": "code",
   "execution_count": 3,
   "metadata": {},
   "outputs": [
    {
     "name": "stdout",
     "output_type": "stream",
     "text": [
      "false\n"
     ]
    },
    {
     "data": {
      "text/plain": [
       "null"
      ]
     },
     "execution_count": 3,
     "metadata": {},
     "output_type": "execute_result"
    }
   ],
   "source": [
    "double sum = 0.1 + 0.1 + 0.1;\n",
    "System.out.println(sum == 0.3);"
   ]
  },
  {
   "cell_type": "markdown",
   "metadata": {},
   "source": [
    "However, the following example prints `true`:"
   ]
  },
  {
   "cell_type": "code",
   "execution_count": 4,
   "metadata": {},
   "outputs": [
    {
     "name": "stdout",
     "output_type": "stream",
     "text": [
      "true\n"
     ]
    },
    {
     "data": {
      "text/plain": [
       "null"
      ]
     },
     "execution_count": 4,
     "metadata": {},
     "output_type": "execute_result"
    }
   ],
   "source": [
    "double sum = 0.1 + 0.1;\n",
    "System.out.println(sum == 0.2);"
   ]
  },
  {
   "cell_type": "markdown",
   "metadata": {},
   "source": [
    "as does the next example:"
   ]
  },
  {
   "cell_type": "code",
   "execution_count": 5,
   "metadata": {},
   "outputs": [
    {
     "name": "stdout",
     "output_type": "stream",
     "text": [
      "true\n"
     ]
    },
    {
     "data": {
      "text/plain": [
       "null"
      ]
     },
     "execution_count": 5,
     "metadata": {},
     "output_type": "execute_result"
    }
   ],
   "source": [
    "double sum = 0.1 + 0.1 + 0.1 + 0.1 + 0.1;\n",
    "System.out.println(sum == 0.5);"
   ]
  },
  {
   "cell_type": "markdown",
   "metadata": {},
   "source": [
    "In the first example, the rounding errors that accumulate in the sum produce a value that is not quite equal to the floating-point\n",
    "value closest to 0.3 (which also cannot be represented exactly). In the second example, the rounding errors that accumulate in the sum\n",
    "produce a value that is equal to the floating-point value closest to 0.2 (which also cannot be represented exactly).\n",
    "In the third example, the rounding errors that accumulate in the sum\n",
    "produce a value that is equal to the floating-point value closest to 0.5 (which can be represented exactly).\n",
    "\n",
    "To be clear, the computed sums are very close to their expected values, but the reader should recognize that it is difficult\n",
    "to predict the exact result of most floating-point calculations."
   ]
  },
  {
   "cell_type": "markdown",
   "metadata": {},
   "source": [
    "## Measuring error\n",
    "\n",
    "The magnitude of rounding error or error in general is usually measured using *ulps* or *relative error*.\n",
    "\n",
    "### Ulps\n",
    "\n",
    "Ulps is shorthand for *units in the last place*. When using ulps, we need to consider the format of the floating-point\n",
    "representation that we are using. For this notebook, assume that we have a base-10 floating-point format with $p=3$ significant digits (similar to\n",
    "the format used in the previous notebook) and normalized values.\n",
    "\n",
    "Suppose that we perform some calculation that produces the floating-point result $x$ and we know that the correct or true\n",
    "result is the floating-point value $\\hat{x}$. If we write $\\hat{x}$ as a significand $s$\n",
    "\n",
    "$$s = \\pm\\boxed{d_1}\\boxed{d_2}\\boxed{d_3}$$\n",
    "\n",
    "and an exponent $e$ then 1 ulp is equal to $1 \\times 10^e$. In other words, 1 ulp is the spacing between two consecutive floating-point\n",
    "values for some exponent $e$. For example, $\\hat{x}=1.29$ has the significand:\n",
    "\n",
    "$$s = \\boxed{1}\\boxed{2}\\boxed{9}$$\n",
    "\n",
    "and exponent $e=-2$. The closest floating-point value to $\\hat{x}$ is $1.30$ which has the significand:\n",
    "\n",
    "$$s = \\boxed{1}\\boxed{3}\\boxed{0}$$\n",
    "\n",
    "and exponent $e=-2$. The difference between the two values is 1 unit in the last place of the significand which has a magnitude of $1 \\times 10^{-2}$.\n",
    "\n",
    "The error in ulps between a computed value $x$ and its true value $\\hat{x}$ is the absolute value of the difference between\n",
    "$\\hat{x}$ and $x$:\n",
    "\n",
    "$$\\text{err} = \\left| \\hat{x} - x \\right|$$\n",
    "\n",
    "expressed as a multiple of $10^e$ where $e$ is the exponent of the floating-point representation of $\\hat{x}$. When computing\n",
    "the difference, assume that $\\hat{x}$ and $x$ are real values so that the error is also a real value.\n",
    "\n",
    "For example, suppose $\\hat{x}=1.29$ and $x=1.25$; then:\n",
    "\n",
    "$$\\begin{split}\n",
    "\\text{err} & = \\left| \\hat{x} - x \\right| \\\\\n",
    "           & = \\left| 1.29 - 1.25 \\right| \\\\\n",
    "           & = 0.04 \\\\\n",
    "           & = 4 \\times 10^{-2} \\quad \\text{difference expressed using the exponent of} \\ \\hat{x} \\\\\n",
    "           & = 4\\ \\text{ulps}\n",
    "\\end{split}$$\n",
    "\n",
    "In this example, we say that the error is equal to 4 ulps (units in the last place). Notice that the difference is expressed\n",
    "using the exponent of the floating-point representation of $\\hat{x} = 129 \\times 10^{-2}$.\n",
    "\n",
    "Notice that the location of the decimal point does not affect the number of ulps of error. For example, if $x = 125$ and $\\hat{x} = 129$ then\n",
    "the error is also 4 ulps (even though the absolute error is 100 times greater than in the previous example).\n",
    "\n",
    "It is important to remember that we always use the exponent of the true value $\\hat{x}$ to compute an error in ulps. \n",
    "For example, suppose $\\hat{x}=12.1$ and $x=0.5$; then:\n",
    "\n",
    "$$\\begin{split}\n",
    "\\text{err} & = \\left| \\hat{x} - x \\right| \\\\\n",
    "           & = \\left| 12.1 - 0.5 \\right| \\\\\n",
    "           & = 11.6 \\\\\n",
    "           & = 116 \\times 10^{-1} \\quad \\text{difference expressed using the exponent of} \\ \\hat{x} \\\\\n",
    "           & = 116\\ \\text{ulps}\n",
    "\\end{split}$$\n",
    "\n",
    "Here, we used the fact that $\\hat{x}$ has the floating-point representation $121 \\times 10^{-1}$.\n",
    "\n",
    "If we know the $\\hat{x}$ as a real value, then we can still measure error in ulps. Simply use the exponent\n",
    "needed to express $\\hat{x}$ using $p$ significant digits to the left of the decimal place.\n",
    "For example, if the floating-point format has $3$ digits in the significand and $\\hat{x} = 59287.5603$ then:\n",
    "\n",
    "$$\\begin{split}\n",
    "\\hat{x} & = 59287.5603 \\\\\n",
    "        & = 592.875603 \\times 10^{2} \\quad \\text{3 significant digits to the left of the decimal place}\n",
    "\\end{split}$$\n",
    "\n",
    "and 1 ulp is equal to $1 \\times 10^{2}$. If $x = 58900$ is the floating-point approximation of $\\hat{x}$ then the error in ulps is\n",
    "\n",
    "$$\\begin{split}\n",
    "\\text{err} & = \\left| \\hat{x} - x \\right| \\\\\n",
    "           & = \\left| 59287.5603 - 58900 \\right| \\\\\n",
    "           & = 387.5603 \\\\\n",
    "           & = 3.875603 \\times 10^{2} \\\\\n",
    "           & = 3.875603\\ \\text{ulps}\n",
    "\\end{split}$$\n",
    "\n",
    "If $\\hat{x} = 0.035652$ then:\n",
    "\n",
    "$$\\begin{split}\n",
    "\\hat{x} & = 0.035652 \\\\\n",
    "        & = 356.52 \\times 10^{-4}\n",
    "\\end{split}$$\n",
    "\n",
    "then 1 ulp is equal to $1 \\times 10^{-4}$. If $x = 343 \\times 10^{-4}$ is the floating-point approximation of $\\hat{x}$ then the error in ulps is\n",
    "\n",
    "$$\\begin{split}\n",
    "\\text{err} & = \\left| \\hat{x} - x \\right| \\\\\n",
    "           & = \\left| 356.52 \\times 10^{-4} - 343 \\times 10^{-4} \\right| \\\\\n",
    "           & = 13.53 \\times 10^{-4} \\\\\n",
    "           & = 13.53\\ \\text{ulps}\n",
    "\\end{split}$$\n",
    "\n",
    "\n",
    "**Exercise 1** For each pair of exact values $\\hat{x}$ and floating-point values $x$ compute the error in ulps.\n",
    "\n",
    "| exact value $\\hat{x}$ | floating-point value $x$ |\n",
    "| :--- | :--- |\n",
    "| 0.129 | 0.125 |\n",
    "| 3.1416 | 3.1 |\n",
    "| 0.9 | 5.78|\n",
    "| 9.9999 | 10.0 |\n",
    "\n",
    "**Exercise 2** 1 ulp is the distance between two consecutive floating-point values. If a true value $\\hat{x}$ is exactly half way between\n",
    "two consecutive floating-point values, what is the smallest possible rounding error in ulps?\n",
    "\n",
    "**Exercise 3** If a true value $\\hat{x}$ is *not* exactly half way between\n",
    "two consecutive floating-point values, what can you say about the magnitude of the smallest possible rounding error in ulps?"
   ]
  },
  {
   "cell_type": "markdown",
   "metadata": {},
   "source": [
    "### Relative error\n",
    "\n",
    "*Relative error* is defined as the difference between the true value and the floating-point value divided by true value; i.e.\n",
    "\n",
    "$$\\text{relative error} = \\left| \\frac{\\hat{x} - x}{\\hat{x}} \\right|$$\n",
    "\n",
    "For example, when $x=1.2345$ and $\\hat{x} = 1.2349$ the relative error is $0.0004 / 1.2349 \\approx 0.0003239$. Note that relative\n",
    "error is computed using real arithmetic instead of floating-point arithmetic; therefore, there is no need to consider the format\n",
    "of the floating-point type being used.\n",
    "\n",
    "As with ulps, the location of the decimal point does not affect the magnitude of the relative error. For example, whe\n",
    "when $x=1234.5$ and $\\hat{x} = 1234.9$ the relative error is $0.4 / 1234.9 \\approx 0.0003239$.\n",
    "\n",
    "Because of the division by $\\hat{x}$, relative error can be very high when $\\hat{x}$ is small even if the absolute error $\\left| \\hat{x} - x \\right|$\n",
    "is small.\n",
    "\n",
    "**Exercise 4** Compute the relative errors for the values in Exercise 1.\n",
    "\n",
    "**Exercise 5** What does a relative error equal to 1 mean? What does a relative error equal to 2 mean? What does a relative error equal to 3 mean? "
   ]
  },
  {
   "cell_type": "markdown",
   "metadata": {},
   "source": [
    "## Adding/subtracting two values\n",
    "\n",
    "Adding or subtracting two floating-point values is fairly straightforward when the two operands have the same exponent. In many cases, adding or\n",
    "subtracting the significands and copying the exponent yields the correct answer. For example, if $x=4.76$ and $y=3.23$ then $x+y$ is equal to:\n",
    "\n",
    "$$\\begin{split}\n",
    "x & : s = \\boxed{4}\\boxed{7}\\boxed{6}\\quad e = -2 \\\\\n",
    "y & : s = \\boxed{3}\\boxed{2}\\boxed{3}\\quad e = -2 \\\\\n",
    "x + y & : s = \\boxed{7}\\boxed{9}\\boxed{9}\\quad e = -2 \\\\\n",
    "\\end{split}$$\n",
    "\n",
    "Instead of drawing the significand, we can simply write the sum as:\n",
    "\n",
    "$$\\begin{split}\n",
    "x & = 476 \\times 10^{-2} \\\\\n",
    "y & = 323 \\times 10^{-2} \\\\\n",
    "x + y &= 799 \\times 10^{-2}\n",
    "\\end{split}$$\n",
    "\n",
    "Subtraction when both operands have the same exponent works similarly to addition.\n",
    "\n",
    "If a sum produces a fourth digit at the front of the significand, then for our purposes, the sum is computed using four digits and the final result is\n",
    "rounded to fit into a three digit significand. For example, if $x=92.8$ and $y=37.8$ then $x+y$ is equal to:\n",
    "\n",
    "$$\\begin{split}\n",
    "x & : s = \\quad \\boxed{9}\\boxed{2}\\boxed{8}\\quad e = -1 \\\\\n",
    "y & : s = \\quad \\boxed{3}\\boxed{7}\\boxed{8}\\quad e = -1 \\\\\n",
    "x + y & : s = \\boxed{1}\\boxed{3}\\boxed{0}\\boxed{6}\\quad e = -1 \\quad \\text{intermediate result} \\\\\n",
    "      & : s = \\quad \\boxed{1}\\boxed{3}\\boxed{1}\\quad e = 0 \\quad \\text{final result (notice the adjusted exponent!)}\n",
    "\\end{split}$$\n",
    "\n",
    "or:\n",
    "\n",
    "$$\\begin{split}\n",
    "x & = 928 \\times 10^{-1} \\\\\n",
    "y & = 378 \\times 10^{-1} \\\\\n",
    "x + y & = 1306 \\times 10^{-1} \\quad \\text{intermediate result} \\\\\n",
    "      & = 131 \\times 10^{0} \\quad \\text{final result}\n",
    "\\end{split}$$\n",
    "\n",
    "If the exponents of the two operands are different then the operand with the smaller exponent is converted to a value having the same\n",
    "exponent as the operand with the greater exponent. For example, if $x=4,320,000.$ and $y=12.1$ then $x+y$ is equal to:\n",
    "\n",
    "$$\\begin{split}\n",
    "x & = 432 \\times 10^{4} \\\\\n",
    "y & = 000.00121 \\times 10^{4} \\\\\n",
    "x + y & = 432.00121 \\times 10^{4} \\quad \\text{intermediate result} \\\\\n",
    "      & = 432 \\times 10^{4} \\quad \\text{final result}\n",
    "\\end{split}$$\n",
    "\n",
    "In the above example, eight digits are required to compute the exact result. Using extra digits to compute the intermediate\n",
    "sum or difference exactly is not practical in computer hardware; floating-point hardware normally operates using a fixed number\n",
    "of digits.\n",
    "\n",
    "Instead of using extra digits, suppose that we keep only the three digits that fit in the significand after scaling the operand with the smaller\n",
    "exponent. The above calculation then becomes:\n",
    "\n",
    "$$\\begin{split}\n",
    "x & = 432 \\times 10^{4} \\\\\n",
    "y & = 000 \\times 10^{4} \\quad \\text{discard extra digits} \\\\\n",
    "x + y & = 432 \\times 10^{4}\n",
    "\\end{split}$$\n",
    "\n",
    "which produces the same result compared to computing an exact intermediate sum or difference. But this is not always the case.\n",
    "For example, if $x=10.5$ and $y=9.98$ then $z = x-y$ is equal to:\n",
    "\n",
    "$$\\begin{split}\n",
    "x & = 105 \\times 10^{-1} \\\\\n",
    "y & = 099 \\times 10^{-1} \\quad \\text{discard extra digits} \\\\\n",
    "x - y & = 006 \\times 10^{-1}\n",
    "\\end{split}$$\n",
    "\n",
    "or $z = 600 \\times 10^{-3}$ when converted to its normalized form. The true result is $\\hat{z} = 520 \\times 10^{-3}$ which is an\n",
    "error of 80 ulps.\n",
    "\n",
    "**Exercise 6** Compute the relative error in the above example.\n",
    "\n",
    "**Exercise 7** The worst relative error when computing a difference of two different values occurs when the two values are almost\n",
    "equal. What is the relative error when computing the value $x-y$ when $x=10.0$ and $y=9.99$ and the floating-point values\n",
    "have three digits in the significand?"
   ]
  },
  {
   "cell_type": "markdown",
   "metadata": {},
   "source": [
    "### Guard digits\n",
    "\n",
    "As illustrated in the previous section, adding or subtracting two floating-point values can be inaccurate when the operands have\n",
    "different orders of magnitude. Although it is impractical to add many extra digits to compute the intermediate result, it is possible\n",
    "to add a small number of extra called *guard digits*. Even adding a single guard digit improves the error dramatically.\n",
    "For example, if $x=10.5$ and $y=9.98$ then $z = x-y$ is equal to:\n",
    "\n",
    "$$\\begin{split}\n",
    "x & = 105.0 \\times 10^{-1} \\quad \\text{digit after decimal point is the guard digit} \\\\\n",
    "y & = 099.8 \\times 10^{-1} \\quad \\text{digit in smaller value preserved by guard digit} \\\\\n",
    "x - y & = 005.2 \\times 10^{-1} \\\\\n",
    "      & = 520 \\times 10^{-3} \\quad \\text{convert to normalized form and round}\n",
    "\\end{split}$$\n",
    "\n",
    "which matches the true result of $\\hat{z} = 520 \\times 10^{-3}$.\n",
    "\n",
    "Guard digits cannot eliminate rounding error. For example, if $x=110$ and $y=8.59$ then $z = x-y$ is equal to:\n",
    "\n",
    "$$\\begin{split}\n",
    "x & = 110.0 \\times 10^{0} \\quad \\text{digit after decimal point is the guard digit} \\\\\n",
    "y & = 008.5 \\times 10^{0} \\quad \\text{digit past the guard digit is discarded} \\\\\n",
    "x - y & = 101.5 \\times 10^{0} \\\\\n",
    "      & = 102 \\times 10^{0} \\quad \\text{convert to normalized form and round}\n",
    "\\end{split}$$\n",
    "\n",
    "compared to the true value $\\hat{z} = 101.41$.\n",
    "\n",
    "**Exercise 8** Compute $0.9 + 100$ using a three digit significand and no guard digit. Repeat the calculation using a guard digit."
   ]
  },
  {
   "cell_type": "markdown",
   "metadata": {},
   "source": [
    "## Cancellation\n",
    "\n",
    "When two similar values are subtracted, the resulting difference has a small magnitude. Two similar values will have identical digits\n",
    "in their significands except in a few digits at the end of the significand (the least significant digits or the low\n",
    "order digits). The digits at the beginning of the significand (the most significant digits or high order digits)\n",
    "in the operands will cancel one another when the difference is computed. There are two kinds of cancellation: benign and catastrophic.\n",
    "\n",
    "#### Benign cancellation\n",
    "\n",
    "In the difference $x-y$, benign cancellation occurs when $x$ and $y$ do not contain rounding errors. In this case, the\n",
    "result of the difference is as close to the true value as the floating-point representation allows.\n",
    "\n",
    "\n",
    "#### Catastrophic cancellation\n",
    "\n",
    "In the difference $x-y$, catastrophic cancellation occurs when $x$ and/or $y$ contain rounding errors; this occurs when $x$ and\n",
    "$y$ are values computed using floating-point arithmetic. Students should complete the following exercises to see the effects\n",
    "of catastrophic cancellation.\n",
    "\n",
    "**Exercise 9** The quadratic formula involves computing the difference $b^2 - 4ac$. If $b^2$ and $4ac$ have similar values, then\n",
    "catastrophic cancellation may occur because computing $b^2$ and $4ac$ involves floating-point operations that can result in\n",
    "rounding errors. Compute the *exact* value of $b^2 - 4ac$ for $b=3.34$, $a=1.22$, and $c=2.28$.\n",
    "\n",
    "**Exercise 10** Compute the floating-point values of $b^2$ and $4ac$ where the significand has three digits by rounding the exact values\n",
    "so that they fit into the significand.\n",
    "\n",
    "**Exercise 11** Using the result from the previous exercise, compute the difference $b^2 - 4ac$ using floating-point values.\n",
    "\n",
    "**Exercise 12** Compute the relative error and error in ulps of the floating-point difference compared to the exact value.\n",
    "\n",
    "In the above exercises, the difference $b^2 - 4ac$ is computed *without* rounding error, but the values $b^2$ and $4ac$ \n",
    "both contain rounding errors. Computing the difference does not cause the large error in the final result, but it does\n",
    "expose the errors caused by computing $b^2$ and $4ac$ and rounding their values.\n",
    "\n",
    "Another example of catastrophic cancellation is the function\n",
    "\n",
    "$$f(x) = \\frac{1 - \\cos(x)}{x^2}$$\n",
    "\n",
    "when $x \\approx 0$. Even though $1$ contains no rounding error (and can be represented exactly as a floating-point value),\n",
    "$\\cos(x)$ must be computed and will contain rounding error. When $x \\approx 0$ the value of the function is\n",
    "$f(x) \\approx 0.5$. Computing $f(10^{-8})$ using `double` arithmetic yields: "
   ]
  },
  {
   "cell_type": "code",
   "execution_count": 1,
   "metadata": {},
   "outputs": [
    {
     "name": "stdout",
     "output_type": "stream",
     "text": [
      "0.0\n"
     ]
    },
    {
     "data": {
      "text/plain": [
       "null"
      ]
     },
     "execution_count": 1,
     "metadata": {},
     "output_type": "execute_result"
    }
   ],
   "source": [
    "double x = 1e-8;\n",
    "double y = 1 - Math.cos(x);\n",
    "double a = y / (x * x);\n",
    "System.out.println(a);"
   ]
  },
  {
   "cell_type": "markdown",
   "metadata": {},
   "source": [
    "which has a relative error of 1.\n",
    "\n",
    "Sometimes, cancellation can be avoided by rewriting the expression so that it avoids subtraction. In the above example, the half angle formula\n",
    "\n",
    "$$\\sin^2 \\left( \\frac{\\theta}{2} \\right) = \\frac{1 - \\cos (\\theta)}{2}$$\n",
    "\n",
    "can be used to rewrite $f(x)$ as\n",
    "\n",
    "$$f(x) = \\frac{2\\sin^2 \\left( \\frac{x}{2} \\right) }{x^2}$$\n",
    "\n",
    "which requires no subtraction. Computing $f(10^{-8})$ using `double` arithmetic and the rewritten formula yields:  "
   ]
  },
  {
   "cell_type": "code",
   "execution_count": 2,
   "metadata": {},
   "outputs": [
    {
     "name": "stdout",
     "output_type": "stream",
     "text": [
      "0.5\n"
     ]
    },
    {
     "data": {
      "text/plain": [
       "null"
      ]
     },
     "execution_count": 2,
     "metadata": {},
     "output_type": "execute_result"
    }
   ],
   "source": [
    "double x = 1e-8;\n",
    "double y = 2 * Math.pow(Math.sin(x / 2), 2);\n",
    "double a = y / (x * x);\n",
    "System.out.println(a);"
   ]
  },
  {
   "cell_type": "markdown",
   "metadata": {},
   "source": [
    "which has a relative error of approximately 0.\n",
    "\n",
    "A third example of catastrophic cancellation is the function\n",
    "\n",
    "$$f(x) = e^x - 1$$\n",
    "\n",
    "where $x \\approx 0$ and $e = 2.71828...$ is Euler's number. The `Math` class contains a method `expm1(double x)` specifically to calculate $f(x)$.\n",
    "The next cell compares the results of `expm1(x)` and `exp(x) - 1` for a small value of `x`:"
   ]
  },
  {
   "cell_type": "code",
   "execution_count": 24,
   "metadata": {},
   "outputs": [
    {
     "name": "stdout",
     "output_type": "stream",
     "text": [
      "1.0000000000005E-12\n",
      "1.000088900582341E-12\n"
     ]
    },
    {
     "data": {
      "text/plain": [
       "null"
      ]
     },
     "execution_count": 24,
     "metadata": {},
     "output_type": "execute_result"
    }
   ],
   "source": [
    "double x = 1e-12;\n",
    "double a = Math.expm1(x);\n",
    "double b = Math.exp(x) - 1;\n",
    "System.out.println(a);\n",
    "System.out.println(b);"
   ]
  },
  {
   "cell_type": "markdown",
   "metadata": {},
   "source": [
    "Notice that almost all of the digits differ in the two results. The `expm1` and `log1p` methods are useful in certain financial calculations;\n",
    "see [page 12 of WECSSKAFPA](https://docs.oracle.com/cd/E19957-01/800-7895/800-7895.pdf) for details.\n",
    "\n",
    "<div class=\"alert alert-block alert-info\">\n",
    "    Some readers might wonder how <tt>expm1</tt> is implemented. See <a href=\"http://www.math.utah.edu/~beebe/reports/expm1.pdf\">this document</a>\n",
    "    for details.\n",
    "</div>"
   ]
  },
  {
   "cell_type": "markdown",
   "metadata": {},
   "source": [
    "**Exercise 13** The function $f(x) = \\sqrt{1 + x} - 1$ exhibits catastrophic cancellation for small values of $x$. Evaluate $f(0.000001)$ using\n",
    "`float` arithmetic. Note that `Math.sqrt` returns a `double` so you will need to cast the result back to `float`.\n",
    "\n",
    "**Exercise 14** The function from Exercise 13 is mathematically equivalent to $g(x) = \\frac{x}{\\sqrt{1 + x} + 1}$ which involves no\n",
    "subtraction. Evaluate $g(0.000001)$ using\n",
    "`float` arithmetic. Note that `Math.sqrt` returns a `double` so you will need to cast the result back to `float`. The true value to\n",
    "8 decimal places is $4.99999875 \\times 10^{-7}$."
   ]
  },
  {
   "cell_type": "code",
   "execution_count": 56,
   "metadata": {},
   "outputs": [
    {
     "data": {
      "text/plain": [
       "null"
      ]
     },
     "execution_count": 56,
     "metadata": {},
     "output_type": "execute_result"
    }
   ],
   "source": [
    "// Exercises 13 and 14\n"
   ]
  },
  {
   "cell_type": "markdown",
   "metadata": {},
   "source": [
    "## Summing many values\n",
    "\n",
    "Computing the sum of many floating-point values is required to solve many problems such as when computing statistics and in numerical integration.\n",
    "Each addition can produce a rounding error of up to 0.5 ulps; thus, naively summing many terms can produce a final result that has a large\n",
    "rounding error. For example, the following cell naively sums the elements of a list containing the value $1,000,000$ and one thousand\n",
    "copies of the value $0.1$:"
   ]
  },
  {
   "cell_type": "code",
   "execution_count": 17,
   "metadata": {},
   "outputs": [
    {
     "name": "stdout",
     "output_type": "stream",
     "text": [
      "1000100.0000014901\n"
     ]
    },
    {
     "data": {
      "text/plain": [
       "null"
      ]
     },
     "execution_count": 17,
     "metadata": {},
     "output_type": "execute_result"
    }
   ],
   "source": [
    "import java.util.ArrayList;\n",
    "import java.util.List;\n",
    "\n",
    "List<Float> t = new ArrayList<>();\n",
    "t.add(1000000.0f);\n",
    "for (int i = 0; i < 1000; i++) {\n",
    "    t.add(Float.valueOf(0.1f));\n",
    "}\n",
    "float sum = 0.0f;\n",
    "for (Float val : t) {\n",
    "    sum += val;\n",
    "}\n",
    "System.out.println(sum);"
   ]
  },
  {
   "cell_type": "markdown",
   "metadata": {},
   "source": [
    "The correct sum is $1,000,100$ but the program outputs a different value. The main source of error in the sum is caused by the first addition\n",
    "in the sum which adds $1,000,000$ to $0.1$. Because the two values differ by many orders of magnitude, the resulting rounding error is large compared\n",
    "to the smaller term. You can see this by computing $1,000,000 + 0.1$ using `float` arithmetic and then casting the result to a `double`:"
   ]
  },
  {
   "cell_type": "code",
   "execution_count": 21,
   "metadata": {},
   "outputs": [
    {
     "name": "stdout",
     "output_type": "stream",
     "text": [
      "1000000.125\n"
     ]
    },
    {
     "data": {
      "text/plain": [
       "null"
      ]
     },
     "execution_count": 21,
     "metadata": {},
     "output_type": "execute_result"
    }
   ],
   "source": [
    "System.out.println((double) (1000000f + 0.1f));"
   ]
  },
  {
   "cell_type": "markdown",
   "metadata": {},
   "source": [
    "Adding 999 copies of 0.1 into the sum compounds the error so that the final sum is quite inaccurate. Adding the $1,000,000$ to the sum as the\n",
    "last operation minimizes the rounding error:"
   ]
  },
  {
   "cell_type": "code",
   "execution_count": 22,
   "metadata": {},
   "outputs": [
    {
     "name": "stdout",
     "output_type": "stream",
     "text": [
      "1000100.0\n"
     ]
    },
    {
     "data": {
      "text/plain": [
       "null"
      ]
     },
     "execution_count": 22,
     "metadata": {},
     "output_type": "execute_result"
    }
   ],
   "source": [
    "import java.util.ArrayList;\n",
    "import java.util.List;\n",
    "\n",
    "List<Float> t = new ArrayList<>();\n",
    "for (int i = 0; i < 1000; i++) {\n",
    "    t.add(Float.valueOf(0.1f));\n",
    "}\n",
    "t.add(1000000.0f);\n",
    "float sum = 0.0f;\n",
    "for (Float val : t) {\n",
    "    sum += val;\n",
    "}\n",
    "System.out.println(sum);"
   ]
  },
  {
   "cell_type": "markdown",
   "metadata": {},
   "source": [
    "Generalizing the above example, sorting the values to be summed from smallest to largest *in magnitude* is sometimes recommmended as\n",
    "a method of minimizing rounding error when computing a sum of many values. Of course, sorting changes the order of the elements in \n",
    "the data array, which is often not desirable; in such cases, a copy of the original data source must be made which requires an\n",
    "additional $O(n)$ memory. Sorting also has $O(n \\log n)$ complexity whereas summing $n$ elements should ideally have $O(n)$ complexity.\n",
    "\n",
    "A better way to compute the sum of many floating-point values is to use\n",
    "[Kahan's summation algorithm](https://en.wikipedia.org/wiki/Kahan_summation_algorithm) shown below:"
   ]
  },
  {
   "cell_type": "code",
   "execution_count": 38,
   "metadata": {},
   "outputs": [
    {
     "data": {
      "text/plain": [
       "com.twosigma.beaker.javash.bkr68cfd94c.Sums"
      ]
     },
     "execution_count": 38,
     "metadata": {},
     "output_type": "execute_result"
    }
   ],
   "source": [
    "import java.util.List;\n",
    "\n",
    "public class Sums {\n",
    "    \n",
    "    public static float kahanSum(List<Float> data) {\n",
    "        float s = 0.0f;\n",
    "        float c = 0.0f;\n",
    "        for (float val : data) {\n",
    "            float y = val - c;\n",
    "            float t = s + y;\n",
    "            c = (t - s) - y;\n",
    "            s = t;\n",
    "        }\n",
    "        return s;\n",
    "    }\n",
    "}"
   ]
  },
  {
   "cell_type": "markdown",
   "metadata": {},
   "source": [
    "Using Kahan's algorithm to sum the values in the previous example produces the expected value of `1000100.0`:"
   ]
  },
  {
   "cell_type": "code",
   "execution_count": 39,
   "metadata": {},
   "outputs": [
    {
     "name": "stdout",
     "output_type": "stream",
     "text": [
      "1000100.0\n"
     ]
    },
    {
     "data": {
      "text/plain": [
       "null"
      ]
     },
     "execution_count": 39,
     "metadata": {},
     "output_type": "execute_result"
    }
   ],
   "source": [
    "import java.util.ArrayList;\n",
    "import java.util.List;\n",
    "\n",
    "List<Float> t = new ArrayList<>();\n",
    "t.add(1000000.0f);\n",
    "for (int i = 0; i < 1000; i++) {\n",
    "    t.add(Float.valueOf(0.1f));\n",
    "}\n",
    "System.out.println(Sums.kahanSum(t));"
   ]
  },
  {
   "cell_type": "markdown",
   "metadata": {},
   "source": [
    "#### How Kahan's algorithm works\n",
    "\n",
    "Kahan's algorithm keeps track of two running values:\n",
    "\n",
    "* `s` : the accumulated sum\n",
    "* `c` : the error caused by adding an element to the sum from the *previous* iteration\n",
    "\n",
    "When `c` is positive, the current sum is too large because of rounding error, and when `c` is negative, the current sum\n",
    "is too small because of rounding error. To compensate for the rounding error, `c` is subtracted from the next element that\n",
    "is added to the sum on the line:\n",
    "\n",
    "```java\n",
    "float y = val - c;    // val is the next element to add to the sum\n",
    "```\n",
    "\n",
    "`t` is a temporary value equal to the current sum plus `y`:\n",
    "\n",
    "```java\n",
    "float t = s + y;      // add the next (error compensated) element to the sum\n",
    "```\n",
    "\n",
    "Because `t` involves an arithmetic operation of floating-point values, it contains rounding error.\n",
    "\n",
    "The key in Kahan's algorithm is in estimating how much rounding error has accumulated by adding `y` to the sum, which occurs on the \n",
    "line:\n",
    "\n",
    "```java\n",
    "c = (t - s) - y;\n",
    "```\n",
    "\n",
    "Mathematically, `c` should be zero because:\n",
    "\n",
    "$$\\begin{split}\n",
    "c & = (t - s) - y \\\\\n",
    "  & = (s + y - s) - y \\\\\n",
    "  & = y - y \\\\\n",
    "  & = 0\n",
    "\\end{split}$$\n",
    "\n",
    "However, the term `t` contains rounding error so that `(t - s)` is not exactly equal to `y`. In other words, mathematically:\n",
    "\n",
    "$$c = y' - y$$\n",
    "\n",
    "where $y' \\approx (y + \\text{rounding error caused by computing}\\ s + y)$. Subtracting $y$ from $y'$ yields an approximate\n",
    "estimate of the rounding error caused by adding the most recent element to the sum.\n",
    "This rounding error is subtracted from the next element at the beginning of the next loop iteration before adding it the sum.\n",
    "\n",
    "Kahan's algorithm is much more accurate than naive summation, but it cannot exactly compensate for all rounding errors.\n",
    "\n",
    "<div class=\"alert alert-block alert-info\">\n",
    "    For interested readers, the <a href=\"https://en.wikipedia.org/wiki/Kahan_summation_algorithm\">Wikipedia page</a>\n",
    "    for Kahan's algorithm describes enhancements and alternatives to the algorithm. \n",
    "    <a href=\"https://www.cs.toronto.edu/~radford/ftp/xsum.pdf\">More recent work</a> suggests that there are faster\n",
    "    ways of computing accurate sums.\n",
    "</div>"
   ]
  },
  {
   "cell_type": "markdown",
   "metadata": {},
   "source": [
    "**Exercise 15** Consider a floating-point system that uses a three digit base-10 significand and one guard digit. Sum the values $100, 0.4, 0.4, 0.4, 0.4, 0.4$ using naive summation and Kahan's algorithm. Show the intermediate sum after adding each element to the sum and compare it to\n",
    "the true answer."
   ]
  },
  {
   "cell_type": "code",
   "execution_count": null,
   "metadata": {},
   "outputs": [],
   "source": []
  }
 ],
 "metadata": {
  "kernelspec": {
   "display_name": "Java",
   "language": "java",
   "name": "java"
  },
  "language_info": {
   "codemirror_mode": "text/x-java",
   "file_extension": ".java",
   "mimetype": "",
   "name": "Java",
   "nbconverter_exporter": "",
   "version": "1.8.0_121"
  },
  "toc": {
   "base_numbering": 1,
   "nav_menu": {},
   "number_sections": false,
   "sideBar": false,
   "skip_h1_title": false,
   "title_cell": "Table of Contents",
   "title_sidebar": "Contents",
   "toc_cell": false,
   "toc_position": {},
   "toc_section_display": false,
   "toc_window_display": false
  }
 },
 "nbformat": 4,
 "nbformat_minor": 4
}
