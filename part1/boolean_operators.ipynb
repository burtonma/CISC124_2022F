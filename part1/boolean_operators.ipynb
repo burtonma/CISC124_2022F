{
 "cells": [
  {
   "cell_type": "code",
   "execution_count": null,
   "metadata": {},
   "outputs": [],
   "source": [
    "// run this cell to prevent Jupyter from displaying the null output cell\n",
    "com.twosigma.beakerx.kernel.Kernel.showNullExecutionResult = false;"
   ]
  },
  {
   "cell_type": "markdown",
   "metadata": {},
   "source": [
    "<a id='notebook_id'></a>\n",
    "# Boolean operators\n",
    "\n",
    "Operations involving *only* boolean values behave similarly in Python and Java. The most significant difference between the two languages is that Python boolean operators will accept any type whereas Java boolean operators will only accept `boolean` or `Boolean` values."
   ]
  },
  {
   "cell_type": "markdown",
   "metadata": {},
   "source": [
    "## Java\n",
    "\n",
    "The most commonly used boolean operators are shown in the following table:\n",
    "\n",
    "| operator | unary or binary | offical name | meaning | example | result if `x` is `true` | result if `x` is `false` |\n",
    "| :- | :-: | :- | :- | :- | :- | :- |\n",
    "| `!` | unary | logical complement | logical NOT | `!x` | `false` | `true` |\n",
    "| `+` | binary | string concatenation | string concatenation | `\"x is: \" + x` | `\"x is: true\"` | `\"x is: false\"` |\n",
    "| `==` | binary | equal to | equal to | `x == true` | `true` | `false` |\n",
    "| `!=` | binary | not equal to | not equal to | `x != true` | `false` | `true` |\n",
    "| `&&` | binary | conditional-AND | logical AND | `x && true` | `true` | `false` |\n",
    "| `\\|\\|` | binary | conditional-OR | logical OR | `x \\|\\| true` | `true` | `true` |\n"
   ]
  },
  {
   "cell_type": "markdown",
   "metadata": {},
   "source": [
    "The table shows the operators in order of their precedence (`!` has the highest precedence and `||` has the lowest precedence) except that `==` and `!=` have equal precedence. "
   ]
  },
  {
   "cell_type": "markdown",
   "metadata": {},
   "source": [
    "### Logical complement\n",
    "\n",
    "The logical NOT operator `!` negates a `boolean` value; that is, `!true` is equal to `false` and `!false` is equal to `true`.\n",
    "\n",
    "**Example** Suppose that the `boolean` variable `isRaining` is `true` if it is currently raining and `false` otherwise. Then \n",
    "\n",
    "```java\n",
    "boolean notRaining = !isRaining;\n",
    "```\n",
    "\n",
    "creates a `boolean` variable that is `true` if it is not currently raining and `true` otherwise.\n",
    "\n",
    "**Example** To check if a `String` `s` is not empty use the following:\n",
    "\n",
    "```java\n",
    "if (!s.isEmpty()) {\n",
    " // do something if s is not the empty string   \n",
    "}\n",
    "```\n",
    "\n",
    "The `String` method `isEmpty` returns `true` if `s` refers to an empty string and returns `false` otherwise."
   ]
  },
  {
   "cell_type": "markdown",
   "metadata": {},
   "source": [
    "### String concatenation\n",
    "\n",
    "To concatenate a `boolean` value to a `String` use the string concatenation operator `+`.\n",
    "\n",
    "**Example** A `boolean` value `b` can be printed using `System.out.println(b)`. To include some descriptive text before the `boolean` value use:"
   ]
  },
  {
   "cell_type": "code",
   "execution_count": null,
   "metadata": {},
   "outputs": [],
   "source": [
    "boolean isRaining = false;\n",
    "System.out.println(\"the value of isRaining: \" + isRaining);"
   ]
  },
  {
   "cell_type": "markdown",
   "metadata": {},
   "source": [
    "**Example** To include some descriptive text after the `boolean` value use:"
   ]
  },
  {
   "cell_type": "code",
   "execution_count": null,
   "metadata": {},
   "outputs": [],
   "source": [
    "boolean isRaining = false;\n",
    "System.out.println(isRaining + \" : the value of isRaining\");"
   ]
  },
  {
   "cell_type": "markdown",
   "metadata": {},
   "source": [
    "### Equal to and not equal to\n",
    "\n",
    "The operators `==` and `!=` are almost never used by experienced Java programmers to compare `boolean` values because the values of `x == true`, `x == false`, `x != true` and `x != false` can be expressed more simply as shown in the following table:\n",
    "\n",
    "| expression | equivalent to |\n",
    "| :-: | :-: |\n",
    "| `x == true` | `x` |\n",
    "| `x == false` | `!x` |\n",
    "| `x != true` | `!x` |\n",
    "| `x != false` | `x` |\n",
    "\n",
    "The validity of the equivalent expressions in the preceding table can easily be verified by completing the appropriate truth tables; see the exercises for details.\n",
    "\n",
    "**Example** Suppose that the `boolean` variable `isRaining` is `true` if it is currently raining and `false` otherwise. To check if it is currently raining we could write:"
   ]
  },
  {
   "cell_type": "code",
   "execution_count": null,
   "metadata": {},
   "outputs": [],
   "source": [
    "boolean isRaining = true;\n",
    "if (isRaining == true) {\n",
    "    System.out.println(\"raining\");\n",
    "}\n",
    "else {\n",
    "    System.out.println(\"not raining\");\n",
    "}"
   ]
  },
  {
   "cell_type": "markdown",
   "metadata": {},
   "source": [
    "but most experienced Java programmers would instead write:"
   ]
  },
  {
   "cell_type": "code",
   "execution_count": null,
   "metadata": {},
   "outputs": [],
   "source": [
    "boolean isRaining = true;\n",
    "if (isRaining) {\n",
    "    System.out.println(\"raining\");\n",
    "}\n",
    "else {\n",
    "    System.out.println(\"not raining\");\n",
    "}"
   ]
  },
  {
   "cell_type": "markdown",
   "metadata": {},
   "source": [
    "### Conditional-AND\n",
    "\n",
    "The conditional-AND operator `&&` is Java's logical AND operator. For `boolean` variables `x` and `y` the expression `x && y` is equal to `true` if and only if both `x` and `y` are equal to `true`.\n",
    "\n",
    "**Example** In Python the programmer can check if a numeric value `val` lies inside the range `0.0` and `1.0` by writing `0.0 < val < 1.0`; for instance:"
   ]
  },
  {
   "cell_type": "code",
   "execution_count": null,
   "metadata": {},
   "outputs": [],
   "source": [
    "%%python\n",
    "\n",
    "val = 0.5\n",
    "isInRange = 0.0 < val < 1.0\n",
    "print(isInRange)"
   ]
  },
  {
   "cell_type": "markdown",
   "metadata": {},
   "source": [
    "Java does not allow the programmer to write `0.0 < val < 1.0`; instead, the programmer must check if `0.0 < val` is `true` and `val < 1.0` is `true`:"
   ]
  },
  {
   "cell_type": "code",
   "execution_count": null,
   "metadata": {},
   "outputs": [],
   "source": [
    "double val = 0.5;\n",
    "boolean isInRange = 0.0 < val && val < 1.0;\n",
    "System.out.println(isInRange);"
   ]
  },
  {
   "cell_type": "markdown",
   "metadata": {},
   "source": [
    "`&&` uses short-circuit logic which means that the right-hand operand is not evaluated if the left-hand operand is `false` (because the overall expression is `false` regardless of the value of the right-hand operand). This lets the programmer write expressions that are safe even though they look risky:"
   ]
  },
  {
   "cell_type": "code",
   "execution_count": null,
   "metadata": {},
   "outputs": [],
   "source": [
    "String s = null;\n",
    "if (s != null && s.equals(\"hello\")) {\n",
    "    System.out.println(\"hello to you, too\");\n",
    "}\n",
    "System.out.println(\"hey this works\");"
   ]
  },
  {
   "cell_type": "markdown",
   "metadata": {},
   "source": [
    "The expression `s.equals(\"hello\")` on its own causes an exception to be thrown when `s` is `null`; however, because `s != null` is used as the left-hand side operand, `s.equals(\"hello\")` is not evaluated when `s` is `null`."
   ]
  },
  {
   "cell_type": "markdown",
   "metadata": {},
   "source": [
    "### Conditional OR\n",
    "\n",
    "The conditional-OR operator `||` is Java's logical OR operator. For `boolean` variables `x` and `y` the expression `x || y` is equal to `true` if one or both of `x` and `y` are equal to `true`.\n",
    "\n",
    "**Example** To check if a value `val` is outside of the range `0.0` and `1.0` the `||` can be used like so:"
   ]
  },
  {
   "cell_type": "code",
   "execution_count": null,
   "metadata": {},
   "outputs": [],
   "source": [
    "double val = -1.0;\n",
    "boolean isOutOfRange = val < 0.0 || val > 1.0;\n",
    "System.out.println(isOutOfRange);"
   ]
  },
  {
   "cell_type": "markdown",
   "metadata": {},
   "source": [
    "`||` also uses short-circuit logic; the right-hand side operand is not evaluated if the left-hand operand is equal to `true`."
   ]
  },
  {
   "cell_type": "markdown",
   "metadata": {},
   "source": [
    "## Exercises\n",
    "\n",
    "1. Beware of expressions of the form `x + y + z`. The concatenation operator is said to be *left associative* which means that in an expression involving multiple uses of `+` the expression is evaluated from left to right; in other words, `x + y + z` means `(x + y) + z`. For example, what does the following output?\n",
    "```java\n",
    "String pig = \"length: 10\";\n",
    "String dog = \"length: \" + 10;\n",
    "System.out.println(\"Animals are equal: \" + pig == dog);\n",
    "```\n",
    " Explain the output. [Adapted from 'Java Puzzlers' by Bloch and Gafter]"
   ]
  },
  {
   "cell_type": "markdown",
   "metadata": {},
   "source": [
    "2. Fix the expression in Exercise 1 so that outputs the expected string."
   ]
  },
  {
   "cell_type": "code",
   "execution_count": null,
   "metadata": {},
   "outputs": [],
   "source": [
    "// Exercise 2\n"
   ]
  },
  {
   "cell_type": "markdown",
   "metadata": {},
   "source": [
    "3. Is the use of `==` correct in Exercise 1 and 2?"
   ]
  },
  {
   "cell_type": "markdown",
   "metadata": {},
   "source": [
    "4. Provide some example code that proves that the `||` operator uses short-circuit logic."
   ]
  },
  {
   "cell_type": "code",
   "execution_count": null,
   "metadata": {},
   "outputs": [],
   "source": [
    "// Exercse 4\n"
   ]
  },
  {
   "cell_type": "markdown",
   "metadata": {},
   "source": [
    "For more exercises see the [If statements](./if_statements.ipynb#notebook_id) notebook."
   ]
  }
 ],
 "metadata": {
  "kernelspec": {
   "display_name": "Java",
   "language": "java",
   "name": "java"
  },
  "language_info": {
   "codemirror_mode": "text/x-java",
   "file_extension": ".java",
   "mimetype": "",
   "name": "Java",
   "nbconverter_exporter": "",
   "version": "11.0.1-internal"
  },
  "toc": {
   "base_numbering": 1,
   "nav_menu": {},
   "number_sections": false,
   "sideBar": false,
   "skip_h1_title": false,
   "title_cell": "Table of Contents",
   "title_sidebar": "Contents",
   "toc_cell": false,
   "toc_position": {},
   "toc_section_display": false,
   "toc_window_display": false
  }
 },
 "nbformat": 4,
 "nbformat_minor": 4
}
