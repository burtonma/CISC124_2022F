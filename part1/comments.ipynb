{
 "cells": [
  {
   "cell_type": "code",
   "execution_count": null,
   "metadata": {},
   "outputs": [],
   "source": [
    "// run this cell to prevent Jupyter from displaying the null output cell\n",
    "com.twosigma.beakerx.kernel.Kernel.showNullExecutionResult = false;"
   ]
  },
  {
   "cell_type": "markdown",
   "metadata": {},
   "source": [
    "<a id=\"notebook_id\"></a>\n",
    "# Comments\n",
    "\n",
    "A comment is text that is ignored by the interpreter or compiler. The purpose of a comment is to make source code easier for human readers to understand."
   ]
  },
  {
   "cell_type": "markdown",
   "metadata": {},
   "source": [
    "## Python comments\n",
    "\n",
    "Python uses the hash character, `#`, to indicate the start of a comment. All text starting from the `#` to the end of the line is considered to be part of the comment. Two examples of Python comments include: "
   ]
  },
  {
   "cell_type": "code",
   "execution_count": null,
   "metadata": {},
   "outputs": [],
   "source": [
    "%%python\n",
    "\n",
    "# This entire line is a Python comment.\n",
    "\n",
    "x = 1 # This line assigns the value 1 to x and ends with a comment\n",
    "print(x)"
   ]
  },
  {
   "cell_type": "markdown",
   "metadata": {},
   "source": [
    "It is not possible to insert a comment into a Python string. The `#` simply appears as a character in the string."
   ]
  },
  {
   "cell_type": "code",
   "execution_count": null,
   "metadata": {},
   "outputs": [],
   "source": [
    "%%python\n",
    "\n",
    "x = 'This string # does not contain a comment.'\n",
    "print(x)"
   ]
  },
  {
   "cell_type": "markdown",
   "metadata": {},
   "source": [
    "A triple-quoted string is sometimes used a multi-line comment in Python but such strings are not true comments because the Python interpreter is required to interpret such strings (whereas comments are ignored entirely by the interpreter)."
   ]
  },
  {
   "cell_type": "markdown",
   "metadata": {},
   "source": [
    "## Java comments\n",
    "\n",
    "Java has two different kinds of comments.\n",
    "\n",
    "In Java a double forwards slash `//`, is analogous to the `#` in Python. All text starting from the `//` to the end of the line is considered to be part of the comment. Two examples of such a comment include:"
   ]
  },
  {
   "cell_type": "code",
   "execution_count": null,
   "metadata": {},
   "outputs": [],
   "source": [
    "// This entire line is a Java comment.\n",
    "\n",
    "int x = 1; // This line assigns the value 1 to x and ends with a comment\n",
    "System.out.println(x);"
   ]
  },
  {
   "cell_type": "markdown",
   "metadata": {},
   "source": [
    "The second type of comment in Java begins with `/*` and ends with `*/`. All text from a starting `/*` to the first occurrence of a following `*/` is ignored by the compiler. Such a comment can be used to comment out parts of an expression or statement (but not part of a string literal; see below) or to write a comment that spans multiple lines:"
   ]
  },
  {
   "cell_type": "code",
   "execution_count": null,
   "metadata": {},
   "outputs": [],
   "source": [
    "/* The following example comments out part of an expression */\n",
    "int x = 1 + /* + 2 + 3 */ + 4;\n",
    "System.out.println(x);\n",
    "\n",
    "/* This is a \n",
    "   multi-line comment\n",
    "   in\n",
    "   Java */\n",
    "\n",
    "/* Multiline comments can be used to comment out blocks of code; for example */\n",
    "\n",
    "/*\n",
    "    int x = 1;\n",
    "    int y = 2;\n",
    "    System.out.println(x + y);\n",
    "*/"
   ]
  },
  {
   "cell_type": "markdown",
   "metadata": {},
   "source": [
    "Similar to Python, it is not possible to insert a comment into a Java string. The comment delimiters simply become part of the string:"
   ]
  },
  {
   "cell_type": "code",
   "execution_count": null,
   "metadata": {},
   "outputs": [],
   "source": [
    "String s = \"This string // does not contain a comment.\";\n",
    "System.out.println(s);\n",
    "\n",
    "String t = \"This string /* does not contain a comment either */\";\n",
    "System.out.println(t);"
   ]
  },
  {
   "cell_type": "markdown",
   "metadata": {},
   "source": [
    "## Exercises\n",
    "\n",
    "1. Give an example of a triple-quoted string in Python that causes a syntax error (thus showing that triple-quoted strings are not actually comments)."
   ]
  },
  {
   "cell_type": "code",
   "execution_count": null,
   "metadata": {},
   "outputs": [],
   "source": [
    "%%python\n",
    "# Exercise 1\n"
   ]
  },
  {
   "cell_type": "markdown",
   "metadata": {},
   "source": [
    "2. Show that the cause of the syntax error in Question 1 does not cause a syntax error in a comment starting with a `#`."
   ]
  },
  {
   "cell_type": "code",
   "execution_count": null,
   "metadata": {},
   "outputs": [],
   "source": [
    "%%python\n",
    "# Exercise 2\n"
   ]
  },
  {
   "cell_type": "markdown",
   "metadata": {},
   "source": [
    "3. In the following cell test if a comment starting with `//` can be used to comment out the following comment:\n",
    "```java\n",
    "/* Can you comment out this comment? */\n",
    "```"
   ]
  },
  {
   "cell_type": "code",
   "execution_count": null,
   "metadata": {},
   "outputs": [],
   "source": [
    "// Exercise 3\n"
   ]
  },
  {
   "cell_type": "markdown",
   "metadata": {},
   "source": [
    "4. In the following cell test if a comment delimited by `/* */` can be used to comment out the following comment:\n",
    "```java\n",
    "// Can you comment out this comment?\n",
    "```"
   ]
  },
  {
   "cell_type": "code",
   "execution_count": null,
   "metadata": {},
   "outputs": [],
   "source": [
    "// Exercise 4"
   ]
  },
  {
   "cell_type": "markdown",
   "metadata": {},
   "source": [
    "5. In the following cell test if the following Java code compiles. If the code does not compile can you explain why?\n",
    "```\n",
    "/* Begin comment\n",
    "\n",
    "   /* Example of a Java loop */\n",
    "    for (int i = 0; i < 5; i++) {\n",
    "        System.out.println(i);\n",
    "    }\n",
    "\n",
    "    End comment */\n",
    "```"
   ]
  },
  {
   "cell_type": "code",
   "execution_count": null,
   "metadata": {},
   "outputs": [],
   "source": [
    "// Exercise 5"
   ]
  }
 ],
 "metadata": {
  "kernelspec": {
   "display_name": "Java",
   "language": "java",
   "name": "java"
  },
  "language_info": {
   "codemirror_mode": "text/x-java",
   "file_extension": ".java",
   "mimetype": "",
   "name": "Java",
   "nbconverter_exporter": "",
   "version": "1.8.0_121"
  },
  "toc": {
   "base_numbering": 1,
   "nav_menu": {},
   "number_sections": false,
   "sideBar": false,
   "skip_h1_title": false,
   "title_cell": "Table of Contents",
   "title_sidebar": "Contents",
   "toc_cell": false,
   "toc_position": {},
   "toc_section_display": false,
   "toc_window_display": false
  }
 },
 "nbformat": 4,
 "nbformat_minor": 4
}
