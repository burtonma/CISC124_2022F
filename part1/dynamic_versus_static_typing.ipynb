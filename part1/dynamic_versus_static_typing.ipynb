{
 "cells": [
  {
   "cell_type": "code",
   "execution_count": null,
   "metadata": {},
   "outputs": [],
   "source": [
    "// run this cell to prevent Jupyter from displaying the null output cell\n",
    "com.twosigma.beakerx.kernel.Kernel.showNullExecutionResult = false;"
   ]
  },
  {
   "cell_type": "markdown",
   "metadata": {},
   "source": [
    "<a id=\"notebook_id\"></a>\n",
    "# Dynamic versus static typing\n",
    "\n",
    "A second significant difference between Python and Java is the type checking system used by the languages.\n",
    "\n",
    "Information stored in computer memory can be thought of as a sequence of 1s and 0s (called bits). Simply looking at the pattern of bits tells us nothing about the information that is encoded. For example, the bit pattern:\n",
    "\n",
    "```\n",
    "1000 0000 0000 0000 0000 0000 0000 0000\n",
    "```\n",
    "\n",
    "can be interpreted as the integer value $1$ or the floating-pointing value $2^{-126}$.\n",
    "\n",
    "Types assign meanings to patterns of bits defining what values a pattern of bits represents and what operations can be done with a pattern of bits. Errors occur when a programmer attempts to perform an operation that the type does not support.\n",
    "\n",
    "The terms *dynamic typing* and *static typing* refer to when a language checks if the types in a program have been used correctly."
   ]
  },
  {
   "cell_type": "markdown",
   "metadata": {},
   "source": [
    "## Python is a dynamically typed language\n",
    "\n",
    "Python is a dynamically typed language which means Python performs type checking *when a program is run*. Run the small program in the following cell:"
   ]
  },
  {
   "cell_type": "code",
   "execution_count": 2,
   "metadata": {},
   "outputs": [
    {
     "name": "stdout",
     "output_type": "stream",
     "text": [
      "positive\n"
     ]
    }
   ],
   "source": [
    "%%python\n",
    "\n",
    "x = 1\n",
    "if x > 0:\n",
    "    print('positive')\n",
    "else:\n",
    "    x += ' is not positive'\n",
    "    print(x)"
   ]
  },
  {
   "cell_type": "markdown",
   "metadata": {},
   "source": [
    "The program should run to completion printing the string `'positive'`. Now edit the cell so that `x` is zero or negative and run the cell again.\n",
    "\n",
    "The program should fail to run to completion and report an error mentioning the phrase \"unsupported operand type(s) for +=\". The `else` clause contains a type error because an `int` and a `string` cannot be combined using the `+=` operator.\n",
    "\n",
    "The previous program illustrates that Python checks if types have been used correctly at runtime. In this example, the fact that the program contains an error is not detected until the program is run which is one criticism of dynamically typed languages; however, modern development tools can usually help to detect such errors."
   ]
  },
  {
   "cell_type": "markdown",
   "metadata": {},
   "source": [
    "In Python, values have types; for example, the value `1` has the type `int`:"
   ]
  },
  {
   "cell_type": "code",
   "execution_count": null,
   "metadata": {},
   "outputs": [],
   "source": [
    "%%python\n",
    "type(1)"
   ]
  },
  {
   "cell_type": "markdown",
   "metadata": {},
   "source": [
    "As another example, the value `\"Not one\"` has the type `str`:"
   ]
  },
  {
   "cell_type": "code",
   "execution_count": null,
   "metadata": {},
   "outputs": [],
   "source": [
    "%%python\n",
    "type(\"Not one\")"
   ]
  },
  {
   "cell_type": "markdown",
   "metadata": {},
   "source": [
    "Unlike values, variables in Python do not have types. Any value can be assigned to a variable in Python. For example, we can create a variable named `x`, assign the `int` value of `1` to `x`, and then assign the `str` value of `\"Not one\"` to `x`:"
   ]
  },
  {
   "cell_type": "code",
   "execution_count": null,
   "metadata": {},
   "outputs": [],
   "source": [
    "%%python\n",
    "x = 1\n",
    "print(x)\n",
    "\n",
    "x = \"Not one\"\n",
    "print(x)"
   ]
  },
  {
   "cell_type": "markdown",
   "metadata": {},
   "source": [
    "In Python, a variable is simply a name that is not permanently bound to any particular type. "
   ]
  },
  {
   "cell_type": "markdown",
   "metadata": {},
   "source": [
    "# Java is a statically typed language\n"
   ]
  },
  {
   "cell_type": "markdown",
   "metadata": {},
   "source": [
    "Java is a statically typed language which means Java performs type checking *when a program is compiled*. Consider the program in the following cell which is the Java version of the first program from the \"Python is a dynamically typed language\" section; try running the cell:"
   ]
  },
  {
   "cell_type": "code",
   "execution_count": null,
   "metadata": {},
   "outputs": [],
   "source": [
    "int x = 1;\n",
    "if (x > 0) {\n",
    "    System.out.println(\"positive\");\n",
    "}\n",
    "else {\n",
    "    x += \" is not positive\";\n",
    "    System.out.println(x);\n",
    "}"
   ]
  },
  {
   "cell_type": "markdown",
   "metadata": {},
   "source": [
    "Unlike the Python version, the program does not run even though the code the `else` clause does not execute when `x` has the value `1`. The type error has been detected by the Java compiler at compile time. Proponents of statically typed languages often cite the ability to detect errors early during compile time as an advantage compared to dynamically typed languages."
   ]
  },
  {
   "cell_type": "markdown",
   "metadata": {},
   "source": [
    "In Java, both values and variables have types. Notice that the first time the variable `x` is mentioned the type `int` is placed in front of the name `x`. We say that the variable `x` is *declared* as a variable of type `int`. This means that only `int` values, or values that the compiler is willing to convert to type `int`, can be stored in the variable `x`.\n",
    "\n",
    "Run the following cell to see what happens if we try to store a string in the variable `x`:"
   ]
  },
  {
   "cell_type": "code",
   "execution_count": null,
   "metadata": {},
   "outputs": [],
   "source": [
    "int x = 1;\n",
    "System.out.println(x);\n",
    "\n",
    "x = \"Not one\";          // store a string in x?\n",
    "System.out.println(x);"
   ]
  },
  {
   "cell_type": "markdown",
   "metadata": {},
   "source": [
    "Once again, notice that the program does not run; instead a compile time error is emitted indicating that a \"String cannot be converted to int\".\n",
    "\n",
    "After a variable is declared it *cannot* be re-declared to have a different type. For example, run the following cell to see what happens if we try to fix the error in the previous cell by re-declaring `x` to have type `String`:"
   ]
  },
  {
   "cell_type": "code",
   "execution_count": null,
   "metadata": {},
   "outputs": [],
   "source": [
    "int x = 1;\n",
    "System.out.println(x);\n",
    "\n",
    "String x = \"Not one\";    // re-declare x to have type string?\n",
    "System.out.println(x);"
   ]
  },
  {
   "cell_type": "markdown",
   "metadata": {},
   "source": [
    "This time a compile time error occurs indicating that `x` has already been defined."
   ]
  },
  {
   "cell_type": "markdown",
   "metadata": {},
   "source": [
    "If we need a variable to hold a string value then we can declare a new variable having a different name of type `String`. Run the following cell that uses two variables of different types:"
   ]
  },
  {
   "cell_type": "code",
   "execution_count": null,
   "metadata": {},
   "outputs": [],
   "source": [
    "int x = 1;\n",
    "System.out.println(x);\n",
    "\n",
    "String y = \"Not one\";    \n",
    "System.out.println(y);"
   ]
  },
  {
   "cell_type": "markdown",
   "metadata": {},
   "source": [
    "The reader might wonder if this means that a program can use a variable name only once in an entire program. The answer is no, a name can be declared only once in what Java calls a *block*. A block is a part of a Java program enclosed by a matched pair of braces `{}`. For example, run the following cell that contains two blocks:"
   ]
  },
  {
   "cell_type": "code",
   "execution_count": null,
   "metadata": {},
   "outputs": [],
   "source": [
    "// block 1\n",
    "{\n",
    "    int x = 1;\n",
    "    System.out.println(x);\n",
    "}\n",
    "\n",
    "// block 2\n",
    "{\n",
    "    String x = \"Not one\";    // ok\n",
    "    System.out.println(x);\n",
    "}"
   ]
  },
  {
   "cell_type": "markdown",
   "metadata": {},
   "source": [
    "Before continuing the current discussion, it must be pointed out that the previous cell is not an example of good Java programming practice; instead of creating two blocks it is easier to simply create a separate variable.\n",
    "\n",
    "We say that the *scope* of a variable is the block in which it is defined. This means that a variable name has meaning only inside of the block that it is declared in. In the previous cell, `x` is an `int` variable in block 1. Immediately after block 1, the name `x` has no meaning and it is an error to attempt to use `x` outside of block 1:"
   ]
  },
  {
   "cell_type": "code",
   "execution_count": null,
   "metadata": {},
   "outputs": [],
   "source": [
    "{\n",
    "    int x = 1;\n",
    "    System.out.println(x);\n",
    "}\n",
    "System.out.println(x);    // oops, x is out of scope"
   ]
  },
  {
   "cell_type": "markdown",
   "metadata": {},
   "source": [
    "Blocks are often nested, especially when using `if` statements and loops. The scope of a variable includes the block that the variable was declared in and all of the blocks that are inside of that block. Run the following cell illustrating the scope of `x` in a series of nested blocks."
   ]
  },
  {
   "cell_type": "code",
   "execution_count": null,
   "metadata": {},
   "outputs": [],
   "source": [
    "// block 1\n",
    "{\n",
    "    int x = 1;\n",
    "   // block 2\n",
    "    {\n",
    "        System.out.println(\"block 2, x is : \" + x);\n",
    "       // block 3\n",
    "        {\n",
    "            System.out.println(\"block 3, x is : \" + x);\n",
    "           // block 4\n",
    "            {\n",
    "                System.out.println(\"block 4, x is : \" + x);\n",
    "            }\n",
    "        }\n",
    "    }\n",
    "    System.out.println(\"block 1, x is : \" + x);\n",
    "}"
   ]
  },
  {
   "cell_type": "markdown",
   "metadata": {},
   "source": [
    "## Exercises"
   ]
  },
  {
   "cell_type": "markdown",
   "metadata": {},
   "source": [
    "1. What is wrong with the following Java program?\n",
    "    ```java\n",
    "    x = 1;\n",
    "    System.out.println(x);\n",
    "    ```\n",
    " Fix the program so that it runs in the following cell."
   ]
  },
  {
   "cell_type": "code",
   "execution_count": null,
   "metadata": {},
   "outputs": [],
   "source": [
    "// Exercise 1\n"
   ]
  },
  {
   "cell_type": "markdown",
   "metadata": {},
   "source": [
    "2. Consider the following Java program:\n",
    "    ```java\n",
    "    String s = \"hello\";\n",
    "    {\n",
    "       // block 1\n",
    "        \n",
    "    }\n",
    "\n",
    "    {\n",
    "       // block 2\n",
    "        \n",
    "    }\n",
    "    ```\n",
    " Can `s` be used in block 1? block 2? Edit the following cell to prove your answers."
   ]
  },
  {
   "cell_type": "code",
   "execution_count": null,
   "metadata": {},
   "outputs": [],
   "source": [
    "// Exercise 2\n"
   ]
  },
  {
   "cell_type": "markdown",
   "metadata": {},
   "source": [
    "3. Consider the following Java program:\n",
    "    ```java\n",
    "    // block 1\n",
    "    {\n",
    "        // block 2\n",
    "        {\n",
    "            String s = \"hello\";\n",
    "            // block 3\n",
    "            {\n",
    "                // block 4\n",
    "                {\n",
    "                \n",
    "                }\n",
    "            }\n",
    "        }\n",
    "    }\n",
    "    ```\n",
    "  Can `s` be used immediately after block 3? block 4? block 1? Edit the following cell to prove your answers:"
   ]
  },
  {
   "cell_type": "code",
   "execution_count": null,
   "metadata": {},
   "outputs": [],
   "source": [
    "// Exercise 3\n"
   ]
  }
 ],
 "metadata": {
  "kernelspec": {
   "display_name": "Java",
   "language": "java",
   "name": "java"
  },
  "language_info": {
   "codemirror_mode": "text/x-java",
   "file_extension": ".java",
   "mimetype": "",
   "name": "Java",
   "nbconverter_exporter": "",
   "version": "1.8.0_121"
  },
  "toc": {
   "base_numbering": 1,
   "nav_menu": {},
   "number_sections": false,
   "sideBar": false,
   "skip_h1_title": false,
   "title_cell": "Table of Contents",
   "title_sidebar": "Contents",
   "toc_cell": false,
   "toc_position": {},
   "toc_section_display": false,
   "toc_window_display": false
  }
 },
 "nbformat": 4,
 "nbformat_minor": 4
}
