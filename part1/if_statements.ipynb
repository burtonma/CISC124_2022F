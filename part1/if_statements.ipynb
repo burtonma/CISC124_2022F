{
 "cells": [
  {
   "cell_type": "code",
   "execution_count": null,
   "metadata": {},
   "outputs": [],
   "source": [
    "// run this cell to prevent Jupyter from displaying the null output cell\n",
    "com.twosigma.beakerx.kernel.Kernel.showNullExecutionResult = false;"
   ]
  },
  {
   "cell_type": "markdown",
   "metadata": {},
   "source": [
    "<a id=\"notebook_id\"></a>\n",
    "# `if` statement\n",
    "\n",
    "The `if` statement in Python and Java are almost identical with the exception of some minor syntactic differences."
   ]
  },
  {
   "cell_type": "markdown",
   "metadata": {},
   "source": [
    "## Python `if` statement\n",
    "\n",
    "The three basic variations of the `if` statement in Python are illustrated in the example below:"
   ]
  },
  {
   "cell_type": "code",
   "execution_count": null,
   "metadata": {},
   "outputs": [],
   "source": [
    "%%python\n",
    "\n",
    "# computes the absolute value of x\n",
    "\n",
    "# change of the value of x to positive when you run this the second time\n",
    "x = -1      \n",
    "if x < 0:\n",
    "    x = -x\n",
    "print('absolute value of x is: ' + str(x))"
   ]
  },
  {
   "cell_type": "code",
   "execution_count": null,
   "metadata": {},
   "outputs": [],
   "source": [
    "%%python\n",
    "\n",
    "# determines if an integer is even\n",
    "\n",
    "# try different values of x when you run this again\n",
    "x = 2\n",
    "\n",
    "if x % 2 == 0:\n",
    "    is_even = True\n",
    "else:\n",
    "    is_even = False\n",
    "print(str(x) + ' is even: ' + str(is_even))"
   ]
  },
  {
   "cell_type": "code",
   "execution_count": null,
   "metadata": {},
   "outputs": [],
   "source": [
    "%%python\n",
    "\n",
    "# compute the minimum of three values\n",
    "\n",
    "# change the values of x, y, and z when you run this again so that\n",
    "# the minimum value is assigned to y and then z\n",
    "x = 1;\n",
    "y = 2;\n",
    "z = 3;\n",
    "if x <= y and x <= z:\n",
    "    min_val = x\n",
    "elif y <= x and y <= z:\n",
    "    min_val = y\n",
    "else:\n",
    "    min_val = z\n",
    "print('min: ' + str(min_val))"
   ]
  },
  {
   "cell_type": "markdown",
   "metadata": {},
   "source": [
    "## Java `if` statement\n",
    "\n",
    "The Java `if` statement is similar to the Python `if` statement except for some syntactic differences:\n",
    "\n",
    "* Java requires that the checked condition be enclosed in parentheses `()`\n",
    "* instead of the colon and indentation Java uses a matched pair of braces `{}` to delimit the body of each clause\n",
    "* instead of `elif` Java uses `else if`\n",
    "\n",
    "The three examples in the section can be easily translated in Java like so:"
   ]
  },
  {
   "cell_type": "code",
   "execution_count": null,
   "metadata": {},
   "outputs": [],
   "source": [
    "// computes the absolute value of x\n",
    "\n",
    "// change of the value of x to positive when you run this the second time\n",
    "int x = -1;\n",
    "if (x < 0) {\n",
    "    x = -x;\n",
    "}\n",
    "System.out.println(\"absolute value of x is: \" + x);"
   ]
  },
  {
   "cell_type": "code",
   "execution_count": null,
   "metadata": {},
   "outputs": [],
   "source": [
    "// determines if an integer is even\n",
    "\n",
    "// try different values of x when you run this again\n",
    "int x = 2;\n",
    "\n",
    "boolean isEven;\n",
    "if (x % 2 == 0) {\n",
    "    isEven = true;\n",
    "}\n",
    "else {\n",
    "    isEven = false;\n",
    "}\n",
    "System.out.println(x + \" is even: \" + isEven);"
   ]
  },
  {
   "cell_type": "code",
   "execution_count": null,
   "metadata": {},
   "outputs": [],
   "source": [
    "// compute the minimum of three values\n",
    "\n",
    "// change the values of x, y, and z when you run this again so that\n",
    "// the minimum value is assigned to y and then z\n",
    "int x = 1;\n",
    "int y = 2;\n",
    "int z = 3;\n",
    "int min_val;\n",
    "if (x <= y && x <= z) {\n",
    "    min_val = x;\n",
    "}\n",
    "else if (y <= x && y <= z) {\n",
    "    min_val = y;\n",
    "}\n",
    "else {\n",
    "    min_val = z;\n",
    "}\n",
    "System.out.println(\"min: \" + min_val);"
   ]
  },
  {
   "cell_type": "markdown",
   "metadata": {},
   "source": [
    "## Exercises\n",
    "\n",
    "1. Look up information for the conditional operator `? :`. Use the operator to replace the following `if` statement with a single line of code:\n",
    "    ```java\n",
    "    int x = 1;\n",
    "    int y;\n",
    "    if (x > 0) {\n",
    "        y = x;\n",
    "    }\n",
    "    else {\n",
    "        y = -2 * x;\n",
    "    }\n",
    "    ```"
   ]
  },
  {
   "cell_type": "code",
   "execution_count": null,
   "metadata": {},
   "outputs": [],
   "source": [
    "// Exercise 1\n",
    "int x = 1;\n",
    "int y;\n"
   ]
  },
  {
   "cell_type": "markdown",
   "metadata": {},
   "source": [
    "2. In the cell below write an `if` statement that sets `y` to `1` if `x` is less than or equal to `5`."
   ]
  },
  {
   "cell_type": "code",
   "execution_count": null,
   "metadata": {},
   "outputs": [],
   "source": [
    "// Exercise 2\n",
    "\n",
    "int x = 0;   // try several different values for x\n",
    "int y;\n"
   ]
  },
  {
   "cell_type": "markdown",
   "metadata": {},
   "source": [
    "3. In the cell below write an `if` statement that sets `y` to `1` if `x` is between the values `0` and `10` (inclusive)."
   ]
  },
  {
   "cell_type": "code",
   "execution_count": null,
   "metadata": {},
   "outputs": [],
   "source": [
    "// Exercise 3\n",
    "\n",
    "int x = 5;   // try several different values for x\n",
    "int y;\n"
   ]
  },
  {
   "cell_type": "markdown",
   "metadata": {},
   "source": [
    "4. In the cell below write an `if` statement that sets `y` to `1` if `x` is between the values `0` and `10` (inclusive) or between the values `20` and `30` (inclusive)."
   ]
  },
  {
   "cell_type": "code",
   "execution_count": null,
   "metadata": {},
   "outputs": [],
   "source": [
    "// Exercise 4\n",
    "\n",
    "int x = 25;   // try several different values for x\n",
    "int y;\n"
   ]
  },
  {
   "cell_type": "markdown",
   "metadata": {},
   "source": [
    "5. In the cell below re-write the `if` statement so that the `||` operator is replaced with `&&` and the meaning of the `if` statement remains unchanged."
   ]
  },
  {
   "cell_type": "code",
   "execution_count": null,
   "metadata": {},
   "outputs": [],
   "source": [
    "// Exercise 5\n",
    "\n",
    "int x = 3;   // try several different values for x\n",
    "int y = 0;\n",
    "if (x < 0 || x > 5) {\n",
    "    y = 1;\n",
    "}\n"
   ]
  },
  {
   "cell_type": "markdown",
   "metadata": {},
   "source": [
    "6. In the cell below re-write the `if` statement so that the `||` operator is replaced with `&&` and the meaning of the `if` statement remains unchanged."
   ]
  },
  {
   "cell_type": "code",
   "execution_count": null,
   "metadata": {},
   "outputs": [],
   "source": [
    "// Exercise 6\n",
    "\n",
    "int x = 3;   // try several different values for x\n",
    "int y = 0;\n",
    "if (!(x < 0 || x > 5)) {\n",
    "    y = 1;\n",
    "}\n"
   ]
  },
  {
   "cell_type": "markdown",
   "metadata": {},
   "source": [
    "7. In the cell below re-write the `if` statement so that the `&&` operator is replaced with `||` and the meaning of the `if` statement remains unchanged."
   ]
  },
  {
   "cell_type": "code",
   "execution_count": null,
   "metadata": {},
   "outputs": [],
   "source": [
    "// Exercise 7\n",
    "\n",
    "int x = 3;   // try several different values for x\n",
    "int y = 0;\n",
    "if (x > -5 && x < 5) {\n",
    "    y = 1;\n",
    "}\n"
   ]
  },
  {
   "cell_type": "markdown",
   "metadata": {},
   "source": [
    "8. Consider a circle of radius 1 centered on the origin. Suppose that `x` and `y` represent the coordinates of a point $(x, y)$. Write an `if` statement that sets the value of `isInside` to `true` if the point $(x, y)$ is inside the circle (or on its perimeter), and `false` otherwise."
   ]
  },
  {
   "cell_type": "code",
   "execution_count": null,
   "metadata": {},
   "outputs": [],
   "source": [
    "// Exercise 8\n",
    "\n",
    "double x = 0.5;      // try several different values of x and y\n",
    "double y = -0.25;\n",
    "boolean isInside;\n"
   ]
  },
  {
   "cell_type": "markdown",
   "metadata": {},
   "source": [
    "9. A triangle is an isosceles triangle if two sides have the same length. An equilateral triangle is triangle where all three sides have the same length; equilateral triangles are usually also considered to be isosceles triangles, but sometimes it is important to distinguish between the two. Write an `if` statement that sets the value of `isIso` to `true` if the triangle with side lengths `a`, `b`, and `c` is strictly an isosceles triangle (exactly two sides are equal in length) and `false` otherwise."
   ]
  },
  {
   "cell_type": "code",
   "execution_count": null,
   "metadata": {},
   "outputs": [],
   "source": [
    "// Exercise 9\n",
    "int a = 1;      // try several values of a, b, and c\n",
    "int b = 1;\n",
    "int c = 3;\n",
    "boolean isIso;"
   ]
  },
  {
   "cell_type": "markdown",
   "metadata": {},
   "source": [
    "10. Suppose that you have three string references and you want to know if the three strings are unique (none of the strings are equal to any of the others). Write an `if` statement that sets `isUnique` to `true` if the three strings are unique, and `false` otherwise."
   ]
  },
  {
   "cell_type": "code",
   "execution_count": null,
   "metadata": {},
   "outputs": [],
   "source": [
    "// Exercise 10\n",
    "String s = new String(\"abc\");\n",
    "String t = new String(\"xyz\");\n",
    "String u = new String(\"abc\");\n",
    "boolean isUnique;\n"
   ]
  },
  {
   "cell_type": "markdown",
   "metadata": {},
   "source": [
    "11. A simplified version of the hypertension (high blood pressure) categories defined by the American Heart Association is defined in the table below. Write an `if` statement that prints the blood pressure category given values for the systolic and diastolic pressures.\n",
    "\n",
    "| Category | Systolic pressure | | Diastolic pressure |\n",
    "|:-|:-|:-|:-|\n",
    "|normal| less than 120 | AND | less than 80 |\n",
    "|prehypertension| between 120 and 140 | OR | between 80 and 90 |\n",
    "|high blood pressure| greater than or equal to 140 | OR | greater than or equal to 90 |\n"
   ]
  },
  {
   "cell_type": "code",
   "execution_count": null,
   "metadata": {},
   "outputs": [],
   "source": [
    "// Exercise 11\n",
    "double sys = 119.5;    // try several values of sys and dia\n",
    "double dia = 82.1; \n"
   ]
  },
  {
   "cell_type": "markdown",
   "metadata": {},
   "source": [
    "12. Many students will write code to test if a value is within a valid range that resembles the following:\n",
    "    ```java\n",
    "    if (x < 0 && x > 10) {\n",
    "        throw new IllegalArgumentException(\"x out of range!\");\n",
    "    }\n",
    "   // value of x is ok here\n",
    "    ```\n",
    " Is such code sensible?"
   ]
  },
  {
   "cell_type": "code",
   "execution_count": null,
   "metadata": {},
   "outputs": [],
   "source": []
  }
 ],
 "metadata": {
  "kernelspec": {
   "display_name": "Java",
   "language": "java",
   "name": "java"
  },
  "language_info": {
   "codemirror_mode": "text/x-java",
   "file_extension": ".java",
   "mimetype": "",
   "name": "Java",
   "nbconverter_exporter": "",
   "version": "11.0.1-internal"
  },
  "toc": {
   "base_numbering": 1,
   "nav_menu": {},
   "number_sections": false,
   "sideBar": false,
   "skip_h1_title": false,
   "title_cell": "Table of Contents",
   "title_sidebar": "Contents",
   "toc_cell": false,
   "toc_position": {},
   "toc_section_display": false,
   "toc_window_display": false
  }
 },
 "nbformat": 4,
 "nbformat_minor": 4
}
