{
 "cells": [
  {
   "cell_type": "markdown",
   "metadata": {},
   "source": [
    "<a id=\"notebook_id\"></a>\n",
    "# Reading an API\n",
    "\n",
    "An application programming interface (API) for a software library describes how components of the library should behave. The Java Development Kit comes with a large library having its own API that is documented in a standard fashion.\n",
    "\n",
    "An important skill that a Java programmer must learn is how to read Java documentation. The Java Development Kit (Version 11) official documentation home page is:\n",
    "\n",
    "https://docs.oracle.com/en/java/javase/11/\n",
    "\n",
    "and the Java Platform library documentation home page is:\n",
    "\n",
    "https://docs.oracle.com/en/java/javase/11/docs/api/index.html\n",
    "\n",
    "The above web pages contain a wealth of information that is indispensable for all Java practitioners.\n",
    "\n",
    "The Java library is very large and navigating the documentation for the entire library can be difficult for new programmers, especially because the library contains many features that a new programmer will not be familiar with. With some of guidance, patience, and practice any programmer can learn how to read and use Java documentation.\n",
    "\n",
    "Java documentation is presented as HTML web pages. Because of the visual nature of the documentation it is easier to watch a video that explains how to navigate the web pages then it is to read a list of instructions.\n",
    "\n",
    "Run the following cell to view a video tutorial (hosted on YouTube)."
   ]
  },
  {
   "cell_type": "code",
   "execution_count": null,
   "metadata": {},
   "outputs": [],
   "source": [
    "%%python\n",
    "from IPython.display import YouTubeVideo\n",
    "\n",
    "YouTubeVideo('5q54Oz5R0Q0', width=560, height=315)"
   ]
  },
  {
   "cell_type": "markdown",
   "metadata": {},
   "source": [
    "## Exercises\n",
    "\n",
    "1. Find the documentation for the class `Arrays` in the package `java.util`.\n",
    "    * how many public fields does the class have?\n",
    "    * how many public constructors does the class have?\n",
    "    * how many methods *do not* have the `static` modifier?\n",
    "    * what is the name of a method that makes a copy of an array? (there are many)\n",
    "\n",
    "2. Find the documentation for the class `Scanner` in the package `java.util`. Try running the first, third, and fourth examples of using a scanner found in the class description section (you cannot run the second example because it creates a scanner that scans a file). You can use the cell below to run the examples. Note that the cell already imports the class for you."
   ]
  },
  {
   "cell_type": "code",
   "execution_count": null,
   "metadata": {},
   "outputs": [],
   "source": [
    "// Exercise 2\n",
    "import java.util.Scanner;\n",
    "\n",
    "Scanner sc = new Scanner(System.in);\n",
    "int i = sc.nextInt();"
   ]
  },
  {
   "cell_type": "markdown",
   "metadata": {},
   "source": [
    "3. Find the documentation for the class `Math` in `java.lang`. What method would you use to:\n",
    "    * round a `double` value down to the nearest integer value?\n",
    "    * round a `double` value up to the nearest integer value?\n",
    "    * round a `double` value to the nearest integer value?\n",
    "    * accurately compute the value of `a * b + c`?\n",
    "    * accurately compute the distance between the origin and a 2-dimensional point having coordinates $(x, y)$?\n",
    "    * compute the greater value of two `int` values?\n",
    "    * compute the lesser value of two `int` values?\n",
    "    * compute the square root of a `double` value?\n",
    "    \n",
    "4. A `StringBuilder` is one type of string where the programmer can change the characters in the string. Find the documentation for the `StringBuilder` class.\n",
    "    * does the class have any public fields?\n",
    "    * does the class have any public constructors?\n",
    "    * what method would you use to:\n",
    "        - add an `int` to the end of the string?\n",
    "        - find the index of a specified character in the string?\n",
    "            - if the specified character appears more than once in the string, which index is returned?\n",
    "        - change a character in the string (perhaps using its index)?\n",
    "            - can the method throw an exception? what type?\n",
    "        - add a character somewhere in the middle of the string?\n",
    "            - can the method throw an exception? what type?\n",
    "5. The class `Object` is the most important class in the Java language. Find the documentation for the class. There are at least two methods that every Java programmer needs to be familiar with in the `Object` class:\n",
    "    * `equals(Object)`\n",
    "    * `toString()`\n",
    "    \n",
    " What do these two methods do?"
   ]
  },
  {
   "cell_type": "markdown",
   "metadata": {},
   "source": [
    "# Using static fields and methods\n",
    "\n",
    "The `java.lang.Math` class contains many methods for performing basic numeric operations. The `Math` class is an example of what is\n",
    "called a *utility class*. A utility class is a class that contains only static fields and static methods.\n",
    "\n",
    "To access a static field, you write the name of the class followed by `.` (the dot operator) followed by the name of the field.\n",
    "The `Math` class has a static field named `PI` that represents the `double` value closest to $\\pi$. The field can be accessed like so:"
   ]
  },
  {
   "cell_type": "code",
   "execution_count": null,
   "metadata": {},
   "outputs": [],
   "source": [
    "// compute area of circle with radius 1\n",
    "double radius = 1;\n",
    "double area = Math.PI * radius * radius;\n",
    "\n",
    "System.out.println(area);"
   ]
  },
  {
   "cell_type": "markdown",
   "metadata": {},
   "source": [
    "**Exercise 6** Print the value of the `Math` field `E`."
   ]
  },
  {
   "cell_type": "code",
   "execution_count": null,
   "metadata": {},
   "outputs": [],
   "source": [
    "//  Exercise 6\n"
   ]
  },
  {
   "cell_type": "markdown",
   "metadata": {},
   "source": [
    "To call a static method, you write the name of the class followed by `.` (the dot operator) followed by the name of the method, parentheses, and\n",
    "arguments to the method (similar to calling a Python function). The `Math` class has the following static method:\n",
    "\n",
    "```java\n",
    "public static double abs(double a)\n",
    "```\n",
    "\n",
    "that computes and returns the absolute value of the `double` parameter `a`. \n",
    "\n",
    "Unlike Python functions, a Java method declares the type of the value returned by the method.\n",
    "The type in front of the method name is the type of the value returned by the method. This version of `abs` returns a `double` value.\n",
    "\n",
    "Unlike Python, the list of parameters (inside the parentheses) all have types. This version of `abs` has one parameter of type `double`.\n",
    "\n",
    "To call a method, the caller must supply arguments that match the order, number, and types of the parameters. `abs` has only one\n",
    "parameter of type `double` so the caller must supply one argument of type `double`. For example:"
   ]
  },
  {
   "cell_type": "code",
   "execution_count": null,
   "metadata": {},
   "outputs": [],
   "source": [
    "double x = -1.5;\n",
    "double y = Math.abs(x);\n",
    "\n",
    "System.out.println(y);"
   ]
  },
  {
   "cell_type": "markdown",
   "metadata": {},
   "source": [
    "The `Math` class actually has four methods named `abs`:\n",
    "\n",
    "```java\n",
    "public static double abs(double a)\n",
    "public static float  abs(float a)\n",
    "public static int    abs(int a)\n",
    "public static long   abs(long a)\n",
    "```\n",
    "\n",
    "Methods with the same name in the same class are called *overloaded* methods. When calling an overloaded method, the Java compiler examines\n",
    "the number of arguments and their types that are used to call the method and selects the version of the method that most closely matches.\n",
    "The return type is *not used* to determine which version of the method is called. Calling `abs` with an `int` argument results in \n",
    "the `int` version being called:"
   ]
  },
  {
   "cell_type": "code",
   "execution_count": null,
   "metadata": {},
   "outputs": [],
   "source": [
    "int x = -1;\n",
    "int y = Math.abs(x);\n",
    "\n",
    "System.out.println(y);"
   ]
  },
  {
   "cell_type": "markdown",
   "metadata": {},
   "source": [
    "**Exercise 7** Call the `abs` method with a `float` argument and store the return value in a `float` variable. Print the stored value."
   ]
  },
  {
   "cell_type": "code",
   "execution_count": null,
   "metadata": {},
   "outputs": [],
   "source": [
    "// Exercise 7\n"
   ]
  },
  {
   "cell_type": "markdown",
   "metadata": {},
   "source": [
    "It is a compile-time error to call a method where an argument type is not compatible with its matching parameter type. For example, the following\n",
    "does not compile because there is no `abs` method with a `String` parameter:"
   ]
  },
  {
   "cell_type": "code",
   "execution_count": null,
   "metadata": {},
   "outputs": [],
   "source": [
    "int y = Math.abs(\"-1.5\");"
   ]
  },
  {
   "cell_type": "markdown",
   "metadata": {},
   "source": [
    "Notice that the error message when running the previous cell indicates that the compiler is will to try to convert an argument\n",
    "type so that it matches a parameter type.\n",
    "\n",
    "The `Math` class has four methods named `max` that return the greater of the two arguments:\n",
    "\n",
    "```java\n",
    "public static double max(double a, double b)\n",
    "public static float  max(float a, float b)\n",
    "public static int    max(int a, int b)\n",
    "public static long   max(long a, long b)\n",
    "```\n",
    "\n",
    "The caller must supply two arguments to call any of the `max` methods. If the caller uses arguments of two different types, then the\n",
    "compiler attempts to convert one (or both) of the types. For example:"
   ]
  },
  {
   "cell_type": "code",
   "execution_count": null,
   "metadata": {},
   "outputs": [],
   "source": [
    "double x = Math.max(1, 2.0);   // (int, double)\n",
    "System.out.println(x);"
   ]
  },
  {
   "cell_type": "markdown",
   "metadata": {},
   "source": [
    "In the above example, there is no `max(int, double)` method so the compiler attempts to find the best match where one the arguments\n",
    "can be automatically converted to the correct type. \n",
    "\n",
    "The primitive numeric types have what are called *widths*. The type `double` is considered to be wider than `float`, which is wider than `long`, which is wider than `int`, which is wider than all of the other primitive numeric types. We can write this relationship as:\n",
    "\n",
    "$$\\text{double} > \\text{float} > \\text{long} > \\text{int} > \\text{all other primitive numeric types}$$\n",
    "\n",
    "The compiler will attempt a *widening conversion* if a method with the exact matching parameter types cannot be found. A widening conversion\n",
    "converts a primitive numeric type to a wider primitive numeric type. Narrowing conversions are not considered because they can more often\n",
    "lead to loss of precision after the conversion.\n",
    "\n",
    "In the above example, the argument `1` can be widened to the `double` value `1.0` so that the method `max(double, double)` best matches\n",
    "the call `max(1, 2.0)`."
   ]
  },
  {
   "cell_type": "markdown",
   "metadata": {},
   "source": [
    "**Exercise 8** Which version of `max` is called in each of the following lines of code?\n",
    "\n",
    "```java\n",
    "    double x = 0.0;\n",
    "    \n",
    "    x = Math.max(5, 8);\n",
    "    x = Math.max(1f, 3);\n",
    "    x = Math.max(1L, 3);\n",
    "    x = Math.max(1f, 3f);\n",
    "    x = Math.max(1f, 3L);\n",
    "    x = Math.max(1f, 3.0);\n",
    "```\n",
    "\n",
    "**Exercise 9** Suppose that you have three `int` values `a`, `b`, and `c`. How can you find the largest of the three values using\n",
    "only the `max` method?\n",
    "\n",
    "**Exercise 10** Suppose that you have two `double` values `x` and `y`. How can you find the largest of the two values\n",
    "using only the `abs` method and basic arithmetic operations?"
   ]
  },
  {
   "cell_type": "code",
   "execution_count": null,
   "metadata": {},
   "outputs": [],
   "source": [
    "// Exercises 9 and 10\n"
   ]
  }
 ],
 "metadata": {
  "kernelspec": {
   "display_name": "Java",
   "language": "java",
   "name": "java"
  },
  "language_info": {
   "codemirror_mode": "text/x-java",
   "file_extension": ".java",
   "mimetype": "",
   "name": "Java",
   "nbconverter_exporter": "",
   "version": "1.8.0_121"
  },
  "toc": {
   "base_numbering": 1,
   "nav_menu": {},
   "number_sections": false,
   "sideBar": false,
   "skip_h1_title": false,
   "title_cell": "Table of Contents",
   "title_sidebar": "Contents",
   "toc_cell": false,
   "toc_position": {},
   "toc_section_display": false,
   "toc_window_display": false
  }
 },
 "nbformat": 4,
 "nbformat_minor": 4
}
