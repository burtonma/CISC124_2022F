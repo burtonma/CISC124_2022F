{
 "cells": [
  {
   "cell_type": "code",
   "execution_count": null,
   "metadata": {},
   "outputs": [],
   "source": [
    "// run this cell to prevent Jupyter from displaying the null output cell\n",
    "com.twosigma.beakerx.kernel.Kernel.showNullExecutionResult = false;"
   ]
  },
  {
   "cell_type": "markdown",
   "metadata": {},
   "source": [
    "<a id='notebook_id'></a>\n",
    "# A closer look at `HelloWorld.java`\n",
    "\n",
    "Recall the Java version of the \"Hello, world!\" program from the previous notebook shown in the following cell; run the cell to compile the program."
   ]
  },
  {
   "cell_type": "code",
   "execution_count": null,
   "metadata": {},
   "outputs": [],
   "source": [
    "class HelloWorld {\n",
    "    \n",
    "    public static void main(String... args) {\n",
    "        System.out.println(\"Hello, world!\");\n",
    "    }\n",
    "}"
   ]
  },
  {
   "cell_type": "markdown",
   "metadata": {},
   "source": [
    "There is quite a bit more code in the Java version of the program compared to the Python version.\n",
    "\n",
    "The principles underlying every Java program will be described in greater detail as the reader progresses through this course; however, some explanation of the features of the \"Hello, world!\" program are necessary at this point.\n",
    "\n",
    "The reader now has a choice in how much detail they want at this point in the course:\n",
    "\n",
    "1. Read the section **Give me just the basics** for a quick explanation of the \"Hello, world!\" program.\n",
    "2. Read the section **Tell me more** for a more in-depth explanation of the \"Hello, world!\" program.\n",
    "\n",
    "The exercises at the end of this notebook are accessible regardless of which choice the reader makes."
   ]
  },
  {
   "cell_type": "markdown",
   "metadata": {},
   "source": [
    "## Give me just the basics\n",
    "\n",
    "A simple Java program like \"Hello, world!\" is normally created by defining a Java class. A simple class such as the `HelloWorld` class often begins with the keyword `class` and is then followed by a space followed by the name of the class. A class name normally begins with an uppercase letter (`H` in this case) and if the name is made up of multiple words each word begins with an uppercase letter (the `W` in `World` in this case).\n",
    "\n",
    "After the class name is the *class body* which is enclosed by braces `{}` (the braces on Lines 1 and 6 in this case).\n",
    "\n",
    "Every Java program requires at least one method named `main`. The \"Hello, world!\" `main` method is defined on Lines 3-5.\n",
    "\n",
    "A method in Java is similar to a method in Python, but readers are more likely familiar with Python functions. Java methods\n",
    "are similar to Python functions except that Java methods must belong to a class or an object. A `main` method is a static\n",
    "method which means that it belongs to a class, in this case the class `HelloWorld`. Because methods belong to either\n",
    "a class or an object, you need the name of the class or object to call the method.\n",
    "\n",
    "A `main` method is invoked when a Java program starts running. In Jupyter, we have to invoke the `main` method manually. Run the following cell to inovke the `HelloWorld` `main` method."
   ]
  },
  {
   "cell_type": "code",
   "execution_count": null,
   "metadata": {},
   "outputs": [],
   "source": [
    "HelloWorld.main();"
   ]
  },
  {
   "cell_type": "markdown",
   "metadata": {},
   "source": [
    "Outside of Jupyter, a Java program will have a `main` method invoked automatically by the Java Virtual Machine (JVM) when the program is run; the JVM is described in [The Java Virtual Machine (JVM) and Java compiler](./java_virtual_machine_and_java_compiler.ipynb#notebook_id) notebook.\n",
    "\n",
    "The `main` method shown in the \"Hello, world!\" begins with a *method header* that reads `public static void main(String... args)`. The Java langauge mandates that this is one of only two possible ways to write a `main` method header. Without going into too many details, the `main` method header says that:\n",
    "\n",
    "* the name of the method is `main`,\n",
    "* it can be invoked from any class (indicated by the `public` keyword),\n",
    "* that the name of the class should be used to invoke the method (indicated by the `static` keyword), and\n",
    "* that the caller of the method can pass in zero or more `String` arguments separated by commas when invoking the method (indicated by the parameter list inside of the parentheses)\n",
    "\n",
    "Immediately following the method header is the *method body* which is enclosed by braces `{}`. The \"Hello, world!\" `main` method body has a single line (Line 4) made up of the Java statement:\n",
    "\n",
    "```java\n",
    "        System.out.println(\"Hello, world!\");\n",
    "```\n",
    "\n",
    "which in this case has a similar effect as the Python statement:\n",
    "\n",
    "```python\n",
    "        print('Hello, world!');\n",
    "```\n",
    "\n",
    "The method `println` is used to output the string `\"Hello, world!\"`. As in Python, methods in Java are associated with objects (and sometimes classes) so an object reference is required to invoke the `println` method on. The object reference that corresponds to the standard output stream is named `out` and is found in the class named `System`."
   ]
  },
  {
   "cell_type": "markdown",
   "metadata": {},
   "source": [
    "## Tell me more\n",
    "\n",
    "The \"Hello, world!\" program is made up of two parts: (1) a class declaration that contains (2) a method declaration of a method named `main`.\n",
    "\n",
    "### Class declaration\n",
    "\n",
    "Lines 1-6 make up what Java calls a *class declaration*. A class declaration in Java is a definition of a Java class. A class is an implementation of a type defined by the programmer. A more detailed discussion of types and classes can be found in the [Types, classes, and objects](types_classes_objects.ipynb#notebook_id) notebook.\n",
    "\n",
    "In the Java programming language, all Java code must reside inside of a class or an interface. This means that even a simple program like \"Hello, world!\" must define a class or interface to contain the program code, and almost certainly the vast majority of Java programmers would write the \"Hello, world!\" program using a class rather than interface. Interfaces have a specific purpose in the Java language and are described in a later notebook.\n",
    "\n",
    "The keyword `class` is used to indicate the start of this particular class declaration. Immediately following the keyword `class` is the name of the class (`HelloWorld` in this case). By convention, class names begin with an uppercase letter (`H` in this case) and if the name is made up of multiple words each word begins with an uppercase letter (the `W` in `World` in this case).\n",
    "\n",
    "After the class name is the *class body* which is enclosed by braces `{}`.\n",
    "\n",
    "\n",
    "### Method declaration\n",
    "\n",
    "Lines 3-5 make up what Java calls a *method declaration* which is simply the definition of a Java method. A method is a sequence of Java statements that perform a specific task. A method gathers the statements in a *method body* (which is enclosed by braces `{}`) and provides a well-defined way for the programmer to use the method. When the programmer uses a method we say that the method is *called* or *invoked*.\n",
    "\n",
    "The method in the \"Hello, world!\" program is a special method called a `main` method. A `main` method is invoked when a Java program starts running. In Jupyter, we have to invoke the `main` method manually:"
   ]
  },
  {
   "cell_type": "code",
   "execution_count": null,
   "metadata": {},
   "outputs": [],
   "source": [
    "HelloWorld.main();"
   ]
  },
  {
   "cell_type": "markdown",
   "metadata": {},
   "source": [
    "Outside of Jupyter, a Java program will have a `main` method invoked automatically by the JVM.\n",
    "\n",
    "The Java language specifies that a `main` method always has a particular syntax. A `main` method must be written either as:\n",
    "\n",
    "```java\n",
    "    public static void main(String... args) {\n",
    "        \n",
    "    }\n",
    "```\n",
    "\n",
    "or\n",
    "\n",
    "```java\n",
    "    public static void main(String[] args) {\n",
    "        \n",
    "    }\n",
    "```\n",
    "\n",
    "with the exception that the name of the parameter `args` may be changed. The difference between the two versions is not very important because the `main` method is normally invoked automatically by the JVM and is almost never invoked by a programmer; nonetheless, the difference is explained later in this cell.\n",
    "\n",
    "The code `public static void main(String... args)` is called the *method header*.\n",
    "\n",
    "The keyword `public` is an *accesss modifier* that indicates that there are no restrictions on what other classes have access to the method.\n",
    "\n",
    "The keyword `static` means that the method should be invoked by using the class name `HelloWorld` followed by a period. If the keyword `static` was missing then the method must be invoked using an object reference.\n",
    "\n",
    "The order of `public` and `static` may be reversed but by convention the access modifier is placed before `static`.\n",
    "\n",
    "The keyword `void` indicates that the method does not return a value back to the caller.\n",
    "\n",
    "The name `main` is the name of the method. By convention, method names begin with a lowercase letter.\n",
    "\n",
    "The parentheses `()` enclose what is called the *formal parameter list* (or simply the *parameter list*). The parameters of a method are variables corresponding to the inputs for the method. A `main` method has exactly one parameter.\n",
    "\n",
    "In the first version of the `main` method, the *formal parameter specifier* (or simply *parameter specifier*) `String... args` indicates that there is a parameter named `args` and that its type is a `String` array. The three periods after `String` indicates that the caller may provide a `String` array or may provide a sequence of zero or more `String`s. A parameter whose type is followed by `...` is called a *variable arity* parameter.\n",
    "\n",
    "In the second version of the `main` method, the parameter specifier `String[] args` indicates that there is a parameter named `args` and that its type is a `String` array. The caller must provide a `String` array argument or `null` (indicating no array) to invoke this version of the method.\n",
    "\n",
    "The \"Hello, world!\" program does not make use of the parameter `args` which makes it difficult to create a meaningful example to illustrate the difference between the two versions of the `main` method. The exercises at the end of this notebook includes an exercise that illustrates the differences between the two versions of the `main` method."
   ]
  },
  {
   "cell_type": "markdown",
   "metadata": {},
   "source": [
    "### `System.out.println`\n",
    "\n",
    "The body of the \"Hello, world!\" `main` method contains the single line:\n",
    "\n",
    "```java\n",
    "        System.out.println(\"Hello, world!\");\n",
    "```\n",
    "\n",
    "which in this case has a similar effect as the Python statement:\n",
    "\n",
    "```python\n",
    "        print('Hello, world!')\n",
    "```\n",
    "\n",
    "The four components of the Java statement are:\n",
    "\n",
    "1. `System` is the name of a class that is part of Java SE. The `System` class provides methods and fields related to the computing environment that the program is running on (thus the name `System`). The documentation for the `System` class can be found [here](https://docs.oracle.com/en/java/javase/11/docs/api/java.base/java/lang/System.html).\n",
    "2. `out` is the name of a field of the `System` class that is a reference to the `PrintStream` object. A `PrintStream` object is able to print representations of various data values and the `PrintStream` object that is referenced by `out` is the standard output stream defined by the computing environment; on a desktop computer the standard output stream usually sends output to a terminal or console program.\n",
    "3. `println` is the name of a method defined by the `PrintStream` class. It prints its `String` argument followed by a line separator.\n",
    "4. The `String` literal `\"Hello, world!\"` is the argument to the `println` method."
   ]
  },
  {
   "cell_type": "markdown",
   "metadata": {},
   "source": [
    "## Exercises\n",
    "\n",
    "1. Using the cell below, create a class with a name of your choosing that includes a `main` method that outputs a message of your choice. Run the cell containing your class to compile it, and then run your program by manually invoking the `main` method of your class using the second cell below."
   ]
  },
  {
   "cell_type": "code",
   "execution_count": null,
   "metadata": {},
   "outputs": [],
   "source": [
    "// your class goes here"
   ]
  },
  {
   "cell_type": "code",
   "execution_count": null,
   "metadata": {},
   "outputs": [],
   "source": [
    "// invoke the main method of your class here"
   ]
  },
  {
   "cell_type": "markdown",
   "metadata": {},
   "source": [
    "2. In your class from Exercise 1, remove the keyword `static` from the `main` method. Does the class still compile? Does it still run?"
   ]
  },
  {
   "cell_type": "markdown",
   "metadata": {},
   "source": [
    "3. The following cell contains a class that when run will print the strings that were passed to the method as arguments. Run the cell to compile the class."
   ]
  },
  {
   "cell_type": "code",
   "execution_count": null,
   "metadata": {},
   "outputs": [],
   "source": [
    "class Echo {\n",
    "    \n",
    "    public static void main(String... args) {\n",
    "        System.out.println(\"Number of strings in args: \" + args.length);\n",
    "        for (String s : args) {\n",
    "            System.out.println(s);\n",
    "        }\n",
    "    }\n",
    "}"
   ]
  },
  {
   "cell_type": "markdown",
   "metadata": {},
   "source": [
    "Now run the `main` method by running the following cell:"
   ]
  },
  {
   "cell_type": "code",
   "execution_count": null,
   "metadata": {},
   "outputs": [],
   "source": [
    "Echo.main();"
   ]
  },
  {
   "cell_type": "markdown",
   "metadata": {},
   "source": [
    "Now edit the previous cell so that that it passes one string argument to the method; for example you might edit the cell so that it looks like:\n",
    "\n",
    "```java\n",
    "Echo.main(\"first\");\n",
    "```\n",
    "\n",
    "Run the cell after editing it and verify that the program prints the argument."
   ]
  },
  {
   "cell_type": "markdown",
   "metadata": {},
   "source": [
    "Now instead of passing one string argument, pass several string arguments where each string is separated from the previous using a comma. Run the cell after editing it and verify that the program prints each argument on a new line.\n",
    "\n",
    "The arguments supplied to a `main` method are often called *command-line arguments* because the user of the program supplies the arguments when they run the program. This is a common technique for allowing user-specified information to be supplied to a program when it is run."
   ]
  }
 ],
 "metadata": {
  "kernelspec": {
   "display_name": "Java",
   "language": "java",
   "name": "java"
  },
  "language_info": {
   "codemirror_mode": "text/x-java",
   "file_extension": ".java",
   "mimetype": "",
   "name": "Java",
   "nbconverter_exporter": "",
   "version": "1.8.0_121"
  },
  "toc": {
   "base_numbering": 1,
   "nav_menu": {},
   "number_sections": false,
   "sideBar": false,
   "skip_h1_title": false,
   "title_cell": "Table of Contents",
   "title_sidebar": "Contents",
   "toc_cell": false,
   "toc_position": {},
   "toc_section_display": false,
   "toc_window_display": false
  }
 },
 "nbformat": 4,
 "nbformat_minor": 4
}
