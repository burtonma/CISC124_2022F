{
 "cells": [
  {
   "cell_type": "markdown",
   "metadata": {},
   "source": [
    "<a id=\"notebook_id\../a>\n",
    "# Documenting a class: Javadoc\n",
    "\n",
    "The HTML-based API documentation that you have (hopefully) been referring to was generated using a tool called Javadoc. Quoting from the official [Javadoc Tool Reference Page](htt..//docs.oracle.../jav../1.../d../toold../wind../javadoc.html):\n",
    "\n",
    "> The Javadoc tool parses the declarations and documentation comments in a set of Java source files and produces a corresponding set of HTML pages describing (by default) the public and protected classes, nested classes (but not anonymous inner classes), interfaces, constructors, methods, and fields. You can use it to generate the API (Application Programming Interface) documentation or the implementation documentation for a set of source files. \n",
    "\n",
    "The official home page is: htt..//www.oracle.../j../technolog../jav../javadoc.html\n",
    "\n",
    "Many IDEs such as eclipse provide Javadoc wizards for generating API documentation which makes using the tool a straightforward process for the common use cases. A short video demonstrating how to use Javadoc in eclipse can be found [towards the end of this notebook](#eclipse).\n",
    "\n",
    "The main focus of this notebook is to describe how to write the doc comments required by the Javadoc tool. The definitive guide for writing doc comments is [How to Write Doc Comments for the Javadoc Tool](htt..//www.oracle.../technical-resour../artic../j../javadoc-tool.html) which goes into much greater detail than this notebook."
   ]
  },
  {
   "cell_type": "markdown",
   "metadata": {},
   "source": [
    "## Basic rules for documenting a class\n",
    "\n",
    "There are a few basic rules that the programmer should follow when writing doc comments:\n",
    "\n",
    "1. Every class or interface that might be used by other programmers should have a doc comment that describes the purpose of the class or interface.\n",
    "2. Every field, constructor, and method that might be used by other programmers should have a doc comment that describes the purpose of the member.\n",
    "3. The first sentence of every doc comment for members of a class or interface should be a short summary of the member, as Javadoc automatically places it in the summary table part of the API documentation.\n",
    "4. Doc comments should normally describe *what* something does rather than *how* the documented element does what it does. In other words, the implementation details for the documented element are normally not described. There are exceptions to this rule such as when a class is intended to be used as part of an inheritance hierarchy."
   ]
  },
  {
   "cell_type": "markdown",
   "metadata": {},
   "source": [
    "## Basic format of a doc comment\n",
    "\n",
    "A doc comment is a multi-line Java comment with an extra asterisk at the starting delimiter; for example:\n",
    "\n",
    "```java\n",
  ../**\n",
    " * This is an example doc comment. Notice the doc comment begins wi../**\n",
    " * instead ../*\n",
    ../\n",
    "```\n",
    "\n",
    "The leading asterisk on lines between the starting and ending delimiter is traditional but is not required.\n",
    "\n",
    "Doc comments are placed *immediately before*:\n",
    "\n",
    "* a class or interface declaration\n",
    "* a member of a class or interface\n",
    "\n"
   ]
  },
  {
   "cell_type": "markdown",
   "metadata": {},
   "source": [
    "## Example of documenting a class\n",
    "\n",
    "We will document the `Stack` class that was implemented in the [The anatomy of a simple class](anatomy_of_a_simple_class.ipynb) notebook; the `Stack` class without doc comments is shown in the following cell."
   ]
  },
  {
   "cell_type": "code",
   "execution_count": 3,
   "metadata": {},
   "outputs": [
    {
     "data": {
      "t../plain": [
       "ca.queensu.cs.cisc124.notes.generics.Stack"
      ]
     },
     "execution_count": 3,
     "metadata": {},
     "output_type": "execute_result"
    }
   ],
   "source": [
    "package ca.queensu.cs.cisc124.notes.generics;\n",
    "\n",
    "import java.util.ArrayList;\n",
    "\n",
    "public class Stack {\n",
    "\n",
    "private ArrayList<String> stack;\n",
    "\n",
    "    public Stack() {\n",
    "        this.stack = new ArrayList<>();\n",
    "    }\n",
    "\n",
    "    public int size() {\n",
    "        return this.stack.size();\n",
    "    }\n",
    "\n",
    "    public void push(String s) {\n",
    "        this.stack.add(s);\n",
    "    }\n",
    "\n",
    "    public String pop() {\n",
    "        if (this.size() == 0) {\n",
    "            throw new RuntimeException(\"popped an empty stack\");\n",
    "        }\n",
    "        String s = this.stack.remove(this.size() - 1);\n",
    "        return s;\n",
    "    }\n",
    "\n",
    "    @Override\n",
    "    public String toString() {\n",
    "        StringBuilder b = new StringBuilder(\"stack:\");\n",
    "        for (int i = this.size() - 1; i > 0; i--) {\n",
    "            b.append(\"\\t\");\n",
    "            b.append(this.stack.get(i));\n",
    "            b.append('\\n');\n",
    "        }\n",
    "        if (this.stack.size() > 0) {\n",
    "            b.append(\"\\t\");\n",
    "            b.append(this.stack.get(0));\n",
    "        }\n",
    "        return b.toString();\n",
    "    }\n",
    "}"
   ]
  },
  {
   "cell_type": "markdown",
   "metadata": {},
   "source": [
    "You might find it useful for the remainder of this notebook if you [view the generated documentation for the `Stack` class]../resour../../ca/quee../cs/cisc../no../bas../Stack.html) in a separate tab or window."
   ]
  },
  {
   "cell_type": "markdown",
   "metadata": {},
   "source": [
    "### Documenting the class\n",
    "\n",
    "The class should have a doc comment describing the purpose of the class. This comment contains the information that appears near the beginning of an API document before any information regarding the members of the class are presented.\n",
    "\n",
    "The doc comment should highlight interesting or unusual features of the class if such features exist. For example, the doc comment for the [String class](htt..//docs.oracle.../en/j../jav../11/d../../java.b../j../l../String.html) informs the reader that strings are immutable and have a special concatenation operator.\n",
    "\n",
    "The doc comment for the `Stack` class should inform the reader that the class represents a stack of an arbitrary number of strings. Because a classical stack only has the two operations push and pop, the doc comment should convey some information about the existence of the additional methods of the class.\n",
    "\n",
    "The following cell shows the `Stack` class with a suitable class doc comment:"
   ]
  },
  {
   "cell_type": "code",
   "execution_count": 2,
   "metadata": {},
   "outputs": [
    {
     "data": {
      "t../plain": [
       "ca.queensu.cs.cisc124.notes.generics.Stack"
      ]
     },
     "execution_count": 2,
     "metadata": {},
     "output_type": "execute_result"
    }
   ],
   "source": [
    "package ca.queensu.cs.cisc124.notes.generics;\n",
    "\n",
    "import java.util.ArrayList;\n",
    "\n",
  ../**\n",
    " * The {@code Stack} class represents a last-in-first-out (LIFO)\n",
    " * stack of strings. In addition to the usual push and pop methods,\n",
    " * the class allows the user to get the number of elements in a\n",
    " * stack and to get a string representation of the stack. The class\n",
    " * imposes no restrictions on the number of elements and allows\n",
    " * {@code null} elements.\n",
    ../\n",
    "public class Stack {\n",
    "\n",
    "    private ArrayList<String> stack;\n",
    "\n",
    "    public Stack() {\n",
    "        this.stack = new ArrayList<>();\n",
    "    }\n",
    "\n",
    "    public int size() {\n",
    "        return this.stack.size();\n",
    "    }\n",
    "\n",
    "    public void push(String s) {\n",
    "        this.stack.add(s);\n",
    "    }\n",
    "\n",
    "    public String pop() {\n",
    "        if (this.size() == 0) {\n",
    "            throw new RuntimeException(\"popped an empty stack\");\n",
    "        }\n",
    "        String s = this.stack.remove(this.size() - 1);\n",
    "        return s;\n",
    "    }\n",
    "\n",
    "    @Override\n",
    "    public String toString() {\n",
    "        StringBuilder b = new StringBuilder(\"stack:\");\n",
    "        for (int i = this.size() - 1; i > 0; i--) {\n",
    "            b.append(\"\\t\");\n",
    "            b.append(this.stack.get(i));\n",
    "            b.append('\\n');\n",
    "        }\n",
    "        if (this.stack.size() > 0) {\n",
    "            b.append(\"\\t\");\n",
    "            b.append(this.stack.get(0));\n",
    "        }\n",
    "        return b.toString();\n",
    "    }\n",
    "}"
   ]
  },
  {
   "cell_type": "markdown",
   "metadata": {},
   "source": [
    "The doc comment for the `Stack` class uses the Javadoc tag `{@code }` which causes the enclosed text to be rendered using a monospaced font. The official Javadoc style recommendation is that Java keywords and names should be offset from the surrounding text using a monospaced font when mentioned in a doc comment. In this example, the name `Stack` is the name of the class and the word `null` is a keyword; thus, both words are enclosed in `{@code }`. The `{@code }` tag also suppress HTML processing inside the tags which allows the documenter to use special HTML characters such as `<` and `>` inside the tags without them being interpreted as HTML.\n",
    "\n",
    "The reader is encouraged to review the generated documentation to see how the content of the class doc comment is rendered in the final document."
   ]
  },
  {
   "cell_type": "markdown",
   "metadata": {},
   "source": [
    "### Documenting the constructor\n",
    "\n",
    "Every public constructor should have a doc comment that precisely describes the state of a newly initialized object.\n",
    "\n",
    "The no-argument `Stack` constructor initializes the stack to be empty. There is no other relevant information to convey to the user; thus a single-sentence doc comment suffices:"
   ]
  },
  {
   "cell_type": "code",
   "execution_count": 6,
   "metadata": {},
   "outputs": [
    {
     "data": {
      "t../plain": [
       "ca.queensu.cs.cisc124.notes.generics.Stack"
      ]
     },
     "execution_count": 6,
     "metadata": {},
     "output_type": "execute_result"
    }
   ],
   "source": [
    "package ca.queensu.cs.cisc124.notes.generics;\n",
    "\n",
    "import java.util.ArrayList;\n",
    "\n",
  ../**\n",
    " * The {@code Stack} class represents a last-in-first-out (LIFO)\n",
    " * stack of strings. In addition to the usual push and pop methods,\n",
    " * the class allows the user to get the number of elements in a\n",
    " * stack and to get a string representation of the stack. The class\n",
    " * imposes no restrictions on the number of elements and allows\n",
    " * {@code null} elements.\n",
    ../\n",
    "public class Stack {\n",
    "\n",
    "    private ArrayList<String> stack;\n",
    "\n",
    " ../**\n",
    "     * Initializes an empty stack.\n",
    "   ../\n",
    "    public Stack() {\n",
    "        this.stack = new ArrayList<>();\n",
    "    }\n",
    "\n",
    "    public int size() {\n",
    "        return this.stack.size();\n",
    "    }\n",
    "\n",
    "    public void push(String s) {\n",
    "        this.stack.add(s);\n",
    "    }\n",
    "\n",
    "    public String pop() {\n",
    "        if (this.size() == 0) {\n",
    "            throw new RuntimeException(\"popped an empty stack\");\n",
    "        }\n",
    "        String s = this.stack.remove(this.size() - 1);\n",
    "        return s;\n",
    "    }\n",
    "\n",
    "    @Override\n",
    "    public String toString() {\n",
    "        StringBuilder b = new StringBuilder(\"stack:\");\n",
    "        for (int i = this.size() - 1; i > 0; i--) {\n",
    "            b.append(\"\\t\");\n",
    "            b.append(this.stack.get(i));\n",
    "            b.append('\\n');\n",
    "        }\n",
    "        if (this.stack.size() > 0) {\n",
    "            b.append(\"\\t\");\n",
    "            b.append(this.stack.get(0));\n",
    "        }\n",
    "        return b.toString();\n",
    "    }\n",
    "}"
   ]
  },
  {
   "cell_type": "markdown",
   "metadata": {},
   "source": [
    "The first (and only in this case) sentence of the constructor doc comment appears in the *Constructor Summary* section of the generated documentation. Any text in addition to the first sentence will appear in the *Constructor Detail* section of the generated documentation.\n",
    "\n",
    "The reader is encouraged to review the generated documentation to see how the content of the constructor doc comment is rendered in the final document."
   ]
  },
  {
   "cell_type": "markdown",
   "metadata": {},
   "source": [
    "### Documenting methods\n",
    "\n",
    "Every public method should have a doc comment that precisely describes what the method does while avoiding describing how the method does its job. The official advice for documenting a method is that it should start with a verb because a method implements an operation; for example the text of the doc comment for the `size` method is:\n",
    "\n",
    "> Returns the number of elements in this stack.\n",
    "\n",
    "which begins with the verb \"Returns\" instead of something like:\n",
    "\n",
    "> This method returns the number of elements in this stack.\n",
    "\n",
    "which begins with the pronoun \"This\".\n",
    "\n",
    "The comment should also describe the parameters of the method, the return value (if any) of the method, and any exceptions thrown by the method. There are special Javadoc tags for the parameters, return value, and exceptions.\n",
    "\n",
    "The comment should describe any special conditions that are required of the user before the method is invoked; these conditions are called the *preconditions* of the method; for example, the method `pop` has the precondition that the stack must not be empty. Many methods will throw an exception if a precondition is not satisfied; the method `pop` throws a `RuntimeException` if the stack is empty when it is popped. The type of exception thrown and the conditions under which it is thrown are described using a `@throws` tag.\n",
    "\n",
    "The comment should describe what conditions will be true after a method invocation completes successfully; these conditions are called the *postconditions* of the method. For example, the `push` method should indicate that the top element of the stack will be equal to the element that was just pushed onto the stack. Many methods return a value as part of their postcondition; for example, the `size` method returns a value that is equal to the number of elements in the stack. Return values are described using a `@return` tag unless the method has a `void` return type.\n",
    "\n",
    "Each parameter of a method should be described using a `@param` tag. The name of the parameter must appear after the `@param` tag. A short description of the parameter should follow the parameter name. A method with no parameters should not contain a `@param` tag in its doc comment. See the `push` method below for an example of using the `@param` tag.\n",
    "\n",
    "If a method returns a value then the returned value should be described using a `@return` tag. The description of the returned value goes after the tag. See the `size`, `pop`, and `toString` methods below for examples of using the `@return` tag.\n",
    "\n",
    "If a method throws an exception then the exception should be described using a `@throws` tag. The exception type appears after the `@throws` tag. By convention, the word \"if\" follows the exception type followed by a description of the conditions under which the exception is thrown. See the `pop` method below for an example of using the `@throws` tag.\n",
    "\n",
    "The tags and corresponding descriptions for the parameters, return value, and exceptions appear at the end of the doc comment. By convention, the order of the tags is `@param`, followed by `@return`, followed by `@throws`.\n",
    "\n",
    "The doc comments for the four methods of the `Stack` class are shown in the following cell:"
   ]
  },
  {
   "cell_type": "code",
   "execution_count": 7,
   "metadata": {},
   "outputs": [
    {
     "data": {
      "t../plain": [
       "ca.queensu.cs.cisc124.notes.generics.Stack"
      ]
     },
     "execution_count": 7,
     "metadata": {},
     "output_type": "execute_result"
    }
   ],
   "source": [
    "package ca.queensu.cs.cisc124.notes.generics;\n",
    "\n",
    "import java.util.ArrayList;\n",
    "\n",
  ../**\n",
    " * The {@code Stack} class represents a last-in-first-out (LIFO)\n",
    " * stack of strings. In addition to the usual push and pop methods,\n",
    " * the class allows the user to get the number of elements in a\n",
    " * stack and to get a string representation of the stack. The class\n",
    " * imposes no restrictions on the number of elements and allows\n",
    " * {@code null} elements.\n",
    ../\n",
    "public class Stack {\n",
    "\n",
    "    private ArrayList<String> stack;\n",
    "\n",
    " ../**\n",
    "     * Initializes an empty stack.\n",
    "   ../\n",
    "    public Stack() {\n",
    "        this.stack = new ArrayList<>();\n",
    "    }\n",
    "\n",
    " ../**\n",
    "     * Returns the number of elements in this stack.\n",
    "     * \n",
    "     * @return the number of elements in this stack\n",
    "   ../\n",
    "    public int size() {\n",
    "        return this.stack.size();\n",
    "    }\n",
    "\n",
    " ../**\n",
    "     * Pushes the specified string on to the top of this stack.\n",
    "     * \n",
    "     * @param s the string to add to this stack\n",
    "   ../\n",
    "    public void push(String s) {\n",
    "        this.stack.add(s);\n",
    "    }\n",
    "\n",
    " ../**\n",
    "     * Pops the string that is on top of this stack returning it. The\n",
    "     * stack must not be empty when this method is called.\n",
    "     * \n",
    "     * @return the string that was popped from the top of this stack\n",
    "     * @throws RuntimeException if an empty stack is popped\n",
    "   ../\n",
    "    public String pop() {\n",
    "        if (this.size() == 0) {\n",
    "            throw new RuntimeException(\"popped an empty stack\");\n",
    "        }\n",
    "        String s = this.stack.remove(this.size() - 1);\n",
    "        return s;\n",
    "    }\n",
    "\n",
    " ../**\n",
    "     * Returns a string representation of this stack. The returned\n",
    "     * string starts with {@code stack:} followed by a tab\n",
    "     * character followed by the top element of the stack. The\n",
    "     * remainder of the string consists of the remaining elements\n",
    "     * of the stack each on a new line where each new line begins\n",
    "     * with a tab character.\n",
    "     * \n",
    "     * @return a string representation of this stack\n",
    "   ../\n",
    "    @Override\n",
    "    public String toString() {\n",
    "        StringBuilder b = new StringBuilder(\"stack:\");\n",
    "        for (int i = this.size() - 1; i > 0; i--) {\n",
    "            b.append(\"\\t\");\n",
    "            b.append(this.stack.get(i));\n",
    "            b.append('\\n');\n",
    "        }\n",
    "        if (this.stack.size() > 0) {\n",
    "            b.append(\"\\t\");\n",
    "            b.append(this.stack.get(0));\n",
    "        }\n",
    "        return b.toString();\n",
    "    }\n",
    "}"
   ]
  },
  {
   "cell_type": "markdown",
   "metadata": {},
   "source": [
    "The first sentence of each method doc comment appears in the *Method Summary* section of the generated documentation. Any text in addition to the first sentence will appear in the *Method Detail* section of the generated documentation.\n",
    "\n",
    "The reader is encouraged to review the generated documentation to see how the contents of the method doc comments are rendered in the final document."
   ]
  },
  {
   "cell_type": "markdown",
   "metadata": {},
   "source": [
    "## Using the Javadoc in eclipse\n",
    "\n",
    "<video controls src=\../resour../vid../javadoc.m4v\">Javad../video>"
   ]
  },
  {
   "cell_type": "code",
   "execution_count": null,
   "metadata": {},
   "outputs": [],
   "source": []
  }
 ],
 "metadata": {
  "kernelspec": {
   "display_name": "Java",
   "language": "java",
   "name": "java"
  },
  "language_info": {
   "codemirror_mode": "t../x-java",
   "file_extension": ".java",
   "mimetype": "",
   "name": "Java",
   "nbconverter_exporter": "",
   "version": "11.0.1-internal"
  },
  "toc": {
   "base_numbering": 1,
   "nav_menu": {},
   "number_sections": false,
   "sideBar": false,
   "skip_h1_title": false,
   "title_cell": "Table of Contents",
   "title_sidebar": "Contents",
   "toc_cell": false,
   "toc_position": {},
   "toc_section_display": false,
   "toc_window_display": false
  }
 },
 "nbformat": 4,
 "nbformat_minor": 4
}
