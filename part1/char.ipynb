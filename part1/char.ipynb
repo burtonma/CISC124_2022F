{
 "cells": [
  {
   "cell_type": "code",
   "execution_count": null,
   "metadata": {},
   "outputs": [],
   "source": [
    "// run this cell to prevent Jupyter from displaying the null output cell\n",
    "com.twosigma.beakerx.kernel.Kernel.showNullExecutionResult = false;"
   ]
  },
  {
   "cell_type": "markdown",
   "metadata": {},
   "source": [
    "<a id=\"notebook_id\"></a>\n",
    "# `char`\n",
    "\n",
    "The primitive type `char` is used to represent single characters in Java. \n",
    "\n",
    "Technically, a `char` represents a UTF-16 encoded Unicode character. [Unicode](http://www.unicode.org). Quoting the [Unicode FAQ](https://www.unicode.org/faq/basic_q.html):\n",
    "\n",
    "> Unicode is the universal character encoding, maintained by the Unicode Consortium. This encoding standard provides the basis for processing, storage and interchange of text data in any language in all modern software and information technology protocols.\n",
    "\n",
    "The Unicode standard and the use of Unicode characters is beyond the scope of this notebook. Curious readers can use the following links to learn more about Unicode:\n",
    "\n",
    "* https://www.unicode.org/standard/WhatIsUnicode.html\n",
    "* [Joel on Softare](https://www.joelonsoftware.com/2003/10/08/the-absolute-minimum-every-software-developer-absolutely-positively-must-know-about-unicode-and-character-sets-no-excuses/)\n",
    "\n",
    "This notebook restricts the discussion of characters to those that can be typed using a standard North American keyboard; i.e., upper and lowercase English letters, numeric digits, common symbols, and the small number of special literals [described in a following section](#special_literals)."
   ]
  },
  {
   "cell_type": "markdown",
   "metadata": {},
   "source": [
    "## Literals\n",
    "\n",
    "A `char` literal is a single character enclosed by single quotes; for example, `'a'` is the `char` literal for the lowercase letter *a*. \n",
    "\n",
    "\n",
    "### Special literals\n",
    "<a id=\"special_literals\"></a>\n",
    "\n",
    "Because the single quote is used to delimit a `char` literal a special technique is required to write the literal corresponding to a single quote; similarly, the double quote is used to delimit a `String` literal which also requires special treatment. Also, there are a small number of different whitespace literals that require special treatment.\n",
    "\n",
    "The special `char` literals begin a backslash `\\` character and then are followed by a single character:\n",
    "\n",
    "* `'\\b'` backspace\n",
    "* `'\\t'` tab\n",
    "* `'\\n'` line feed\n",
    "* `'\\f'` form feed\n",
    "* `'\\r'` carriage return\n",
    "* `'\\\"'` double quote\n",
    "* `'\\''` single quote\n",
    "* `'\\\\'` backslash\n",
    "\n",
    "The tab character `'\\t'` is a whitespace character. Its effect when printed is to move to the next tab stop which on many computer systems occurs every 8 spaces but the exact spacing is not universal."
   ]
  },
  {
   "cell_type": "code",
   "execution_count": null,
   "metadata": {},
   "outputs": [],
   "source": [
    "System.out.println(\"1\" + '\\t' + \"2\" + '\\t' + \"3\"); // concatenate '\\t' with strings\n",
    "System.out.println(\"12345678\\t9\");                 // or embed \\t inside a string"
   ]
  },
  {
   "cell_type": "markdown",
   "metadata": {},
   "source": [
    "The line feed character `'\\n'` is a whitespace character and is often incorrectly referred to as the newline character. On many computer systems, it's effect is to insert a new line when printed, but this is not universal."
   ]
  },
  {
   "cell_type": "code",
   "execution_count": null,
   "metadata": {},
   "outputs": [],
   "source": [
    "System.out.println(\"1\\n2\\n3\");"
   ]
  },
  {
   "cell_type": "markdown",
   "metadata": {},
   "source": [
    "The form feed character `'\\f'` is a whitespace character that indicates a page break. Its effect when printed depends on the system interpreting the printed text.\n",
    "\n",
    "The carriage return character `'\\r'` is a whitespace character. Its effect when printed is to move to the front of the current line; this causes previous printed text to be overwritten."
   ]
  },
  {
   "cell_type": "code",
   "execution_count": null,
   "metadata": {},
   "outputs": [],
   "source": [
    "System.out.println(\"abc\" + '\\r' + \"efg\");"
   ]
  },
  {
   "cell_type": "markdown",
   "metadata": {},
   "source": [
    "## `char` as integer values\n",
    "\n",
    "`char` values are integer values between 0 and 65,535 ($2^{16} - 1$), inclusive. The limits of the range of `char` values are available from the `Character` class:"
   ]
  },
  {
   "cell_type": "code",
   "execution_count": null,
   "metadata": {},
   "outputs": [],
   "source": [
    "System.out.println(Character.MIN_VALUE);\n",
    "System.out.println(Character.MAX_VALUE);"
   ]
  },
  {
   "cell_type": "markdown",
   "metadata": {},
   "source": [
    "Printing the value `Character.MIN_VALUE` prints the `char` corresponding to 0 which is called the *null character* (which somewhat confusingly has nothing to do with the Java value `null`) and printing the value `Character.MIN_VALUE` prints the `char` corresponding to 65,535 which prints out a square with four `F`s.\n",
    "\n",
    "To print the integer numeric value of a `char` value a cast to `int` or `long` is required:"
   ]
  },
  {
   "cell_type": "code",
   "execution_count": null,
   "metadata": {},
   "outputs": [],
   "source": [
    "System.out.println((int) Character.MIN_VALUE);\n",
    "System.out.println((int) Character.MAX_VALUE);"
   ]
  },
  {
   "cell_type": "markdown",
   "metadata": {},
   "source": [
    "It may be useful to know that the most familiar English printable characters that can be easily typed on a typical keyboard start at the integer value of 32 (the space character) and end at the integer value of 126 (the tilde `'~'`). A simple loop can be used to print these integer values and the corresponding character:"
   ]
  },
  {
   "cell_type": "code",
   "execution_count": null,
   "metadata": {},
   "outputs": [],
   "source": [
    "for (char c = 32; c <= 126; c++) {\n",
    "    System.out.println(\"\" + ((int) c) + '\\t' + c);\n",
    "}"
   ]
  },
  {
   "cell_type": "markdown",
   "metadata": {},
   "source": [
    "Arithmetic can be performed with `char` values but beware that Java converts `char` values to `int` values when performing arithmetic and a cast back to `char` is often required; see [the Arithmetic notebook](./arithmetic.ipynb#byte_char_short) for details.\n",
    "\n",
    "Subtracting `char` values can be used to find the \"distance\" between characters; for example the distance between `'a'` and `'d'` can be computed as:"
   ]
  },
  {
   "cell_type": "code",
   "execution_count": null,
   "metadata": {},
   "outputs": [],
   "source": [
    "int dist = 'd' - 'a';\n",
    "System.out.println(dist);"
   ]
  },
  {
   "cell_type": "markdown",
   "metadata": {},
   "source": [
    "which indicates that we need to move 3 characters starting from `'a'` to get to `'d'`; i.e.:"
   ]
  },
  {
   "cell_type": "code",
   "execution_count": null,
   "metadata": {},
   "outputs": [],
   "source": [
    "char ch = (char) ('a' + 3);   // cast required because ('a' + 3) is an int value\n",
    "System.out.println(ch);"
   ]
  },
  {
   "cell_type": "markdown",
   "metadata": {},
   "source": [
    "English letters *of the same case* can be compared to determine their lexicographical, or dictionary, order. Run the following cell entering letters of the same case at each prompt and verify the results for a few different sets of inputs:"
   ]
  },
  {
   "cell_type": "code",
   "execution_count": null,
   "metadata": {},
   "outputs": [],
   "source": [
    "import java.util.Scanner;\n",
    "\n",
    "Scanner s = new Scanner(System.in);\n",
    "\n",
    "System.out.println(\"Enter a first single character followed by the enter key: \");\n",
    "char c1 = s.next().charAt(0);\n",
    "\n",
    "System.out.println(\"Enter a second single character followed by the enter key: \");\n",
    "char c2 = s.next().charAt(0);\n",
    "\n",
    "if (c1 < c2) {\n",
    "    System.out.println(\"\" + c1 + \" is before \" + c2);\n",
    "}\n",
    "else if (c1 > c2) {\n",
    "    System.out.println(\"\" + c1 + \" is after \" + c2);\n",
    "}\n",
    "else {\n",
    "    System.out.println(\"\" + c1 + \" is equal to \" + c2);\n",
    "}\n"
   ]
  },
  {
   "cell_type": "markdown",
   "metadata": {},
   "source": [
    "Now re-run the previous cell entering an uppercase `Z` at the first prompt and a lowercase `a` at the second prompt. The character `Z` has the numeric value 90 and the character `a` has the numeric value 97; thus comparing them using a comparison operator results in `Z` being less than `a`."
   ]
  },
  {
   "cell_type": "markdown",
   "metadata": {},
   "source": [
    "## Wrapper class `Character`\n",
    "\n"
   ]
  },
  {
   "cell_type": "markdown",
   "metadata": {},
   "source": [
    "The wrapper class `java.lang.Character` contains fields and methods that are useful when working with character values. Many of the fields and methods are related to working with Unicode values.\n",
    "\n",
    "For our purposes, the interesting methods tend to have names that begin with `is` (for example, `isDigit`, `isLetter`, `isLowerCase`, and `isUpperCase`). Other useful methods include `compare`, `toLowerCase`, and `toUpperCase`.\n",
    "\n",
    "The `Character` class is [documented here](https://docs.oracle.com/en/java/javase/11/docs/api/java.base/java/lang/Character.html)."
   ]
  },
  {
   "cell_type": "markdown",
   "metadata": {},
   "source": [
    "## Exercises\n",
    "\n",
    "1. An empty string (a string having no characters) can be written as `\"\"` (two double quotes with no space in between). Is there such thing as an empty `char`? Try creating an empty character in the next cell:"
   ]
  },
  {
   "cell_type": "code",
   "execution_count": null,
   "metadata": {},
   "outputs": [],
   "source": [
    "// Exercise 1\n",
    "char c;       // try assigning an empty char here; note that a space char is not an empty char"
   ]
  },
  {
   "cell_type": "markdown",
   "metadata": {},
   "source": [
    "2. What is the significance of the symbol printed using `System.out.println(Character.MAX_VALUE);`? Do not spend too much time trying to solve this question; the answer really is not that significant."
   ]
  },
  {
   "cell_type": "markdown",
   "metadata": {},
   "source": [
    "3. With a little bit of research you can discover how to enter Unicode literals in Java. Use the following cell to print a heart character."
   ]
  },
  {
   "cell_type": "code",
   "execution_count": null,
   "metadata": {},
   "outputs": [],
   "source": [
    "// Exercise 3\n"
   ]
  },
  {
   "cell_type": "markdown",
   "metadata": {},
   "source": [
    "4. The following loop was used in this notebook to print the character associated with each integer value between 32 and 126:\n",
    "```java\n",
    "for (char c = 32; c <= 126; c++) {\n",
    "    System.out.println(\"\" + ((int) c) + '\\t' + c);\n",
    "}\n",
    "```\n",
    "A funny thing happens if you remove the empty string just inside the left `(`. Run the following cell and try to explain the output."
   ]
  },
  {
   "cell_type": "code",
   "execution_count": null,
   "metadata": {},
   "outputs": [],
   "source": [
    "// Exercise 4\n",
    "for (char c = 32; c <= 126; c++) {\n",
    "    System.out.println(((int) c) + '\\t' + c);   // removed empty string \"\"\n",
    "}"
   ]
  },
  {
   "cell_type": "markdown",
   "metadata": {},
   "source": [
    "5. Use subtraction to compute the distance to the character `z` starting from the character `a`"
   ]
  },
  {
   "cell_type": "code",
   "execution_count": null,
   "metadata": {},
   "outputs": [],
   "source": [
    "// Exercise 5\n"
   ]
  },
  {
   "cell_type": "markdown",
   "metadata": {},
   "source": [
    "6. Use addition to compute the character `z` starting from the character `a`"
   ]
  },
  {
   "cell_type": "code",
   "execution_count": null,
   "metadata": {},
   "outputs": [],
   "source": [
    "// Exercise 6\n"
   ]
  },
  {
   "cell_type": "markdown",
   "metadata": {},
   "source": [
    "7. The following code results in a compilation error:\n",
    "```java\n",
    "char c = 'g';\n",
    "c = c + 1;\n",
    "```\n",
    "whereas the following code compiles and runs:\n",
    "```java\n",
    "int c = 'g';\n",
    "c += 1;\n",
    "```\n",
    "Explain why the first example fails to compile why the second example does compile (and run)."
   ]
  }
 ],
 "metadata": {
  "kernelspec": {
   "display_name": "Java",
   "language": "java",
   "name": "java"
  },
  "language_info": {
   "codemirror_mode": "text/x-java",
   "file_extension": ".java",
   "mimetype": "",
   "name": "Java",
   "nbconverter_exporter": "",
   "version": "11.0.1-internal"
  },
  "toc": {
   "base_numbering": 1,
   "nav_menu": {},
   "number_sections": false,
   "sideBar": false,
   "skip_h1_title": false,
   "title_cell": "Table of Contents",
   "title_sidebar": "Contents",
   "toc_cell": false,
   "toc_position": {},
   "toc_section_display": false,
   "toc_window_display": false
  }
 },
 "nbformat": 4,
 "nbformat_minor": 4
}
