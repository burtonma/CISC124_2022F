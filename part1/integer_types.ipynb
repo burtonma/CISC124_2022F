{
 "cells": [
  {
   "cell_type": "code",
   "execution_count": null,
   "metadata": {},
   "outputs": [],
   "source": [
    "// run this cell to prevent Jupyter from displaying the null output cell\n",
    "com.twosigma.beakerx.kernel.Kernel.showNullExecutionResult = false;"
   ]
  },
  {
   "cell_type": "markdown",
   "metadata": {},
   "source": [
    "<a id='notebook_id'></a>\n",
    "# Integers\n",
    "\n",
    "There are significant differences between Python and Java in the way that integer values are represented."
   ]
  },
  {
   "cell_type": "markdown",
   "metadata": {},
   "source": [
    "## Python integers\n",
    "\n",
    "In Python integer values can have as many digits that can fit in computer memory. This means that quantities such as a googol ($10^{100}$) can be computed without any special effort; run the following cell that computes and prints a googol:"
   ]
  },
  {
   "cell_type": "code",
   "execution_count": null,
   "metadata": {},
   "outputs": [],
   "source": [
    "%%python\n",
    "\n",
    "g = 10 ** 100\n",
    "print(g)"
   ]
  },
  {
   "cell_type": "markdown",
   "metadata": {},
   "source": [
    "The preceding example also illustrates the use of the Python exponentiation operator `**`.\n",
    "\n",
    "Python integers are _not_ closed under arithmetic operations; in particular, dividing two integers using the `/` operator results in a floating-point value; run the following cell that computes the quantity one-third:"
   ]
  },
  {
   "cell_type": "code",
   "execution_count": null,
   "metadata": {},
   "outputs": [],
   "source": [
    "%%python\n",
    "\n",
    "x = 1\n",
    "y = 3\n",
    "z = x / y\n",
    "print('The value of z is: ' + str(z) + ' and its type is ' + str(type(z)))"
   ]
  },
  {
   "cell_type": "markdown",
   "metadata": {},
   "source": [
    "Python has a _floor division_ operator `//`. If `x` and `y` are both integers then the value of `x // y` is an integer equal to the value of `x / y` rounded down to the nearest integer (rounding down to the nearest integer is the _floor_ function from mathematics). Run the following cell to see how floor division works in Python:"
   ]
  },
  {
   "cell_type": "code",
   "execution_count": null,
   "metadata": {},
   "outputs": [],
   "source": [
    "%%python\n",
    "\n",
    "x = 1\n",
    "y = 2\n",
    "z = x // y   # z is equal to (0.5 rounded down to the nearest integer)\n",
    "print(z)\n",
    "\n",
    "x = -5\n",
    "y = 3\n",
    "z = x // y   # z is equal to (-1.333... rounded down to the nearest integer)\n",
    "print(z)"
   ]
  },
  {
   "cell_type": "markdown",
   "metadata": {},
   "source": [
    "Division by zero raises a `ZeroDivisionException` in Python:"
   ]
  },
  {
   "cell_type": "code",
   "execution_count": null,
   "metadata": {},
   "outputs": [],
   "source": [
    "%%python\n",
    "\n",
    "x = 1\n",
    "y = 0\n",
    "z = x / y    # if you use / or // an exception is raised"
   ]
  },
  {
   "cell_type": "markdown",
   "metadata": {},
   "source": [
    "Python integer values are actually object references and thus can be used to invoke methods; most Java integer types are not object types and cannot be used to invoke methods."
   ]
  },
  {
   "cell_type": "markdown",
   "metadata": {},
   "source": [
    "## Java integers\n",
    "\n",
    "Java has six integer types: `char`, `byte`, `short`, `int`,`long`, and `BigInteger`. This notebook describes the types `int` and `long` in some detail, and briefly touches on the types `byte`, `short`, and `BigInteger`. The `char` type is described in the [`char`](char.ipynb#notebook_id) notebook."
   ]
  },
  {
   "cell_type": "markdown",
   "metadata": {},
   "source": [
    "### The `int` type\n",
    "\n",
    "A Java `int` occupies a fixed amount of computer memory; in particular, an `int` is a 32-bit signed value. Because an `int` occupies a fixed amount of memory, there must be a limit to the range of values that can be represented by an `int`.\n",
    "\n",
    "The minimum value that an `int` can represent is equal to $-2^{31}$ and the maximum value that an `int` can represent is $2^{31}$. These constant values are available to the programmer using the `Integer` class constants `MIN_VALUE` and `MAX_VALUE`; to view these values run the following cell:"
   ]
  },
  {
   "cell_type": "code",
   "execution_count": null,
   "metadata": {},
   "outputs": [],
   "source": [
    "System.out.println(\"minimum int value: \" + Integer.MIN_VALUE);\n",
    "System.out.println(\"maximum int value: \" + Integer.MAX_VALUE);"
   ]
  },
  {
   "cell_type": "markdown",
   "metadata": {},
   "source": [
    "The programmer can specify a particular `int` value simply by writing the digits of the integer in the usual fashion. More precisely, a sequence of digits *not* starting with a zero is considered a decimal (base-10) `int` literal; the digit `0` on its own is also a decimal `int` literal. Negative `int` values are written in the usual way with a `-` sign in front of a `int` literal. All of the following are examples of decimal `int` literals:"
   ]
  },
  {
   "cell_type": "code",
   "execution_count": null,
   "metadata": {},
   "outputs": [],
   "source": [
    "int x = 0;  // the value zero\n",
    "x = +0;     // the value zero; unnecessary use of the 'unary plus operator' to indicate a positive value\n",
    "x = -0;     // the value zero; unnecessary use of the 'unary minus operator' to indicate a negative value\n",
    "x = 100;    // the value one hundred\n",
    "x = -99;    // the value minus ninety-nine; necessary use of the 'unary minus operator' to indicate a negative value"
   ]
  },
  {
   "cell_type": "markdown",
   "metadata": {},
   "source": [
    "Java allows the programmer to specify `int` literals in base-2 (binary), base-8 (octal), and base-16 (hexadecimal); we will not use such literals in this course but curious readers can refer to the [JLS](https://docs.oracle.com/javase/specs/jls/se11/html/jls-3.html#jls-3.10.1) for details."
   ]
  },
  {
   "cell_type": "markdown",
   "metadata": {},
   "source": [
    "Java does not have an exponentiation operator. To compute the value of `x` raised to the power `y` you can use the `Math` class method named `pow`. When doing so you must keep in mind that `Math.pow(x, y)` always returns a floating-point result (namely a value of type `double`) even if `x` and `y` are both `int` values. If an `int` value is required for exponentiation then the result must be explicitly cast to `int`:"
   ]
  },
  {
   "cell_type": "code",
   "execution_count": null,
   "metadata": {},
   "outputs": [],
   "source": [
    "// manually calculate the values of Integer.MIN_VALUE and Integer.MAX_VALUE\n",
    "int minValue = (int) -Math.pow(2, 31);\n",
    "int maxValue = (int) (Math.pow(2, 31) - 1);\n",
    "System.out.println(\"minimum int value: \" + minValue);\n",
    "System.out.println(\"maximum int value: \" + maxValue);"
   ]
  },
  {
   "cell_type": "markdown",
   "metadata": {},
   "source": [
    "Java's cast operator `(int)` will compute the `int` value corresponding to whatever numeric value that lies immediately to the right of the cast operator; a more detailed discussion of casting occurs in the [Arithmetic](./arithmetic.ipynb#notebook_id) notebook.\n",
    "\n",
    "If you remove the casting operator `(int)` from Lines 2 and 3 in the preceding example you will receive a compile-time error indicating that the return type of `Math.pow` is `double` which cannot be automatically converted to the type of the variables `minValue` and `maxValue` (both of which have type `int`):"
   ]
  },
  {
   "cell_type": "code",
   "execution_count": null,
   "metadata": {},
   "outputs": [],
   "source": [
    "int minValue = -Math.pow(2, 31);     // oops, missing cast to int\n",
    "int maxValue = Math.pow(2, 31) - 1;  // oops, missing cast to int"
   ]
  },
  {
   "cell_type": "markdown",
   "metadata": {},
   "source": [
    "Java `int` values are closed under arithmetic operations: Adding, subtracting, multiplying, or dividing two `int` values always results in an `int` value. At first glance, it seems sensible that adding, subtracting, and multiplying two `int` values would result in an `int` value, but dividing two `int` values often should not result in an `int` value.\n",
    "\n",
    "Division of two `int` values in Java is _truncated division_. If x and y are both integers then the value of `x / y` is an integer equal to the whole number part of the value of `x` divided by `y`; in other words, the value of `x / y` is equal to the integer value obtained after discarding (truncating) all of the values after the decimal point of `x` divided by `y`. For example:"
   ]
  },
  {
   "cell_type": "code",
   "execution_count": null,
   "metadata": {},
   "outputs": [],
   "source": [
    "int x = 1;\n",
    "int y = 2;\n",
    "int z = x / y;   // z is equal to 0 (x divided by y is equal to 0.5, discard the .5 to get 0)\n",
    "System.out.println(z);\n",
    "\n",
    "x = -5;\n",
    "y = 3;\n",
    "z = x / y;       // z is equal to -1 (x divided by y is equal to -1.666..., discard the .666... to get -1)\n",
    "System.out.println(z);\n"
   ]
  },
  {
   "cell_type": "markdown",
   "metadata": {},
   "source": [
    "Division by zero causes an `ArithmeticException` to be thrown in Java:"
   ]
  },
  {
   "cell_type": "code",
   "execution_count": null,
   "metadata": {},
   "outputs": [],
   "source": [
    "int x = 1;\n",
    "int y = 0;\n",
    "int z = x / y;"
   ]
  },
  {
   "cell_type": "markdown",
   "metadata": {},
   "source": [
    "If `int` values are closed under arithmetic operations, what happens when two `int` values are summed, subtracted, or multiplied and the resulting value exceeds the range of `int`? For example, what happens when `1` is added to `Integer.MAX_VALUE`? Run the following cell to find out:"
   ]
  },
  {
   "cell_type": "code",
   "execution_count": null,
   "metadata": {},
   "outputs": [],
   "source": [
    "int z = Integer.MAX_VALUE + 1;\n",
    "System.out.println(z);"
   ]
  },
  {
   "cell_type": "markdown",
   "metadata": {},
   "source": [
    "As the preceding example shows, `Integer.MAX_VALUE + 1` is equal to `Integer.MIN_VALUE`. When an arithmetic operation results in a value that is outside of the range that can be represented by `int` (a value that is greater than `Integer.MAX_VALUE` or less than `Integer.MIN_VALUE`) we say that _integer overflow_ has occurred.[<sup>1</sup>](#fn1). In Java, integer overflow results in *wrap around*.\n",
    "\n",
    "To visualize what happens when wrap around occurs, imagine that we have a fictitious integer type named `tiny` where the minimum value is -4 and the maximum value is 3. Now write the elements of our type sequentially repeating the sequence an infinite number of times:\n",
    "\n",
    "```\n",
    "... -4  -3  -2  -1  0  1  2  3  -4  -3  -2  -1  0  1  2  3  -4  -3  -2  -1  0  1  2  3  -4  -3  -2  -1  0  1  2  3  ...\n",
    "```\n",
    "\n",
    "Computing the sum `x + y` of two `tiny` values works like so:\n",
    "\n",
    "1. find the value `x` anywhere in the visualization\n",
    "2. if `y` is positive, the value of the sum is obtained by moving `y` positions to the right; otherwise the value of the sum is obtained by moving `y` positions to the left\n",
    "\n",
    "For example, to compute `-2 + 3` we start at any `-2` and move `3` positions to the right to obtain the sum `1`.\n",
    "\n",
    "Now what is the value of `3 + 1` (the maximum `tiny` value plus 1)? Using the algorithm above the sum is `-4` which is the minimum `tiny` value. Similarly, `3 + 3` is equal to `-2` in the `tiny` number system.\n",
    "\n",
    "The algorithm for subtraction is similar to the algorithm for addition; to compute the difference `x - y`:\n",
    "\n",
    "1. find the value `x` anywhere in the visualization\n",
    "2. if `y` is positive, the value of the difference is obtained by moving `y` positions to the left; otherwise the value of the sum is obtained by moving `y` positions to the right\n",
    "\n",
    "Using the algorithm, you can easily show that `-4 - 1` is equal to `3` and `-4 - 3` is equal to `1` in the `tiny` number system.\n",
    "\n",
    "`int` overflow works exactly the same as `tiny` overflow except that the range of `int` values is much larger.\n",
    "\n",
    "<span id=\"fn1\"><sup>1</sup>You can find many webpages that use the term _integer underflow_ to describe the condition where an integer value is smaller than the minimum value that can be represented by a type. This is incorrect usage of the term underflow which refers to a different phenomenon involving floating-point types.</span>\n",
    "\n",
    "\n"
   ]
  },
  {
   "cell_type": "markdown",
   "metadata": {},
   "source": [
    "### The `long` type\n",
    "\n",
    "The main difference between the `long` type and the `int` type is that the `long` type can represent a wider range of values compared to `int`. A general rule of thumb when deciding between whether to use `int` or `long` is to use `int` unless there is reason to believe that the range of `int` values is insufficient for your purposes in which case `long` should be considered.\n",
    "\n",
    "A Java `long` is a 64-bit signed value. Like `int`, there is a limit to the range of values that can be represented by a `long`.\n",
    "\n",
    "The minimum value that an `long` can represent is equal to $-2^{63}$ and the maximum value that an `long` can represent is $2^{63}$. These constant values are available to the programmer using the `Long` class constants `MIN_VALUE` and `MAX_VALUE`:"
   ]
  },
  {
   "cell_type": "code",
   "execution_count": null,
   "metadata": {},
   "outputs": [],
   "source": [
    "System.out.println(\"minimum long value: \" + Long.MIN_VALUE);\n",
    "System.out.println(\"maximum long value: \" + Long.MAX_VALUE);"
   ]
  },
  {
   "cell_type": "markdown",
   "metadata": {},
   "source": [
    "`long` values are written as `int` values followed by the character `L`:"
   ]
  },
  {
   "cell_type": "code",
   "execution_count": null,
   "metadata": {},
   "outputs": [],
   "source": [
    "long x = 2147483647L;  // a value one greater than Integer.MAX_VALUE\n",
    "x = -2147483649L;      // a value one less than Integer.MIN_VALUE"
   ]
  },
  {
   "cell_type": "markdown",
   "metadata": {},
   "source": [
    "The `long` type behaves similarly to the `int` type with regards to arithmetic operations: the `long` type is closed under arithmetic, division of two `long` values is truncated division, and the type is susceptible to overflow."
   ]
  },
  {
   "cell_type": "markdown",
   "metadata": {},
   "source": [
    "### The `byte` and `short` types\n",
    "\n",
    "The `byte` type is a signed 8-bit integer having a minimum value of -128 and a maximum value of 127. There are no `byte` literals; instead any `int` literal between -128 and 127, inclusive, can be stored in a variable of type `byte`.\n",
    "\n",
    "The `short` type is a signed 16-bit integer having a minimum value of -32,768 and a maximum value of 32,767. There are no `short` literals; instead any `int` literal between -32,768 and 32,767, inclusive, can be stored in a variable of type `short`.\n",
    "\n",
    "The `byte` and `short` types can be useful for saving memory if large amounts of integer data are required by a program and memory is limited."
   ]
  },
  {
   "cell_type": "markdown",
   "metadata": {},
   "source": [
    "### The `BigInteger` type\n",
    "\n",
    "The `BigInteger` class defines a type that represents arbitrary-precision integers. The Java language does not allow arithmetic operators to be re-defined by a class, so performing arithmetic using `BigInteger` requires invoking methods. For example, computing the value of googol using `BigInteger` can be performed using the `pow` method:"
   ]
  },
  {
   "cell_type": "code",
   "execution_count": null,
   "metadata": {},
   "outputs": [],
   "source": [
    "import java.math.BigInteger;\n",
    "\n",
    "BigInteger ten = BigInteger.TEN;\n",
    "BigInteger g = ten.pow(100);      // 10 to the power 100\n",
    "System.out.println(g);"
   ]
  },
  {
   "cell_type": "markdown",
   "metadata": {},
   "source": [
    "The capabilities of the `BigInteger` class are documented [here](https://docs.oracle.com/en/java/javase/11/docs/api/java.base/java/math/BigInteger.html)."
   ]
  },
  {
   "cell_type": "markdown",
   "metadata": {},
   "source": [
    "## Exercises\n",
    "\n",
    "1. Using the two cells below, give an example where Python's floor division operator produces a different answer than Java's integer division operator."
   ]
  },
  {
   "cell_type": "code",
   "execution_count": null,
   "metadata": {},
   "outputs": [],
   "source": [
    "%%python\n",
    "# Exercise 1\n"
   ]
  },
  {
   "cell_type": "code",
   "execution_count": null,
   "metadata": {},
   "outputs": [],
   "source": [
    "// Exercise 1 (Java)\n"
   ]
  },
  {
   "cell_type": "markdown",
   "metadata": {},
   "source": [
    "2. Suppose that there are 315 students in a class. For a class pizza party, the teacher orders sixty 16-slice pizzas. How many whole slices does each student receive? Solve the problem using Java integer multiplication and division in the following cell:"
   ]
  },
  {
   "cell_type": "code",
   "execution_count": null,
   "metadata": {},
   "outputs": [],
   "source": [
    "// Exercise 2\n"
   ]
  },
  {
   "cell_type": "markdown",
   "metadata": {},
   "source": [
    "3. Suppose that there are 315 students in a class. What is the minimum number of 16 slice pizzas needed to ensure that every student receives four slices of pizza? Solve the problem using Java integer multiplication, division, and addition in the following cell:"
   ]
  },
  {
   "cell_type": "code",
   "execution_count": null,
   "metadata": {},
   "outputs": [],
   "source": [
    "// Exercise 3\n"
   ]
  },
  {
   "cell_type": "markdown",
   "metadata": {},
   "source": [
    "4. Suppose that you compute the sum `x + y` of two `int` variables where the sum overflows. What is the maximum value of such a sum?"
   ]
  },
  {
   "cell_type": "code",
   "execution_count": null,
   "metadata": {},
   "outputs": [],
   "source": [
    "// Exercise 4\n"
   ]
  },
  {
   "cell_type": "markdown",
   "metadata": {},
   "source": [
    "5. Suppose that you compute the difference `x - y` of two `int` variables where the difference overflows. What is the minimum value of such a difference?"
   ]
  },
  {
   "cell_type": "code",
   "execution_count": null,
   "metadata": {},
   "outputs": [],
   "source": [
    "// Exercise 5\n"
   ]
  },
  {
   "cell_type": "markdown",
   "metadata": {},
   "source": [
    "6. Is `int` addition associative in Java? In other words, is it always the case that for `int` values `x`, `y`, and `z` the value of `(x + y) + z` is equal to the value of `x + (y + z)`? "
   ]
  },
  {
   "cell_type": "markdown",
   "metadata": {},
   "source": [
    "7. Integer overflow was the cause of many software errors, some of them catastrophic. Do some research to find some real-world examples of integer overflow errors."
   ]
  }
 ],
 "metadata": {
  "kernelspec": {
   "display_name": "Java",
   "language": "java",
   "name": "java"
  },
  "language_info": {
   "codemirror_mode": "text/x-java",
   "file_extension": ".java",
   "mimetype": "",
   "name": "Java",
   "nbconverter_exporter": "",
   "version": "1.8.0_121"
  },
  "toc": {
   "base_numbering": 1,
   "nav_menu": {},
   "number_sections": false,
   "sideBar": false,
   "skip_h1_title": false,
   "title_cell": "Table of Contents",
   "title_sidebar": "Contents",
   "toc_cell": false,
   "toc_position": {},
   "toc_section_display": false,
   "toc_window_display": false
  }
 },
 "nbformat": 4,
 "nbformat_minor": 4
}
