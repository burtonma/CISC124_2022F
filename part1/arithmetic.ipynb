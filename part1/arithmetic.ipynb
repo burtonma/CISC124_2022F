{
 "cells": [
  {
   "cell_type": "code",
   "execution_count": null,
   "metadata": {},
   "outputs": [],
   "source": [
    "// run this cell to prevent Jupyter from displaying the null output cell\n",
    "com.twosigma.beakerx.kernel.Kernel.showNullExecutionResult = false;"
   ]
  },
  {
   "cell_type": "markdown",
   "metadata": {},
   "source": [
    "<a id=\"notebook_id\"></a>\n",
    "# Arithmetic\n",
    "\n",
    "Java's arithmetic operators use the same rules of precedence as mathematics. Java's arithmetic operators from highest precedence to lowest precedence are shown in the following table where the rows of the table are shaded alternating gray and white; operators in the same row have the same precedence:\n",
    "\n",
    "| Operator | Meaning | Associativity | Example usage |\n",
    "| :- | :- | :- | :- |\n",
    "| `()` | parentheses | left to right | `(x + y)` |\n",
    "| `++`<br /> `--` | unary post-increment<br /> unary post-decrement | not associative | `x++`<br /> `x--` |\n",
    "| `++`<br /> `--`<br /> `+`<br /> `-` | unary pre-increment<br /> unary pre-decrement<br /> unary plus<br /> unary minus | not associative <br /> not associative <br /> right to left <br /> right to left | `++x` <br /> `--x` <br /> `+x` <br /> `-x` |\n",
    "| `()` | cast | right to left | `(double) x` |\n",
    "| `*`<br /> `/` <br /> `%` | multiplication <br /> division <br /> remainder | left to right | `x * y` <br /> `x / y` <br /> `x % y` |\n",
    "| `+`<br /> `-` | addition <br /> subtraction | left to right | `x + y` <br /> `x - y` |\n",
    "| `=`, `+=`, `-=`, `*=`, `/=`, `%=` | assignment | right to left | `x = 5`, `x += 3`, `x -= 3`, `x *= 3`, `x /= 3`, `x %= 3` | \n",
    "\n",
    "An *operand* is an input to an operator. \n",
    "\n",
    "A *unary* operator is an operator that has one operand. For example, in the expression `x++` the post-increment operator `++` has one operand `x`.\n",
    "\n",
    "A *binary* operator is an operator that has two operands. For example, in the expression `x + y` the addition operator `+` has two operands `x` and `y`.\n",
    "\n",
    "If two operators share an operand then the operator with higher precedence goes first. For example, `1.0 + 3.0 / 2.0` is evaluated as `1.0 + (3.0 / 2.0)`because multiplication has a higher precedence than addition.\n",
    "\n",
    "If an expression has two operators with equal precedence then the associativity of the operator determines the order in which the parts of the expression are evaluated. For example, `1 + 4 + 9 - 16` is evaluated from left to right as `((1 + 4) + 9) - 16` because the addition and subtraction operators have equal precedence and left to right associativity.\n",
    "\n",
    "Note that the unary post-increment and post-decrement operators have no associativity which means that they cannot be applied one after another. For example, the expressions `x++++` and `x--++` are invalid. The reason why such expressions are invalid is explained in the [Post-increment and post-decrement](#postop) section below."
   ]
  },
  {
   "cell_type": "markdown",
   "metadata": {},
   "source": [
    "### Exercises\n",
    "\n",
    "1. Evaluate the following expressions using Java. Do not simplify the expression; try to enter the expressions as they are written. Make sure that the answers Java provides match your expectations.\n",
    "\n",
    "    * $1 + 1$\n",
    "    * $1.99 - 2$\n",
    "    * $-2 \\times -5.5$\n",
    "    * $\\dfrac{99}{3}$\n",
    "    * $\\dfrac{3 \\times (10 - 7)}{10}$\n",
    "    * $8 + \\cfrac{1}{3\n",
    "          + \\cfrac{1}{-2\n",
    "          + \\cfrac{1}{0.5 + \\cfrac{1}{2} } } }$\n",
    "\n",
    "\n"
   ]
  },
  {
   "cell_type": "code",
   "execution_count": null,
   "metadata": {},
   "outputs": [],
   "source": [
    "// Exercise 1\n"
   ]
  },
  {
   "cell_type": "markdown",
   "metadata": {},
   "source": [
    "## The `Math` class\n",
    "\n",
    "The `Math` class contains methods for evaluating many mathematical functions such as square root, rounding functions, trigonometric functions, and logarithms. It also contains values for the mathematical constants $e$ and $\\pi$.\n",
    "\n",
    "The `Math` class is [documented here](https://docs.oracle.com/en/java/javase/11/docs/api/java.base/java/lang/Math.html).\n",
    "\n",
    "The following are example usages of some of the methods in the `Math` class."
   ]
  },
  {
   "cell_type": "code",
   "execution_count": null,
   "metadata": {},
   "outputs": [],
   "source": [
    "// using the value pi\n",
    "double radians = 3.0 * Math.PI / 2.0;    // 270 degrees\n",
    "System.out.println(\"radians : \" + radians);\n",
    "System.out.println();\n",
    "\n",
    "// convert radians to degrees\n",
    "double degrees = Math.toDegrees(radians);\n",
    "System.out.println(\"degrees : \" + degrees);\n",
    "System.out.println();\n",
    "\n",
    "// compute the cosine of an angle in radians\n",
    "double c = Math.cos(radians);\n",
    "System.out.println(\"c : \" + c);\n",
    "System.out.println();\n",
    "\n",
    "// compute the sine of angle in degrees\n",
    "double s = Math.sin(Math.toRadians(degrees));   // trig functions all want angles in radians\n",
    "System.out.println(\"s : \" + s);\n",
    "System.out.println();\n",
    "\n",
    "// compute e raised to the power 2\n",
    "double eSquared = Math.exp(2);\n",
    "System.out.println(\"eSquared : \" + eSquared);\n",
    "System.out.println();\n",
    "\n",
    "// round a number up to the nearest integer value\n",
    "int roundedUp = (int) Math.ceil(1.00001);\n",
    "System.out.println(\"roundedUp: \" + roundedUp);\n",
    "System.out.println();\n",
    "\n",
    "// round a number down to the nearest integer value\n",
    "int roundedDown = (int) Math.floor(1.99999);\n",
    "System.out.println(\"roundedDown: \" + roundedDown);\n",
    "System.out.println();\n",
    "\n",
    "// round a number to the nearest integer\n",
    "int rounded = (int) Math.round(1.5);\n",
    "System.out.println(\"rounded: \" + rounded);\n",
    "System.out.println();\n",
    "\n",
    "// compute square root of 64\n",
    "double sqrt = Math.sqrt(64.0);\n",
    "System.out.println(\"sqrt: \" + sqrt);\n",
    "System.out.println();\n",
    "\n",
    "// compute 2.1 raised to the power 4.3\n",
    "double power = Math.pow(2.1, 4.3);\n",
    "System.out.println(\"power: \" + power);\n",
    "System.out.println();\n",
    "\n",
    "// compute logarithm (base 10) of 1000\n",
    "double log10 = Math.log10(1000.0);\n",
    "System.out.println(\"log10: \" + log10);\n",
    "System.out.println();\n",
    "\n",
    "// compute natural logarithm of e\n",
    "double ln = Math.log(Math.E);\n",
    "System.out.println(\"ln: \" + ln);\n",
    "System.out.println();\n"
   ]
  },
  {
   "cell_type": "markdown",
   "metadata": {},
   "source": [
    "### Exercises \n",
    "\n",
    "2. Evaluate the following expressions using Java. Do not simplify the expression; try to enter the expressions as they are written. You will need to use the methods from the `Math` class. Make sure that the answers Java provides match your expectations. You will need to refer to the `Math` class [documentation](https://docs.oracle.com/en/java/javase/11/docs/api/java.base/java/lang/Math.html) for a few of the problems.\n",
    "\n",
    "    * $\\sin(\\pi / 2)$\n",
    "    * $\\cos(3 \\pi / 2)$\n",
    "    * $\\tan(-\\pi)$\n",
    "    * $\\cos^2(0.5337) + \\sin^2(0.5337)$\n",
    "    * $\\sqrt{3^2 + 4^2}$\n",
    "    * $\\sqrt[\\leftroot{-1}\\uproot{2}3]{-1}$\n",
    "    * $\\log_{10}(1)$\n",
    "    * $\\ln(1)$\n",
    "    * $10^{\\log_{10}(0.5)}$\n",
    "    * $e^{\\ln(10^{-3})}$\n"
   ]
  },
  {
   "cell_type": "code",
   "execution_count": null,
   "metadata": {},
   "outputs": [],
   "source": [
    "// Exercise 2\n"
   ]
  },
  {
   "cell_type": "markdown",
   "metadata": {},
   "source": [
    "<a id=\"remainder\"></a>\n",
    "## The remainder operator `%`\n",
    "\n",
    "The remainder operator `%` computes the remainder after division. The behaviour of the operator is easiest to understand for integer operands. To begin, recall some grade school mathematics terminology:\n",
    "\n",
    "In the expression\n",
    "\n",
    "$\\frac{a}{b}$\n",
    "\n",
    "the values $a$ and $b$ are called\n",
    "\n",
    "$\\frac{\\text{dividend}}{\\text{divisor}}$\n",
    "\n",
    "The expression `a % b` computes the remainder of `a / b`. For example, to compute `8 % 5` first compute ` 8/ 5` which is equal to `1`; the remainder is `3`. Using fractions, the remainder is the numerator of the mixed number:\n",
    "\n",
    "$\\frac{8}{5} = 1 \\frac{3}{5}$\n",
    "\n",
    "What happens if the divisor is negative? For example, to compute `8 % -5` first compute `8 / -5` which is equal to `-1`; the remainder is `3`. Using fractions, the remainder is the numerator of the mixed number:\n",
    "\n",
    "$\\frac{8}{-5} = -1 \\frac{3}{5}$\n",
    "\n",
    "Now things get strange. What happens if the dividend is negative? For example, to compute `-8 % 5` first compute `-8 / 5` which is equal to `-1`. If we use fractions, the numerator of the mixed number is `3`:\n",
    "\n",
    "$\\frac{-8}{5} = -1 \\frac{3}{5}$\n",
    "\n",
    "Java's remainder operator yields a value of `-3`. The magnitude of the remainder is the numerator of the mixed number but the sign is negative.\n",
    "\n",
    "What happens if both the dividend and divisors are negative? For example, to compute `-8 % -5` first compute `-8 / -5` which is equal to `1`. If we use fractions, the numerator of the mixed number is `3`:\n",
    "\n",
    "$\\frac{-8}{-5} = 1 \\frac{3}{5}$\n",
    "\n",
    "Java's remainder operator yields a value of `-3`. The magnitude of the remainder is the numerator of the mixed number but the sign is negative.\n",
    "\n",
    "Java's remainder operator is defined such that the sign of the remainder is *always equal to the sign of the dividend*. You can reason this out from the way that the remainder operator is defined in Java: The value of\n",
    "\n",
    "`(a / b) * b + (a % b)`\n",
    "\n",
    "is always equal to \n",
    "\n",
    "`a`\n",
    "\n",
    "The remainder operator is commonly used in the following computations:\n",
    "\n",
    "* determine if an integer is even or odd\n",
    "* determine if an integer is divisible by a certain value\n",
    "* to perform some task every $n$th time\n",
    "* working with cyclic quantities such as degrees on a circle, hours and minutes on a clock, and number of cents in a North American amount of money\n",
    "\n",
    "The first three items in the list above require comparison operators or loops which are topics of other notebooks.\n",
    "\n",
    "Cyclic quantities are quantities that are restricted to a range of values; exceeding the maximum value of the range causes the value to wrap around towards the minimum value and exceeding the minimum value of the range causes the value to wrap around towards the maximum value. For example, the angle of a point on a circle is a value between -360 and 360 degrees (if you allow negative angles). Going around the circle more than once causes the angle to wrap; for example 361 degrees wraps around to 1 degree. Wrapping a value is performed using the remainder operator:"
   ]
  },
  {
   "cell_type": "code",
   "execution_count": null,
   "metadata": {},
   "outputs": [],
   "source": [
    "int deg = 361;\n",
    "int wrapped = deg % 360;\n",
    "System.out.println(deg + \" degrees wraps to : \" + wrapped + \" degrees\");"
   ]
  },
  {
   "cell_type": "markdown",
   "metadata": {},
   "source": [
    "The reader should change `deg` to a negative value and confirm that the output matches the expected result. The reader should also try values equal to -360 and 360 degrees.\n",
    "\n",
    "Suppose that instead of wrapping the angle to the range -360 and 360 degrees you wanted to wrap the angle to the range 0 to 360 degrees. A negative angle wraps around to the upper part of the range; for example, -1 degree wraps around to 359 degrees. The solution is to use the remainder operator in the same way as the previous example and then examine the result; if the result is negative we add 360 degrees to the result:"
   ]
  },
  {
   "cell_type": "code",
   "execution_count": null,
   "metadata": {},
   "outputs": [],
   "source": [
    "double deg = -0.5;\n",
    "double wrapped = deg % 360.0;\n",
    "if (wrapped < 0.0) {\n",
    "    wrapped += 360.0;\n",
    "}\n",
    "System.out.println(wrapped);"
   ]
  },
  {
   "cell_type": "markdown",
   "metadata": {},
   "source": [
    "A currency example that uses both integer division and remainder is computing the number of dollars and cents equal to a given number of cents."
   ]
  },
  {
   "cell_type": "code",
   "execution_count": null,
   "metadata": {},
   "outputs": [],
   "source": [
    "int totalCents = 208;\n",
    "int dollars = totalCents / 100;\n",
    "int cents = totalCents % 100;\n",
    "System.out.println(totalCents + \" cents is equal to \" + dollars + \" dollars and \" + cents + \" cents\");"
   ]
  },
  {
   "cell_type": "markdown",
   "metadata": {},
   "source": [
    "### Exercises\n",
    "\n",
    "3. Suppose that there are 315 students in a class. For a class pizza party, the teacher orders sixty 16-slice pizzas. How many students can receive 4 slices of pizza if all of the remaining students receive 3 slices? Solve the problem in the following cell using the `%` operator as part of your solution:"
   ]
  },
  {
   "cell_type": "code",
   "execution_count": null,
   "metadata": {},
   "outputs": [],
   "source": [
    "// Exercise 3\n"
   ]
  },
  {
   "cell_type": "markdown",
   "metadata": {},
   "source": [
    "4. One way to represent the time of day is as the number of seconds after midnight. For example, 0 seconds after midnight is midnight and 86399 seconds after midnight is 23:59:59 (1 second to midnight). Calculate the number of hours, minutes, and seconds that are equivalent to a given number of seconds after midnight:"
   ]
  },
  {
   "cell_type": "code",
   "execution_count": null,
   "metadata": {},
   "outputs": [],
   "source": [
    "// Exercise 4\n",
    "int secPastMidnight = 10800;   // change this value to test that your code gives the expected values\n"
   ]
  },
  {
   "cell_type": "markdown",
   "metadata": {},
   "source": [
    "5. If you pay for an item using cash in Canada then the price is always rounded down to the nearest nickel. Given the original price of an item in cents compute the cash price of the item."
   ]
  },
  {
   "cell_type": "code",
   "execution_count": null,
   "metadata": {},
   "outputs": [],
   "source": [
    "// Exercise 5\n",
    "int price;     // choose some different values for the original price\n"
   ]
  },
  {
   "cell_type": "markdown",
   "metadata": {},
   "source": [
    "6. Given the cash price of an item in cents (which is always a multiple of 5) and a cash payment amount in cents (also a multiple of 5) greater than the cash price compute the number of toonies (2 dollar coins), loonies (1 dollar coins), quarters, dimes, and nickels that are required as change. For example, if the purchaser pays 500 cents for an item that costs 135 cents then the purchaser would receive 1 toonie, 1 loonie, 2 quarters, 1 dime, and 1 nickel in change."
   ]
  },
  {
   "cell_type": "code",
   "execution_count": null,
   "metadata": {},
   "outputs": [],
   "source": [
    "// Exercise 6\n",
    "int cashPrice;    // choose some multiple of 5\n",
    "int payment;      // choose some multiple of 5 greater than cashPrice\n"
   ]
  },
  {
   "cell_type": "markdown",
   "metadata": {},
   "source": [
    "7. Suppose that you are writing a program to control a string of Christmas lights. The lights are numbered 0, 1, 2, ..., 24. You want to blink the lights on and off in the sequence 0, 2, 4, ..., 24, 1, 3, 5, ..., 23, 0, 2, 4, ... If the current light number is stored in a variable named `light` how do you compute the value of the next light number to blink on and off?"
   ]
  },
  {
   "cell_type": "code",
   "execution_count": null,
   "metadata": {},
   "outputs": [],
   "source": [
    "// Exercise 7\n",
    "int light;   // pick some different light numbers to test\n"
   ]
  },
  {
   "cell_type": "markdown",
   "metadata": {},
   "source": [
    "<a id=\"postop\"></a>\n",
    "## Post-increment and post-decrement operators\n",
    "\n",
    "The operand for a post-increment or post-decrement operator *must* be a variable of primitive numeric type (or something that behaves like such a variable such as a field access or an array access). For example, the following is a valid use of the post-increment operator:"
   ]
  },
  {
   "cell_type": "code",
   "execution_count": null,
   "metadata": {},
   "outputs": [],
   "source": [
    "int x = 1;\n",
    "x++;"
   ]
  },
  {
   "cell_type": "markdown",
   "metadata": {},
   "source": [
    "but the following is not:"
   ]
  },
  {
   "cell_type": "code",
   "execution_count": null,
   "metadata": {},
   "outputs": [],
   "source": [
    "1++;"
   ]
  },
  {
   "cell_type": "markdown",
   "metadata": {},
   "source": [
    "The result of applying a post-increment or post-decrement operator is *always a value*. This explains why these operators have no associativity: The expression `x++` produces a value and the post-increment and post-decrement operators cannot be applied to values thus making expressions such as `x++++` meaningless.\n",
    "\n",
    "This begs the question: What value is returned when a post-increment or post-decrement operator is applied to a variable? The value that is returned is simply the value of the variable *before the effect of operator takes place*. For example, printing the value of `x++` simply outputs the original value of `x`:"
   ]
  },
  {
   "cell_type": "code",
   "execution_count": null,
   "metadata": {},
   "outputs": [],
   "source": [
    "int x = 1;\n",
    "System.out.println(x++);"
   ]
  },
  {
   "cell_type": "markdown",
   "metadata": {},
   "source": [
    "The effect of the post-increment operator is to increment, or add 1 to the value of, the operand. The effect of the post-decrement operator is to decrement, or subtract 1 from the value of, the operand. For example, printing the value of `x` after applying the post-increment operator outputs the incremented value of `x`:"
   ]
  },
  {
   "cell_type": "code",
   "execution_count": null,
   "metadata": {},
   "outputs": [],
   "source": [
    "int x = 1;\n",
    "x++;\n",
    "System.out.println(x);"
   ]
  },
  {
   "cell_type": "markdown",
   "metadata": {},
   "source": [
    "The naming of the post-increment and post-decrement operators doesn't just indicate that the operators are placed after the operand, the naming also indicates that the increment or decrement operation occurs *after* the value of the operation is computed. It is important to remember this fact when trying to understand expressions such as the following:"
   ]
  },
  {
   "cell_type": "code",
   "execution_count": null,
   "metadata": {},
   "outputs": [],
   "source": [
    "int x = 1;\n",
    "int y = x++ * 3;\n",
    "System.out.println(\"x is: \" + x);\n",
    "System.out.println(\"y is: \" + y);"
   ]
  },
  {
   "cell_type": "markdown",
   "metadata": {},
   "source": [
    "In the above example, the expression `x++ * 3` means \"use the current value of `x` and multiply it by 3, then increment `x`\", thus the value of `y` is computed as `1 * 3` and then the value of `x` is incremented to 2.\n",
    "\n",
    "Perhaps the most common usage of the post-increment and post-decrement operators are in the update expression of a simple `for` loop:"
   ]
  },
  {
   "cell_type": "code",
   "execution_count": null,
   "metadata": {},
   "outputs": [],
   "source": [
    "// compute the sum 0 + 1 + 2 + ... + 10\n",
    "int sum = 0;\n",
    "for (int i = 0; i <= 10; i++) {\n",
    "    sum = sum + i;\n",
    "}\n",
    "System.out.println(sum);"
   ]
  },
  {
   "cell_type": "code",
   "execution_count": null,
   "metadata": {},
   "outputs": [],
   "source": [
    "// print the values 10, 9, 8, ..., 0 on separate lines\n",
    "for (int i = 10; i >= 0; i--) {\n",
    "    System.out.println(i);\n",
    "}"
   ]
  },
  {
   "cell_type": "markdown",
   "metadata": {},
   "source": [
    "## Pre-increment and pre-decrement operators\n",
    "\n",
    "The pre-increment and pre-decrement operators are similar to their post-increment/decrement counterparts with the exception that they increment or decrement the operand *before* the value of the operation is computed and they return the value of the incremented or decremented variable. This means that printing the value of `++x` will print the incremented value of `x`:"
   ]
  },
  {
   "cell_type": "code",
   "execution_count": null,
   "metadata": {},
   "outputs": [],
   "source": [
    "int x = 1;\n",
    "System.out.println(++x);"
   ]
  },
  {
   "cell_type": "markdown",
   "metadata": {},
   "source": [
    "If a pre-increment or pre-decrement expression is used as part of a more complicated expression then it is important to remember that it is the incremented or decremented value that is used:"
   ]
  },
  {
   "cell_type": "code",
   "execution_count": null,
   "metadata": {},
   "outputs": [],
   "source": [
    "int x = 1;\n",
    "int y = ++x * 3;\n",
    "System.out.println(\"x is: \" + x);\n",
    "System.out.println(\"y is: \" + y);"
   ]
  },
  {
   "cell_type": "markdown",
   "metadata": {},
   "source": [
    "In the above example, the expression `++x * 3` means \"increment `x` then use the incremented value of `x` and multiply it by 3\", thus the value of `x` is incrmented and then `y` is computed as `2 * 3`.\n",
    "\n",
    "The pre-increment and pre-decrement operators are often used in simple `for` loop update expressions in the same way that the post-increment and post-decrement operators are used; whether to use the post- or pre- form of the operator is simply a matter of programmer preference. Running the two examples below which use pre-increment and pre-decrement instead of post-increment and post-increment produces the exact same results as the examples in the previous sections:"
   ]
  },
  {
   "cell_type": "code",
   "execution_count": null,
   "metadata": {},
   "outputs": [],
   "source": [
    "// compute the sum 0 + 1 + 2 + ... + 10\n",
    "int sum = 0;\n",
    "for (int i = 0; i <= 10; ++i) {\n",
    "    sum = sum + i;\n",
    "}\n",
    "System.out.println(sum);"
   ]
  },
  {
   "cell_type": "code",
   "execution_count": null,
   "metadata": {},
   "outputs": [],
   "source": [
    "// print the values 10, 9, 8, ..., 0 on separate lines\n",
    "for (int i = 10; i >= 0; --i) {\n",
    "    System.out.println(i);\n",
    "}"
   ]
  },
  {
   "cell_type": "markdown",
   "metadata": {},
   "source": [
    "### Exercises\n",
    "\n",
    "8. Suppose that you have a variable `int x = 1;`. What is the value of `x` after the following statement?:\n",
    "```java\n",
    "x++;\n",
    "```"
   ]
  },
  {
   "cell_type": "markdown",
   "metadata": {},
   "source": [
    "9. Suppose that you have a variable `int x = 1;`. What is the value of `x` after the following statement?:\n",
    "```java\n",
    "x = x++;\n",
    "```"
   ]
  },
  {
   "cell_type": "markdown",
   "metadata": {},
   "source": [
    "10. Suppose that you have a variable `int x = 1;`. What is the value of `x` after the following statement?:\n",
    "```java\n",
    "x = ++x;\n",
    "```"
   ]
  },
  {
   "cell_type": "markdown",
   "metadata": {},
   "source": [
    "11. Suppose that you have a variable `int x = 1;`. What is the value of `x` after the following statement?:\n",
    "```java\n",
    "x = x++ + ++x;\n",
    "```"
   ]
  },
  {
   "cell_type": "markdown",
   "metadata": {},
   "source": [
    "The lesson of Exercises 8-11 is that you should avoid using a post/pre-increment/decrement operator with a variable and then assigning the result back to the variable because the results are confusing."
   ]
  },
  {
   "cell_type": "markdown",
   "metadata": {},
   "source": [
    "## Assignment  and casting of mixed types\n",
    "\n",
    "The primitive numeric types have what are called *widths*. The type `double` is considered to be wider than `float`, which is wider than `long`, which is wider than `int`, which is wider than all of the other primitive numeric types.\n",
    "\n",
    "Java allows the programmer to store a numeric value in a variable as long as the value has a width *less than or equal to* the width of the variable type.\n",
    "\n",
    "`double` has the widest type, thus any primitive numeric value can be stored in a variable of type `double`:"
   ]
  },
  {
   "cell_type": "code",
   "execution_count": null,
   "metadata": {},
   "outputs": [],
   "source": [
    "double x = 1.0; // a double can store a double\n",
    "x = 1.0f;       // or a float\n",
    "x = 1L;         // or a long\n",
    "x = 1;          // or an int\n",
    "x = 'a';        // or a char, short, or byte"
   ]
  },
  {
   "cell_type": "markdown",
   "metadata": {},
   "source": [
    "A variable of type `float` can store any `float` value or integer-type value:"
   ]
  },
  {
   "cell_type": "code",
   "execution_count": null,
   "metadata": {},
   "outputs": [],
   "source": [
    "float x = 1.0F; // a float can store a float\n",
    "x = 1L;         // or a long\n",
    "x = 1;          // or an int\n",
    "x = 'a';        // or a char, short, or byte"
   ]
  },
  {
   "cell_type": "markdown",
   "metadata": {},
   "source": [
    "A variable of type `float` cannot store a `double` value because the type `double` is wider than `float`:"
   ]
  },
  {
   "cell_type": "code",
   "execution_count": null,
   "metadata": {},
   "outputs": [],
   "source": [
    "float x = 1.0;  // oops"
   ]
  },
  {
   "cell_type": "markdown",
   "metadata": {},
   "source": [
    "A `double` value can be stored in a variable of type `float` using a cast but there may be loss of precision (because there are many more `double` values than there are `float` values):"
   ]
  },
  {
   "cell_type": "code",
   "execution_count": null,
   "metadata": {},
   "outputs": [],
   "source": [
    "float x = (float) Math.PI;\n",
    "System.out.println(\"double pi: \" + Math.PI);\n",
    "System.out.println(\"float pi : \" + x);"
   ]
  },
  {
   "cell_type": "markdown",
   "metadata": {},
   "source": [
    "A variable of type `long` can store any integer-type value:"
   ]
  },
  {
   "cell_type": "code",
   "execution_count": null,
   "metadata": {},
   "outputs": [],
   "source": [
    "long x = 1L;   // a long can store a long\n",
    "x = 1;         // or an int\n",
    "x = 'a';       // or a char, short, or byte"
   ]
  },
  {
   "cell_type": "markdown",
   "metadata": {},
   "source": [
    "A variable of type `long` cannot store any floating-point type value without a cast:"
   ]
  },
  {
   "cell_type": "code",
   "execution_count": null,
   "metadata": {},
   "outputs": [],
   "source": [
    "long x = 1.0f;  // oops\n",
    "x = 1.0;        // also oops"
   ]
  },
  {
   "cell_type": "code",
   "execution_count": null,
   "metadata": {},
   "outputs": [],
   "source": [
    "long x = (long) Math.PI;\n",
    "System.out.println(\"double pi: \" + Math.PI);\n",
    "System.out.println(\"long pi  : \" + x);"
   ]
  },
  {
   "cell_type": "markdown",
   "metadata": {},
   "source": [
    "A variable of type `int` can store any integer-type value except for `long`:"
   ]
  },
  {
   "cell_type": "code",
   "execution_count": null,
   "metadata": {},
   "outputs": [],
   "source": [
    "int x = 1;  // an int can store an int\n",
    "x = 'c';    // or a char, short, or byte"
   ]
  },
  {
   "cell_type": "markdown",
   "metadata": {},
   "source": [
    "A variable of type `int` cannot store a `long` value or any floating-point value without a cast:"
   ]
  },
  {
   "cell_type": "code",
   "execution_count": null,
   "metadata": {},
   "outputs": [],
   "source": [
    "int x = 1L;  // oops\n",
    "x = 1.0f;    // oops\n",
    "x = 1.0;     // oops"
   ]
  },
  {
   "cell_type": "code",
   "execution_count": null,
   "metadata": {},
   "outputs": [],
   "source": [
    "double y = 1.9999999999999;\n",
    "int x = (int) y;\n",
    "System.out.println(\"double value (positive): \" + y);\n",
    "System.out.println(\"int value              : \" + x);  // notice that the digits after the decimal place are removed\n",
    "\n",
    "y = -1.9999999999999;\n",
    "x = (int) y;\n",
    "System.out.println(\"double value (negative): \" + y);\n",
    "System.out.println(\"int value              : \" + x);  // notice that the digits after the decimal place are removed"
   ]
  },
  {
   "cell_type": "markdown",
   "metadata": {},
   "source": [
    "Notice that the values `1.9999999999999` and `-1.9999999999999` are not rounded to `2` and `-2`, respectively, by the cast. Java uses *round toward zero* when converting a floating-point value to an integer; in other words, the digits after the decimal place in a floating-point value are truncated and the result is the whole number part of the floating-point value."
   ]
  },
  {
   "cell_type": "markdown",
   "metadata": {},
   "source": [
    "### Exercises\n",
    "\n",
    "10. What happens when you cast a `double` value to an `int` value where the double value is greater than `Integer.MAX_VALUE`?"
   ]
  },
  {
   "cell_type": "code",
   "execution_count": null,
   "metadata": {},
   "outputs": [],
   "source": [
    "// Exercise 10\n"
   ]
  },
  {
   "cell_type": "markdown",
   "metadata": {},
   "source": [
    "## Compound assignment operators\n",
    "\n",
    "The compound assignment operators allow the programmer to apply a binary operator to a variable and store the result back in the same variable. The following table illustrates the meaning of the compound operators for a variable `x` of type `int`:\n",
    "\n",
    "| Operator | Example usage | Meaning |\n",
    "| :- | :- | :- |\n",
    "| `+=` | `x += 5.1;` | `x = (int) (x + 5.1);` |\n",
    "| `-=` | `x -= 3;` | `x = (int) (x - 3);` |\n",
    "| `*=` | `x *= y;` | `x = (int) (x * y);` |\n",
    "| `/=` | `x /= 2.5f;` | `x = (int) ( x / 2.5f);` |\n",
    "| `%=` | `x %= 2;` | `x = (int) (x % 2);` |\n",
    "\n",
    "If `x` has some other primitive numeric type then the cast `(int)` is replaced with a cast to the appropriate type."
   ]
  },
  {
   "cell_type": "markdown",
   "metadata": {},
   "source": [
    "## Arithmetic with `byte`, `char`, and `short`\n",
    "<a id=\"byte_char_short\"></a>\n",
    "\n",
    "Arithmetic involving the types `byte`, `char`, and `short` is unusual in Java. Operands of these types are always converted to `int` and then the operation is applied which results in an `int` value. \n",
    "\n",
    "For the post- and pre-increment and post- and pre-decrement operators the value is then converted back to the original type. For example:"
   ]
  },
  {
   "cell_type": "code",
   "execution_count": null,
   "metadata": {},
   "outputs": [],
   "source": [
    "short s = 5;\n",
    "short t = ++s;  // the value of s is converted to an int, incremented, and then converted back to short before being stored in t\n",
    "System.out.println(t);"
   ]
  },
  {
   "cell_type": "markdown",
   "metadata": {},
   "source": [
    "As shown in the previous section, the compound assignment operators implicitly cast the computed value to the appropriate type before performing the assignment; thus, statements such as the following are all valid:"
   ]
  },
  {
   "cell_type": "code",
   "execution_count": null,
   "metadata": {},
   "outputs": [],
   "source": [
    "byte b = 120;\n",
    "b += 2;                 // add an int to a byte to get 122?\n",
    "System.out.println(b);\n",
    "\n",
    "b += 5.0;               // add a double to a byte to get 127?\n",
    "System.out.println(b);\n",
    "\n",
    "b /= 100;               // divide by an int to get 1?\n",
    "System.out.println(b);"
   ]
  },
  {
   "cell_type": "markdown",
   "metadata": {},
   "source": [
    "What is strange when you see it for the first time is that the other arithmetic operators *do not* convert the resulting value back to the original type; that is, all of the other operators result in a value of type `int` and it is invalid to try to assign an `int` value back to a variable of type `byte`, `char`, or `short`. For example, the following fails (!) to compile *\\[try running the following cell\\]*:"
   ]
  },
  {
   "cell_type": "code",
   "execution_count": null,
   "metadata": {},
   "outputs": [],
   "source": [
    "short s = 1;\n",
    "short t = -s;"
   ]
  },
  {
   "cell_type": "markdown",
   "metadata": {},
   "source": [
    "Similarly, the sum of two `char` values *cannot* be stored in a `char` variable *\\[try running the following cell\\]*:"
   ]
  },
  {
   "cell_type": "code",
   "execution_count": null,
   "metadata": {},
   "outputs": [],
   "source": [
    "char a = 'a';\n",
    "char b = 'b';\n",
    "char sum = a + b;"
   ]
  },
  {
   "cell_type": "markdown",
   "metadata": {},
   "source": [
    "Both of the previous examples require an explicit cast to placate the compiler:"
   ]
  },
  {
   "cell_type": "code",
   "execution_count": null,
   "metadata": {},
   "outputs": [],
   "source": [
    "short s = 1;\n",
    "short t = (short) -s;\n",
    "System.out.println(t);\n",
    "\n",
    "char a = 'a';\n",
    "char b = 'b';\n",
    "char sum = (char) (a + b);\n",
    "System.out.println(sum);"
   ]
  },
  {
   "cell_type": "markdown",
   "metadata": {},
   "source": [
    "## Arithmetic with mixed types\n",
    "\n",
    "When a binary operator is applied to operands of different types Java converts the type of one of the operands so that both operands have the same type using a *widening conversion*. The widening conversion follows a simple algorithm:\n",
    "\n",
    "1. If either operand is of type `double`, the other is converted to `double`.\n",
    "2. Otherwise, if either operand is of type `float`, the other is converted to `float`.\n",
    "3. Otherwise, if either operand is of type `long`, the other is converted to `long`.\n",
    "4. Otherwise, both operands are converted to type `int`.\n",
    "\n",
    "The conversion is called a widening conversion because the \"narrower\" operand is converted to the \"wider\" one. After the widening conversion is applied the operator is applied and the result is a value of the wider type."
   ]
  },
  {
   "cell_type": "code",
   "execution_count": null,
   "metadata": {},
   "outputs": [],
   "source": [
    "int anInt = 1;\n",
    "double aDouble = 2.0;\n",
    "double sum = anInt + aDouble;\n",
    "System.out.println(sum);"
   ]
  },
  {
   "cell_type": "markdown",
   "metadata": {},
   "source": [
    "In the above example, the expression\n",
    "\n",
    "```java\n",
    "anInt + aDouble\n",
    "```\n",
    "\n",
    "uses a widening conversion to convert the value of `anInt` to type `double` before the sum is computed; in other words, the compiler evaluates the expression as though it were written as\n",
    "\n",
    "```java\n",
    "((double) anInt) + aDouble\n",
    "```\n"
   ]
  },
  {
   "cell_type": "markdown",
   "metadata": {},
   "source": [
    "### Exercises\n",
    "\n",
    "11. Calculate the arithmetic average of the three `int` values `x`, `y`, and `z` in the following cell. The arithmetic average will often be a real number so your calculation should yield a `double` result. Your solution should work for every possible combination of values `x`, `y`, and `z`. Note: There are a surprising number of solutions that appear to be correct that in fact are not."
   ]
  },
  {
   "cell_type": "code",
   "execution_count": null,
   "metadata": {},
   "outputs": [],
   "source": [
    "// Exercise 11\n",
    "int x;         // assign values to x, y, and z\n",
    "int y;\n",
    "int z;\n"
   ]
  },
  {
   "cell_type": "markdown",
   "metadata": {},
   "source": [
    "12. What is the value of `z`?\n",
    "```java\n",
    "int x = 5;\n",
    "int y = 2;\n",
    "double z = (x / y) * y;\n",
    "```"
   ]
  },
  {
   "cell_type": "code",
   "execution_count": null,
   "metadata": {},
   "outputs": [],
   "source": [
    "// Exercise 12\n"
   ]
  },
  {
   "cell_type": "markdown",
   "metadata": {},
   "source": [
    "13. In Question 12, how can you force the evaluation of `(x / y) * y` to return the value `5.0`?"
   ]
  },
  {
   "cell_type": "code",
   "execution_count": null,
   "metadata": {},
   "outputs": [],
   "source": [
    "// Exercise 13\n"
   ]
  },
  {
   "cell_type": "markdown",
   "metadata": {},
   "source": [
    "## Arithmetic with the floating-point special values\n",
    "\n",
    "The floating-point special values `Float.NEGATIVE_INFINITY`, `Float.POSITIVE_INFINITY`, `Float.NaN`, `Double.NEGATIVE_INFINITY`, `Double.POSITIVE_INFINITY`, and `Double.NaN` require some specific rules that define the result of performing arithmetic with these values:\n",
    "\n",
    "1. All arithmetic operation with `NaN` as an operand produces `NaN` as the result.\n",
    "2. All arithmetic operations with an infinity as an operand produces $\\pm 0$, $\\pm$infinity or `NaN` as the result.\n",
    "\n",
    "Rule 2 is supposed to produce \"sensible\" results. The following list describes the results of arithmetic involving infinities. In the list, the symbol `n` means any numeric value that is not `NaN` or an infinity.\n",
    "\n",
    "* adding `n` to an infinity results in an infinity\n",
    "* subtracting `n` and an infinity results in an infinity\n",
    "* dividing `n` by an infinity results in `0.0` or `-0.0` depending on the signs of `n` and of the infinity\n",
    "* multiplying `n` by an infinity results in an infinity as long as `n` is not equal to `0.0` or `-0.0`\n",
    "* adding two infinities having the same sign results in an infinity\n",
    "* subtracting two infinities having different signs results in an infinity\n",
    "* $\\infty - \\infty$ results in `NaN`\n",
    "* $-\\infty + \\infty$ and $\\infty + -\\infty$ results in `NaN`\n",
    "* multiplying an infinity by `0.0` or `-0.0` results in `NaN`\n",
    "* dividing two infinities results in `NaN`\n",
    "\n",
    "The following example illustrates that adding the most negative finite `double` value to positive infinity results in positive infinity:"
   ]
  },
  {
   "cell_type": "code",
   "execution_count": null,
   "metadata": {},
   "outputs": [],
   "source": [
    "double x = -Double.MAX_VALUE + Double.POSITIVE_INFINITY;\n",
    "System.out.println(x);"
   ]
  },
  {
   "cell_type": "markdown",
   "metadata": {},
   "source": [
    "### Exercises\n",
    "\n",
    "14. Consider the statement `double z = x - x;`. Give two examples where `z` is *not equal* to zero."
   ]
  },
  {
   "cell_type": "code",
   "execution_count": null,
   "metadata": {},
   "outputs": [],
   "source": [
    "// Exercise 14\n"
   ]
  }
 ],
 "metadata": {
  "kernelspec": {
   "display_name": "Java",
   "language": "java",
   "name": "java"
  },
  "language_info": {
   "codemirror_mode": "text/x-java",
   "file_extension": ".java",
   "mimetype": "",
   "name": "Java",
   "nbconverter_exporter": "",
   "version": "1.8.0_121"
  },
  "toc": {
   "base_numbering": 1,
   "nav_menu": {},
   "number_sections": false,
   "sideBar": false,
   "skip_h1_title": false,
   "title_cell": "Table of Contents",
   "title_sidebar": "Contents",
   "toc_cell": false,
   "toc_position": {},
   "toc_section_display": false,
   "toc_window_display": false
  }
 },
 "nbformat": 4,
 "nbformat_minor": 4
}
