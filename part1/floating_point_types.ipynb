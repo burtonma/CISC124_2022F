{
 "cells": [
  {
   "cell_type": "code",
   "execution_count": null,
   "metadata": {},
   "outputs": [],
   "source": [
    "// run this cell to prevent Jupyter from displaying the null output cell\n",
    "com.twosigma.beakerx.kernel.Kernel.showNullExecutionResult = false;"
   ]
  },
  {
   "cell_type": "markdown",
   "metadata": {},
   "source": [
    "<a id='notebook_id'></a>\n",
    "# Floating-point values\n",
    "\n",
    "Unlike the integer types, floating-point numbers are similar in Python and Java. Perhaps the most confusing difference is that the Python floating-point type named `float` usually corresponds to the Java type `double` instead of the Java type `float`."
   ]
  },
  {
   "cell_type": "markdown",
   "metadata": {},
   "source": [
    "## Python `float`\n",
    "\n",
    "The [official Python tutorial](https://docs.python.org/3/tutorial/floatingpoint.html) on floating-point arithmetic states that \"Almost all machines today (November 2000) use IEEE-754 floating point arithmetic, and almost all platforms map Python floats to IEEE-754 double precision.\" The details of the IEEE-754 double precision format standard are far beyond the scope of this notebook. What the reader needs to know for the purposes of this notebook is that a double precision number is represented by a finite number of binary digits (64 bits, to be precise) and therefore, there is a limit on the range of values that can be represented and not every decimal number can be represented."
   ]
  },
  {
   "cell_type": "markdown",
   "metadata": {},
   "source": [
    "Python's floor division operator `//` also works for `float` values. As a reminder, the expression `a // b` computes the value of `a` divided by `b` and then rounds the result down to the nearest integer value. For example, the value of `1 // 0.3` can be computed by running the following cell:"
   ]
  },
  {
   "cell_type": "code",
   "execution_count": null,
   "metadata": {},
   "outputs": [],
   "source": [
    "%%python\n",
    "\n",
    "x = 1 // 0.3\n",
    "print(x)"
   ]
  },
  {
   "cell_type": "markdown",
   "metadata": {},
   "source": [
    "Ordinary division in Python raises an exception if division by `+0.0` or `-0.0` occurs:"
   ]
  },
  {
   "cell_type": "code",
   "execution_count": null,
   "metadata": {},
   "outputs": [],
   "source": [
    "%%python\n",
    "\n",
    "x = 1 / 0.0;\n",
    "print(x)"
   ]
  },
  {
   "cell_type": "markdown",
   "metadata": {},
   "source": [
    "## Java floating-point types\n",
    "\n",
    "Java has two floating-point types `float` and `double` and an arbitrary precision decimal number class `BigDecimal`. This notebook discusses `float` and `double` in some detail and briefly touches on the `BigDecimal` class."
   ]
  },
  {
   "cell_type": "markdown",
   "metadata": {},
   "source": [
    "### `double`\n",
    "\n",
    "The Java primitive type `double` is most similar to the Python type `float` in that it supports the IEEE-754 double precision values and operations. The `double` type is generally considered the default floating-point type in Java except in situations where computer memory is considered a scarce resource.\n",
    "\n",
    "A Java `double` occupies a fixed amount of computer memory; in particular, a `double` is a 64-bit signed value. Because a `double` occupies a fixed amount of memory, there must be a limit to the range of values that can be represented by an `double`.\n",
    "\n",
    "A `double` can represent finite values between $\\pm (2 - 2^{-52} \\times 2^{1023})$ (approximately $\\pm 1.80 \\times 10^{308}$). These values can be obtained using the `Double` class constant `MAX_VALUE`:"
   ]
  },
  {
   "cell_type": "code",
   "execution_count": null,
   "metadata": {},
   "outputs": [],
   "source": [
    "double mostPositive = Double.MAX_VALUE;\n",
    "double mostNegative = -mostPositive;\n",
    "System.out.println(mostPositive);\n",
    "System.out.println(mostNegative);"
   ]
  },
  {
   "cell_type": "markdown",
   "metadata": {},
   "source": [
    "The constant values corresponding to negative and positive infinity are `Double.NEGATIVE_INFINITY` and `Double.POSITIVE_INFINITY`. Run the following cell to see how Java prints such values:"
   ]
  },
  {
   "cell_type": "code",
   "execution_count": null,
   "metadata": {},
   "outputs": [],
   "source": [
    "System.out.println(Double.NEGATIVE_INFINITY);\n",
    "System.out.println(Double.POSITIVE_INFINITY);"
   ]
  },
  {
   "cell_type": "markdown",
   "metadata": {},
   "source": [
    "Unlike Python, negative and positive infinity can result when non-zero values are divided by zero; no exception is thrown when division by zero occurs. Running the next cell throws no exceptions and prints the computed values:"
   ]
  },
  {
   "cell_type": "code",
   "execution_count": null,
   "metadata": {},
   "outputs": [],
   "source": [
    "double negInf = -1 / 0.0;\n",
    "double posInf = 1 / 0.0;\n",
    "System.out.println(negInf);\n",
    "System.out.println(posInf);"
   ]
  },
  {
   "cell_type": "markdown",
   "metadata": {},
   "source": [
    "The result of dividing zero by zero results in the special value NaN, or Not A Number. The value NaN is available to the programmer as `Double.NaN`:"
   ]
  },
  {
   "cell_type": "code",
   "execution_count": null,
   "metadata": {},
   "outputs": [],
   "source": [
    "double oops = 0 / 0.0;\n",
    "System.out.println(oops);"
   ]
  },
  {
   "cell_type": "markdown",
   "metadata": {},
   "source": [
    "There are a few other ways where an arithmetic calculation can produce the result `Double.NaN`; see the exercises for details."
   ]
  },
  {
   "cell_type": "markdown",
   "metadata": {},
   "source": [
    "Unlike Python, there is no exponentiation operator (`**` in Python) in Java. For exponentiation, use the method `Math.pow`; for example to compute $2^{0.5}$:"
   ]
  },
  {
   "cell_type": "code",
   "execution_count": null,
   "metadata": {},
   "outputs": [],
   "source": [
    "double root2 = Math.pow(2, 0.5);  // square root of 2? should use Math.sqrt instead\n",
    "System.out.println(root2);"
   ]
  },
  {
   "cell_type": "markdown",
   "metadata": {},
   "source": [
    "Unlike Python, there is no floor division operator (`//` in Python) in Java. For floor division of `double` values, use ordinary division and the method `Math.floor`:"
   ]
  },
  {
   "cell_type": "code",
   "execution_count": null,
   "metadata": {},
   "outputs": [],
   "source": [
    "double slicesOfCake = 8.5;   // I guess someone ate half a slice\n",
    "double n = 3.0;              // number of people; should probably be an int\n",
    "double slicesPerPerson = Math.floor(slicesOfCake / n);\n",
    "System.out.println(slicesPerPerson);"
   ]
  },
  {
   "cell_type": "markdown",
   "metadata": {},
   "source": [
    "Java `double` values are closed under arithmetic operations: Adding, subtracting, multiplying, or dividing two `double` values always results in a `double` value. Arithmetic calculations that produce values less than `-Double.MAX_VALUE` or greater than `Double.MAX_VALUE` result in `Double.NEGATIVE_INFINITY` and `Double.POSITIVE_INFINITY`, respectively; unlike the primitive integer types, `double` values overflow to infinity instead of wrapping."
   ]
  },
  {
   "cell_type": "code",
   "execution_count": null,
   "metadata": {},
   "outputs": [],
   "source": [
    "double veryPositive = Double.MAX_VALUE;\n",
    "System.out.println(veryPositive * 2.0);\n",
    "System.out.println(veryPositive * -2.0);"
   ]
  },
  {
   "cell_type": "markdown",
   "metadata": {},
   "source": [
    "### `float`\n",
    "\n",
    "The Java type `float` is a 32-bit signed value that supports IEEE-754 single precision values and operations. A `float` uses half the memory of a `double` and is useful in situations where memory is a scarce resource and the reduction in precision can be tolerated.\n",
    "\n",
    "A `float` literal is a number followed by the letter `f` or `F` and scientific notation is allowed for `float` literals. For example:"
   ]
  },
  {
   "cell_type": "code",
   "execution_count": null,
   "metadata": {},
   "outputs": [],
   "source": [
    "float f1 = 0f;                       // zero\n",
    "float f2 = -1.5f;                    // negative 1.5\n",
    "float speedOfLight = 2.99792458e8f;  // 2.99792458 times 10 to power 8"
   ]
  },
  {
   "cell_type": "markdown",
   "metadata": {},
   "source": [
    "The other significant differences between Java's `float` and `double` types is that `float` represents a narrower range of values, has fewer bits of precision, and has constant values defined in the class `Float`; otherwise the behaviour of `float` is identical to that of `double`."
   ]
  },
  {
   "cell_type": "markdown",
   "metadata": {},
   "source": [
    "The `float` infinity values are `Float.NEGATIVE_INFINITY` and `Float.POSITIVE_INFINITY`:"
   ]
  },
  {
   "cell_type": "code",
   "execution_count": null,
   "metadata": {},
   "outputs": [],
   "source": [
    "System.out.println(Float.NEGATIVE_INFINITY);\n",
    "System.out.println(Float.POSITIVE_INFINITY);"
   ]
  },
  {
   "cell_type": "markdown",
   "metadata": {},
   "source": [
    "The `float` NaN value is `Float.NaN`:"
   ]
  },
  {
   "cell_type": "code",
   "execution_count": null,
   "metadata": {},
   "outputs": [],
   "source": [
    "float oops = 0 / 0.0f;\n",
    "System.out.println(oops);"
   ]
  },
  {
   "cell_type": "markdown",
   "metadata": {},
   "source": [
    "For exponentiation, the method `Math.pow` can be used, but the result must be cast to `float` because `Math.pow` returns a `double` value:"
   ]
  },
  {
   "cell_type": "code",
   "execution_count": null,
   "metadata": {},
   "outputs": [],
   "source": [
    "float root2 = (float) Math.pow(2f, 0.5f);  // note the cast to float\n",
    "System.out.println(root2);"
   ]
  },
  {
   "cell_type": "markdown",
   "metadata": {},
   "source": [
    "Compare the output of running the previous cell to the output of the cell where `root2` was calculated as a `double` value; notice the reduced number of digits in the output of the `float` version compared to the `double` version."
   ]
  },
  {
   "cell_type": "markdown",
   "metadata": {},
   "source": [
    "Floor division of `float` values is performed in the same way as for `double` values; the result of `Math.floor` must be cast to `float` because `Math.floor` returns a `double` value:"
   ]
  },
  {
   "cell_type": "code",
   "execution_count": null,
   "metadata": {},
   "outputs": [],
   "source": [
    "float slicesOfCake = 8.5f;   // I guess someone ate half a slice\n",
    "float n = 3.0f;              // number of people; should probably be an int\n",
    "float slicesPerPerson = (float) Math.floor(slicesOfCake / n);   // note the cast to float\n",
    "System.out.println(slicesPerPerson);"
   ]
  },
  {
   "cell_type": "markdown",
   "metadata": {},
   "source": [
    "### `BigDecimal`\n",
    "\n",
    "The `BigDecimal` class defines a type that represents arbitrary-precision decimal numbers. Like `BigInteger` performing arithmetic using `BigDecimal` requires invoking methods. One of the commonly cited uses of `BigDecimal` is for financial computations where the imprecision of regular floating-point arithmetic is considered unacceptable. For example, the [compound interest formula](htt..//www.thecalculatorsite.../artic../fina../compound-interest-formula.php) is:\n",
    "\n",
    "$A = P(1 + \\frac{r}{n})^{nt}$\n",
    "\n",
    "where:\n",
    "\n",
    "* $A$ is the future value of the investment or loan including interest\n",
    "* $P$ is the principal investment amount\n",
    "* $r$ is the annual interest rate\n",
    "* $n$ is the number of times that interest is compounded per unit time\n",
    "* $t$ is the time the money is invested or borrowed for\n",
    "\n",
    "Suppose that someone invests $P$ = 100 dollars at a rate $r = 0.025$ (2.5%) compounded yearly ($n = 1$) for $t = 20$ years. The following cell illustrates how to use the `BigDecimal` class to compute the future value of the investment:"
   ]
  },
  {
   "cell_type": "code",
   "execution_count": null,
   "metadata": {},
   "outputs": [],
   "source": [
    "import java.math.BigDecimal;\n",
    "\n",
    "BigDecimal prin = new BigDecimal(100);\n",
    "BigDecimal rate = new BigDecimal(\"0.025\");\n",
    "int n = 1;\n",
    "int t = 20;\n",
    "BigDecimal futureVal = prin.multiply(BigDecimal.ONE.add(rate.divide(BigDecimal.ONE)).pow(n * t));\n",
    "System.out.println(futureVal);"
   ]
  },
  {
   "cell_type": "markdown",
   "metadata": {},
   "source": [
    "## Exercises\n",
    "\n",
    "The following exercises focus on the special floating-point values representing infinities and not-a-numbers. Exercises involving arithmetic can be found in the [Arithmetic](./arithmetic.ipynb#notebook_id) notebook.\n",
    "\n",
    "1. Use the following cell to compute the result of multiplying zero by positive or negative infinity; you can use either `float` or `double` for this exercise."
   ]
  },
  {
   "cell_type": "code",
   "execution_count": null,
   "metadata": {},
   "outputs": [],
   "source": [
    "// Exercise 1\n"
   ]
  },
  {
   "cell_type": "markdown",
   "metadata": {},
   "source": [
    "2. Use the following cell to compute the result of adding two infinities having the same sign; you can use either `float` or `double` for this exercise."
   ]
  },
  {
   "cell_type": "code",
   "execution_count": null,
   "metadata": {},
   "outputs": [],
   "source": [
    "// Exercise 2\n"
   ]
  },
  {
   "cell_type": "markdown",
   "metadata": {},
   "source": [
    "3. Use the following cell to compute the result of subtracting two infinities having different signs; you can use either `float` or `double` for this exercise."
   ]
  },
  {
   "cell_type": "code",
   "execution_count": null,
   "metadata": {},
   "outputs": [],
   "source": [
    "// Exercise 3\n"
   ]
  },
  {
   "cell_type": "markdown",
   "metadata": {},
   "source": [
    "4. Use the following cell to compute the result of subtracting two infinities having the same sign; you can use either `float` or `double` for this exercise."
   ]
  },
  {
   "cell_type": "code",
   "execution_count": null,
   "metadata": {},
   "outputs": [],
   "source": [
    "// Exercise 4\n"
   ]
  },
  {
   "cell_type": "markdown",
   "metadata": {},
   "source": [
    "5. Use the following cell to compute the result of dividing two infinities; you can use either `float` or `double` for this exercise."
   ]
  },
  {
   "cell_type": "code",
   "execution_count": null,
   "metadata": {},
   "outputs": [],
   "source": [
    "// Exercise 5\n"
   ]
  },
  {
   "cell_type": "markdown",
   "metadata": {},
   "source": [
    "6. Read about how to write floating-point literals using scientific notation [here](https://docs.oracle.com/javase/tutorial/java/nutsandbolts/datatypes.html). Also note the information in the final section of the linked web page regarding the use of the underscore character in numeric literals."
   ]
  }
 ],
 "metadata": {
  "kernelspec": {
   "display_name": "Java",
   "language": "java",
   "name": "java"
  },
  "language_info": {
   "codemirror_mode": "text/x-java",
   "file_extension": ".java",
   "mimetype": "",
   "name": "Java",
   "nbconverter_exporter": "",
   "version": "1.8.0_121"
  },
  "toc": {
   "base_numbering": 1,
   "nav_menu": {},
   "number_sections": false,
   "sideBar": false,
   "skip_h1_title": false,
   "title_cell": "Table of Contents",
   "title_sidebar": "Contents",
   "toc_cell": false,
   "toc_position": {},
   "toc_section_display": false,
   "toc_window_display": false
  }
 },
 "nbformat": 4,
 "nbformat_minor": 4
}
