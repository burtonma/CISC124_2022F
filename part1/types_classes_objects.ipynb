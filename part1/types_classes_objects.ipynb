{
 "cells": [
  {
   "cell_type": "code",
   "execution_count": null,
   "metadata": {},
   "outputs": [],
   "source": [
    "// run this cell to prevent Jupyter from displaying the null output cell\n",
    "com.twosigma.beakerx.kernel.Kernel.showNullExecutionResult = false;"
   ]
  },
  {
   "cell_type": "markdown",
   "metadata": {},
   "source": [
    "<a id='notebook_id'></a>\n",
    "# Types, classes, and objects\n",
    "\n",
    "The [Wikipedia article](http://en.wikipedia.com/wiki/Java_%28programming_language%29) for the Java programming language states that Java \"is a class-based, object-oriented\" programming language. This notebook explains what classes and objects are."
   ]
  },
  {
   "cell_type": "markdown",
   "metadata": {},
   "source": [
    "## Types\n",
    "\n",
    "[From the Wikipedia article for Data type](http://en.wikipedia.com/wiki/Data_type)\n",
    "\n",
    "> In computer science and computer programming, a data type or simply type is an attribute of data which tells the compiler or interpreter how the programmer intends to use the data. Most programming languages support basic data types of integer numbers (of varying sizes), floating-point numbers (which approximate real numbers), characters and Booleans. A data type constrains the values that an expression, such as a variable or a function, might take. This data type defines the operations that can be done on the data, the meaning of the data, and the way values of that type can be stored. A data type provides a set of values from which an expression (i.e. variable, function, etc.) may take its values.\n",
    "\n",
    "\n",
    "\n",
    "**Example 1**  Consider the Java type `int`. An `int` is an approximation of a mathematical integer. An `int` has a value between `Integer.MIN_VALUE` and `Integer.MAX_VALUE` ($-2^{31}$ and $2^{31} - 1$, respectively). The `int` type provides arithmetic operations such as negation, addition, subtraction, multiplication, and truncating division. The `int` type provides comparison operations such as less than, greater than, and equal to.\n",
    "\n",
    "**Example 2** Consider the Java type [`String`](https://docs.oracle.com/en/java/javase/11/docs/api/java.base/java/lang/String.html) (more precisely the type `java.lang.String`). A `String` represents a sequence of zero or more characters. A Java `String` is *immutable*, which simply means that the sequence of characters cannot be changed after the `String` is created. The `String` type supports many operations which the programmer accesses by using methods defined by the `String` type. Some common operations include getting the character at a particular location in a `String`, finding the location of a particular character in a `String`, getting the number of characters in a `String`, and checking if two `String`s are equal (have the same sequence of characters).\n",
    "\n",
    "**Example 3** It is natural for a programmer to want to create their own types. Suppose that you are implementing a video game where the players roll one or more dice. In this case, it might be useful to create a type called `Die` that represents a die. The `Die` type might define what values can be rolled. It might provide an operation that gets the current face value of a `Die` and another operation that rolls the `Die` to a random face. \n",
    "\n",
    "### Primitive versus reference types\n",
    "\n",
    "Recall from the [Primitive versus reference types](./primitive_versus_reference_types.ipynb#notebook_id) notebook that Java has two different categories of types: *primitive* types and *reference* types. The value of a primitive type variable is either an integer number, floating-point number, or a boolean value. The value of a reference type variable is a reference to an object in memory (where the reference may be represented as a memory address).\n",
    "\n",
    "#### Exercise\n",
    "\n",
    "1. List as many types as you can that you have encountered while reading the notebooks for this course.\n",
    "\n",
    "2. The notebooks have hinted that all of the primitive types in Java have a corresponding wrapper class. Read about the wrapper classes [here](https://www.mindprod.com/jgloss/intvsinteger.html) and [here](https://docs.oracle.com/javase/tutorial/java/data/numberclasses.html). Attempt the Questions and Exercises [here](https://docs.oracle.com/javase/tutorial/java/data/QandE/numbers-questions.html) (note that Exercises 2 and 3 on the linked web page require knowledge of loops and arrays; the cells below include the necessary code "
   ]
  },
  {
   "cell_type": "code",
   "execution_count": null,
   "metadata": {},
   "outputs": [],
   "source": [
    "// Exercise 1 from https://docs.oracle.com/javase/tutorial/java/data/QandE/numbers-questions.html\n",
    "\n",
    "//integers\n",
    "byte largestByte = Byte.MAX_VALUE;\n",
    "short largestShort = Short.MAX_VALUE;\n",
    "int largestInteger = Integer.MAX_VALUE;\n",
    "long largestLong = Long.MAX_VALUE;\n",
    "\n",
    "//real numbers\n",
    "float largestFloat = Float.MAX_VALUE;\n",
    "double largestDouble = Double.MAX_VALUE;\n",
    "\n",
    "//other primitive types\n",
    "char aChar = 'S';\n",
    "boolean aBoolean = true;\n",
    "\n",
    "//Display them all.\n",
    "System.out.println(\"The largest byte value is \"\n",
    "                           + largestByte + \".\");\n",
    "System.out.println(\"The largest short value is \"\n",
    "                           + largestShort + \".\");\n",
    "System.out.println(\"The largest integer value is \"\n",
    "                           + largestInteger + \".\");\n",
    "System.out.println(\"The largest long value is \"\n",
    "                           + largestLong + \".\");\n",
    "\n",
    "System.out.println(\"The largest float value is \"\n",
    "                           + largestFloat + \".\");\n",
    "System.out.println(\"The largest double value is \"\n",
    "                           + largestDouble + \".\");\n",
    "\n",
    "if (Character.isUpperCase(aChar)) {\n",
    "    System.out.println(\"The character \" + aChar\n",
    "                               + \" is uppercase.\");\n",
    "\n",
    "    System.out.println(\"The character \" + aChar\n",
    "                               + \" is lowercase.\");\n",
    "}\n",
    "System.out.println(\"The value of aBoolean is \"\n",
    "                           + aBoolean + \".\");"
   ]
  },
  {
   "cell_type": "code",
   "execution_count": null,
   "metadata": {},
   "outputs": [],
   "source": [
    "// Exercise 2 from https://docs.oracle.com/javase/tutorial/java/data/QandE/numbers-questions.html\n",
    "public class Adder {\n",
    "    public static void main(String... args) {\n",
    "        if (args.length < 2) {\n",
    "            throw new RuntimeException(\"Adder needs at least two integer arguments\");\n",
    "        }\n",
    "        int sum = 0;\n",
    "        for (String s : args) {\n",
    "           // your solution goes here\n",
    "           // -convert s to an int value\n",
    "           // -add the int value to sum\n",
    "            \n",
    "            \n",
    "        }\n",
    "        System.out.println(sum);\n",
    "    } \n",
    "}"
   ]
  },
  {
   "cell_type": "code",
   "execution_count": null,
   "metadata": {},
   "outputs": [],
   "source": [
    "// Run exercise 2 from here\n",
    "Adder.main(\"1\", \"3\", \"2\", \"10\");"
   ]
  },
  {
   "cell_type": "code",
   "execution_count": null,
   "metadata": {},
   "outputs": [],
   "source": [
    "// Exercise 3 from https://docs.oracle.com/javase/tutorial/java/data/QandE/numbers-questions.html\n",
    "public class FPAdder {\n",
    "    public static void main(String... args) {\n",
    "        if (args.length < 2) {\n",
    "            throw new RuntimeException(\"Adder needs at least two integer arguments\");\n",
    "        }\n",
    "        double sum = 0;\n",
    "        for (String s : args) {\n",
    "           // your solution goes here\n",
    "           // -convert s to an int value\n",
    "           // -add the int value to sum\n",
    "            \n",
    "            \n",
    "        }\n",
    "       // output sum using printf to format to two decimal places\n",
    "        \n",
    "    } \n",
    "}"
   ]
  },
  {
   "cell_type": "code",
   "execution_count": null,
   "metadata": {},
   "outputs": [],
   "source": [
    "// Run exercise 3 from here\n",
    "FPAdder.main(\"1\", \"1e2\", \"3.0\", \"4.754\");"
   ]
  },
  {
   "cell_type": "markdown",
   "metadata": {},
   "source": [
    "## Classes\n",
    "\n",
    "When you write a program such as \"Hello, world!\" you create a class but you are not really using the class in an object-oriented fashion; in the \"Hello, world!\" program you have to create a class because that is just the way that Java works.\n",
    "\n",
    "Some classes in Java such as `java.lang.Math` and `java.util.Arrays` exist only to group related methods into one component. These *utility classes* are not examples of the main reason that classes exist.\n",
    "\n",
    "In Java, almost every *class* is an implementation of a type (the exceptions are abstract classes which are discussed in a later notebook). When a programmer creates a class, the programmer defines what information is used to represent the type and what operations can be performed by the type. The \"information used to represent the type\" is often called the *data* and the \"operations that can be performed by the type\" is often called the *behaviour*. In Java, the data is represented using *fields* and the behaviour is defined by *methods*.\n",
    "\n",
    "The class is loaded into memory the first time the class is used by the program. For our purposes, only one copy of the class resides in memory for any given program. This means that if we only had classes then we could only represent one \"thing\" at a time using the class; for example, if we only had classes then we could only have one `String` in memory at any given time. This is obviously very limiting.\n",
    "\n",
    "The purpose of a class is to act as a blueprint or template to create *instances*, or *objects*, that have the same type as the class. Each instance of a class has all of the operations defined by the class and each instance can have its own independent copy of the data defined by the class. This allows a program to have, for example, multiple `String` objects in memory at any given time each of which is able to represent a different sequence of characters."
   ]
  },
  {
   "cell_type": "markdown",
   "metadata": {},
   "source": [
    "## Objects\n",
    "\n",
    "Consider the following Java statement that declares a variable `x` of type `int` having the value `2`:"
   ]
  },
  {
   "cell_type": "code",
   "execution_count": null,
   "metadata": {},
   "outputs": [],
   "source": [
    "int x = 2;"
   ]
  },
  {
   "cell_type": "markdown",
   "metadata": {},
   "source": [
    "In this example, the literal `2` is an occurrence of one particular `int` value.\n",
    "\n",
    "Can we use more than one `int` value in the same program? Of course!:"
   ]
  },
  {
   "cell_type": "code",
   "execution_count": null,
   "metadata": {},
   "outputs": [],
   "source": [
    "int x = 2;\n",
    "int y = 3;\n",
    "int z = x + y;\n",
    "System.out.println(z);"
   ]
  },
  {
   "cell_type": "markdown",
   "metadata": {},
   "source": [
    "In the above example, the literal `3` is another occurrence of an `int` value and the value of `x + y` (`5`) is another occurrence. Note that we can sum two `int` values because the `int` type defines an operation for addition of two `int` values. We can create and use as many occurrences of `int` values as we want in a program (up to the limits of computer memory). "
   ]
  },
  {
   "cell_type": "markdown",
   "metadata": {},
   "source": [
    "Now consider the following Java statement that declares a variable `s` of type `String`:"
   ]
  },
  {
   "cell_type": "code",
   "execution_count": null,
   "metadata": {},
   "outputs": [],
   "source": [
    "String s = \"Do or do not.\";"
   ]
  },
  {
   "cell_type": "markdown",
   "metadata": {},
   "source": [
    "In the above example, the literal `\"Do or do not.\"` is an occurrence of one particular `String` instance.\n",
    "\n",
    "Can we use more than one `String` in the same program? Of course!:"
   ]
  },
  {
   "cell_type": "code",
   "execution_count": null,
   "metadata": {},
   "outputs": [],
   "source": [
    "String s = \"Do or do not.\";\n",
    "String t = \" There is no try.\";\n",
    "String u = s + t; // join the strings referred to by s and t to create a new string\n",
    "System.out.println(u);"
   ]
  },
  {
   "cell_type": "markdown",
   "metadata": {},
   "source": [
    "In the above example, the literal `\" There is no try.\"` is an instance of a `String` and the `String` created by the expression `s + t` is another instance. In total, there are three `String` objects each representing a different sequence of characters. We say that each of the the three string object has its own independent *state*.\n",
    "\n",
    "In summary, an object of some type `X` is created using a class named `X` and the reason we have objects in addition to classes is so that we can use multiple `X` objects all having their own (usually) independent state."
   ]
  }
 ],
 "metadata": {
  "kernelspec": {
   "display_name": "Java",
   "language": "java",
   "name": "java"
  },
  "language_info": {
   "codemirror_mode": "text/x-java",
   "file_extension": ".java",
   "mimetype": "",
   "name": "Java",
   "nbconverter_exporter": "",
   "version": "11.0.1-internal"
  },
  "toc": {
   "base_numbering": 1,
   "nav_menu": {},
   "number_sections": false,
   "sideBar": false,
   "skip_h1_title": false,
   "title_cell": "Table of Contents",
   "title_sidebar": "Contents",
   "toc_cell": false,
   "toc_position": {},
   "toc_section_display": false,
   "toc_window_display": false
  }
 },
 "nbformat": 4,
 "nbformat_minor": 4
}
