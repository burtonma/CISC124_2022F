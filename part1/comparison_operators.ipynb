{
 "cells": [
  {
   "cell_type": "code",
   "execution_count": null,
   "metadata": {},
   "outputs": [],
   "source": [
    "// run this cell to prevent Jupyter from displaying the null output cell\n",
    "com.twosigma.beakerx.kernel.Kernel.showNullExecutionResult = false;"
   ]
  },
  {
   "cell_type": "markdown",
   "metadata": {},
   "source": [
    "<a id=\"notebook_id\"></a>\n",
    "# Comparison operators\n",
    "\n",
    "Python and Java share many of the comparison operators but there are some important differences."
   ]
  },
  {
   "cell_type": "markdown",
   "metadata": {},
   "source": [
    "## Python\n",
    "\n",
    "Python allows chained comparisons; for example, to test if `y` is between `x` and `z` the programmer can write:"
   ]
  },
  {
   "cell_type": "code",
   "execution_count": null,
   "metadata": {},
   "outputs": [],
   "source": [
    "%%python\n",
    "\n",
    "x = 1\n",
    "y = 10\n",
    "z = 100\n",
    "is_between = x < y < z\n",
    "print(is_between)"
   ]
  },
  {
   "cell_type": "markdown",
   "metadata": {},
   "source": [
    "The `==` operator in Python is the equality operator. It behaves how you would expect it to for numeric values:"
   ]
  },
  {
   "cell_type": "code",
   "execution_count": null,
   "metadata": {},
   "outputs": [],
   "source": [
    "%%python\n",
    "x = 1\n",
    "y = 1.0\n",
    "is_equal = x == y\n",
    "print(is_equal)"
   ]
  },
  {
   "cell_type": "markdown",
   "metadata": {},
   "source": [
    "For references, `==` is also the equality operator. In the following example, `p1 == p2` is `True` because the two `Person` objects have the same name:"
   ]
  },
  {
   "cell_type": "code",
   "execution_count": null,
   "metadata": {},
   "outputs": [],
   "source": [
    "%%python\n",
    "\n",
    "class Person(object):\n",
    "    def __init__(self, name):\n",
    "        self.name = name\n",
    "        \n",
    "    def __eq__(self, other):\n",
    "        if not isinstance(other, Person):\n",
    "            return NotImplemented\n",
    "        return self.name == other.name\n",
    "\n",
    "p1 = Person(\"Priya\")\n",
    "p2 = Person(\"Priya\")\n",
    "is_equal = p1 == p2\n",
    "print(is_equal)"
   ]
  },
  {
   "cell_type": "markdown",
   "metadata": {},
   "source": [
    "If you want to test if `p1` and `p2` refer to the same object then you use the `is` operator. In Python, the `is` operator tests for equality of identity. In the following example, `p1 is p2` is `False` because `p1` and `p2` refer to two different `Person` objects:"
   ]
  },
  {
   "cell_type": "code",
   "execution_count": null,
   "metadata": {},
   "outputs": [],
   "source": [
    "%%python\n",
    "\n",
    "class Person(object):\n",
    "    def __init__(self, name):\n",
    "        self.name = name\n",
    "\n",
    "p1 = Person(\"Priya\")\n",
    "p2 = Person(\"Priya\")\n",
    "is_equal = p1 is p2\n",
    "print(is_equal)"
   ]
  },
  {
   "cell_type": "markdown",
   "metadata": {},
   "source": [
    "## Java: Comparing reference types for equality\n",
    "\n",
    "Comparing reference types for equality in Java may be one of the most confusing operations for a Python programmer.\n",
    "\n",
    "**For reference types, the `==` operator is equivalent to the `is` operator in Python, and the `!=` operator is equivalent to the `is not` operator in Python.**\n",
    "\n",
    "When you run the following cell you will be prompted to enter two strings; enter the same string both times:"
   ]
  },
  {
   "cell_type": "code",
   "execution_count": null,
   "metadata": {},
   "outputs": [],
   "source": [
    "import java.util.Scanner;\n",
    "\n",
    "Scanner scan = new Scanner(System.in);\n",
    "\n",
    "System.out.println(\"Type in a first string and press enter: \");\n",
    "String s1 = scan.next();\n",
    "\n",
    "System.out.println(\"Type in a second string and press enter: \");\n",
    "String s2 = scan.next();\n",
    "\n",
    "boolean boo = s1 == s2;\n",
    "System.out.println(\"s1 == s2 is \" + boo);"
   ]
  },
  {
   "cell_type": "markdown",
   "metadata": {},
   "source": [
    "The previous cell will always output `s1 == s2 is false`. This is because each time the `Scanner` object reads a string it returns a new `String` object which means that `s1` and `s1` refer to different objects even if the strings contain the same sequence of characters.\n",
    "\n",
    "The expression `x == y` in Java tests if `x` and `y` have the same value. Remember that the value of a reference variable in Java is an address (or something that behaves like an address); therefore, `x == y` is `true` if and only if `x` and `y` are references to the same object.\n",
    "\n",
    "If you want to test if the objects referred to by `x` and `y` are logically equal then you must use the `equals` method by writing `x.equals(y)`. The following cell contains the previous program re-written to use `equals`. When you run the following cell you will be prompted to enter two strings; enter the same string both times:"
   ]
  },
  {
   "cell_type": "code",
   "execution_count": null,
   "metadata": {},
   "outputs": [],
   "source": [
    "import java.util.Scanner;\n",
    "\n",
    "Scanner scan = new Scanner(System.in);\n",
    "\n",
    "System.out.println(\"Type in a first string and press enter: \");\n",
    "String s1 = scan.next();\n",
    "\n",
    "System.out.println(\"Type in a second string and press enter: \");\n",
    "String s2 = scan.next();\n",
    "\n",
    "boolean boo = s1.equals(s2);\n",
    "System.out.println(\"s1.equals(s2) is \" + boo);"
   ]
  },
  {
   "cell_type": "markdown",
   "metadata": {},
   "source": [
    "Now when you enter the same string twice the program will print `s1.equals(s2) is true`.\n",
    "\n",
    "**One of the most common mistakes that new Java programmers make is to compare objects for equality using the == operator. If you want to test if two objects are equal in Java you should almost always use the equals method.**\n",
    "\n",
    "**Only use the == operator with references when you want to test if two references refer to the same object in memory.**"
   ]
  },
  {
   "cell_type": "markdown",
   "metadata": {},
   "source": [
    "### Exercises\n",
    "\n",
    "1. Suppose that you have the following two reference variables:\n",
    "```java\n",
    "    Widget x;\n",
    "    Widget y;\n",
    "    // later on x and y are assigned some values\n",
    "```\n",
    "Suppose that `x == y` is `true`. What is the value of `x.equals(y)`?<br>\n",
    "Suppose that `x == y` is `false`. What is the value of `x.equals(y)`?"
   ]
  },
  {
   "cell_type": "markdown",
   "metadata": {},
   "source": [
    "2. Consider the following memory diagram:\n",
    "\n",
    "| Address | Type | Variable | Value | Comment |\n",
    "| -: | -: | -: | -: | :- |\n",
    "| 0 | | | | |\n",
    "| 1 | | | | |\n",
    "| ... | | | | |\n",
    "| 100 | `String` | `s` | A2024 | |\n",
    "| 101 | `String` | `t` | A2530 | |\n",
    "| ... | | | | |\n",
    "| 2024 | `String` object | | | the string `\"Woof\"` |\n",
    "| ... | | |  |\n",
    "| 2530 | `String` object | | | the string `\"Woof\"` |\n",
    "| ... | | | |\n",
    "\n",
    "What is the value of `s == t`?<br>\n",
    "What is the value of `s.equals(t)`?"
   ]
  },
  {
   "cell_type": "markdown",
   "metadata": {},
   "source": [
    "## Java: Comparing numeric values\n",
    "\n",
    "The comparison operators in Java are used to compare two values and only two values; Java does not support chained comparisons. If you want to test if `y` is between `x` and `z` then you need to test if `x < y` is `true` and `y < z` is `true` by using a [Boolean operator](./boolean_operators.ipynb#notebook_id). For example:"
   ]
  },
  {
   "cell_type": "code",
   "execution_count": null,
   "metadata": {},
   "outputs": [],
   "source": [
    "int x = 1;\n",
    "int y = 2;\n",
    "int z = 3;\n",
    "boolean isBetween = x < y && y < z;  // need to use the AND operator &&\n",
    "System.out.println(isBetween);"
   ]
  },
  {
   "cell_type": "markdown",
   "metadata": {},
   "source": [
    "The result of a comparison operator is always a `boolean` value.\n",
    "\n",
    "The Java comparison operators are shown in the following table:\n",
    "\n",
    "| operator | meaning | example | result if `x` is equal to `1` | result if `x` is equal to `-1` |\n",
    "| :- | :- | :- | :-: | :-: |\n",
    "| `>` | greater than | `x > 0` | `true` | `false` |\n",
    "| `>=` | greater than or equal to | `x >= 1` | `true` | `false` |\n",
    "| `<` | less than | `x < 0` | `false` | `true` |\n",
    "| `<=` | less than or equal to | `x <= -1` | `false` | `true` |\n",
    "| `==` | equal *in value* to | `x == 1` | `true` | `false` |\n",
    "| `!=` | not equal *in value* to | `x != 1` | `false` | `true` |\n",
    "\n",
    "With the exception of the `==` operator, the comparison operators can be used only with operands of primitive numeric type (`byte`, `char`, `short`, `int`, `long`, `float`, `double`) and their corresponding wrapper classes (`Byte`, `Character`, `Short`, `Integer`, `Long`, `Float`, `Double`).\n",
    "\n",
    "The `==` operator can be used with operands of any type as long as the types are compatible. Two operands are compatible if they are both one of the numeric types listed above (including the wrapper classes) or if they both have the same reference type (the last part of this statement is not precisely true but it is close enough for the time being)."
   ]
  },
  {
   "cell_type": "markdown",
   "metadata": {},
   "source": [
    "### Comparing two values of the same integer type\n",
    "\n",
    "There is nothing particularly interesting to say about comparing two values of the same integer type. Run the following cell to see an example of using each of the comparison operators:"
   ]
  },
  {
   "cell_type": "code",
   "execution_count": null,
   "metadata": {},
   "outputs": [],
   "source": [
    "int x = 1;\n",
    "int y = 2;\n",
    "\n",
    "boolean boo = x > y;\n",
    "System.out.println(x + \" > \" + y + \" : \" + boo);\n",
    "\n",
    "boo = x >= y;\n",
    "System.out.println(x + \" >= \" + y + \" : \" + boo);\n",
    "\n",
    "boo = x < y;\n",
    "System.out.println(x + \" < \" + y + \" : \" + boo);\n",
    "\n",
    "boo = x <= y;\n",
    "System.out.println(x + \" <= \" + y + \" : \" + boo);\n",
    "\n",
    "boo = x == y;\n",
    "System.out.println(x + \" == \" + y + \" : \" + boo);\n",
    "\n",
    "boo = x != y;\n",
    "System.out.println(x + \" != \" + y + \" : \" + boo);\n"
   ]
  },
  {
   "cell_type": "markdown",
   "metadata": {},
   "source": [
    "### Comparing mixed numeric types\n",
    "\n",
    "When comparing two numeric values of different types the same widening conversion that was discussed in the [Arithmetic notebook](./arithmetic.ipynb#notebook_id) is applied. The widening conversion algorithm is repeated below for convenience.\n",
    "\n",
    "When a binary operator is applied to operands of different types Java converts the type of one of the operands so that both operands have the same type using a *widening conversion*. The widening conversion follows a simple algorithm:\n",
    "\n",
    "1. If either operand is of type `double`, the other is converted to `double`.\n",
    "2. Otherwise, if either operand is of type `float`, the other is converted to `float`.\n",
    "3. Otherwise, if either operand is of type `long`, the other is converted to `long`.\n",
    "4. Otherwise, both operands are converted to type `int`.\n",
    "\n",
    "The conversion is called a widening conversion because the \"narrower\" operand is converted to the \"wider\" one. After the widening conversion is applied the operator is applied and the result is a value of the wider type.\n",
    "\n",
    "The conversion can lead to unexpected results when a `long` value is widened to a `float` or `double` value. The following example computes:\n",
    "\n",
    "$x = 2^{24} + 1 + i$ as a `long` value, and \n",
    "\n",
    "$y = 2^{24} + i$ as a `float` value.\n",
    "\n",
    "Mathematically, $x > y$ is certainly true for all integer values of $i$; however, Java says that the result is sometimes `false`. Run the following cell to see that this is in fact the case."
   ]
  },
  {
   "cell_type": "code",
   "execution_count": null,
   "metadata": {},
   "outputs": [],
   "source": [
    "for (int i = 0; i < 10; i++) {\n",
    "    long x = ((long) Math.pow(2, 24)) + 1 + i;\n",
    "    float y = ((float) Math.pow(2, 24)) + i;\n",
    "    System.out.println(x > y);\n",
    "}"
   ]
  },
  {
   "cell_type": "markdown",
   "metadata": {},
   "source": [
    "In the above example, the value of `x` is always in the range of `long` and the value of `y` is always in the range of `float` so there are no overflow issues. The problem occurs because `float` cannot exactly represent every integer value greater than $2^{24}$; as a result, it is possible that different `long` values are converted to the same `float` value. To make this concrete, run the example in the following cell:"
   ]
  },
  {
   "cell_type": "code",
   "execution_count": null,
   "metadata": {},
   "outputs": [],
   "source": [
    "long x = ((long) Math.pow(2, 24)) + 1;\n",
    "long z = (long) Math.pow(2, 24);\n",
    "float y = (float) Math.pow(2, 24);\n",
    "System.out.println(x == z);     // false, x is not equal to z\n",
    "System.out.println(x == y);     // true?!!!, x is equal to y\n",
    "System.out.println(z == y);     // true, z is equal to y (but not equal to x?!!!)"
   ]
  },
  {
   "cell_type": "markdown",
   "metadata": {},
   "source": [
    "A similar phenomenon can be observed when comparing `long` and `double` values, but the magnitude of the numbers when this occurs is much larger.\n",
    "\n",
    "These problems occur because a `float` uses half the memory compared to a `long` but `float` can represent a wider range of values; a compromise that is made is that `float` cannot represent every `long` value. Similarly, a `double` uses the same amount of memory as a `long` but `double` can represent a much wider range than `long`; a compromise that is made is that `double` cannot represent every `long` value."
   ]
  },
  {
   "cell_type": "markdown",
   "metadata": {},
   "source": [
    "### Exercises\n",
    "\n",
    "1. Is `Float.NEGATIVE_INFINITY` equal to itself? Is `Float.POSITIVE_INFINITY` equal to itself?"
   ]
  },
  {
   "cell_type": "code",
   "execution_count": null,
   "metadata": {},
   "outputs": [],
   "source": [
    "// Exercise 1\n"
   ]
  },
  {
   "cell_type": "markdown",
   "metadata": {},
   "source": [
    "2. Is `Float.POSITIVE_INFINITY` equal to `Double.POSITIVE_INFINITY`?"
   ]
  },
  {
   "cell_type": "code",
   "execution_count": null,
   "metadata": {},
   "outputs": [],
   "source": [
    "// Exercise 2\n"
   ]
  },
  {
   "cell_type": "markdown",
   "metadata": {},
   "source": [
    "3. Consider three `int` values `x`, `y`, and `z`. If `x < y` is `true` and `y < z` is `true` what can you conclude about the value of `x < z`?"
   ]
  },
  {
   "cell_type": "markdown",
   "metadata": {},
   "source": [
    "4. Consider three `int` values `x`, `y`, and `z`. If `x != y` is `true` and `y == z` is `true` what can you conclude about the value of `x == z`?"
   ]
  },
  {
   "cell_type": "markdown",
   "metadata": {},
   "source": [
    "5. Consider two `int` values `x` and `y` and one `float` value `z`. If `x != y` is `true` and `y == z` is `true` what can you conclude about the value of `x == z`?"
   ]
  },
  {
   "cell_type": "markdown",
   "metadata": {},
   "source": [
    "6. The answer to Exercise 5 is `x == z` might be `true` and it might be `false`. Find values of `x`, `y`, and `z` where `x != y` is `true`, `y == z` is `true`, and `x == z` is `true`."
   ]
  },
  {
   "cell_type": "markdown",
   "metadata": {},
   "source": [
    "### Comparing special floating-point values\n",
    "\n",
    "The values `-0` and `0` for all of the numeric types are considered to be equal when using the `==` operator. Similarly, `-0 != 0`, `-0 < 0`,\n",
    "and `0 > -0` are all equal to false.\n",
    "\n",
    "The special floating-point values `NEGATIVE_INFINITY`, `POSITIVE_INFINITY`, and `NaN` follow special rules when used in a comparison operation.\n",
    "\n",
    "* `Float.NEGATIVE_INFINITY` is less than all other `float` values except `Float.NaN`\n",
    "* `Float.NEGATIVE_INFINITY` is equal to itself\n",
    "* `Float.POSITIVE_INFINITY` is greater than all other `float` values except `Float.NaN`\n",
    "* `Float.POSITIVE_INFINITY` is equal to itself\n",
    "* `Float.NaN != Float.NaN` is `true` (strange, but true)\n",
    "* `Float.NaN == Float.NaN` is `false` (strange, but true)\n",
    "* `Float.NaN` compared to any other number is `false`\n",
    "\n",
    "\n",
    "The same rules apply for the `double` special floating-point values.\n",
    "\n",
    "The fact that `Float.NaN == Float.NaN` is `false` makes it difficult to check if a variable `x` is equal to `Float.NaN`. For example, the following example will always print `x is not NaN` for any value of `x` (try changing the value of `x` and see):"
   ]
  },
  {
   "cell_type": "code",
   "execution_count": null,
   "metadata": {},
   "outputs": [],
   "source": [
    "float x = Float.NaN;\n",
    "if (x == Float.NaN) {\n",
    "    System.out.println(\"x is NaN\");\n",
    "}\n",
    "else {\n",
    "    System.out.println(\"x is not NaN\");\n",
    "}"
   ]
  },
  {
   "cell_type": "markdown",
   "metadata": {},
   "source": [
    "If you are ever in the position where you need to test if a value is equal to `NaN` then use the methods `Float.isNaN` and `Double.isNaN`."
   ]
  },
  {
   "cell_type": "markdown",
   "metadata": {},
   "source": [
    "## Comparing normal floating-point values\n",
    "\n",
    "Most humans use base-10 (decimal) numbers which can be written using the form $c \\times 10^n$ where $c$ is an integer value and $n$ is an integer value both within some fixed range of values. For example, the decimal number $0.1$ has the form $1 \\times 10^{-1}$.\n",
    "\n",
    "Floating-point numbers on most computers are represented as base-2 (binary) numbers of the form $s \\times 2^e$ where $s$ is an integer value and $e$ is an integer value both within some fixed range of values. For example, the decimal number $0.75$ has the floating-point form $3 \\times 2^{-2}$.\n",
    "\n",
    "It is a mathematical fact that not every decimal number can be written exactly in floating-point form. For example, the decimal number $0.1$ has no exact floating-point representation. The implication of this fact is that when you store the value `0.1` in a variable of type `float` or `double` the actual value that is stored is different from the decimal value $0.1$. To be sure, the actual value that is stored is very close to $0.1$ but it is not exactly $0.1$.\n",
    "\n",
    "This should not really surprise the reader because there are many values that cannot be represented exactly in decimal. For example the value of $1 / 3$ has no exact decimal representation (0.33.....) even though it has an exact representation in base-3 (namely, $3^{-1}$).\n",
    "\n",
    "What happens, then, when you add `0.1` repeatedly using floating-point arithmetic? The small errors start to accumulate so that after a few sums the value of `0.1 + 0.1 + 0.1` is not exactly equal to `0.3`. Run the following cell to verify that this is true:"
   ]
  },
  {
   "cell_type": "code",
   "execution_count": null,
   "metadata": {},
   "outputs": [],
   "source": [
    "double x = 0.1 + 0.1 + 0.1;\n",
    "double y = 0.3;\n",
    "System.out.println(x == y);"
   ]
  },
  {
   "cell_type": "markdown",
   "metadata": {},
   "source": [
    "There are actually three things contributing to the previous example printing `false`. The floating-point sum `0.1 + 0.1 + 0.1` is not exactly equal to the decimal value $0.3$, the floating-point value `0.3` is not exactly equal to the decimal value $0.3$, and the floating-point value `0.1 + 0.1 + 0.1` is not exactly equal to the floating-point value `0.3`.\n",
    "\n",
    "How far off is the sum from the true value of $0.1$? Run the next cell and see:"
   ]
  },
  {
   "cell_type": "code",
   "execution_count": null,
   "metadata": {},
   "outputs": [],
   "source": [
    "double x = 0.1 + 0.1 + 0.1;\n",
    "System.out.println(x);"
   ]
  },
  {
   "cell_type": "markdown",
   "metadata": {},
   "source": [
    "The sum is almost equal to `0.3`. In fact, the sum is as close to `0.3` as is possible without being equal to `0.3`. The class `Math` has a method named `nextUp` that returns the next floating-point value that is greater than a specified value. Run the next cell to verify that the sum is in fact equal to the next floating-point value greater than `0.3`:"
   ]
  },
  {
   "cell_type": "code",
   "execution_count": null,
   "metadata": {},
   "outputs": [],
   "source": [
    "double x = 0.1 + 0.1 + 0.1;\n",
    "double next = Math.nextUp(0.3);\n",
    "System.out.println(x == next);"
   ]
  },
  {
   "cell_type": "markdown",
   "metadata": {},
   "source": [
    "There is something very important about floating-point numbers. The distance between adjacent floating-point values depends on the magnitude of the floating-point value. The following example prints a number (that happens to be a power of 10) followed by the next greater floating-point number. Run the cell to see the results:"
   ]
  },
  {
   "cell_type": "code",
   "execution_count": null,
   "metadata": {},
   "outputs": [],
   "source": [
    "double[] mag = {0, 1, 10, 100, 1000, 10000};\n",
    "for (double x : mag) {\n",
    "    double next = Math.nextUp(x);\n",
    "    System.out.printf(\"%20s, %20s%n\", x, next);\n",
    "}"
   ]
  },
  {
   "cell_type": "markdown",
   "metadata": {},
   "source": [
    "What is the implication of the relationship between the magnitude of a floating-point number and the distance to the next floating-point number? One implication is that a floating-point value `x` exists such that `x + 1.0 == x` is `true` because the spacing between `x` and the next floating-point number is sufficiently greater than `1.0`."
   ]
  },
  {
   "cell_type": "markdown",
   "metadata": {},
   "source": [
    "The take away message from this discussion is that you should rarely compare two floating-point values `x` and `y` using `==` or `!=`. What should you do if you need to compare floating-point values for equality? Start by studying the content at https://floating-point-gui.de/ and then proceed to the content at https://floating-point-gui.de//references/"
   ]
  },
  {
   "cell_type": "markdown",
   "metadata": {},
   "source": [
    "### Exercises\n",
    "\n",
    "1. What is the value of `Math.sin(0.0)`? What is the value of `Math.sin(2.0 * Math.PI)`? Why are the results different when they are mathematically the same?"
   ]
  },
  {
   "cell_type": "code",
   "execution_count": null,
   "metadata": {},
   "outputs": [],
   "source": [
    "// Exercise 1\n"
   ]
  },
  {
   "cell_type": "markdown",
   "metadata": {},
   "source": [
    "2. Compute the sum $0.1 + 0.1 + 0.1$ using `float` values instead of `double` values. Is the sum equal to `0.3F`?"
   ]
  },
  {
   "cell_type": "code",
   "execution_count": null,
   "metadata": {},
   "outputs": [],
   "source": [
    "// Exercise 2\n"
   ]
  },
  {
   "cell_type": "markdown",
   "metadata": {},
   "source": [
    "3. Catastrophic cancellation occurs when two nearly equal floating-point values are subtracted and then the result is used in a subsequent calculation. Compute and print the value of $(1 - \\cos(x))$ in the cell below. Notice that $1$ and $\\cos(x)$ in this example are almost equal values and we are subtracting the two quantities. If we use this result in another calculation then that calculation might suffer from catastropphic cancellation."
   ]
  },
  {
   "cell_type": "code",
   "execution_count": null,
   "metadata": {},
   "outputs": [],
   "source": [
    "// Exercise 3\n",
    "double x = 1e-8;   // 10 to the power -8 in scientific notation\n"
   ]
  },
  {
   "cell_type": "markdown",
   "metadata": {},
   "source": [
    "4. The function $(1 - \\cos(x))$ is equal to $2 (\\sin (x / 2))^2$. Compute and print the value of $2 (\\sin (x / 2))^2$ in the cell below. Notice that the formula does *not* involve subtraction."
   ]
  },
  {
   "cell_type": "code",
   "execution_count": null,
   "metadata": {},
   "outputs": [],
   "source": [
    "// Exercise 4\n",
    "double x = 1e-8;   // 10 to the power -8 in scientific notation\n"
   ]
  },
  {
   "cell_type": "markdown",
   "metadata": {},
   "source": [
    "5. Now we want to use the results from Exercises 3 and 4 in a subsequent calculation to show the effect of catastrophic cancellation. Compute $(1 - \\cos(x)) / x^2$ and $(2 (\\sin (x / 2))^2) / x^2$ in the cell below. The correct answer is approximately $0.5$."
   ]
  },
  {
   "cell_type": "code",
   "execution_count": null,
   "metadata": {},
   "outputs": [],
   "source": [
    "// Exercise 5\n",
    "double x = 1e-8;   // 10 to the power -8 in scientific notation\n"
   ]
  }
 ],
 "metadata": {
  "kernelspec": {
   "display_name": "Java",
   "language": "java",
   "name": "java"
  },
  "language_info": {
   "codemirror_mode": "text/x-java",
   "file_extension": ".java",
   "mimetype": "",
   "name": "Java",
   "nbconverter_exporter": "",
   "version": "1.8.0_121"
  },
  "toc": {
   "base_numbering": 1,
   "nav_menu": {},
   "number_sections": false,
   "sideBar": false,
   "skip_h1_title": false,
   "title_cell": "Table of Contents",
   "title_sidebar": "Contents",
   "toc_cell": false,
   "toc_position": {},
   "toc_section_display": false,
   "toc_window_display": false
  }
 },
 "nbformat": 4,
 "nbformat_minor": 4
}
