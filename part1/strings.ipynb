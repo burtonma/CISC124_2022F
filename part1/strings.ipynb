{
 "cells": [
  {
   "cell_type": "code",
   "execution_count": null,
   "metadata": {},
   "outputs": [],
   "source": [
    "// run this cell to prevent Jupyter from displaying the null output cell\n",
    "com.twosigma.beakerx.kernel.Kernel.showNullExecutionResult = false;"
   ]
  },
  {
   "cell_type": "markdown",
   "metadata": {},
   "source": [
    "<a id=\"notebook_id\"></a>\n",
    "# Strings\n",
    "\n",
    "A Java `String` instance represents a sequence of characters.\n",
    "\n",
    "## String literals\n",
    "\n",
    "The `String` class is unusual in that it is the only class in Java that has literals. A Java string literal is a sequence of characters enclosed by double quotes; for example:"
   ]
  },
  {
   "cell_type": "code",
   "execution_count": null,
   "metadata": {},
   "outputs": [],
   "source": [
    "String greeting = \"Hello, world!\";\n",
    "System.out.println(greeting);"
   ]
  },
  {
   "cell_type": "markdown",
   "metadata": {},
   "source": [
    "Observe that the double quotes that delimit a string literal are *not* part of the sequence of characters in the string.\n",
    "\n",
    "Because the double quote character delimits a string literal you need to use the special character `'\\\"'` if you want to use a double quote inside of a string literal. For example, if we wanted to print a quote from the Pratchett and Gaiman book *Good omens* we could write the following:"
   ]
  },
  {
   "cell_type": "code",
   "execution_count": null,
   "metadata": {},
   "outputs": [],
   "source": [
    "String quote = \"\\\"The kraken stirs. And ten billion sushi dinners cry out for vengeance.\\\"\";\n",
    "System.out.println(quote);"
   ]
  },
  {
   "cell_type": "markdown",
   "metadata": {},
   "source": [
    "The empty string is the string having no characters. It can be written as the string literal `\"\"` (two double quotes with nothing in between)."
   ]
  },
  {
   "cell_type": "markdown",
   "metadata": {},
   "source": [
    "### Exercises\n",
    "\n",
    "1. Java string literals are unusual in another fashion. Consider the following code:\n",
    "```java\n",
    "String s = \"hello\";\n",
    "String t = \"hello\";\n",
    "```\n",
    "How many `String` objects do you think are in memory? Write some code in the following cell to prove or disprove your answer. *Hint: Use the `==` operator.*"
   ]
  },
  {
   "cell_type": "code",
   "execution_count": null,
   "metadata": {},
   "outputs": [],
   "source": [
    "// Exercise 1\n"
   ]
  },
  {
   "cell_type": "markdown",
   "metadata": {},
   "source": [
    "2. Sketch the memory diagram for the code in Exercise 1."
   ]
  },
  {
   "cell_type": "markdown",
   "metadata": {},
   "source": [
    "3. Write some code in the following cell that generates the following output:\n",
    "    ```\n",
    "    \"She said, \"He said, \"Lucinda said, \"Enough already.\"\"\"\"\n",
    "    ```"
   ]
  },
  {
   "cell_type": "code",
   "execution_count": null,
   "metadata": {},
   "outputs": [],
   "source": [
    "// Exercise 3\n"
   ]
  },
  {
   "cell_type": "markdown",
   "metadata": {},
   "source": [
    "4. Write some code in the following cell that generates the following output:\n",
    "    ```\n",
    "    That is my sister's university's presidents' son's cousin's bicycle.\n",
    "    ```"
   ]
  },
  {
   "cell_type": "code",
   "execution_count": null,
   "metadata": {},
   "outputs": [],
   "source": [
    "// Exercise 4\n"
   ]
  },
  {
   "cell_type": "markdown",
   "metadata": {},
   "source": [
    "## Immutability\n",
    "\n",
    "Java strings are immutable; once a string is created the sequence of characters in the string cannot be changed. Consider the statement:\n",
    "\n",
    "```java\n",
    "String greeting = \"Hello, world!\";\n",
    "```\n",
    "\n",
    "Because the statement contains the literal `\"Hello, world!\"` the compiler creates a `String` object containing the character sequence `Hello, world!` (but see [the Interning](#interning) section at the end of this notebook). This `String` object is immutable.\n",
    "\n",
    "The variable `greeting` does not store a `String` object; it stores a reference to a `String` object (see the []() notebook). We can assign a different reference to the variable `greeting`:"
   ]
  },
  {
   "cell_type": "code",
   "execution_count": null,
   "metadata": {},
   "outputs": [],
   "source": [
    "String greeting = \"Hello, world!\";\n",
    "System.out.println(greeting);\n",
    "\n",
    "greeting = \"Bonjour le monde\";\n",
    "System.out.println(greeting);"
   ]
  },
  {
   "cell_type": "markdown",
   "metadata": {},
   "source": [
    "In the above example, the object corresponding to the literal `\"Hello, world!\"` has not changed; instead a second `String` object is created containing the sequence `Bonjour le monde` and the variable `greeting` now refers to this new object. "
   ]
  },
  {
   "cell_type": "markdown",
   "metadata": {},
   "source": [
    "### Exercise\n",
    "\n",
    "5. Sketch the memory diagram for the example above."
   ]
  },
  {
   "cell_type": "markdown",
   "metadata": {},
   "source": [
    "## Concatenation\n",
    "\n",
    "Another unusual feature of the `String` class is that it is the only class in Java that has its own operator. The `+` operator is the *string concatenation* operator. The concatenation of two strings is the new string containing the characters of the two strings joined end to end.  For example the concatenation of the strings `\"hair\"` and `\"ball\"` is the string `\"hairball\"`.\n",
    "\n",
    "For two `String` references `s` and `t` the expression `s + t` is a reference to the `String` object that is formed by the concatenation of the strings refereneced by `s` and `t`; for example:"
   ]
  },
  {
   "cell_type": "code",
   "execution_count": null,
   "metadata": {},
   "outputs": [],
   "source": [
    "String s = \"hair\";\n",
    "String t = \"ball\";\n",
    "String concat = s + t;\n",
    "System.out.println(concat);"
   ]
  },
  {
   "cell_type": "markdown",
   "metadata": {},
   "source": [
    "If only one of `s` and `t` is a `String` reference then the non-`String` operand is converted to a `String` and then string concatenation is performed. For example, a string and an `int` can be concatenated like so:"
   ]
  },
  {
   "cell_type": "code",
   "execution_count": null,
   "metadata": {},
   "outputs": [],
   "source": [
    "// string + int\n",
    "int x = 2;\n",
    "String s = \"the value of x is: \";\n",
    "String msg = s + x;\n",
    "System.out.println(msg);\n"
   ]
  },
  {
   "cell_type": "markdown",
   "metadata": {},
   "source": [
    "A list and a string can be concatenated like so:"
   ]
  },
  {
   "cell_type": "code",
   "execution_count": null,
   "metadata": {},
   "outputs": [],
   "source": [
    "%classpath add jar ../resources/jar/notes.jar\n",
    "\n",
    "import java.util.List;\n",
    "import ca.queensu.cs.cisc124.notes.util.Utils;\n",
    "\n",
    "List<Character> t = Utils.listOf('1', '2', '3', '!');\n",
    "String s = \" I\\'m living here on the third speck from the sun\";\n",
    "String z = t + s;\n",
    "System.out.println(z);"
   ]
  },
  {
   "cell_type": "markdown",
   "metadata": {},
   "source": [
    "Caution must be used when concatenating more than two values. The `+` operator is always left-to-right associative which means that the expression `a + b + c` is evaluated as `(a + b) + c`. Run the following cell"
   ]
  },
  {
   "cell_type": "code",
   "execution_count": null,
   "metadata": {},
   "outputs": [],
   "source": [
    "System.out.println(1 + 2 + \" fiddlers\");"
   ]
  },
  {
   "cell_type": "markdown",
   "metadata": {},
   "source": [
    "and observe the difference compared to running the following cell:"
   ]
  },
  {
   "cell_type": "code",
   "execution_count": null,
   "metadata": {},
   "outputs": [],
   "source": [
    "System.out.println(\"fiddlers \" + 1 + 2);"
   ]
  },
  {
   "cell_type": "markdown",
   "metadata": {},
   "source": [
    "To ensure that string concatenation is performed use the empty string as the first operand:"
   ]
  },
  {
   "cell_type": "code",
   "execution_count": null,
   "metadata": {},
   "outputs": [],
   "source": [
    "String s = \"\" + 1 + false + 3.1415 + \" this string is gibberish\";\n",
    "System.out.println(s);"
   ]
  },
  {
   "cell_type": "markdown",
   "metadata": {},
   "source": [
    "### Exercises\n",
    "\n",
    "6. In the following cell use string concatenation of the variables initialized for you to print the string `\"CISC124 Fall 2020\"`."
   ]
  },
  {
   "cell_type": "code",
   "execution_count": null,
   "metadata": {},
   "outputs": [],
   "source": [
    "// Exercise 6\n",
    "String dept = \"CISC\";\n",
    "String num = \"124\";\n",
    "String term = \"Fall\";\n",
    "String year = \"2020\";\n"
   ]
  },
  {
   "cell_type": "markdown",
   "metadata": {},
   "source": [
    "7. What does the following print?\n",
    "```java\n",
    "System.out.print(\"M\" + \"a\");     // print() does not go to the next line\n",
    "System.out.println('M' + 'a');\n",
    "```\n",
    "Explain the output. [From 'Java Puzzlers' by Bloch and Gafter]"
   ]
  },
  {
   "cell_type": "code",
   "execution_count": null,
   "metadata": {},
   "outputs": [],
   "source": [
    "// Exercise 7\n"
   ]
  },
  {
   "cell_type": "markdown",
   "metadata": {},
   "source": [
    "8. What does the following print?\n",
    "```java\n",
    "System.out.println(\"2 + 2 = \" + 2 + 2);\n",
    "```\n",
    "Explain the output. [From 'Java Puzzlers' by Bloch and Gafter]"
   ]
  },
  {
   "cell_type": "code",
   "execution_count": null,
   "metadata": {},
   "outputs": [],
   "source": [
    "// Exercise 8\n"
   ]
  },
  {
   "cell_type": "markdown",
   "metadata": {},
   "source": [
    "9. What does the following print?\n",
    "```java\n",
    "String pig = \"length: 10\";\n",
    "String dog = \"length: \" + 10;\n",
    "System.out.println(\"Animals are equal: \" + pig == dog);\n",
    "```\n",
    "Explain the output. [Adapted from 'Java Puzzlers' by Bloch and Gafter]"
   ]
  },
  {
   "cell_type": "code",
   "execution_count": null,
   "metadata": {},
   "outputs": [],
   "source": [
    "// Exercise 9\n"
   ]
  },
  {
   "cell_type": "markdown",
   "metadata": {},
   "source": [
    "## Constructors and methods\n",
    "\n",
    "`String` instances, including string literals, are objects and thus are initialized using constructors and have methods.\n",
    "\n",
    "The `String` class has a [fairly large API](https://docs.oracle.com/en/java/javase/11/docs/api/java.base/java/lang/String.html). It is not practical or particularly enlightening to demonstrate every method. Instead, this notebook focuses on some of the more commonly used methods.\n",
    "\n",
    "### Constructors\n",
    "\n",
    "The `String` class is unusual in that many programmers will never use a `String` constructor in their careers. Instead, the `String` class is the single class in the Java language that has literals (as described earlier in the notebook). The `String` class also has a number of methods that return `String` references. Finally, many (most?) classes contain methods that return `String` references."
   ]
  },
  {
   "cell_type": "markdown",
   "metadata": {},
   "source": [
    "### Methods\n",
    "\n",
    "#### `equals`\n",
    "\n",
    "The `equals(Object obj)` tests if this string is equal to another object; the method returns `true` if and only if `obj` is a reference to a `String` object having the exact same sequence of characters as this string. For example:"
   ]
  },
  {
   "cell_type": "code",
   "execution_count": null,
   "metadata": {},
   "outputs": [],
   "source": [
    "String t = \"tee\";\n",
    "String b = \"bee\";\n",
    "System.out.println(\"\\\"\" + t + \"\\\"\" + \".equals(\\\"\" + b + \"\\\") : \" + t.equals(b));\n",
    "\n",
    "String alsoT = new String(\"tee\");\n",
    "System.out.println(\"\\\"\" + t + \"\\\"\" + \".equals(\\\"\" + alsoT + \"\\\") : \" + t.equals(alsoT));"
   ]
  },
  {
   "cell_type": "markdown",
   "metadata": {},
   "source": [
    "You should always use `equals` to test strings for equality instead of using `==`. Changing the previous example to use `==` instead of `equals` produces a possibly surprising result:"
   ]
  },
  {
   "cell_type": "code",
   "execution_count": null,
   "metadata": {},
   "outputs": [],
   "source": [
    "String t = \"tee\";\n",
    "String b = \"bee\";\n",
    "System.out.println(\"\\\"\" + t + \"\\\"\" + \" == \\\"\" + b + \"\\\" : \" + (t == b));\n",
    "\n",
    "String alsoT = new String(\"tee\");\n",
    "System.out.println(\"\\\"\" + t + \"\\\"\" + \" == \\\"\" + alsoT + \"\\\" : \" + (t == alsoT));"
   ]
  },
  {
   "cell_type": "markdown",
   "metadata": {},
   "source": [
    "The reason that `t == alsoT` is `false` is because `==` tests for equality of identity; i.e., it asks the question \"are `t` and `alsoT` the same object?\" In this case, the answer is \"no\" because `alsoT` was initialized using the `new` operator which always creates a new object. \n",
    "\n",
    "`equals` uses the case of the characters to determine equality (`\"a\"` is not equal to `\"A\"`, for example). If you want to compare two strings for equality ignoring the case use the `equalsIgnoreCase` method."
   ]
  },
  {
   "cell_type": "markdown",
   "metadata": {},
   "source": [
    "#### `length`\n",
    "\n",
    "The `length` method returns the number of characters in a string."
   ]
  },
  {
   "cell_type": "code",
   "execution_count": null,
   "metadata": {},
   "outputs": [],
   "source": [
    "String s = \"\";\n",
    "int n = s.length();\n",
    "System.out.println(\"length of \\\"\" + s + \"\\\" : \" + n);\n",
    "\n",
    "s = \"A\";\n",
    "n = s.length();\n",
    "System.out.println(\"length of \\\"\" + s + \"\\\" : \" + n);\n",
    "\n",
    "s = \"AT\";\n",
    "n = s.length();\n",
    "System.out.println(\"length of \\\"\" + s + \"\\\" : \" + n);\n",
    "\n",
    "s = \"ATE\";\n",
    "n = s.length();\n",
    "System.out.println(\"length of \\\"\" + s + \"\\\" : \" + n);"
   ]
  },
  {
   "cell_type": "markdown",
   "metadata": {},
   "source": [
    "#### `isEmpty`\n",
    "\n",
    "The `isEmpty` method returns `true` if a string is empty (has zero characters) and false otherwise. Note that the string containing only whitespace is not empty."
   ]
  },
  {
   "cell_type": "code",
   "execution_count": null,
   "metadata": {},
   "outputs": [],
   "source": [
    "String s = \"\";\n",
    "System.out.println(s.isEmpty());\n",
    "\n",
    "String space = \" \";\n",
    "System.out.println(space.isEmpty());"
   ]
  },
  {
   "cell_type": "markdown",
   "metadata": {},
   "source": [
    "#### `charAt(int)`\n",
    "\n",
    "A string represents a sequence of characters where each character can be read using an integer index. Strings are zero-based; the first character in the string has index 0, the second character has index 1, and so on, up to index `length() - 1`. Run the next cell to print the indexes and corresponding characters for a string:"
   ]
  },
  {
   "cell_type": "code",
   "execution_count": null,
   "metadata": {},
   "outputs": [],
   "source": [
    "String s = \"The big dwarf only jumps\";\n",
    "System.out.println(\"index\\tcharacter\");\n",
    "for (int i = 0; i < s.length(); i++) {\n",
    "    char c = s.charAt(i);\n",
    "    System.out.println(\"\" + i + \"\\t\" + c);\n",
    "}"
   ]
  },
  {
   "cell_type": "markdown",
   "metadata": {},
   "source": [
    "Using an invalid index causes an exception to be thrown; try running the next two cells to see what type of exception is thrown."
   ]
  },
  {
   "cell_type": "code",
   "execution_count": null,
   "metadata": {},
   "outputs": [],
   "source": [
    "String s = \"abc\";\n",
    "s.charAt(-1);     // index must not be negative"
   ]
  },
  {
   "cell_type": "code",
   "execution_count": null,
   "metadata": {},
   "outputs": [],
   "source": [
    "String s = \"abc\";\n",
    "s.charAt(3);      // index must be less than s.length()"
   ]
  },
  {
   "cell_type": "markdown",
   "metadata": {},
   "source": [
    "#### `indexOf(char)`\n",
    "\n",
    "The method `indexOf(char)` seaches a string for a specified character. It returns the index of the first occurrence of the specified character, or `-1` if the character does not occur in the string. There is also a `lastIndexOf(char)` method if the index of the last occurrence is required."
   ]
  },
  {
   "cell_type": "code",
   "execution_count": null,
   "metadata": {},
   "outputs": [],
   "source": [
    "import java.util.Scanner;\n",
    "\n",
    "String s = \"abcdefghijklmnopqrstuvwxyz\";\n",
    "\n",
    "Scanner scanner = new Scanner(System.in);\n",
    "System.out.println(\"Type a character followed by the enter key: \");\n",
    "char c = scanner.next().charAt(0);\n",
    "int index = s.indexOf(c);\n",
    "if (index != -1){\n",
    "    System.out.println(\"\" + c + \" has index \" + index);\n",
    "}\n",
    "else {\n",
    "    System.out.println(\"\" + c + \" is not a lowercase English letter\");\n",
    "}"
   ]
  },
  {
   "cell_type": "markdown",
   "metadata": {},
   "source": [
    "#### `startsWith(String)` and `endsWith(String)`\n",
    "\n",
    "The methods `startsWith(String)` and `endsWith(String)` test if a string starts with or ends with, respectively, a specified substring. For example, you can test if a string might be a single line Java comment like so:"
   ]
  },
  {
   "cell_type": "code",
   "execution_count": null,
   "metadata": {},
   "outputs": [],
   "source": [
    "%classpath add jar ../resources/jar/notes.jar\n",
    "\n",
    "import java.util.List;\n",
    "import ca.queensu.cs.cisc124.notes.util.Utils;\n",
    "\n",
    "List<String> t = Utils.listOf(\"// this is a Java comment\",\n",
    "                             \"# this is a Python comment\",\n",
    "                             \"-- this is a Haskell comment\");\n",
    "\n",
    "for (String s : t) {     // for each string s in t\n",
    "    boolean isJavaComment = s.startsWith(\"//\");\n",
    "    String result = \" might be \";\n",
    "    if (!isJavaComment) {\n",
    "        result = \" is not \";\n",
    "    }\n",
    "    System.out.println(\"\\\"\" + s + \"\\\"\" + result + \"a Java comment\");\n",
    "} \n"
   ]
  },
  {
   "cell_type": "markdown",
   "metadata": {},
   "source": [
    "Similarly you can test if a string might be a multiline Java comment like so:"
   ]
  },
  {
   "cell_type": "code",
   "execution_count": null,
   "metadata": {},
   "outputs": [],
   "source": [
    "%classpath add jar ../resources/jar/notes.jar\n",
    "\n",
    "import java.util.List;\n",
    "import ca.queensu.cs.cisc124.notes.util.Utils;\n",
    "\n",
    "List<String> t = Utils.listOf(\"/* this is a Java comment */\",\n",
    "                             \"=begin this is a Ruby comment =end\",\n",
    "                             \"--[[ this is a Lua comment ]]\");\n",
    "\n",
    "for (String s : t) {     // for each string s in t\n",
    "    boolean isJavaComment = s.startsWith(\"/*\") && s.endsWith(\"*/\");\n",
    "    String result = \" might be \";\n",
    "    if (!isJavaComment) {\n",
    "        result = \" is not \";\n",
    "    }\n",
    "    System.out.println(\"\\\"\" + s + \"\\\"\" + result + \"a Java comment\");\n",
    "} "
   ]
  },
  {
   "cell_type": "markdown",
   "metadata": {},
   "source": [
    "#### `toUpperCase()`and `toLowerCase()`\n",
    "\n",
    "The `toUpperCase` and `toLowerCase` methods return the uppercase and lowercase, respectively, copies of a string; they *do not* change the case of the string that was used to call the method (because strings are immutable).\n",
    "\n",
    "Run the following cell to see a string, the uppercase version of the string, and the lowercase version of a string."
   ]
  },
  {
   "cell_type": "code",
   "execution_count": null,
   "metadata": {},
   "outputs": [],
   "source": [
    "String s = \"aBcDeFgHijKlMnOpQrStUvWxYz\";\n",
    "String up = s.toUpperCase();\n",
    "String low = s.toLowerCase();\n",
    "System.out.println(\"original : \" + s);\n",
    "System.out.println(\"uppercase: \" + up);\n",
    "System.out.println(\"lowercase: \" + low);"
   ]
  },
  {
   "cell_type": "markdown",
   "metadata": {},
   "source": [
    "#### `substring(int)` and `substring(int, int)`\n",
    "\n",
    "The `substring` methods return a string equal to a selected part of this string.\n",
    "\n",
    "The `substring(int beginIndex)` method returns a string formed from the characters of this string starting from `beginIndex` and going to the end of this string. `beginIndex` must be non-negative and less than *or equal to* the length of the string. This is a little unusual because `s.length()` is a valid index for the method *but is not* a valid index for `charAt(int)`.\n",
    "\n",
    "Run the following cell to see what `substring(int beginIndex)` returns for all acceptable values of `beginIndex` for the string `\"happy\"`:"
   ]
  },
  {
   "cell_type": "code",
   "execution_count": null,
   "metadata": {},
   "outputs": [],
   "source": [
    "String s = \"happy\";\n",
    "for (int i = 0; i <= s.length(); i++) {\n",
    "    String t = s.substring(i);\n",
    "    System.out.printf(\"\\\"%s\\\".substring(%d) returns \\\"%s\\\"%n\", s, i, t);\n",
    "}"
   ]
  },
  {
   "cell_type": "markdown",
   "metadata": {},
   "source": [
    "The `substring(int beginIndex, int endIndex)` returns a string formed from the characters of this string starting from index `beginIndex` and going to `endIndex - 1`; notice that the character at index `endIndex` is *not* included in the returned string. One reason that the character at index `endIndex` is not included is so that an expression of the form `s.substring(i, s.length() - i)` will return the string equal to `s` with the first `i` and last `i` characters removed; for example:"
   ]
  },
  {
   "cell_type": "code",
   "execution_count": null,
   "metadata": {},
   "outputs": [],
   "source": [
    "String s = \"kayak\";\n",
    "for (int i = 0; i < 3; i++) {\n",
    "    String t = s.substring(i, s.length() - i);\n",
    "    System.out.printf(\"\\\"%s\\\".substring(%d, %d) returns \\\"%s\\\"%n\", s, i, s.length() - i, t);\n",
    "}"
   ]
  },
  {
   "cell_type": "markdown",
   "metadata": {},
   "source": [
    "For `substring(int beginIndex)` it is an error if `beginIndex` is negative or greater than the length of the string.\n",
    "\n",
    "For `substring(int beginIndex, int endIndex)` it is an error if `beginIndex` is negative or greater than `endIndex`, or if `endIndex` is greater than the length of the string.\n",
    "\n",
    "Try running the next three cells to see what type of exception is thrown when an invalid index is used."
   ]
  },
  {
   "cell_type": "code",
   "execution_count": null,
   "metadata": {},
   "outputs": [],
   "source": [
    "String s = \"oops\";\n",
    "s.substring(-1);"
   ]
  },
  {
   "cell_type": "code",
   "execution_count": null,
   "metadata": {},
   "outputs": [],
   "source": [
    "String s = \"oops\";\n",
    "s.substring(0, s.length() + 1);"
   ]
  },
  {
   "cell_type": "code",
   "execution_count": null,
   "metadata": {},
   "outputs": [],
   "source": [
    "String s = \"oops\";\n",
    "s.substring(3, 2);"
   ]
  },
  {
   "cell_type": "markdown",
   "metadata": {},
   "source": [
    "## Exercises\n",
    "\n",
    "1. If `s` is equal to the empty string is there any way to call the `charAt` method using `s` without causing an exception to be thrown?"
   ]
  },
  {
   "cell_type": "markdown",
   "metadata": {},
   "source": [
    "2. In the cell below use the `length` method to get the length of the string `s`. Print the length of the string."
   ]
  },
  {
   "cell_type": "code",
   "execution_count": null,
   "metadata": {},
   "outputs": [],
   "source": [
    "// Exercise 2\n",
    "String s = \"sparring with a purple porpoise\";\n"
   ]
  },
  {
   "cell_type": "markdown",
   "metadata": {},
   "source": [
    "3. In the cell below use the `charAt` method to get the character at index `1`. Print the character."
   ]
  },
  {
   "cell_type": "code",
   "execution_count": null,
   "metadata": {},
   "outputs": [],
   "source": [
    "// Exercise 3\n",
    "String s = \"sparring with a purple porpoise\";\n"
   ]
  },
  {
   "cell_type": "markdown",
   "metadata": {},
   "source": [
    "4. In the cell below use the `indexOf` method to find the index of the first `'w'` character. Print the index."
   ]
  },
  {
   "cell_type": "code",
   "execution_count": null,
   "metadata": {},
   "outputs": [],
   "source": [
    "// Exercise 4\n",
    "String s = \"sparring with a purple porpoise\";\n"
   ]
  },
  {
   "cell_type": "markdown",
   "metadata": {},
   "source": [
    "5. In the cell below use the `lastIndexOf` method to find the index of the last `'h'` character. Print the index."
   ]
  },
  {
   "cell_type": "code",
   "execution_count": null,
   "metadata": {},
   "outputs": [],
   "source": [
    "// Exercise 5\n",
    "String s = \"sparring with a purple porpoise\";\n"
   ]
  },
  {
   "cell_type": "markdown",
   "metadata": {},
   "source": [
    "6. In the cell below use the `indexOf` and `lastIndexOf` methods to find the indexes of the first and last space characters. Then use the `substring` method to get the string containing all of the characters between the first and last indexes that you found (not including the characters at the first and last index). Print the substring."
   ]
  },
  {
   "cell_type": "code",
   "execution_count": null,
   "metadata": {},
   "outputs": [],
   "source": [
    "// Exercise 6\n",
    "String s = \"sparring with a purple porpoise\";\n"
   ]
  },
  {
   "cell_type": "markdown",
   "metadata": {},
   "source": [
    "7. Does `s.substring(0)` return a new string or does it return a reference to the string `s`? Write some code in the following cell to prove your answer."
   ]
  },
  {
   "cell_type": "code",
   "execution_count": null,
   "metadata": {},
   "outputs": [],
   "source": [
    "// Exercise 7\n"
   ]
  },
  {
   "cell_type": "markdown",
   "metadata": {},
   "source": [
    "8. There is a `String` method that replaces all occurrences of a character in a string with another character returning a new string. In the cell below use the method to replace all of the `'p'` characters with a `'t'`. Print the new string."
   ]
  },
  {
   "cell_type": "code",
   "execution_count": null,
   "metadata": {},
   "outputs": [],
   "source": [
    "// Exercise 8\n",
    "String s = \"sparring with a purple porpoise\";\n"
   ]
  },
  {
   "cell_type": "markdown",
   "metadata": {},
   "source": [
    "9. There is a `String` method that replaces all occurrences of a substring in a string with another string returning a new string. In the cell below use the method to replace all of the `\"hiho\"` substrings with the string `\"oh, no\"`. Print the new string."
   ]
  },
  {
   "cell_type": "code",
   "execution_count": null,
   "metadata": {},
   "outputs": [],
   "source": [
    "// Exercise 9\n",
    "String s = \"hiho, hiho, it\\'s off to work we go\";\n"
   ]
  },
  {
   "cell_type": "markdown",
   "metadata": {},
   "source": [
    "10. One way to find the number of digits in an integer is to convert the integer to its string representation and then get the length of the resulting string. You can use the `Integer.toString` method to perform the conversion or you can use string concatenation (how?). In the cell below write some code that prints the number of digits in the integer value `val`."
   ]
  },
  {
   "cell_type": "code",
   "execution_count": null,
   "metadata": {},
   "outputs": [],
   "source": [
    "// Exercise 10\n",
    "int val = 12345;   // try several different values for val\n"
   ]
  },
  {
   "cell_type": "markdown",
   "metadata": {},
   "source": [
    "11. A path name is the full operating system name for a file including all of the directories. For example, in Windows the path name for a file named `secret.docx` might be the string `\"C:\\Users\\Homer Simpson\\Documents\\secret.docx\"`. Use some string methods to get from a path name:\n",
    "    1. just the file name (`\"secret.docx\"` in the example)\n",
    "    2. just the file name minus the file extension (`\"secret\"` in the example)\n",
    "    3. just the extension (`\"docx\"` in the example)"
   ]
  },
  {
   "cell_type": "code",
   "execution_count": null,
   "metadata": {},
   "outputs": [],
   "source": [
    "// Exercise 11\n",
    "String path = \"C:\\\\Users\\\\Homer Simpson\\\\Documents\\\\secret.docx\";  // try different path names\n"
   ]
  },
  {
   "cell_type": "code",
   "execution_count": null,
   "metadata": {},
   "outputs": [],
   "source": []
  }
 ],
 "metadata": {
  "kernelspec": {
   "display_name": "Java",
   "language": "java",
   "name": "java"
  },
  "language_info": {
   "codemirror_mode": "text/x-java",
   "file_extension": ".java",
   "mimetype": "",
   "name": "Java",
   "nbconverter_exporter": "",
   "version": "11.0.1-internal"
  },
  "toc": {
   "base_numbering": 1,
   "nav_menu": {},
   "number_sections": false,
   "sideBar": false,
   "skip_h1_title": false,
   "title_cell": "Table of Contents",
   "title_sidebar": "Contents",
   "toc_cell": false,
   "toc_position": {},
   "toc_section_display": false,
   "toc_window_display": false
  }
 },
 "nbformat": 4,
 "nbformat_minor": 4
}
