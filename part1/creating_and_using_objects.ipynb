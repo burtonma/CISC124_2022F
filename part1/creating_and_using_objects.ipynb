{
 "cells": [
  {
   "cell_type": "code",
   "execution_count": null,
   "metadata": {},
   "outputs": [],
   "source": [
    "// run this cell to prevent Jupyter from displaying the null output cell\n",
    "com.twosigma.beakerx.kernel.Kernel.showNullExecutionResult = false;"
   ]
  },
  {
   "cell_type": "markdown",
   "metadata": {},
   "source": [
    "# Creating and using objects\n",
    "\n",
    "While it is possible to write a Java program using only primitive types, the typical Java program will create and use one or more (often many more) objects.  "
   ]
  },
  {
   "cell_type": "markdown",
   "metadata": {},
   "source": [
    "## Creating objects\n",
    "\n",
    "Objects are normally created using the `new` operator in combination with a class constructor.\n",
    "\n",
    "The `new` operator is responsible for allocating memory for the object and returning a reference to the newly created object.\n",
    "\n",
    "A class constructor is responsible for initializing the data in the object so that the object has a well-defined state. Constructors for a class always have the same name as the class. \n",
    "\n",
    "The syntax for creating an object using the `new` operator is:\n",
    "\n",
    "```java\n",
    "new classname(constructor_arguments);\n",
    "```\n",
    "\n",
    "where *classname* is the name of the class that the object is an instance of and *constructor_arguments* is the comma separated list of arguments needed to call the constructor.\n",
    "\n",
    "While the above statement is syntactically correct, it is more common to assign the reference returned by the `new` operator to a variable. For example, the following cell creates a `java.util.Scanner` object and assigns the reference to the object to the variable `s`:"
   ]
  },
  {
   "cell_type": "code",
   "execution_count": null,
   "metadata": {},
   "outputs": [],
   "source": [
    "import java.util.Scanner;\n",
    "\n",
    "Scanner s = new Scanner(System.in);"
   ]
  },
  {
   "cell_type": "markdown",
   "metadata": {},
   "source": [
    "In the previous example, the `Scanner` constructor was called using the argument `System.in` which is the standard input stream (which is usually connected to keyboard on a desktop computer)."
   ]
  },
  {
   "cell_type": "markdown",
   "metadata": {},
   "source": [
    "### Exercises\n",
    "\n",
    "1. Read the [documentation for the `Point2` class](../resources/doc/ca/queensu/cs/cisc124/notes/basics/geometry/Point2.html). In the following cell, create three `Point2` objects where:\n",
    "    1. the first object has the coordinates $(0, 0)$\n",
    "    2. the second object has the coordinates $(1.5, 2.5)$\n",
    "    3. the third object is a copy of the second object\n",
    "    \n",
    " Try using the three different constructors to create the objects."
   ]
  },
  {
   "cell_type": "code",
   "execution_count": null,
   "metadata": {},
   "outputs": [],
   "source": [
    "%classpath add jar ../resources/jar/notes.jar\n",
    "\n",
    "// Exercise 1\n",
    "import ca.queensu.cs.cisc124.notes.basics.geometry.Point2;\n"
   ]
  },
  {
   "cell_type": "markdown",
   "metadata": {},
   "source": [
    "2. Read the [documentation for the Scanner class](https://docs.oracle.com/en/java/javase/11/docs/api/java.base/java/util/Scanner.html). In the following cell, create a `Scanner` object that produces values scanned from the string `\"1 2 3 4 tell me that you love me more\"`."
   ]
  },
  {
   "cell_type": "code",
   "execution_count": null,
   "metadata": {},
   "outputs": [],
   "source": [
    "// Exercise 2\n",
    "import java.util.Scanner;\n",
    "\n"
   ]
  },
  {
   "cell_type": "markdown",
   "metadata": {},
   "source": [
    "3. Read the [documentation for the StringBuilder class](https://docs.oracle.com/en/java/javase/11/docs/api/java.base/java/lang/StringBuilder.html). In the following cell, create three `StringBuilder` objects where:\n",
    "    1. the first object has no characters in the string\n",
    "    2. the second object has no characters in the string and has an initial capacity to hold 64 characters\n",
    "    3. the third object has the characters in the string `\"1, 2, Fizz, 4, Buzz\"`\n",
    "    \n",
    " Try using three different constructors to create the objects."
   ]
  },
  {
   "cell_type": "code",
   "execution_count": null,
   "metadata": {},
   "outputs": [],
   "source": [
    "// Exercise 3\n"
   ]
  },
  {
   "cell_type": "markdown",
   "metadata": {},
   "source": [
    "## Using objects\n",
    "\n",
    "Using an object usually involves asking the object to perform some action or computation. The mechanism for asking an object to perform some action is to call or *invoke* a method using the object. \n",
    "\n",
    "To call a method you append the method's name to the object reference, with an intervening dot operator (`.`). Also, you provide, within enclosing parentheses, any arguments to the method. If the method does not require any arguments, use empty parentheses.\n",
    "\n",
    "```java\n",
    "objectReference.methodName(arg1, arg2, arg3);    // method with three parameters\n",
    "```\n",
    "\n",
    "or:\n",
    "\n",
    "```java\n",
    "objectReference.methodName();                    // method with no parameters\n",
    "```\n",
    "\n",
    "For example, we can get the x- and y-coordinate of a `Point2` object using the methods `x()` and `y()`, and we can change the coordinates of the point using the method `set(double, double)`:"
   ]
  },
  {
   "cell_type": "code",
   "execution_count": null,
   "metadata": {},
   "outputs": [],
   "source": [
    "%classpath add jar ../resources/jar/notes.jar\n",
    "\n",
    "import ca.queensu.cs.cisc124.notes.basics.geometry.Point2;\n",
    "\n",
    "Point2 p = new Point2();\n",
    "double x = p.x();\n",
    "double y = p.y();\n",
    "\n",
    "System.out.println(\"x-coordinate: \"  + x);\n",
    "System.out.println(\"y-coordinate: \"  + y);\n",
    "\n",
    "System.out.println(\"setting coordinates\");\n",
    "\n",
    "p.set(1.0, -1.0);\n",
    "x = p.x();\n",
    "y = p.y();\n",
    "\n",
    "System.out.println(\"x-coordinate: \"  + x);\n",
    "System.out.println(\"y-coordinate: \"  + y);\n"
   ]
  },
  {
   "cell_type": "markdown",
   "metadata": {},
   "source": [
    "When you call a method in Java, the types of the arguments that you supply to the method must match, or be compatible with, the types that are in the method's parameter list. If the argument type is not compatible with the parameter type then a compile-time error occurs. For example, the `Point2` class has a method that adds a vector to a point; if we try to add a point to a point we get a compile-time error:"
   ]
  },
  {
   "cell_type": "code",
   "execution_count": null,
   "metadata": {},
   "outputs": [],
   "source": [
    "%classpath add jar ../resources/jar/notes.jar\n",
    "\n",
    "import ca.queensu.cs.cisc124.notes.basics.geometry.Point2;\n",
    "\n",
    "Point2 p = new Point2();\n",
    "Point2 q = new Point2(0.5, 0.5);\n",
    "p.add(q);"
   ]
  },
  {
   "cell_type": "markdown",
   "metadata": {},
   "source": [
    "A method that has a primitive numeric parameter type will accept any primitive numeric argument whose type is *no wider than* the parameter type. The `Point2` method `set(double, double)` has two numeric parameters of type `double`; `double` is the widest numeric type so we can use any other primitive numeric type as arguments to the method:"
   ]
  },
  {
   "cell_type": "code",
   "execution_count": null,
   "metadata": {},
   "outputs": [],
   "source": [
    "%classpath add jar ../resources/jar/notes.jar\n",
    "\n",
    "import ca.queensu.cs.cisc124.notes.basics.geometry.Point2;\n",
    "\n",
    "Point2 p = new Point2();\n",
    "p.set(1F, 2F);             // use float arguments instead of double, ok\n",
    "p.set(-1L, -2L);           // use long arguments instead of double, ok\n",
    "p.set(100, 25);            // use int arguments instead of double, ok\n",
    "p.set('a', 'b');           // use char arguments instead of double, ok but weird"
   ]
  },
  {
   "cell_type": "markdown",
   "metadata": {},
   "source": [
    "Using an arugment type that is wider than a parameter type causes a compile-time error. For example, `StringBuilder` has a constructor with an `int` parameter; passing a `double` argument value causese a compile-time error:"
   ]
  },
  {
   "cell_type": "code",
   "execution_count": null,
   "metadata": {},
   "outputs": [],
   "source": [
    "StringBuilder b = new StringBuilder(100.0);"
   ]
  },
  {
   "cell_type": "markdown",
   "metadata": {},
   "source": [
    "### `toString`\n",
    "\n",
    "Every object in Java has a `toString` method that returns the string representation of the object. The `toString` method makes it possible to \"print\" an object:"
   ]
  },
  {
   "cell_type": "code",
   "execution_count": null,
   "metadata": {},
   "outputs": [],
   "source": [
    "%classpath add jar ../resources/jar/notes.jar\n",
    "\n",
    "import ca.queensu.cs.cisc124.notes.basics.geometry.Point2;\n",
    "\n",
    "Point2 p = new Point2();\n",
    "System.out.println(p.toString());"
   ]
  },
  {
   "cell_type": "markdown",
   "metadata": {},
   "source": [
    "Similarly, the method makes it possible to concatenate objects with another string:"
   ]
  },
  {
   "cell_type": "code",
   "execution_count": null,
   "metadata": {},
   "outputs": [],
   "source": [
    "%classpath add jar ../resources/jar/notes.jar\n",
    "\n",
    "import ca.queensu.cs.cisc124.notes.basics.geometry.Point2;\n",
    "\n",
    "Point2 p = new Point2();\n",
    "System.out.println(\"p is the point: \" + p.toString());"
   ]
  },
  {
   "cell_type": "markdown",
   "metadata": {},
   "source": [
    "These operations are so common that the Java compiler will silently call the `toString` method for you if you do not:"
   ]
  },
  {
   "cell_type": "code",
   "execution_count": null,
   "metadata": {},
   "outputs": [],
   "source": [
    "%classpath add jar ../resources/jar/notes.jar\n",
    "\n",
    "import ca.queensu.cs.cisc124.notes.basics.geometry.Point2;\n",
    "\n",
    "Point2 p = new Point2();\n",
    "System.out.println(p);                                   // works!\n",
    "System.out.println(\"p is the point: \" + p.toString());   // works!"
   ]
  },
  {
   "cell_type": "markdown",
   "metadata": {},
   "source": [
    "### `equals`"
   ]
  },
  {
   "cell_type": "markdown",
   "metadata": {},
   "source": [
    "Every object in Java has an `equals` method that allows the programmer to compare two objects for equality. Exactly what equality means for any given type depends on how the class defines the `equals` method. For the `Point2` class, two points are equal if they have the same coordinates:"
   ]
  },
  {
   "cell_type": "code",
   "execution_count": null,
   "metadata": {},
   "outputs": [],
   "source": [
    "%classpath add jar ../resources/jar/notes.jar\n",
    "\n",
    "import ca.queensu.cs.cisc124.notes.basics.geometry.Point2;\n",
    "\n",
    "Point2 p = new Point2(1.0, 2.0);\n",
    "Point2 q = new Point2(1.0, 2.0);\n",
    "Point2 r = new Point2(1000.0, 2000.0);\n",
    "\n",
    "boolean eq = p.equals(q);\n",
    "System.out.println(\"p.equals(q)? \" + eq);\n",
    "\n",
    "eq = p.equals(r);\n",
    "System.out.println(\"p.equals(r)? \" + eq);\n",
    "\n",
    "eq = q.equals(r);\n",
    "System.out.println(\"q.equals(r)? \" + eq);"
   ]
  },
  {
   "cell_type": "markdown",
   "metadata": {},
   "source": [
    "## Exercises\n",
    "\n",
    "1. A `Point2` object can have its coordinates moved by adding the coordinates of a `Vector2` object to it. Use the `add(Vector2)` method to move the point `p` using a vector `v` so that `p` has new coordinates $(5.0, 10.0)$:"
   ]
  },
  {
   "cell_type": "code",
   "execution_count": null,
   "metadata": {},
   "outputs": [],
   "source": [
    "%classpath add jar ../resources/jar/notes.jar\n",
    "\n",
    "// Exercise 1\n",
    "\n",
    "import ca.queensu.cs.cisc124.notes.basics.geometry.Point2;\n",
    "import ca.queensu.cs.cisc124.notes.basics.geometry.Vector2;\n",
    "\n",
    "Point2 p = new Point2(1.0, -2.0);\n"
   ]
  },
  {
   "cell_type": "markdown",
   "metadata": {},
   "source": [
    "2. In Exercise 1, the state of the point `p` was changed. The static method `add(Point2, Vector2)` adds a point and a vector returning a new point equal to the sum without changing the state of the point or the vector. Use the method `add(Point2, Vector2)` to obtain the new point having coordinates $(5.0, 10.0)$. Remember that to use a static method you use the class name instead of an object reference:"
   ]
  },
  {
   "cell_type": "code",
   "execution_count": null,
   "metadata": {},
   "outputs": [],
   "source": [
    "%classpath add jar ../resources/jar/notes.jar\n",
    "\n",
    "// Exercise 2\n",
    "\n",
    "import ca.queensu.cs.cisc124.notes.basics.geometry.Point2;\n",
    "import ca.queensu.cs.cisc124.notes.basics.geometry.Vector2;\n",
    "\n",
    "Point2 p = new Point2(1.0, -2.0);\n"
   ]
  },
  {
   "cell_type": "markdown",
   "metadata": {},
   "source": [
    "3. Use a `StringBuilder` object to create a string that is identical to the string returned by the `toString` method of the `Point2` class for some point `p`. You should use the `Point2` methods `x()` and `y()` to get the coordinates of the point."
   ]
  },
  {
   "cell_type": "code",
   "execution_count": null,
   "metadata": {},
   "outputs": [],
   "source": [
    "%classpath add jar ../resources/jar/notes.jar\n",
    "\n",
    "// Exercise 3\n",
    "\n",
    "import ca.queensu.cs.cisc124.notes.basics.geometry.Point2;\n",
    "\n",
    "Point2 p = new Point2(1.0, -2.0);    // try points with different coordinates\n",
    "StringBuilder b = new StringBuilder();\n",
    "// build the string here\n"
   ]
  },
  {
   "cell_type": "markdown",
   "metadata": {},
   "source": [
    "4. The following cell creates a `Scanner` object that scans input from the user. Write a small program that asks the user for two integers and then prints the sum of the two numbers."
   ]
  },
  {
   "cell_type": "code",
   "execution_count": null,
   "metadata": {},
   "outputs": [],
   "source": [
    "// Exercise 4\n",
    "\n",
    "import java.util.Scanner;\n",
    "\n",
    "Scanner s = new Scanner(System.in);\n"
   ]
  },
  {
   "cell_type": "markdown",
   "metadata": {},
   "source": [
    "5. The following cell creates a `Scanner` object that scans input from the user. Write a small program that asks the user for a string containing exactly one space (i.e., the string should consist of two words separated by one space). Use the `Scanner` method `next()` to get the two strings and output them."
   ]
  },
  {
   "cell_type": "code",
   "execution_count": null,
   "metadata": {},
   "outputs": [],
   "source": [
    "// Exercise 5\n",
    "\n",
    "import java.util.Scanner;\n",
    "\n",
    "Scanner s = new Scanner(System.in);\n"
   ]
  },
  {
   "cell_type": "markdown",
   "metadata": {},
   "source": [
    "6. The following cell creates a `Scanner` object that scans input from the user. Write a small program that asks the user for a string containing exactly one space (i.e., the string should consist of two words separated by one space). Use the `Scanner` method `nextLine()` to get the two strings and output them."
   ]
  },
  {
   "cell_type": "code",
   "execution_count": null,
   "metadata": {},
   "outputs": [],
   "source": [
    "// Exercise 6\n",
    "\n",
    "import java.util.Scanner;\n",
    "\n",
    "Scanner s = new Scanner(System.in);\n"
   ]
  },
  {
   "cell_type": "markdown",
   "metadata": {},
   "source": [
    "7. (Difficult for this point in CISC124) Repeat Exercise 6 except use the method `next(Pattern)` to get the two strings. Your pattern should encode a match for a sequence of one or more letter characters followed by one space followed by a sequence of one or more letter characters."
   ]
  },
  {
   "cell_type": "code",
   "execution_count": null,
   "metadata": {},
   "outputs": [],
   "source": [
    "// Exercise 7\n",
    "\n",
    "import java.util.Scanner;\n",
    "\n",
    "Scanner s = new Scanner(System.in);\n"
   ]
  },
  {
   "cell_type": "markdown",
   "metadata": {},
   "source": [
    "8. Repeat Exercise 4 this time getting the two integer values as strings instead of as integers. Then use the `Integer` class to convert the strings to integer values so that you can compute their sum."
   ]
  },
  {
   "cell_type": "code",
   "execution_count": null,
   "metadata": {},
   "outputs": [],
   "source": [
    "// Exercise 8\n",
    "\n",
    "import java.util.Scanner;\n",
    "\n",
    "Scanner s = new Scanner(System.in);\n"
   ]
  }
 ],
 "metadata": {
  "kernelspec": {
   "display_name": "Java",
   "language": "java",
   "name": "java"
  },
  "language_info": {
   "codemirror_mode": "text/x-java",
   "file_extension": ".java",
   "mimetype": "",
   "name": "Java",
   "nbconverter_exporter": "",
   "version": "1.8.0_121"
  },
  "toc": {
   "base_numbering": 1,
   "nav_menu": {},
   "number_sections": false,
   "sideBar": false,
   "skip_h1_title": false,
   "title_cell": "Table of Contents",
   "title_sidebar": "Contents",
   "toc_cell": false,
   "toc_position": {},
   "toc_section_display": false,
   "toc_window_display": false
  }
 },
 "nbformat": 4,
 "nbformat_minor": 4
}
