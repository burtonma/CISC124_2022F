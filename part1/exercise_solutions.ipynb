{
 "cells": [
  {
   "cell_type": "code",
   "execution_count": null,
   "metadata": {},
   "outputs": [],
   "source": [
    "// run this cell to prevent Jupyter from displaying the null output cell\n",
    "com.twosigma.beakerx.kernel.Kernel.showNullExecutionResult = false;"
   ]
  },
  {
   "cell_type": "markdown",
   "metadata": {},
   "source": [
    "# Exercise solutions\n",
    "\n",
    "## Dynamic versus static typing"
   ]
  },
  {
   "cell_type": "markdown",
   "metadata": {},
   "source": [
    "Exercise 1: The variable type is missing from in front of the `x`."
   ]
  },
  {
   "cell_type": "code",
   "execution_count": null,
   "metadata": {},
   "outputs": [],
   "source": [
    "int x = 1;\n",
    "System.out.println(x);"
   ]
  },
  {
   "cell_type": "markdown",
   "metadata": {},
   "source": [
    "Exercise 2: Yes, `s` can be used in both blocks 1 and 2."
   ]
  },
  {
   "cell_type": "code",
   "execution_count": null,
   "metadata": {},
   "outputs": [],
   "source": [
    "String s = \"hello\";\n",
    "{\n",
    "    // block 1\n",
    "    System.out.println(\"block 1 : \" + s);\n",
    "}\n",
    "\n",
    "{\n",
    "    // block 2\n",
    "    System.out.println(\"block 2 : \" + s);\n",
    "}"
   ]
  },
  {
   "cell_type": "markdown",
   "metadata": {},
   "source": [
    "Exercise 3: `s` can be used immediately after blocks 3 and 4. It cannot be used after block 1."
   ]
  },
  {
   "cell_type": "code",
   "execution_count": null,
   "metadata": {},
   "outputs": [],
   "source": [
    "// block 1\n",
    "{\n",
    "    // block 2\n",
    "    {\n",
    "        String s = \"hello\";\n",
    "        // block 3\n",
    "        {\n",
    "            // block 4\n",
    "            {\n",
    "                \n",
    "            }\n",
    "            System.out.println(\"after block 4 : \" + s);\n",
    "        }\n",
    "        System.out.println(\"after block 3 : \" + s);\n",
    "    }\n",
    "}\n",
    "// comment out next line to get a compile-time error\n",
    "//System.out.println(\"after block 1 : \" + s);"
   ]
  },
  {
   "cell_type": "markdown",
   "metadata": {},
   "source": [
    "## Comments\n",
    "\n",
    "Exercise 1: This is a bit of a trick question. You can cause an error by including an malformed escape sequence. In the example below, Python expects the escape sequence `\\x` to have two (hexadecimal) digits after the `x`:"
   ]
  },
  {
   "cell_type": "code",
   "execution_count": null,
   "metadata": {},
   "outputs": [],
   "source": [
    "%%python\n",
    "\n",
    "s = \"\"\"This is an error \\x \"\"\""
   ]
  },
  {
   "cell_type": "markdown",
   "metadata": {},
   "source": [
    "Exercise 2: Putting the string in an actual comment causes the error to go away:"
   ]
  },
  {
   "cell_type": "code",
   "execution_count": null,
   "metadata": {},
   "outputs": [],
   "source": [
    "%%python\n",
    "\n",
    "# s = \"\"\"This is an error \\x \"\"\""
   ]
  },
  {
   "cell_type": "markdown",
   "metadata": {},
   "source": [
    "Exercise 3: Yes, the comment can be commented out using `//`:"
   ]
  },
  {
   "cell_type": "code",
   "execution_count": null,
   "metadata": {},
   "outputs": [],
   "source": [
    "// /* Can you comment out this comment? */"
   ]
  },
  {
   "cell_type": "markdown",
   "metadata": {},
   "source": [
    "Exercise 4: Yes, the comment can be commented out using `/* */`:"
   ]
  },
  {
   "cell_type": "code",
   "execution_count": null,
   "metadata": {},
   "outputs": [],
   "source": [
    "/* // Can you comment out this comment? */"
   ]
  },
  {
   "cell_type": "markdown",
   "metadata": {},
   "source": [
    "Exercise 5: The code does not compile because the comment ends after the first occurrence of `*/` (immediately before the loop). This causes the compiler to issue an error because the line `End comment */` is not valid Java."
   ]
  },
  {
   "cell_type": "markdown",
   "metadata": {},
   "source": [
    "## Primitive versus reference types\n",
    "\n",
    "### Exercises following *Primitive types*\n",
    "\n",
    "Exercise 1:\n",
    "\n",
    "| Address | Type | Variable | Value |\n",
    "| -: | -: | -: | -: | \n",
    "| 0 | | | |\n",
    "| 1 | | | |\n",
    "| ... | | | |\n",
    "| 100 | `int` | `x` | 1 |\n",
    "| 101 | `int` | `y` | 1 |\n",
    "| ... | | | |\n",
    "\n",
    "\n",
    "Exercise 2:\n",
    "\n",
    "| Address | Type | Variable | Value |\n",
    "| -: | -: | -: | -: | \n",
    "| 0 | | | |\n",
    "| 1 | | | |\n",
    "| ... | | | |\n",
    "| 100 | `int` | `x` | 2 |\n",
    "| 101 | `int` | `y` | 2 |\n",
    "| ... | | | |\n",
    "\n",
    "\n",
    "\n",
    "Exercise 3:\n",
    "\n",
    "| Address | Type | Variable | Value |\n",
    "| -: | -: | -: | -: | \n",
    "| 0 | | | |\n",
    "| 1 | | | |\n",
    "| ... | | | |\n",
    "| 100 | `int` | `x` | 2 |\n",
    "| 101 | `int` | `y` | 2 |\n",
    "| 102 | `int` | `tmp` | 2 |\n",
    "| ... | | | |\n",
    "\n",
    "\n",
    "Exercise 4:\n",
    "\n",
    "| Address | Type | Variable | Value |\n",
    "| -: | -: | -: | -: | \n",
    "| 0 | | | |\n",
    "| 1 | | | |\n",
    "| ... | | | |\n",
    "| 100 | `int` | `x` | 2 |\n",
    "| 101 | `int` | `y` | 1 |\n",
    "| 102 | `int` | `tmp` | 1 |\n",
    "| ... | | | |\n",
    "\n",
    "\n",
    "Exercise 5:\n",
    "\n",
    "| Address | Type | Variable | Value |\n",
    "| -: | -: | -: | -: | \n",
    "| 0 | | | |\n",
    "| 1 | | | |\n",
    "| ... | | | |\n",
    "| 100 | `int` | `x` | 2 |\n",
    "| ... | | | |\n",
    "\n",
    "\n",
    "### Exercises following *Reference types*\n",
    "\n",
    "Exercise 1:\n",
    "\n",
    "| Address | Type | Variable | Value | |\n",
    "| -: | -: | -: | -: | :- |\n",
    "| 0 | | | | |\n",
    "| 1 | | | | |\n",
    "| ... | | | | |\n",
    "| 100 | `String` | `s` | A2024 | |\n",
    "| 101 | `String` | `t` | A2024 | |\n",
    "| ... | | | | |\n",
    "| 2024 | `String` object | | | the string `\"hello\"` |\n",
    "| ... | | |  |\n",
    "\n",
    "\n",
    "Exercise 2:\n",
    "\n",
    "| Address | Type | Variable | Value | |\n",
    "| -: | -: | -: | -: | :- |\n",
    "| 0 | | | | |\n",
    "| 1 | | | | |\n",
    "| ... | | | | |\n",
    "| 100 | `String` | `s` | A2024 | |\n",
    "| 101 | `String` | `t` | A2024 | |\n",
    "| ... | | | | |\n",
    "| 2024 | `String` object | | | the string `\"hello\"` |\n",
    "| ... | | |  |\n",
    "| 2530 | `String` object | | | the string `\"goodbye\"` |\n",
    "| ... | | | |\n",
    "\n",
    "Exercise 3:\n",
    "\n",
    "| Address | Type | Variable | Value | |\n",
    "| -: | -: | -: | -: | :- |\n",
    "| 0 | | | | |\n",
    "| 1 | | | | |\n",
    "| ... | | | | |\n",
    "| 100 | `String` | `s` | A2530 | |\n",
    "| ... | | | | |\n",
    "| 2024 | `String` object | | | the string `\"hello\"` |\n",
    "| ... | | |  |\n",
    "| 2530 | `String` object | | | the string `\"goodbye\"` |\n",
    "| ... | | | |\n",
    "\n",
    "Exercise 4:\n",
    "\n",
    "| Address | Type | Variable | Value | |\n",
    "| -: | -: | -: | -: | :- |\n",
    "| 0 | | | | |\n",
    "| 1 | | | | |\n",
    "| ... | | | | |\n",
    "| 100 | `String` | `s` | A2530 | |\n",
    "| 101 | `String` | `t` | A2530 | |\n",
    "| ... | | | | |\n",
    "| 2024 | `String` object | | | the string `\"hello\"` |\n",
    "| ... | | |  |\n",
    "| 2530 | `String` object | | | the string `\"HELLO\"` |\n",
    "| ... | | | |\n",
    "\n",
    "### Exercises following *The null reference*\n",
    "\n",
    "Exericse 1: This question illustrates a quirk of the Java language. Any static method or field can be accessed with a `null` reference of the type of the class that the static method or field belongs to:"
   ]
  },
  {
   "cell_type": "code",
   "execution_count": null,
   "metadata": {},
   "outputs": [],
   "source": [
    "Math m = null;\n",
    "System.out.println(m.PI);\n",
    "System.out.println(m.sqrt(2.0));"
   ]
  },
  {
   "cell_type": "markdown",
   "metadata": {},
   "source": [
    "## Integers\n",
    "\n",
    "Exercise 1: Python's floor division operator produces different values than Java's integer division operator when one of the operands is negative because Python rounds towards negative inifinity whereas Java rounds towards zero:"
   ]
  },
  {
   "cell_type": "code",
   "execution_count": null,
   "metadata": {},
   "outputs": [],
   "source": [
    "%%python\n",
    "# Exercise 1\n",
    "x = -3 // 2\n",
    "print(x)"
   ]
  },
  {
   "cell_type": "code",
   "execution_count": null,
   "metadata": {},
   "outputs": [],
   "source": [
    "// Exercise 1 (Java)\n",
    "int x = - 3 / 2;\n",
    "System.out.println(x);"
   ]
  },
  {
   "cell_type": "markdown",
   "metadata": {},
   "source": [
    "Exercise 2:"
   ]
  },
  {
   "cell_type": "code",
   "execution_count": null,
   "metadata": {},
   "outputs": [],
   "source": [
    "int totalSlices = 60 * 16;\n",
    "int slicesPerStudent = totalSlices / 315;\n",
    "System.out.println(slicesPerStudent);"
   ]
  },
  {
   "cell_type": "markdown",
   "metadata": {},
   "source": [
    "Exercise 3: Note that there is an assumption that the total number of slices required is not an even multiple of 16."
   ]
  },
  {
   "cell_type": "code",
   "execution_count": null,
   "metadata": {},
   "outputs": [],
   "source": [
    "int totalSlices = 315 * 4;\n",
    "int pizzas = totalSlices / 16 + 1;\n",
    "System.out.println(pizzas);"
   ]
  },
  {
   "cell_type": "markdown",
   "metadata": {},
   "source": [
    "Exercise 4: The maximum value is equal to `Integer.MAX_VALUE + Integer.MAX_VALUE`:"
   ]
  },
  {
   "cell_type": "code",
   "execution_count": null,
   "metadata": {},
   "outputs": [],
   "source": [
    "int x = Integer.MAX_VALUE;\n",
    "int y = x;\n",
    "System.out.println(x + y);"
   ]
  },
  {
   "cell_type": "markdown",
   "metadata": {},
   "source": [
    "Exercise 5: The minimum value is equal to `Integer.MAX_VALUE - (-1)`:"
   ]
  },
  {
   "cell_type": "code",
   "execution_count": null,
   "metadata": {},
   "outputs": [],
   "source": [
    "int x = Integer.MAX_VALUE;\n",
    "int y = -1;\n",
    "System.out.println(x - y);"
   ]
  },
  {
   "cell_type": "markdown",
   "metadata": {},
   "source": [
    "Exercise 6: Yes, `int` addition is always associative. Proving this is not difficult but tedious."
   ]
  },
  {
   "cell_type": "markdown",
   "metadata": {},
   "source": [
    "## Floating-point types\n",
    "\n",
    "Exercise 1: The result is always `NaN`:"
   ]
  },
  {
   "cell_type": "code",
   "execution_count": null,
   "metadata": {},
   "outputs": [],
   "source": [
    "System.out.println(0.0 * Double.POSITIVE_INFINITY);\n",
    "System.out.println(-0.0 * Double.POSITIVE_INFINITY);\n",
    "System.out.println(0.0 * Double.NEGATIVE_INFINITY);\n",
    "System.out.println(-0.0 * Double.NEGATIVE_INFINITY);"
   ]
  },
  {
   "cell_type": "markdown",
   "metadata": {},
   "source": [
    "Exercise 2: The result is always the same infinity that was summed:"
   ]
  },
  {
   "cell_type": "code",
   "execution_count": null,
   "metadata": {},
   "outputs": [],
   "source": [
    "System.out.println(Double.POSITIVE_INFINITY + Double.POSITIVE_INFINITY);\n",
    "System.out.println(Double.NEGATIVE_INFINITY + Double.NEGATIVE_INFINITY);"
   ]
  },
  {
   "cell_type": "markdown",
   "metadata": {},
   "source": [
    "Exercise 3: The result is always equal to the first operand:"
   ]
  },
  {
   "cell_type": "code",
   "execution_count": null,
   "metadata": {},
   "outputs": [],
   "source": [
    "System.out.println(Double.POSITIVE_INFINITY - Double.NEGATIVE_INFINITY);\n",
    "System.out.println(Double.NEGATIVE_INFINITY - Double.POSITIVE_INFINITY);"
   ]
  },
  {
   "cell_type": "markdown",
   "metadata": {},
   "source": [
    "Exercise 4: The result is always `NaN`:"
   ]
  },
  {
   "cell_type": "code",
   "execution_count": null,
   "metadata": {},
   "outputs": [],
   "source": [
    "System.out.println(Double.POSITIVE_INFINITY - Double.POSITIVE_INFINITY);\n",
    "System.out.println(Double.NEGATIVE_INFINITY - Double.NEGATIVE_INFINITY);"
   ]
  },
  {
   "cell_type": "markdown",
   "metadata": {},
   "source": [
    "Exercise 5: The result is always `NaN`:"
   ]
  },
  {
   "cell_type": "code",
   "execution_count": null,
   "metadata": {},
   "outputs": [],
   "source": [
    "System.out.println(Double.POSITIVE_INFINITY / Double.POSITIVE_INFINITY);\n",
    "System.out.println(Double.NEGATIVE_INFINITY / Double.NEGATIVE_INFINITY);\n",
    "System.out.println(Double.POSITIVE_INFINITY / Double.NEGATIVE_INFINITY);\n",
    "System.out.println(Double.NEGATIVE_INFINITY / Double.POSITIVE_INFINITY);"
   ]
  },
  {
   "cell_type": "markdown",
   "metadata": {},
   "source": [
    "## Representing floating-point types\n",
    "\n",
    "Exercise 1: $a = +00.01$\n",
    "\n",
    "Exercise 2: $b = +99.99$\n",
    "\n",
    "Exercise 3: No, $b$ is the largest `fixed_pt` value.\n",
    "\n",
    "Exercise 4: Yes, $b - a = +99.99 - +00.01 = +99.98$.\n",
    "\n",
    "Exercise 5: Yes, $x+y = +11.11$.\n",
    "\n",
    "Exercise 6: $+00.01$\n",
    "\n",
    "Exercise 7: $-99.99$ to $+99.99$\n",
    "\n",
    "Exercise 8: One, namely $+01.00$.\n",
    "\n",
    "Exercise 9: $s = +100$, $e=-4$, $a = 0.01$\n",
    "\n",
    "Exercise 10: $s = +999$, $e=4$, $b = 9,990,000$\n",
    "\n",
    "Exercise 11: No, $b$ is the largest `float_pt` value.\n",
    "\n",
    "Exercise 12: No. The true value of $b-a$ is equal to $9,990,000 - 0.01 = 9,989,999.99$ but a `float_pt` value\n",
    "has at most three significant digits. The nearest `float_pt` value to the correct answer is $b$ so we end up in the situation where\n",
    "\n",
    "$$b-a = b\\ \\text{where}\\ a \\neq 0$$\n",
    "\n",
    "which is a mathematical contradiction but a fact of life when using finite precision floating-point values on a computer.\n",
    "\n",
    "Exercise 13: No. The value of the sum is $x + y = 11.11$ which has four significant digits and a `float_pt` value has at most\n",
    "three significant digits. The nearest `float_pt` value to the true sum is $11.1$.\n",
    "\n",
    "Exercise 14: No, consider $x=1.01$ and its closest value $y = 1.02$ (or $y=1.00$); the distance between these two values is $0.01$.\n",
    "Now, consider $x=10.1$ and its closest value $y=10.2$ (or $y=10.0$); the distance between these two values is $0.1$.\n",
    "Now, consider $x=101.$ and its closest value $y=102.$ (or $y=100.$); the distance between these two values is $1.0$.\n",
    "The distance between a value $x$ and its closest value depends on the order of magnitude of $x$.\n",
    "\n",
    "Exercise 15: $-999 \\times 10^4$ to $+999 \\times 10^4$. Although the range is much wider than the fixed-point representation\n",
    "using the same number of digits, the number of distinct values is the same.\n",
    "\n",
    "Exercise 16: There is only one `float_pt` value equal to $1$, namely $s = +100$, $e=-2$.\n",
    "\n",
    "Exercise 17: There are three different ways to represent the value $1$ if we allow leading zeroes in the significand:\n",
    "\n",
    "| $s$ | $e$ |\n",
    "| :---: | :---: |\n",
    "| +001 | 0 |\n",
    "| +010 | -1 |\n",
    "| +100 | -2 |\n",
    "\n",
    "Exercise 18: If you follow the same steps as the notebook proof, you reach the equality:\n",
    "\n",
    "$$10s = 3 \\times 2^{-e}$$\n",
    "\n",
    "which is a contradiction because the prime factorization of the left-hand side must include a $5$\n",
    "but the prime factorization of the right-hand side includes only $2$s and a $3$.\n",
    "\n",
    "Exercise 19: If you follow the same steps as the notebook proof, you reach the equality:\n",
    "\n",
    "$$2s = 2^{-e}$$\n",
    "\n",
    "Choosing integer values $s = 1$ and $e = -1$ satisfies the equality.\n",
    "\n",
    "Alternatively, observe that $0.5 = \\frac{1}{2}$ which immediately leads to the values $s = 1$ and $e = -1$."
   ]
  },
  {
   "cell_type": "markdown",
   "metadata": {},
   "source": [
    "## Floating-point errors\n",
    "\n",
    "Exercise 1: \n",
    "\n",
    "$\\hat{x} = 129 \\times 10^{-3}$, $x = 125 \\times 10^{-3}$, 4 ulps\\\n",
    "$\\hat{x} = 314.16 \\times 10^{-2}$, $x = 310 \\times 10^{-2}$, 4.16 ulps\\\n",
    "$\\hat{x} = 900 \\times 10^{-3}$, $x = 5780 \\times 10^{-3}$, 4880 ulps\\\n",
    "$\\hat{x} = 999.99 \\times 10^{-2}$, $x = 1000 \\times 10^{-2}$, 0.01 ulps\n",
    "\n",
    "\n",
    "Exercise 2: 1 ulp is the distance between consecutive floating-point values. If $\\hat{x}$ is half way between two consecutive values,\n",
    "then the error is 0.5 ulps.\n",
    "\n",
    "Exercise 3: If $\\hat{x}$ is not exactly half way between two consecutive values, then it must be closer to one of the two values.\n",
    "Therefore the error is less than 0.5 ulps.\n",
    "\n",
    "Exercise 4: $0.031008$, $0.0132417$, $5.422222$, $0.0000000001$\n",
    "\n",
    "Exercise 5: A relative error of 1 means that the computed value is 100% in error; i.e., if $\\hat{x}$ is the true value, then $x$ is\n",
    "either equal to 0 or $2\\hat{x}$.\n",
    "\n",
    "A relative error of 1 means that the computed value is 200% in error; i.e., if $\\hat{x}$ is the true value, then $x$ is\n",
    "either equal to $-\\hat{x}$ or $3\\hat{x}$.\n",
    "\n",
    "A relative error of 1 means that the computed value is 300% in error; i.e., if $\\hat{x}$ is the true value, then $x$ is\n",
    "either equal to $-2\\hat{x}$ or $4\\hat{x}$.\n",
    "\n",
    "Exercise 6: The relative error is $| (520 - 600) / 520 | \\approx 0.153846$.\n",
    "\n",
    "Exercise 7: The exact value of $x-y$ is $\\hat{z} = 0.01$. The floating-point difference is:\n",
    "\n",
    "$$\\begin{split}\n",
    "x & = 100 \\times 10^{-1} \\\\\n",
    "y & = 099 \\times 10^{-1} \\quad \\text{discard extra digits} \\\\\n",
    "x - y & = 001 \\times 10^{-1}\n",
    "\\end{split}$$\n",
    "\n",
    "and the relative error is $| (0.01 - 0.1) / 0.01 | = 9$, which is a large relative error.\n",
    "\n",
    "In a base-10 floating-point system where subtraction uses only the number of digits in the significand, 9 is the maximum relative\n",
    "error in a difference. In a base-2 floating-point system where subtraction uses only the number of digits in the significand, 1\n",
    "is the maximum relative error in a difference. \n",
    "\n",
    "Exercise 8: No guard digit:\n",
    "\n",
    "$$\\begin{split}\n",
    "x & = 000 \\times 10^{0} \\quad \\text{.9 discarded} \\\\\n",
    "y & = 100 \\times 10^{0} \\\\\n",
    "x + y & = 100 \\times 10^{0}\n",
    "\\end{split}$$\n",
    "\n",
    "With guard digit:\n",
    "\n",
    "$$\\begin{split}\n",
    "x & = 000.9 \\times 10^{0} \\quad \\text{.9 retained by guard digit} \\\\\n",
    "y & = 100.0 \\times 10^{0} \\\\\n",
    "x + y & = 100.9 \\times 10^{0} \\\\\n",
    "      & = 101 \\times 10^{0} \\quad \\text{convert to normalized form and round}\n",
    "\\end{split}$$\n",
    "\n",
    "Exercise 9: $3.34^2 - 4(1.22)(2.28) = 11.1556 - 11.1264 = 0.0292$\n",
    "\n",
    "Exercise 10: $b^2$ rounds to $11.2 = 112 \\times 10^{-1}$. $4ac$ rounds to $11.1 = 111 \\times 10^{-1}$.\n",
    "\n",
    "Exercise 11: $001 \\times 10^{-1}$ which becomes $100 \\times 10^{-3}$ after normalization.\n",
    "\n",
    "Exercise 12: The relative error is $| (0.0292 - 0.1) / 0.0292 | \\approx 2.424658$.\n",
    "\n",
    "The error in ulps is:\n",
    "\n",
    "$$\\begin{split}\n",
    "\\text{true value}           & = 292 \\times 10^{-4} \\quad \\text{normalized to three digit significand} \\\\\n",
    "\\text{floating-point value} & = 1000 \\times 10^{-4} \\quad \\text{scaled to use some exponent as true value} \\\\\n",
    "\\text{difference}           & = 708 \\times 10^{-4}\n",
    "\\end{split}$$\n",
    "\n",
    "Exercises 13 and 14: Only one digit matches the true value in Exercise 13!\n",
    "\n",
    "```java\n",
    "float a = 0.000001f;\n",
    "float b = ((float) Math.sqrt(1 + a)) - 1;\n",
    "System.out.println(b);\n",
    "\t\t\n",
    "float c = a / (((float) Math.sqrt(1 + a)) + 1);\n",
    "System.out.println(c);\n",
    "```\n",
    "\n",
    "\n",
    "Exercise 15: Naive summation:\n",
    "\n",
    "| element to add | computed sum | true sum | true sum rounded to 3 digits |\n",
    "| :--- | :--- | :--- | :--- |\n",
    "| 100 | 100 | 100 | 100 |\n",
    "| 0.4 | 100 | 100.4 | 100 |\n",
    "| 0.4 | 100 | 100.8 | 101 |\n",
    "| 0.4 | 100 | 101.2 | 101 |\n",
    "| 0.4 | 100 | 101.6 | 102 |\n",
    "| 0.4 | 100 | 102.0 | 102 |\n",
    "\n",
    "Kahan summation:\n",
    "\n",
    "| element to add (val) | y | t | c | computed sum (s) | true sum | true sum rounded to 3 digits |\n",
    "| :--- | :--- | :--- | :--- | :--- | :--- | :--- |\n",
    "| 100 | 100  | 100 | 0    | 100 | 100 | 100 |\n",
    "| 0.4 | 0.4  | 100 | -0.4 | 100 | 100.4 | 100 |\n",
    "| 0.4 | 0.5  | 101 |  0.5 | 101 | 100.8 | 101 |\n",
    "| 0.4 | -0.1 | 101 |  0.1 | 101 | 101.2 | 101 |\n",
    "| 0.4 | 0.3  | 101 | -0.3 | 101 | 101.6 | 102 |\n",
    "| 0.4 | 0.7  | 102 |  0.3 | 102 | 102.0 | 102 |\n",
    "\n"
   ]
  },
  {
   "cell_type": "markdown",
   "metadata": {},
   "source": [
    "## Reading an API\n",
    "\n",
    "Exercise 1:\n",
    "\n",
    "- there are 0 public fields\n",
    "- there are 0 public constructors\n",
    "- there are 0 methods that do not have the static modifier\n",
    "- `copyOf`\n",
    "\n",
    "Exercise 2: No solution; you simply need to copy code from the `Scanner` documentation page.\n",
    "\n",
    "Exercise 3:\n",
    "\n",
    "- `floor(double)`\n",
    "- `ceil(double)`\n",
    "- `round(double)`\n",
    "- `fma(double, double, double)` or `fma(float, float, float)`\n",
    "- `hypot(double, double)`\n",
    "- `max(int, int)`\n",
    "- `min(int, int)`\n",
    "- `sqrt(double)`\n",
    "\n",
    "Exercise 4:\n",
    "\n",
    "- no public fields\n",
    "- multiple public constructors\n",
    "- `append(int)`\n",
    "- `indexOf(String)`, returns the first occurrence of the string\n",
    "- `setCharAt(int, char)`, can throw a `IndexOutOfBoundsException`\n",
    "- `insert(int, char)`, can throw a `IndexOutOfBoundsException`\n",
    "\n",
    "Exercise 5:\n",
    "- `equals` compares two objects for equality\n",
    "- `toString` returns a string representation of an object \n",
    "\n",
    "Exercise 6:\n",
    "\n",
    "```java\n",
    "double e = Math.E;\n",
    "System.out.println(e);\n",
    "```\n",
    "\n",
    "Exercise 7:\n",
    "\n",
    "```java\n",
    "float y = Math.abs(-1f);\n",
    "System.out.println(y);\n",
    "```\n",
    "\n",
    "Exercise 8:\n",
    "\n",
    "```java\n",
    "    double x = 0.0;\n",
    "    \n",
    "    x = Math.max(5, 8);         // max(int, int)\n",
    "    x = Math.max(1f, 3);        // max(float, float)\n",
    "    x = Math.max(1L, 3);        // max(long, long)\n",
    "    x = Math.max(1f, 3f);       // max(float, float)\n",
    "    x = Math.max(1f, 3L);       // max(float, float)\n",
    "    x = Math.max(1f, 3.0);      // max(double, double)\n",
    "```\n",
    "\n",
    "Exercise 9:\n",
    "\n",
    "```java\n",
    "    int biggest = Math.max(Math.max(a, b), c);\n",
    "```\n",
    "\n",
    "Exercise 10: The positive distance between $x$ and $y$ is $\\left| x - y \\right|$. The value in the middle of $x$ and $y$ is $\\frac{x + y}{2}$.\n",
    "If you start at the middle of $x$ and $y$ and add half the distance between $x$ and $y$ then you end up at the larger of the two values.\n",
    "\n",
    "```java\n",
    "double biggest = (x + y) / 2.0 + Math.abs(x - y) / 2.0;\n",
    "```\n",
    "\n",
    "Notice that if `x` and `y` are some integer type then the above solution sometimes fails. Can you see why?"
   ]
  },
  {
   "cell_type": "markdown",
   "metadata": {},
   "source": [
    "## Arithmetic \n",
    "\n",
    "Exercise 1:"
   ]
  },
  {
   "cell_type": "code",
   "execution_count": null,
   "metadata": {},
   "outputs": [],
   "source": [
    "double x = 1 + 1;\n",
    "System.out.println(x);\n",
    "\n",
    "x = 1.99 - 2;\n",
    "System.out.println(x);\n",
    "\n",
    "x = -2 * -5.5;\n",
    "System.out.println(x);\n",
    "\n",
    "x = 99 / 3;\n",
    "System.out.println(x);\n",
    "\n",
    "x = 3 * (10 - 7) / 10;   // you get a different answer if you use double literals\n",
    "System.out.println(x);\n",
    "\n",
    "x = 3.0 * (10.0 - 7.0) / 10.0;   // you get a different answer if you use int literals\n",
    "System.out.println(x);\n",
    "\n",
    "x = 8 + (1 / (3 + (1 / (-2 + (1 / (0.5 + 1 / 2))))));   // you get a different answer if you use double literals\n",
    "System.out.println(x);\n",
    "\n",
    "x = 8. + (1. / (3. + (1. / (-2. + (1. / (0.5 + 1. / 2))))));   // you get a different answer if you use int literals\n",
    "System.out.println(x);\n"
   ]
  },
  {
   "cell_type": "markdown",
   "metadata": {},
   "source": [
    "Exercise 2:"
   ]
  },
  {
   "cell_type": "code",
   "execution_count": null,
   "metadata": {},
   "outputs": [],
   "source": [
    "double x = Math.sin(Math.PI / 2);\n",
    "System.out.println(x);\n",
    "\n",
    "x = Math.cos(3 * Math.PI / 2);\n",
    "System.out.println(x);\n",
    "\n",
    "x = Math.tan(-Math.PI);\n",
    "System.out.println(x);\n",
    "\n",
    "x = Math.pow(Math.cos(0.5337), 2) + Math.pow(Math.sin(0.5337), 2);\n",
    "System.out.println(x);\n",
    "\n",
    "x = Math.sqrt(Math.pow(3, 2) + Math.pow(4, 2));\n",
    "System.out.println(x);\n",
    "\n",
    "x = Math.cbrt(-1);\n",
    "System.out.println(x);\n",
    "\n",
    "x = Math.log10(1);\n",
    "System.out.println(x);\n",
    "\n",
    "x = Math.log(1);\n",
    "System.out.println(x);\n",
    "\n",
    "x = Math.pow(10, Math.log10(0.5));\n",
    "System.out.println(x);\n",
    "\n",
    "x = Math.exp(Math.log(Math.pow(10, -3)));\n",
    "System.out.println(x);"
   ]
  },
  {
   "cell_type": "markdown",
   "metadata": {},
   "source": [
    "Exercise 3:"
   ]
  },
  {
   "cell_type": "code",
   "execution_count": null,
   "metadata": {},
   "outputs": [],
   "source": [
    "// Exercise 3\n",
    "int totalSlices = 60 * 16;\n",
    "int n = totalSlices % 315;\n",
    "System.out.println(n);"
   ]
  },
  {
   "cell_type": "markdown",
   "metadata": {},
   "source": [
    "Exercise 4:"
   ]
  },
  {
   "cell_type": "code",
   "execution_count": null,
   "metadata": {},
   "outputs": [],
   "source": [
    "// Exercise 4\n",
    "int secPastMidnight = 10800;   // change this value to test that your code gives the expected values\n",
    "\n",
    "int secPerHour = 60 * 60;\n",
    "int hours = secPastMidnight / secPerHour;\n",
    "\n",
    "int secRemaining = secPastMidnight - hours * secPerHour;\n",
    "int minutes = secRemaining / 60;\n",
    "\n",
    "secRemaining = secRemaining - minutes * 60;\n",
    "\n",
    "System.out.println(hours);\n",
    "System.out.println(minutes);\n",
    "System.out.println(secRemaining);"
   ]
  },
  {
   "cell_type": "markdown",
   "metadata": {},
   "source": [
    "Exercise 5:"
   ]
  },
  {
   "cell_type": "code",
   "execution_count": null,
   "metadata": {},
   "outputs": [],
   "source": [
    "// Exercise 5\n",
    "int price = 99;     // choose some different values for the original price\n",
    "\n",
    "int cashPrice = price / 5 * 5;\n",
    "System.out.println(cashPrice);"
   ]
  },
  {
   "cell_type": "markdown",
   "metadata": {},
   "source": [
    "Exercise 6:"
   ]
  },
  {
   "cell_type": "code",
   "execution_count": null,
   "metadata": {},
   "outputs": [],
   "source": [
    "// Exercise 6\n",
    "int cashPrice = 195;    // choose some multiple of 5\n",
    "int payment = 500;      // choose some multiple of 5 greater than cashPrice\n",
    "\n",
    "int change = payment - cashPrice;\n",
    "int toonies = change / 200;\n",
    "\n",
    "change = change - 200 * toonies;\n",
    "int loonies = change / 100;\n",
    "\n",
    "change = change - 100 * loonies;\n",
    "int quarters = change / 25;\n",
    "\n",
    "change = change - 25 * quarters;\n",
    "int dimes = change / 10;\n",
    "\n",
    "change = change - 10 * dimes;\n",
    "int nickels = change / 5;\n",
    "\n",
    "System.out.println(toonies + \" x $2\");\n",
    "System.out.println(loonies + \" x $1\");\n",
    "System.out.println(quarters +\" x 25 cents\");\n",
    "System.out.println(dimes + \" x 10 cents\");\n",
    "System.out.println(nickels + \" x 5 cents\");"
   ]
  },
  {
   "cell_type": "markdown",
   "metadata": {},
   "source": [
    "Exercise 7:"
   ]
  },
  {
   "cell_type": "code",
   "execution_count": null,
   "metadata": {},
   "outputs": [],
   "source": [
    "// Exercise 7\n",
    "int light = 0;   // pick some different light numbers to test\n",
    "\n",
    "int next = (light + 2) % 25;\n",
    "System.out.println(next);"
   ]
  },
  {
   "cell_type": "markdown",
   "metadata": {},
   "source": [
    "Exercise 8: 2\n",
    "\n",
    "Exercise 9: 1 (strange but true)\n",
    "\n",
    "Exericse 10: 2\n",
    "\n",
    "Exercise 11: 4 (strange but true)"
   ]
  },
  {
   "cell_type": "markdown",
   "metadata": {},
   "source": [
    "Exercise 10 (mis-numbered): The value is cast to `Integer.MAX_VALUE`:"
   ]
  },
  {
   "cell_type": "code",
   "execution_count": null,
   "metadata": {},
   "outputs": [],
   "source": [
    "// Exercise 10 (mis-numbered)\n",
    "\n",
    "int x = (int) (1.0 + Integer.MAX_VALUE);  // change the 1.0 to some other positive values\n",
    "System.out.println(x);"
   ]
  },
  {
   "cell_type": "markdown",
   "metadata": {},
   "source": [
    "Exercise 11 (mis-numbered): You must force the sum to be computed using floating-point arithmetic otherwise the sum can overflow. The easiest way to do this is add `0.0` at the beginning of the sum:"
   ]
  },
  {
   "cell_type": "code",
   "execution_count": null,
   "metadata": {},
   "outputs": [],
   "source": [
    "// Exercise 11 (mis-numbered)\n",
    "int x = Integer.MAX_VALUE;         // assign values to x, y, and z\n",
    "int y = Integer.MAX_VALUE;\n",
    "int z = Integer.MAX_VALUE;\n",
    "double avg = (0.0 + x + y + z) / 3;\n",
    "System.out.println(avg);"
   ]
  },
  {
   "cell_type": "markdown",
   "metadata": {},
   "source": [
    "Exercise 12 (mis-numbered): 4 because (5 / 2) is equal to 2 using `int` arithmetic.\n",
    "\n",
    "Exercise 13 (mis-numbered): Add `0.0` to `x` or cast `x` to `double`."
   ]
  },
  {
   "cell_type": "code",
   "execution_count": null,
   "metadata": {},
   "outputs": [],
   "source": [
    "// Exercise 13 (mis-numbered)\n",
    "int x = 5;\n",
    "int y = 2;\n",
    "double z = ((0.0 + x) / y) * y;\n",
    "System.out.println(z);\n",
    "\n",
    "z = ((double) x / y) * y;\n",
    "System.out.println(z);"
   ]
  },
  {
   "cell_type": "markdown",
   "metadata": {},
   "source": [
    "Exercise 14 (mis-numbered): If `x` is `NaN` or `NEGATIVE_INFINITY` the difference will not be zero."
   ]
  },
  {
   "cell_type": "code",
   "execution_count": null,
   "metadata": {},
   "outputs": [],
   "source": [
    "// Exercise 14 (mis-numbered)\n",
    "double x = Double.NaN;\n",
    "double z = x - x;\n",
    "System.out.println(z);\n",
    "\n",
    "x = Double.NEGATIVE_INFINITY;\n",
    "z = x - x;\n",
    "System.out.println(z);\n"
   ]
  },
  {
   "cell_type": "markdown",
   "metadata": {},
   "source": [
    "## Booleans\n",
    "\n",
    "Exercises 1 and 2: The cast will not work.\n",
    "\n",
    "Exercise 3: No solution, just run the cell.\n",
    "\n",
    "Exercise 4: Just change `\"true\"` to `\"false\"`.\n",
    "\n",
    "Exercise 5: Any string not equal to `\"true\"` ignoring case will cause `b` to be equal to `false`."
   ]
  },
  {
   "cell_type": "markdown",
   "metadata": {},
   "source": [
    "## Comparison operators\n",
    "\n",
    "\n",
    "### Comparing reference types for equality\n",
    "\n",
    "Exercise 1: If `x == y` is `true` then `x.equals(y)` must also be `true` because `x` and `y` refer to the same object. \n",
    "\n",
    "If `x == y` is `false` then `x.equals(y)` may be `true` or `false` depending on how the class `Widget` defines its `equals` method.\n",
    "\n",
    "Exercise 2: `s` and `t` refer to different `String` objects that represent the same sequence of characters.\n",
    "\n",
    "`s == t` is `false` (different objects). `s.equals(t)` is `true` (equal sequence of characters).\n",
    "\n",
    "### Comparing numeric types\n",
    "\n",
    "Exercise 1: Yes, infinities are equal to themselves.\n",
    "\n",
    "Exercise 2: Yes, infinities from different types are equal.\n",
    "\n",
    "Exercise 3: `x < z` is `true`\n",
    "\n",
    "Exercise 4: `x == z` is `false`\n",
    "\n",
    "Exercise 5: `x == z` might be `true` or `false` because `float` cannot represent every `int` value.\n",
    "\n",
    "Exercise 6: The same values can be used from the example in *Comparing mixed numeric types*:"
   ]
  },
  {
   "cell_type": "code",
   "execution_count": null,
   "metadata": {},
   "outputs": [],
   "source": [
    "int x = ((int) Math.pow(2, 24)) + 1;\n",
    "int z = (int) Math.pow(2, 24);\n",
    "float y = (float) Math.pow(2, 24);\n",
    "System.out.println(x == z);     // false, x is not equal to z\n",
    "System.out.println(x == y);     // true?!!!, x is equal to y\n",
    "System.out.println(z == y);     // true, z is equal to y (but not equal to x?!!!)"
   ]
  },
  {
   "cell_type": "markdown",
   "metadata": {},
   "source": [
    "### Comparing normal floating-point values\n",
    "\n",
    "Exercise 1: The values are slightly different because `Math.PI` is not exactly equal to $\\pi$ and because `Math.sin` must perform some floating-point operations that may be inexact.\n",
    "\n",
    "Exercise 2: Strangely enough the answer is yes.\n",
    "\n",
    "Exercise 3, 4, and 5:"
   ]
  },
  {
   "cell_type": "code",
   "execution_count": null,
   "metadata": {},
   "outputs": [],
   "source": [
    "double x = 1e-8;\n",
    "double y = 1 - Math.cos(x);\n",
    "System.out.println(y);\n",
    "\n",
    "double z = 2 * Math.pow(Math.sin(x / 2), 2);\n",
    "System.out.println(z);\n",
    "\n",
    "double a = y / (x * x);\n",
    "double b = z / (x * x);\n",
    "System.out.println(a);\n",
    "System.out.println(b);\n"
   ]
  },
  {
   "cell_type": "markdown",
   "metadata": {},
   "source": [
    "## Characters\n",
    "\n",
    "Exercise 1: There is no such thing as an empty character.\n",
    "\n",
    "Exercise 2: FFFF is the hexadecimal number equal to 65,535.\n",
    "\n",
    "Exercise 3: "
   ]
  },
  {
   "cell_type": "code",
   "execution_count": null,
   "metadata": {},
   "outputs": [],
   "source": [
    "char c = '\\u2665';\n",
    "System.out.println(c);"
   ]
  },
  {
   "cell_type": "markdown",
   "metadata": {},
   "source": [
    "Exercise 4: The types in the expression `\"\" + ((int) c) + '\\t' + c` are:\n",
    "\n",
    "`String` + `int` + `char` + `char`\n",
    "\n",
    "and the `+` operator is left-to-right associative; thus, the expression is evaluated as:\n",
    "\n",
    "((`String` + `int`) + `char`) + `char`\n",
    "\n",
    "which results in a `String`.\n",
    "\n",
    "If you omit the `\"\"` the types are:\n",
    "\n",
    "`int` + `char` + `char`\n",
    "\n",
    "which results in an `int`.\n"
   ]
  },
  {
   "cell_type": "markdown",
   "metadata": {},
   "source": [
    "Exercise 5:"
   ]
  },
  {
   "cell_type": "code",
   "execution_count": null,
   "metadata": {},
   "outputs": [],
   "source": [
    "int distance = 'z' - 'a';\n",
    "System.out.println(distance);"
   ]
  },
  {
   "cell_type": "markdown",
   "metadata": {},
   "source": [
    "Exercise 6:"
   ]
  },
  {
   "cell_type": "code",
   "execution_count": null,
   "metadata": {},
   "outputs": [],
   "source": [
    "char c = (char) ('a' + ('z' - 'a'));\n",
    "System.out.println(c);"
   ]
  },
  {
   "cell_type": "markdown",
   "metadata": {},
   "source": [
    "Exercise 7: \n",
    "\n",
    "The first example fails to compile because the type of `c + 1` is `int` which cannot be stored in a `char` variable.\n",
    "\n",
    "The second example compiles and runs because `c += 1` is equivalent to `c = (char) (c + 1);`."
   ]
  },
  {
   "cell_type": "markdown",
   "metadata": {},
   "source": [
    "## Types, classes, and objects\n",
    "\n",
    "Exercise 1: `String`, `Integer`, `Long`, `Float`, `Double`, `Scanner`, `StringBuilder`, `Character`, `Boolean` and possibly others.\n",
    "\n",
    "Exercise 2:  What Integer method can you use to convert an int into a string that expresses the number in hexadecimal? For example, what method converts the integer 65 into the string \"41\"?\n",
    "\n",
    "- Answer: `toHexString`\n",
    "\n",
    "What Integer method would you use to convert a string expressed in base 5 into the equivalent int? For example, how would you convert the string \"230\" into the integer value 65? Show the code you would use to accomplish this task.\n",
    "\n",
    "- Answer: `int x = Integer.parseInt(\"230\", 5);`\n",
    "\n",
    "What Double method can you use to detect whether a floating-point number has the special value Not a Number (NaN)?\n",
    "\n",
    "- Answer: `isNaN`\n",
    "\n",
    "What is the value of the following expression, and why?\n",
    "```java\n",
    "Integer.valueOf(1).equals(Long.valueOf(1))\n",
    "```\n",
    "- Answer: `false` because `Integer` defines `equals` such that only two `Integer` objects can be equal."
   ]
  },
  {
   "cell_type": "code",
   "execution_count": null,
   "metadata": {},
   "outputs": [],
   "source": [
    "/*\n",
    "Change MaxVariablesDemo to show minimum values instead of maximum values. \n",
    "You can delete all code related to the variables aChar and aBoolean. What is the output?\n",
    "*/\n",
    "\n",
    "//integers\n",
    "byte smallestByte = Byte.MIN_VALUE;\n",
    "short smallestShort = Short.MIN_VALUE;\n",
    "int smallestInteger = Integer.MIN_VALUE;\n",
    "long smallestLong = Long.MIN_VALUE;\n",
    "\n",
    "//real numbers\n",
    "float smallestFloat = -Float.MAX_VALUE;\n",
    "double smallestDouble = -Double.MAX_VALUE;\n",
    "\n",
    "//Display them all.\n",
    "System.out.println(\"The smallest byte value is \"\n",
    "                           + smallestByte + \".\");\n",
    "System.out.println(\"The smallest short value is \"\n",
    "                           + smallestShort + \".\");\n",
    "System.out.println(\"The smallest integer value is \"\n",
    "                           + smallestInteger + \".\");\n",
    "System.out.println(\"The smallest long value is \"\n",
    "                           + smallestLong + \".\");\n",
    "\n",
    "System.out.println(\"The smallest float value is \"\n",
    "                           + smallestFloat + \".\");\n",
    "System.out.println(\"The smallest double value is \"\n",
    "                           + smallestDouble + \".\");"
   ]
  },
  {
   "cell_type": "code",
   "execution_count": null,
   "metadata": {},
   "outputs": [],
   "source": [
    "/*\n",
    "Create a program that reads an unspecified number of integer arguments \n",
    "from the command line and adds them together. For example, suppose that you enter the following:\n",
    "\n",
    "java Adder 1 3 2 10\n",
    "\n",
    "The program should display 16 and then exit. The program should display an \n",
    "error message if the user enters only one argument. You can base your program on ValueOfDemo.\n",
    "*/\n",
    "\n",
    "public class Adder {\n",
    "    public static void main(String... args) {\n",
    "        if (args.length < 2) {\n",
    "            System.out.println(\"require at least two numbers to add\");\n",
    "        }\n",
    "        else {\n",
    "            int sum = 0;\n",
    "            for (int i = 0; i < args.length; i++) {\n",
    "                int x = Integer.parseInt(args[i]);\n",
    "                sum += x;\n",
    "            }\n",
    "            System.out.println(sum);\n",
    "        }\n",
    "    }\n",
    "}"
   ]
  },
  {
   "cell_type": "code",
   "execution_count": null,
   "metadata": {},
   "outputs": [],
   "source": [
    "Adder.main(\"1\", \"3\", \"2\", \"10\");"
   ]
  },
  {
   "cell_type": "code",
   "execution_count": null,
   "metadata": {},
   "outputs": [],
   "source": [
    "/*\n",
    "Create a program that is similar to the previous one but has the following differences:\n",
    "\n",
    "    Instead of reading integer arguments, it reads floating-point arguments.\n",
    "    It displays the sum of the arguments, using exactly two digits to the right of the decimal point.\n",
    "\n",
    "For example, suppose that you enter the following:\n",
    "\n",
    "java FPAdder 1 1e2 3.0 4.754\n",
    "\n",
    "The program would display 108.75. Depending on your locale, the decimal point might \n",
    "be a comma (,) instead of a period (.).\n",
    "\n",
    "*/\n",
    "\n",
    "public class FPAdder {\n",
    "    public static void main(String... args) {\n",
    "        if (args.length < 2) {\n",
    "            System.out.println(\"require at least two numbers to add\");\n",
    "        }\n",
    "        else {\n",
    "            double sum = 0;\n",
    "            for (int i = 0; i < args.length; i++) {\n",
    "                double x = Double.parseDouble(args[i]);\n",
    "                sum += x;\n",
    "            }\n",
    "            System.out.printf(\"%.2f%n\", sum);\n",
    "        }\n",
    "    }\n",
    "}"
   ]
  },
  {
   "cell_type": "code",
   "execution_count": null,
   "metadata": {},
   "outputs": [],
   "source": [
    "FPAdder.main(\"1\", \"1e2\", \"3.0\", \"4.754\");"
   ]
  },
  {
   "cell_type": "markdown",
   "metadata": {},
   "source": [
    "## Creating and using objects\n",
    "\n",
    "### Creating objects\n",
    "Exercise 1:"
   ]
  },
  {
   "cell_type": "code",
   "execution_count": null,
   "metadata": {},
   "outputs": [],
   "source": [
    "%classpath add jar ../resources/jar/notes.jar\n",
    "\n",
    "// Exercise 1\n",
    "import ca.queensu.cs.cisc124.notes.basics.geometry.Point2;\n",
    "\n",
    "Point2 p1 = new Point2();\n",
    "Point2 p2 = new Point2(1.5, 2.5);\n",
    "Point2 p3 = new Point2(p2);"
   ]
  },
  {
   "cell_type": "markdown",
   "metadata": {},
   "source": [
    "Exercise 2:"
   ]
  },
  {
   "cell_type": "code",
   "execution_count": null,
   "metadata": {},
   "outputs": [],
   "source": [
    "// Exercise 2\n",
    "import java.util.Scanner;\n",
    "\n",
    "String s = \"1 2 3 4 tell me that you love me more\";\n",
    "Scanner scanner = new Scanner(s);"
   ]
  },
  {
   "cell_type": "markdown",
   "metadata": {},
   "source": [
    "Exercise 3:"
   ]
  },
  {
   "cell_type": "code",
   "execution_count": null,
   "metadata": {},
   "outputs": [],
   "source": [
    "// Exercise 3\n",
    "StringBuilder b1 = new StringBuilder();\n",
    "StringBuilder b2 = new StringBuilder(64);\n",
    "StringBuilder b3 = new StringBuilder(\"1, 2, Fizz, 4, Buzz\");"
   ]
  },
  {
   "cell_type": "markdown",
   "metadata": {},
   "source": [
    "### Using objects\n",
    "\n",
    "Exercise 1:"
   ]
  },
  {
   "cell_type": "code",
   "execution_count": null,
   "metadata": {},
   "outputs": [],
   "source": [
    "%classpath add jar ../resources/jar/notes.jar\n",
    "\n",
    "// Exercise 1\n",
    "\n",
    "import ca.queensu.cs.cisc124.notes.basics.geometry.Point2;\n",
    "import ca.queensu.cs.cisc124.notes.basics.geometry.Vector2;\n",
    "\n",
    "Point2 p = new Point2(1.0, -2.0);\n",
    "Vector2 v = new Vector2(4.0, 12.0);\n",
    "p.add(v);\n",
    "System.out.println(p);"
   ]
  },
  {
   "cell_type": "markdown",
   "metadata": {},
   "source": [
    "Exercise 2:"
   ]
  },
  {
   "cell_type": "code",
   "execution_count": null,
   "metadata": {},
   "outputs": [],
   "source": [
    "%classpath add jar ../resources/jar/notes.jar\n",
    "\n",
    "// Exercise 2\n",
    "\n",
    "import ca.queensu.cs.cisc124.notes.basics.geometry.Point2;\n",
    "import ca.queensu.cs.cisc124.notes.basics.geometry.Vector2;\n",
    "\n",
    "Point2 p = new Point2(1.0, -2.0);\n",
    "Vector2 v = new Vector2(4.0, 12.0);\n",
    "Point2 q = Point2.add(p, v);\n",
    "System.out.println(q);"
   ]
  },
  {
   "cell_type": "markdown",
   "metadata": {},
   "source": [
    "Exercise 3:"
   ]
  },
  {
   "cell_type": "code",
   "execution_count": null,
   "metadata": {},
   "outputs": [],
   "source": [
    "%classpath add jar ../resources/jar/notes.jar\n",
    "\n",
    "// Exercise 3\n",
    "\n",
    "import ca.queensu.cs.cisc124.notes.basics.geometry.Point2;\n",
    "\n",
    "Point2 p = new Point2(1.0, -2.0);    // try points with different coordinates\n",
    "StringBuilder b = new StringBuilder();\n",
    "b.append(\"(\");\n",
    "b.append(p.x());\n",
    "b.append(\", \");\n",
    "b.append(p.y());\n",
    "b.append(\")\");\n",
    "System.out.println(b);\n",
    "\n",
    "// or\n",
    "b = new StringBuilder();\n",
    "b.append(\"(\")\n",
    "    .append(p.x())\n",
    "    .append(\", \")\n",
    "    .append(p.y())\n",
    "    .append(\")\");\n",
    "System.out.println(b);"
   ]
  },
  {
   "cell_type": "markdown",
   "metadata": {},
   "source": [
    "Exercise 4:"
   ]
  },
  {
   "cell_type": "code",
   "execution_count": null,
   "metadata": {},
   "outputs": [],
   "source": [
    "// Exercise 4\n",
    "\n",
    "import java.util.Scanner;\n",
    "\n",
    "Scanner s = new Scanner(System.in);\n",
    "System.out.println(\"Enter 2 integers; press enter after each integer\");\n",
    "int x = s.nextInt();\n",
    "int y = s.nextInt();\n",
    "System.out.println(x + y);"
   ]
  },
  {
   "cell_type": "markdown",
   "metadata": {},
   "source": [
    "Exercise 5:"
   ]
  },
  {
   "cell_type": "code",
   "execution_count": null,
   "metadata": {},
   "outputs": [],
   "source": [
    "// Exercise 5\n",
    "\n",
    "import java.util.Scanner;\n",
    "\n",
    "Scanner s = new Scanner(System.in);\n",
    "System.out.println(\"Enter 2 strings separated by a space:\");\n",
    "String x = s.next();\n",
    "String y = s.next();\n",
    "System.out.println(\"first string was: \" + x);\n",
    "System.out.println(\"second string was: \" + y);"
   ]
  },
  {
   "cell_type": "markdown",
   "metadata": {},
   "source": [
    "Exercise 6 erroneously duplicates Exercise 5."
   ]
  },
  {
   "cell_type": "markdown",
   "metadata": {},
   "source": [
    "Exercise 7:"
   ]
  },
  {
   "cell_type": "code",
   "execution_count": null,
   "metadata": {},
   "outputs": [],
   "source": [
    "// Exercise 7\n",
    "\n",
    "import java.util.Scanner;\n",
    "\n",
    "Scanner s = new Scanner(System.in);\n",
    "s.useDelimiter(\"\\\\v\");\n",
    "System.out.println(\"Enter 2 strings separated by a space:\");\n",
    "String x = s.next(\"\\\\S+\\\\s\\\\S+\");\n",
    "System.out.println(\"string was: \" + x);"
   ]
  },
  {
   "cell_type": "markdown",
   "metadata": {},
   "source": [
    "Exercise 8:"
   ]
  },
  {
   "cell_type": "code",
   "execution_count": null,
   "metadata": {},
   "outputs": [],
   "source": [
    "// Exercise 8\n",
    "\n",
    "import java.util.Scanner;\n",
    "\n",
    "Scanner s = new Scanner(System.in);\n",
    "System.out.println(\"Enter 2 integers; press enter after each integer\");\n",
    "String x = s.next();\n",
    "String y = s.next();\n",
    "int xVal = Integer.parseInt(x);\n",
    "int yVal = Integer.parseInt(y);\n",
    "System.out.println(xVal + yVal);"
   ]
  },
  {
   "cell_type": "markdown",
   "metadata": {},
   "source": [
    "## Strings\n",
    "\n",
    "Exercise 1: There is one `String` object."
   ]
  },
  {
   "cell_type": "code",
   "execution_count": null,
   "metadata": {},
   "outputs": [],
   "source": [
    "// Exercise 1\n",
    "String s = \"hello\";\n",
    "String t = \"hello\";\n",
    "System.out.println(s == t);   // prints true indicating that s and t refer to the same object"
   ]
  },
  {
   "cell_type": "markdown",
   "metadata": {},
   "source": [
    "Exercise 2:\n",
    "\n",
    "| Address | Type | Variable | Value | |\n",
    "| -: | -: | -: | -: | :- |\n",
    "| 0 | | | | |\n",
    "| 1 | | | | |\n",
    "| ... | | | | |\n",
    "| 100 | `String` | `s` | A2024 | |\n",
    "| 101 | `String` | `t` | A2024 | |\n",
    "| ... | | | | |\n",
    "| 2024 | `String` object | | | the string `\"hello\"` |\n",
    "| ... | | |  |"
   ]
  },
  {
   "cell_type": "markdown",
   "metadata": {},
   "source": [
    "Exercise 3:"
   ]
  },
  {
   "cell_type": "code",
   "execution_count": null,
   "metadata": {},
   "outputs": [],
   "source": [
    "// Exercise 3\n",
    "String s = \"\\\"She said, \\\"He said, \\\"Lucinda said, \\\"Enough already.\\\"\\\"\\\"\\\"\";\n",
    "System.out.println(s);"
   ]
  },
  {
   "cell_type": "markdown",
   "metadata": {},
   "source": [
    "Exercise 4:"
   ]
  },
  {
   "cell_type": "code",
   "execution_count": null,
   "metadata": {},
   "outputs": [],
   "source": [
    "// Exercise 4\n",
    "String s = \"That is my sister\\'s university\\'s presidents\\' son\\'s cousin\\'s bicycle.\";\n",
    "System.out.println(s);"
   ]
  },
  {
   "cell_type": "markdown",
   "metadata": {},
   "source": [
    "Exercise 5:\n",
    "\n",
    "| Address | Type | Variable | Value | |\n",
    "| -: | -: | -: | -: | :- |\n",
    "| 0 | | | | |\n",
    "| 1 | | | | |\n",
    "| ... | | | | |\n",
    "| 100 | `String` | `greeting` | A2100 | |\n",
    "| ... | | | | |\n",
    "| 2024 | `String` object | | | the string `\"Hello, world!\"` |\n",
    "| ... | | |  |\n",
    "| 2100 | `String` object | | | the string `\"Bonjour le monde\"` |\n",
    "| ... | | |  |\n"
   ]
  },
  {
   "cell_type": "markdown",
   "metadata": {},
   "source": [
    "Exercise 6:"
   ]
  },
  {
   "cell_type": "code",
   "execution_count": null,
   "metadata": {},
   "outputs": [],
   "source": [
    "// Exercise 6\n",
    "String dept = \"CISC\";\n",
    "String num = \"124\";\n",
    "String term = \"Fall\";\n",
    "String year = \"2020\";\n",
    "System.out.println(dept + num + \" \" + term + \" \" + year);"
   ]
  },
  {
   "cell_type": "markdown",
   "metadata": {},
   "source": [
    "Exercise 7: It prints `Ma174`. `'M' + 'a'` is equal to `(int) 'M' + (int) 'a'` which is the `int` value 174."
   ]
  },
  {
   "cell_type": "markdown",
   "metadata": {},
   "source": [
    "Exercise 8: It prints `2 + 2 = 22`. `\"2 + 2 = \" + 2` is equal to the string `\"2 + 2 = 2\"`. `\"2 + 2 = 2\" + 2` is equal to the string `\"2 + 2 = 22\"`."
   ]
  },
  {
   "cell_type": "markdown",
   "metadata": {},
   "source": [
    "Exercise 9: It prints `false`. `+` has higher precedence than `==`. The `println` statement is equivalent to:\n",
    "\n",
    "```java\n",
    "String tmp = \"Animals are equal: \" + pig;\n",
    "System.out.println(tmp == dog);\n",
    "```"
   ]
  },
  {
   "cell_type": "markdown",
   "metadata": {},
   "source": [
    "### String methods\n",
    "\n",
    "Exercise 1: No, `s.charAt(i)` will always thrown an exception for any value of `i` if `s` is empty."
   ]
  },
  {
   "cell_type": "markdown",
   "metadata": {},
   "source": [
    "Exercise 2:"
   ]
  },
  {
   "cell_type": "code",
   "execution_count": null,
   "metadata": {},
   "outputs": [],
   "source": [
    "// Exercise 2\n",
    "String s = \"sparring with a purple porpoise\";\n",
    "System.out.println(s.length());"
   ]
  },
  {
   "cell_type": "markdown",
   "metadata": {},
   "source": [
    "Exercise 3:"
   ]
  },
  {
   "cell_type": "code",
   "execution_count": null,
   "metadata": {},
   "outputs": [],
   "source": [
    "// Exercise 3\n",
    "String s = \"sparring with a purple porpoise\";\n",
    "System.out.println(s.charAt(1));"
   ]
  },
  {
   "cell_type": "markdown",
   "metadata": {},
   "source": [
    "Exercise 4:"
   ]
  },
  {
   "cell_type": "code",
   "execution_count": null,
   "metadata": {},
   "outputs": [],
   "source": [
    "// Exercise 4\n",
    "String s = \"sparring with a purple porpoise\";\n",
    "System.out.println(s.indexOf('w'));"
   ]
  },
  {
   "cell_type": "markdown",
   "metadata": {},
   "source": [
    "Exercise 5:"
   ]
  },
  {
   "cell_type": "code",
   "execution_count": null,
   "metadata": {},
   "outputs": [],
   "source": [
    "// Exercise 5\n",
    "String s = \"sparring with a purple porpoise\";\n",
    "System.out.println(s.lastIndexOf('h'));"
   ]
  },
  {
   "cell_type": "markdown",
   "metadata": {},
   "source": [
    "Exercise 6:"
   ]
  },
  {
   "cell_type": "code",
   "execution_count": null,
   "metadata": {},
   "outputs": [],
   "source": [
    "// Exercise 6\n",
    "String s = \"sparring with a purple porpoise\";\n",
    "int start = s.indexOf(' ');\n",
    "int end = s.lastIndexOf(' ');\n",
    "String sub = s.substring(start + 1, end);\n",
    "System.out.println(sub);"
   ]
  },
  {
   "cell_type": "markdown",
   "metadata": {},
   "source": [
    "Exercise 7: It returns a reference to `s`:"
   ]
  },
  {
   "cell_type": "code",
   "execution_count": null,
   "metadata": {},
   "outputs": [],
   "source": [
    "// Exercise 7\n",
    "String s = \"otter\";\n",
    "String t = s.substring(0);\n",
    "System.out.println(s == t);"
   ]
  },
  {
   "cell_type": "markdown",
   "metadata": {},
   "source": [
    "Exercise 8:"
   ]
  },
  {
   "cell_type": "code",
   "execution_count": null,
   "metadata": {},
   "outputs": [],
   "source": [
    "// Exercise 8\n",
    "String s = \"sparring with a purple porpoise\";\n",
    "String t = s.replace('p', 't');\n",
    "System.out.println(t);"
   ]
  },
  {
   "cell_type": "markdown",
   "metadata": {},
   "source": [
    "Exercise 9:"
   ]
  },
  {
   "cell_type": "code",
   "execution_count": null,
   "metadata": {},
   "outputs": [],
   "source": [
    "// Exercise 9\n",
    "String s = \"hiho, hiho, it\\'s off to work we go\";\n",
    "String t = s.replace(\"hiho\", \"oh, no\");\n",
    "System.out.println(t);"
   ]
  },
  {
   "cell_type": "markdown",
   "metadata": {},
   "source": [
    "Exercise 10:"
   ]
  },
  {
   "cell_type": "code",
   "execution_count": null,
   "metadata": {},
   "outputs": [],
   "source": [
    "// Exercise 10\n",
    "int val = 12345;   // try several different values for val\n",
    "String s = String.valueOf(val);\n",
    "System.out.println(val + \" has \" + s.length() + \" digits\");"
   ]
  },
  {
   "cell_type": "markdown",
   "metadata": {},
   "source": [
    "Exercise 11:"
   ]
  },
  {
   "cell_type": "code",
   "execution_count": null,
   "metadata": {},
   "outputs": [],
   "source": [
    "// Exercise 11\n",
    "String path = \"C:\\\\Users\\\\Homer Simpson\\\\Documents\\\\secret.docx\";  // try different path names\n",
    "\n",
    "int lastSlashIndex = path.lastIndexOf('\\\\');\n",
    "String filenameExt = path.substring(lastSlashIndex + 1);\n",
    "System.out.println(filenameExt);\n",
    "\n",
    "int lastPeriodIndex = path.lastIndexOf('.');\n",
    "String filename = path.substring(lastSlashIndex + 1, lastPeriodIndex);\n",
    "System.out.println(filename);\n",
    "\n",
    "String ext = path.substring(lastPeriodIndex + 1);\n",
    "System.out.println(ext);\n"
   ]
  },
  {
   "cell_type": "markdown",
   "metadata": {},
   "source": [
    "## Arrays\n",
    "\n",
    "Exercise 1:"
   ]
  },
  {
   "cell_type": "code",
   "execution_count": null,
   "metadata": {},
   "outputs": [],
   "source": [
    "// Exercise 1\n",
    "import java.util.Arrays;\n",
    "\n",
    "double[] arr = new double[4];\n",
    "System.out.println(Arrays.toString(arr));"
   ]
  },
  {
   "cell_type": "markdown",
   "metadata": {},
   "source": [
    "Exercise 2: Minor type, the array should have 3 `null`s."
   ]
  },
  {
   "cell_type": "code",
   "execution_count": null,
   "metadata": {},
   "outputs": [],
   "source": [
    " // Exercise 2\n",
    "import java.util.Arrays;\n",
    "\n",
    "String[] arr = new String[3];\n",
    "System.out.println(Arrays.toString(arr));"
   ]
  },
  {
   "cell_type": "markdown",
   "metadata": {},
   "source": [
    "Exercise 3:"
   ]
  },
  {
   "cell_type": "code",
   "execution_count": null,
   "metadata": {},
   "outputs": [],
   "source": [
    "// Exercise 3\n",
    "import java.util.Arrays;\n",
    "\n",
    "char[] arr = {'x', 'y', 'z'};\n",
    "System.out.println(Arrays.toString(arr));"
   ]
  },
  {
   "cell_type": "markdown",
   "metadata": {},
   "source": [
    "Exercise 4:"
   ]
  },
  {
   "cell_type": "code",
   "execution_count": null,
   "metadata": {},
   "outputs": [],
   "source": [
    "// Exercise 4\n",
    "import java.util.Arrays;\n",
    "\n",
    "int[] arr = new int[0];\n",
    "System.out.println(Arrays.toString(arr));"
   ]
  },
  {
   "cell_type": "markdown",
   "metadata": {},
   "source": [
    "Exercise 5: The code prints `variable a might not have been initialized` because there is a variable `a` but the variable has not been assigned a value."
   ]
  },
  {
   "cell_type": "markdown",
   "metadata": {},
   "source": [
    "Exercise 6:"
   ]
  },
  {
   "cell_type": "code",
   "execution_count": null,
   "metadata": {},
   "outputs": [],
   "source": [
    "double[] arr = new double[4];\n",
    "System.out.println(arr.length);\n",
    "\n",
    "String[] sArr = new String[3];\n",
    "System.out.println(sArr.length);\n",
    "\n",
    "char[] cArr = {'x', 'y', 'z'};\n",
    "System.out.println(cArr.length);\n",
    "\n",
    "int[] iArr = new int[0];\n",
    "System.out.println(iArr.length);"
   ]
  },
  {
   "cell_type": "markdown",
   "metadata": {},
   "source": [
    "Exercise 7:"
   ]
  },
  {
   "cell_type": "code",
   "execution_count": null,
   "metadata": {},
   "outputs": [],
   "source": [
    "// Exercise 7\n",
    "import java.util.Arrays;\n",
    "\n",
    "int[] fib = { 0, 1, 1, 2, 3, 5, 8, 13, 21, 34, -1, -1, -1, -1, -1}; \n",
    "fib[10] = fib[9] + fib[8];\n",
    "fib[11] = fib[10] + fib[9];\n",
    "fib[12] = fib[11] + fib[10];\n",
    "fib[13] = fib[12] + fib[11];\n",
    "fib[14] = fib[13] + fib[12];\n",
    "\n",
    "System.out.println(Arrays.toString(fib));"
   ]
  },
  {
   "cell_type": "markdown",
   "metadata": {},
   "source": [
    "Exercise 8:"
   ]
  },
  {
   "cell_type": "code",
   "execution_count": null,
   "metadata": {},
   "outputs": [],
   "source": [
    "// Exercise 8\n",
    "import java.util.Arrays;\n",
    "\n",
    "double[] p1 = new double[2];\n",
    "double[] p2 = new double[2];\n",
    "\n",
    "p1[0] = -1.0;\n",
    "p1[1] = 1.5;\n",
    "System.out.println(Arrays.toString(p1));\n",
    "\n",
    "p2[0] = 4.0;\n",
    "p2[1] = -2.5;\n",
    "System.out.println(Arrays.toString(p2));"
   ]
  },
  {
   "cell_type": "markdown",
   "metadata": {},
   "source": [
    "Exercise 9:"
   ]
  },
  {
   "cell_type": "code",
   "execution_count": null,
   "metadata": {},
   "outputs": [],
   "source": [
    "// Exercise 9\n",
    "import java.util.Arrays;\n",
    "\n",
    "int[] cases = {271, 387, 344, 309, 367, 458, 326, 305, 362, 384};\n",
    "double[] movingAvg = new double[cases.length];\n",
    "movingAvg[2] = (0.0 + cases[0] + cases[1] + cases[2] + cases[3] + cases[4]) / 5.0;\n",
    "movingAvg[3] = (0.0 + cases[1] + cases[2] + cases[3] + cases[4] + cases[5]) / 5.0;\n",
    "movingAvg[4] = (0.0 + cases[2] + cases[3] + cases[4] + cases[5] + cases[6]) / 5.0;\n",
    "movingAvg[5] = (0.0 + cases[3] + cases[4] + cases[5] + cases[6] + cases[7]) / 5.0;\n",
    "movingAvg[6] = (0.0 + cases[4] + cases[5] + cases[6] + cases[7] + cases[8]) / 5.0;\n",
    "movingAvg[7] = (0.0 + cases[5] + cases[6] + cases[7] + cases[8] + cases[9]) / 5.0;\n",
    "\n",
    "System.out.println(Arrays.toString(movingAvg));"
   ]
  },
  {
   "cell_type": "markdown",
   "metadata": {},
   "source": [
    "Exercise 10:"
   ]
  },
  {
   "cell_type": "code",
   "execution_count": null,
   "metadata": {},
   "outputs": [],
   "source": [
    "// Exercise 10\n",
    "import java.util.Arrays;\n",
    "\n",
    "double[] val = {35, 56, 86, 86, 91, 71, 50, 55, 60};\n",
    "double[] upsamp = new double[2 * val.length - 1];\n",
    "\n",
    "// too long to do without a loop\n",
    "upsamp[0] = val[0];\n",
    "for (int i = 1; i < val.length; i++) {\n",
    "    // i is an index into val\n",
    "    // j is an index into upsamp\n",
    "    int j = 2 * i;\n",
    "    \n",
    "    upsamp[j] = val[i];\n",
    "    upsamp[j - 1] = (val[i] + val[i - 1]) / 2.0;\n",
    "}\n",
    "System.out.println(Arrays.toString(upsamp));\n",
    "\n"
   ]
  },
  {
   "cell_type": "markdown",
   "metadata": {},
   "source": [
    "## Boolean operators\n",
    "\n",
    "Exercise 1: \n",
    "It prints `false`. `+` has higher precedence than `==`. The `println` statement is equivalent to:\n",
    "\n",
    "```java\n",
    "String tmp = \"Animals are equal: \" + pig;\n",
    "System.out.println(tmp == dog);\n",
    "```"
   ]
  },
  {
   "cell_type": "markdown",
   "metadata": {},
   "source": [
    "Exercise 2: "
   ]
  },
  {
   "cell_type": "code",
   "execution_count": null,
   "metadata": {},
   "outputs": [],
   "source": [
    "// Exercise 2\n",
    "String pig = \"length: 10\";\n",
    "String dog = \"length: \" + 10;\n",
    "System.out.println(\"Animals are equal: \" + (pig == dog));"
   ]
  },
  {
   "cell_type": "markdown",
   "metadata": {},
   "source": [
    "Exercise 3: The use of `==` is correct if the programmer is testing whether or not `pig` and `dog` refer to the same string object. It is incorrect if the programmer is testing whether or not `pig` and `dog` represent the same sequence of characters.\n",
    "\n",
    "It is an unfortunate consequence of the design of the `String` class that `==` often produces the correct result when testing if two strings represent the same sequence of characters. In the above example, the strings `\"length: 10\"` and `(\"length: \" +  10)` are both what the Java Language Specification calls *constant expressions*. A constant expression is an expression that the compiler can evaluate during compilation. Each string that is a constant expressions is represented by one `String` object in memory; if a constant expression string is equal to another constant expression string then only a single `String` object is used to represent both strings. This process is called *string interning* and is intended to save memory."
   ]
  },
  {
   "cell_type": "markdown",
   "metadata": {},
   "source": [
    "Exercise 4:"
   ]
  },
  {
   "cell_type": "code",
   "execution_count": null,
   "metadata": {},
   "outputs": [],
   "source": [
    "// Exercise 4\n",
    "\n",
    "// next part runs\n",
    "String s = null;\n",
    "boolean isNullOrEmpty = (s == null) || s.isEmpty();\n",
    "System.out.println(isNullOrEmpty);\n",
    "\n",
    "// but if you separate both operands of the OR expression you get an exception\n",
    "boolean isNull = (s == null);\n",
    "boolean isEmpty = s.isEmpty();"
   ]
  },
  {
   "cell_type": "markdown",
   "metadata": {},
   "source": [
    "## If statements\n",
    "\n",
    "Exercise 1:"
   ]
  },
  {
   "cell_type": "code",
   "execution_count": null,
   "metadata": {},
   "outputs": [],
   "source": [
    "// Exercise 1\n",
    "int x = 1;   // change x to a negative value to check if the else part is evaluated\n",
    "int y = (x > 0) ? x : (-2 * x);\n",
    "System.out.println(y);\n"
   ]
  },
  {
   "cell_type": "markdown",
   "metadata": {},
   "source": [
    "Exercise 2:"
   ]
  },
  {
   "cell_type": "code",
   "execution_count": null,
   "metadata": {},
   "outputs": [],
   "source": [
    "// Exercise 2\n",
    "\n",
    "int x = 0;   // try several different values for x\n",
    "int y;\n",
    "if (x <= 5) {\n",
    "    y = 1;\n",
    "}"
   ]
  },
  {
   "cell_type": "markdown",
   "metadata": {},
   "source": [
    "Exercise 3:"
   ]
  },
  {
   "cell_type": "code",
   "execution_count": null,
   "metadata": {},
   "outputs": [],
   "source": [
    "// Exercise 3\n",
    "\n",
    "int x = 5;   // try several different values for x\n",
    "int y;\n",
    "if (x >= 0 && x <= 10) {\n",
    "    y = 1;\n",
    "}"
   ]
  },
  {
   "cell_type": "markdown",
   "metadata": {},
   "source": [
    "Exercise 4:"
   ]
  },
  {
   "cell_type": "code",
   "execution_count": null,
   "metadata": {},
   "outputs": [],
   "source": [
    "// Exercise 4\n",
    "\n",
    "int x = 25;   // try several different values for x\n",
    "int y;\n",
    "if ((x >= 0 && x <= 10) || (x >= 20 && x <= 30)) {\n",
    "    y = 1;\n",
    "}"
   ]
  },
  {
   "cell_type": "markdown",
   "metadata": {},
   "source": [
    "Exercise 5:"
   ]
  },
  {
   "cell_type": "code",
   "execution_count": null,
   "metadata": {},
   "outputs": [],
   "source": [
    "// Exercise 5\n",
    "\n",
    "int x = 3;   // try several different values for x\n",
    "int y = 0;\n",
    "if (!(x >= 0 && x <= 5)) {\n",
    "    y = 1;\n",
    "}"
   ]
  },
  {
   "cell_type": "markdown",
   "metadata": {},
   "source": [
    "Exercise 6:"
   ]
  },
  {
   "cell_type": "code",
   "execution_count": null,
   "metadata": {},
   "outputs": [],
   "source": [
    "// Exercise 6\n",
    "\n",
    "int x = 3;   // try several different values for x\n",
    "int y = 0;\n",
    "if (x >= 0 && x <= 5) {\n",
    "    y = 1;\n",
    "}\n",
    "System.out.println(y);"
   ]
  },
  {
   "cell_type": "markdown",
   "metadata": {},
   "source": [
    "Exercise 7:"
   ]
  },
  {
   "cell_type": "code",
   "execution_count": null,
   "metadata": {},
   "outputs": [],
   "source": [
    "// Exercise 7\n",
    "\n",
    "int x = 3;   // try several different values for x\n",
    "int y = 0;\n",
    "if (!(x <= -5 || x >= 5)) {\n",
    "    y = 1;\n",
    "}\n",
    "System.out.println(y);"
   ]
  },
  {
   "cell_type": "markdown",
   "metadata": {},
   "source": [
    "Exercise 8:"
   ]
  },
  {
   "cell_type": "code",
   "execution_count": null,
   "metadata": {},
   "outputs": [],
   "source": [
    "// Exercise 8\n",
    "\n",
    "double x = 0.5;      // try several different values of x and y\n",
    "double y = -0.25;\n",
    "boolean isInside = false;\n",
    "if (Math.hypot(x, y) <= 1) {  // or if (x * x + y * y <= 1)\n",
    "    isInside = true;\n",
    "}"
   ]
  },
  {
   "cell_type": "markdown",
   "metadata": {},
   "source": [
    "Exercise 9: Many different solutions are possible."
   ]
  },
  {
   "cell_type": "code",
   "execution_count": null,
   "metadata": {},
   "outputs": [],
   "source": [
    "// Exercise 9\n",
    "int a = 1;      // try several values of a, b, and c\n",
    "int b = 1;\n",
    "int c = 3;\n",
    "boolean isIso = true;\n",
    "if (a == b && a == c) {\n",
    "    // equilateral triangle\n",
    "    isIso = false; \n",
    "}\n",
    "else if (a != b && a != c && b != c) {\n",
    "    // no three sides equal\n",
    "    isIso = false;\n",
    "}"
   ]
  },
  {
   "cell_type": "markdown",
   "metadata": {},
   "source": [
    "Exercise 10: Many different solutions are possible."
   ]
  },
  {
   "cell_type": "code",
   "execution_count": null,
   "metadata": {},
   "outputs": [],
   "source": [
    "// Exercise 10\n",
    "String s = new String(\"abc\");\n",
    "String t = new String(\"xyz\");\n",
    "String u = new String(\"abc\");\n",
    "boolean isUnique;\n",
    "if (s.equals(t) || s.equals(u) || t.equals(u)) {\n",
    "    isUnique = false;\n",
    "}\n",
    "else {\n",
    "    isUnique = true;\n",
    "}"
   ]
  },
  {
   "cell_type": "markdown",
   "metadata": {},
   "source": [
    "Exercise 11: This is trickier than it first appears. If you write the conditions in the order that they appear in the table (as shown below) then your if statement will contain an error:\n",
    "\n",
    "```java\n",
    "double sys = 119.5;    // try several values of sys and dia\n",
    "double dia = 82.1;\n",
    "if (sys < 120 && dia < 80) {\n",
    "    System.out.println(\"normal\");\n",
    "}\n",
    "else if ((sys >= 120 && sys < 140) || (dia >= 80 && dia < 90)) {\n",
    "    System.out.println(\"prehypertension\");\n",
    "}\n",
    "else {\n",
    "    System.out.println(\"high blood pressure\");\n",
    "}\n",
    "```\n",
    "\n",
    "The problem is that if the diastolic pressure is 85 then the if statement will print `prehypertension` even if the systolic pressure is greater than 140. The following cell contains a correct solution."
   ]
  },
  {
   "cell_type": "code",
   "execution_count": null,
   "metadata": {},
   "outputs": [],
   "source": [
    "// Exercise 11\n",
    "double sys = 119.5;    // try several values of sys and dia\n",
    "double dia = 82.1;\n",
    "if (sys < 120 && dia < 80) {\n",
    "    System.out.println(\"normal\");\n",
    "}\n",
    "else if (sys >= 140 || dia >= 90) {\n",
    "    System.out.println(\"high blood pressure\");\n",
    "}\n",
    "else {\n",
    "    System.out.println(\"prehypertension\");\n",
    "}"
   ]
  },
  {
   "cell_type": "markdown",
   "metadata": {},
   "source": [
    "## Loops\n",
    "\n",
    "Exercise 1: `i = i + 1`, `i += 1`, `++i`\n",
    "\n",
    "Exercise 2: A while loop runs zero or more times.\n",
    "\n",
    "Exercise 3: A do-while loop runs one or more times.\n",
    "\n",
    "Exercise 4:"
   ]
  },
  {
   "cell_type": "code",
   "execution_count": null,
   "metadata": {},
   "outputs": [],
   "source": [
    "// Exercise 4\n",
    "System.out.print(1);\n",
    "for (int i = 2; i <= 100; i++) {\n",
    "    System.out.print(\", \");\n",
    "    String s = \"\" + i;\n",
    "    if (i % 15 == 0) {\n",
    "        s = \"Fizz Buzz\";\n",
    "    }\n",
    "    else if (i % 5 == 0) {\n",
    "        s = \"Buzz\";\n",
    "    }\n",
    "    else if (i % 3 == 0) {\n",
    "        s = \"Fizz\";\n",
    "    }\n",
    "    System.out.print(s);\n",
    "}"
   ]
  },
  {
   "cell_type": "markdown",
   "metadata": {},
   "source": [
    "Exercise 5: Note that the sum will overflow if you use an `int` to store the sum."
   ]
  },
  {
   "cell_type": "code",
   "execution_count": null,
   "metadata": {},
   "outputs": [],
   "source": [
    "%classpath add jar ../resources/jar/notes.jar\n",
    "\n",
    "// Exercise 6\n",
    "\n",
    "import java.util.Arrays;\n",
    "import ca.queensu.cs.cisc124.notes.util.Utils;\n",
    "\n",
    "int[] arr = Utils.randomIntArray(10, Integer.MIN_VALUE, Integer.MAX_VALUE);\n",
    "System.out.println(Arrays.toString(arr));\n",
    "\n",
    "double sum = 0;\n",
    "for (int val : arr) {\n",
    "    sum += val;\n",
    "}\n",
    "System.out.println(sum);"
   ]
  },
  {
   "cell_type": "markdown",
   "metadata": {},
   "source": [
    "Exercise 6: When computing a minimum or maximum value over a non-empty array or list, you can always initialize the minimum or maximum value to be equal to the first element."
   ]
  },
  {
   "cell_type": "code",
   "execution_count": null,
   "metadata": {},
   "outputs": [],
   "source": [
    "%classpath add jar ../resources/jar/notes.jar\n",
    "\n",
    "// Exercise 6\n",
    "\n",
    "import java.util.Arrays;\n",
    "import ca.queensu.cs.cisc124.notes.util.Utils;\n",
    "\n",
    "int[] arr = Utils.randomIntArray(10, Integer.MIN_VALUE, Integer.MAX_VALUE);\n",
    "System.out.println(Arrays.toString(arr));\n",
    "\n",
    "int min = arr[0];\n",
    "for (int i = 1; i < arr.length; i++) {\n",
    "    int val = arr[i];\n",
    "    if (val < min) {\n",
    "        min = val;\n",
    "    }\n",
    "}\n",
    "System.out.println(min);"
   ]
  },
  {
   "cell_type": "markdown",
   "metadata": {},
   "source": [
    "Exercise 7: Same solution as Exercise 6 except change `min` to `max` and change `<` to `>`."
   ]
  },
  {
   "cell_type": "markdown",
   "metadata": {},
   "source": [
    "Exercise 8:"
   ]
  },
  {
   "cell_type": "code",
   "execution_count": null,
   "metadata": {},
   "outputs": [],
   "source": [
    "// Exercise 8\n",
    "import java.util.Arrays;\n",
    "\n",
    "int[] cases = {271, 387, 344, 309, 367, 458, 326, 305, 362, 384};\n",
    "double[] movingAvg = new double[cases.length];\n",
    "for (int i = 2; i < cases.length - 2; i++) {\n",
    "    int sum = 0;\n",
    "    for (int j = -2; j <= 2; j++) {\n",
    "        sum += cases[i + j];\n",
    "    }\n",
    "    movingAvg[i] = sum / 5.0;\n",
    "}\n",
    "System.out.println(Arrays.toString(movingAvg));"
   ]
  },
  {
   "cell_type": "markdown",
   "metadata": {},
   "source": [
    "Exercise 9:"
   ]
  },
  {
   "cell_type": "code",
   "execution_count": null,
   "metadata": {},
   "outputs": [],
   "source": [
    "// Exercise 9\n",
    "int n = 27;    // try many different values of n after writing the loop\n",
    "System.out.print(n);\n",
    "int iter = 0;\n",
    "while (n != 1) {\n",
    "    if (n % 2 == 0) {\n",
    "        n = n / 2;\n",
    "    }\n",
    "    else {\n",
    "        n = 3 * n + 1;\n",
    "    }\n",
    "    System.out.print(\", \" + n);\n",
    "    iter++;\n",
    "}\n",
    "System.out.println();\n",
    "System.out.println(iter);"
   ]
  },
  {
   "cell_type": "markdown",
   "metadata": {},
   "source": [
    "Exercise 10:"
   ]
  },
  {
   "cell_type": "code",
   "execution_count": null,
   "metadata": {},
   "outputs": [],
   "source": [
    "%classpath add jar ../resources/jar/notes.jar\n",
    "\n",
    "// Exercise 10\n",
    "\n",
    "import java.util.Arrays;\n",
    "import ca.queensu.cs.cisc124.notes.util.Utils;\n",
    "\n",
    "int[] arr = Utils.randomIntArray(10, 0, 50);\n",
    "System.out.println(Arrays.toString(arr));\n",
    "\n",
    "// need to loop up to the middle element (not the end of the array!)\n",
    "int n = arr.length / 2;\n",
    "for (int i = 0; i < n; i++) {\n",
    "    // index to swap i with\n",
    "    // remember that the last element of the array has index (arr.length - 1)\n",
    "    int swap = (arr.length - 1) - i;\n",
    "    \n",
    "    int tmp = arr[i];\n",
    "    arr[i] = arr[swap];\n",
    "    arr[swap] = tmp;\n",
    "}\n",
    "System.out.println(Arrays.toString(arr));\n"
   ]
  },
  {
   "cell_type": "markdown",
   "metadata": {},
   "source": [
    "Exercise 11:"
   ]
  },
  {
   "cell_type": "code",
   "execution_count": null,
   "metadata": {},
   "outputs": [],
   "source": [
    "%classpath add jar ../resources/jar/notes.jar\n",
    "\n",
    "// Exercise 11\n",
    "\n",
    "import java.util.Arrays;\n",
    "import ca.queensu.cs.cisc124.notes.util.Utils;\n",
    "\n",
    "int[] arr = Utils.randomIntArray(20, 0, 5);\n",
    "System.out.println(Arrays.toString(arr));\n",
    "\n",
    "for (int val : arr) {\n",
    "    // count the number of times that val occurs in arr\n",
    "    int count = 0;\n",
    "    for (int val2 : arr) {\n",
    "        if (val == val2) {\n",
    "            count++;\n",
    "        }\n",
    "    }\n",
    "    System.out.println(val + \" occurs \" + count + \" times\");\n",
    "}"
   ]
  },
  {
   "cell_type": "markdown",
   "metadata": {},
   "source": [
    "Exercise 12:"
   ]
  },
  {
   "cell_type": "code",
   "execution_count": null,
   "metadata": {},
   "outputs": [],
   "source": [
    "%classpath add jar ../resources/jar/notes.jar\n",
    "\n",
    "// Exercise 12\n",
    "\n",
    "import java.util.Arrays;\n",
    "import ca.queensu.cs.cisc124.notes.util.Utils;\n",
    "\n",
    "int[] arr = Utils.randomIntArray(20, 0, 5);\n",
    "Arrays.sort(arr);\n",
    "System.out.println(Arrays.toString(arr));\n",
    "\n",
    "// next is the index of the start of the next run of possibly equal values\n",
    "int next = 0;\n",
    "while (next < arr.length) {\n",
    "    int val = arr[next];\n",
    "    // count the number of times that val occurs until it doesn't\n",
    "    int count = 0;\n",
    "    boolean lookingForVal = true;\n",
    "    do {\n",
    "        int val2 = arr[next];\n",
    "        if (val == val2) {\n",
    "            count++;\n",
    "            next++;\n",
    "        }\n",
    "        else {\n",
    "            lookingForVal = false;\n",
    "        }\n",
    "    } while (lookingForVal && next < arr.length);\n",
    "    System.out.println(val + \" occurs \" + count + \" times, next \" + next);\n",
    "}"
   ]
  },
  {
   "cell_type": "markdown",
   "metadata": {},
   "source": [
    "Exercise 13: The slightly tricky part of this question is keeping track of where you currently are in the decompressed array."
   ]
  },
  {
   "cell_type": "code",
   "execution_count": null,
   "metadata": {},
   "outputs": [],
   "source": [
    "// Exercise 13\n",
    "import java.util.Arrays;\n",
    "\n",
    "int[] comp = {4, 1000, 7, 1050, 21, 999, 2, -1};   // the run-length encoded array\n",
    "\n",
    "// length of decompressed array\n",
    "int decLength = 0;\n",
    "for (int i = 0; i < comp.length; i += 2) {\n",
    "    decLength += comp[i];\n",
    "}\n",
    "int[] decomp = new int[decLength];\n",
    "\n",
    "// decompress\n",
    "int decompIndex = 0;    // index of where we are in the decompressed array\n",
    "for (int i = 0; i < comp.length; i += 2) {\n",
    "    // length of run starting at i\n",
    "    int runLen = comp[i];\n",
    "    for (int j = 0; j < runLen; j++) {\n",
    "        decomp[decompIndex] = comp[i + 1];\n",
    "        decompIndex++;\n",
    "    }\n",
    "}\n",
    "System.out.println(Arrays.toString(comp));\n",
    "System.out.println(Arrays.toString(decomp));"
   ]
  },
  {
   "cell_type": "markdown",
   "metadata": {},
   "source": [
    "Exercise 14: The solution is similar to Exercise 12."
   ]
  },
  {
   "cell_type": "markdown",
   "metadata": {},
   "source": [
    "Exercise 15: In Java 11 or higher you can use the `String` method `repeat` to avoid the inner loop. The notebooks might be using Java 8 so we need the inner loop:"
   ]
  },
  {
   "cell_type": "code",
   "execution_count": null,
   "metadata": {},
   "outputs": [],
   "source": [
    "// Exercise 15\n",
    "\n",
    "/* Should output\n",
    "\n",
    "****\n",
    "****\n",
    "\n",
    "for r = 2, c = 4\n",
    "*/\n",
    "\n",
    "// change these values to check if your solution works in general\n",
    "int r = 2;\n",
    "int c = 4;\n",
    "\n",
    "for (int i = 0; i < r; i++) {\n",
    "    for (int j = 0; j < c; j++) {\n",
    "        System.out.print('*');\n",
    "    }\n",
    "    System.out.println();\n",
    "}"
   ]
  },
  {
   "cell_type": "markdown",
   "metadata": {},
   "source": [
    "Exercise 16:"
   ]
  },
  {
   "cell_type": "code",
   "execution_count": null,
   "metadata": {},
   "outputs": [],
   "source": [
    "// Exercise 16\n",
    "\n",
    "/* Should output\n",
    "\n",
    "*-*-\n",
    "-*-*\n",
    "\n",
    "for r = 2, c = 4\n",
    "*/\n",
    "\n",
    "// change these values to check if your solution works in general\n",
    "int r = 2;\n",
    "int c = 4;\n",
    "for (int i = 0; i < r; i++) {\n",
    "    for (int j = 0; j < c; j++) {\n",
    "        if ((i + j) % 2 == 0) {\n",
    "            System.out.print('*');\n",
    "        }\n",
    "        else {\n",
    "            System.out.print('-');\n",
    "        }\n",
    "    }\n",
    "    System.out.println();\n",
    "}"
   ]
  },
  {
   "cell_type": "markdown",
   "metadata": {},
   "source": [
    "## Lists\n",
    "\n",
    "Exercise 1: The iterator `iter` is usable after the while loop (because it was declared before the while loop). Generally, you should try to minimize the scope of variables; using a for loop restricts the scope of the iterator to the body of the for loop."
   ]
  },
  {
   "cell_type": "markdown",
   "metadata": {},
   "source": [
    "Exercise 2: The order matters for `equals`."
   ]
  },
  {
   "cell_type": "code",
   "execution_count": null,
   "metadata": {},
   "outputs": [],
   "source": [
    "// Exercise 2\n",
    "import java.util.List;\n",
    "import java.util.ArrayList;\n",
    "\n",
    "List<Integer> t = new ArrayList<>();\n",
    "t.add(1);\n",
    "t.add(2);\n",
    "\n",
    "List<Integer> u = new ArrayList<>();\n",
    "u.add(2);\n",
    "u.add(1);\n",
    "\n",
    "System.out.println(t.equals(u));"
   ]
  },
  {
   "cell_type": "markdown",
   "metadata": {},
   "source": [
    "Exercise 3:"
   ]
  },
  {
   "cell_type": "code",
   "execution_count": null,
   "metadata": {},
   "outputs": [],
   "source": [
    "// Exercise 3\n",
    "import java.util.List;\n",
    "import java.util.ArrayList;\n",
    "\n",
    "List<String> s = new ArrayList<>();\n",
    "s.add(\"first\");\n",
    "s.add(\"second\");\n",
    "\n",
    "List<String> t = new ArrayList<>();\n",
    "t.add(\"second\");\n",
    "t.add(\"first\");\n",
    "\n",
    "System.out.println(s.equals(t));\n",
    "\n",
    "s.sort(null);   // or Collections.sort(s);\n",
    "t.sort(null);   // or Collections.sort(t);\n",
    "System.out.println(s.equals(t));\n"
   ]
  },
  {
   "cell_type": "markdown",
   "metadata": {},
   "source": [
    "Exercise 4:"
   ]
  },
  {
   "cell_type": "code",
   "execution_count": null,
   "metadata": {},
   "outputs": [],
   "source": [
    "// Exercise 4\n",
    "import java.util.List;\n",
    "import java.util.ArrayList;\n",
    "\n",
    "List<Integer> t = new ArrayList<>();\n",
    "t.add(1);\n",
    "t.add(2);\n",
    "t.add(0);\n",
    "\n",
    "boolean isSorted = true;\n",
    "for (int i = 0; i < t.size() - 1; i++) {    // the - 1 is important here\n",
    "    int vi = t.get(i);\n",
    "    int vj = t.get(i + 1);\n",
    "    if (vi > vj) {\n",
    "        isSorted = false;\n",
    "        break;\n",
    "    }\n",
    "}\n",
    "System.out.println(\"sorted: \" + isSorted);"
   ]
  },
  {
   "cell_type": "markdown",
   "metadata": {},
   "source": [
    "Exercise 5:"
   ]
  },
  {
   "cell_type": "code",
   "execution_count": null,
   "metadata": {},
   "outputs": [],
   "source": [
    "// Exercise 5\n",
    "import java.util.List;\n",
    "import java.util.ArrayList;\n",
    "\n",
    "List<Integer> t = new ArrayList<>();\n",
    "t.add(1);\n",
    "t.add(2);\n",
    "t.add(1);\n",
    "\n",
    "boolean isUnique = true;\n",
    "for (int i = 0; i < t.size() - 1; i++) {    // the - 1 is important here\n",
    "    int vi = t.get(i);\n",
    "    // compare vi to all of the elements that follow it in the list\n",
    "    for (int j = i + 1; j < t.size(); j++) {\n",
    "        int vj = t.get(j);\n",
    "        if (vi == vj) {\n",
    "            isUnique = false;\n",
    "            break;\n",
    "        }\n",
    "    }\n",
    "}\n",
    "System.out.println(\"unique: \" + isUnique);"
   ]
  },
  {
   "cell_type": "markdown",
   "metadata": {},
   "source": [
    "Exercise 6:"
   ]
  },
  {
   "cell_type": "code",
   "execution_count": null,
   "metadata": {},
   "outputs": [],
   "source": [
    "%classpath add jar ../resources/jar/notes.jar\n",
    "\n",
    "import java.util.List;\n",
    "import java.util.ArrayList;\n",
    "import java.util.Collections;\n",
    "import ca.queensu.cs.cisc124.notes.util.Utils;\n",
    "\n",
    "List<Character> alpha = Utils.listOf('a', 'b', 'c', 'd', 'e',\n",
    "                                    'f', 'g', 'h', 'i', 'j',\n",
    "                                    'k', 'l', 'm', 'n', 'o',\n",
    "                                    'p', 'q', 'r', 's', 't',\n",
    "                                    'u', 'v', 'w', 'x', 'y',\n",
    "                                    'z');\n",
    "List<Character> cipher = new ArrayList<>(alpha);\n",
    "Collections.shuffle(cipher);\n",
    "System.out.println(alpha);\n",
    "System.out.println(cipher);\n",
    "\n",
    "String message = \"this is a terrible encryption method\";\n",
    "StringBuilder encrypt = new StringBuilder();\n",
    "for (int i = 0; i < message.length(); i++) {\n",
    "    char c = message.charAt(i);\n",
    "    if (Character.isSpace(c)) {\n",
    "        encrypt.append(' ');\n",
    "    }\n",
    "    else {\n",
    "        int index = alpha.indexOf(c);\n",
    "        encrypt.append(cipher.get(index));\n",
    "    }\n",
    "}\n",
    "System.out.println(message);\n",
    "System.out.println(encrypt);"
   ]
  },
  {
   "cell_type": "markdown",
   "metadata": {},
   "source": [
    "Exercise 7:"
   ]
  },
  {
   "cell_type": "code",
   "execution_count": null,
   "metadata": {},
   "outputs": [],
   "source": [
    "%classpath add jar ../resources/jar/notes.jar\n",
    "\n",
    "// Exercise 7\n",
    "import java.util.Collections;\n",
    "import java.util.List;\n",
    "import java.util.ArrayList;\n",
    "import ca.queensu.cs.cisc124.notes.util.Utils;\n",
    "\n",
    "List<Integer> orig = Utils.randomIntList(10, -50, 50);\n",
    "System.out.println(orig);\n",
    "\n",
    "List<Integer> sorted = new ArrayList<>();\n",
    "while (!orig.isEmpty()) {\n",
    "    Integer x = Collections.min(orig);    // Integer not int is important here because of remove\n",
    "    sorted.add(x);\n",
    "    orig.remove(x);   // if x is an int then remove will remove the element at index x\n",
    "}\n",
    "System.out.println(sorted);\n"
   ]
  },
  {
   "cell_type": "markdown",
   "metadata": {},
   "source": [
    "Exercise 8:"
   ]
  },
  {
   "cell_type": "code",
   "execution_count": null,
   "metadata": {},
   "outputs": [],
   "source": [
    "%classpath add jar ../resources/jar/notes.jar\n",
    "\n",
    "// Exercise 8\n",
    "import java.util.Collections;\n",
    "import java.util.List;\n",
    "import java.util.ArrayList;\n",
    "import ca.queensu.cs.cisc124.notes.util.Utils;\n",
    "\n",
    "List<Integer> orig = Utils.randomIntList(10, -50, 50);\n",
    "System.out.println(orig);\n",
    "\n",
    "for (int i = 0; i < orig.size() - 1; i++) {\n",
    "    List<Integer> sublist = orig.subList(i, orig.size());\n",
    "    Integer x = Collections.min(sublist);\n",
    "    // where is x located?\n",
    "    int xIndex = sublist.indexOf(x);\n",
    "    // swap\n",
    "    Integer tmp = sublist.get(0);\n",
    "    sublist.set(0, x);\n",
    "    sublist.set(xIndex, tmp);\n",
    "}\n",
    "System.out.println(orig);\n"
   ]
  },
  {
   "cell_type": "markdown",
   "metadata": {},
   "source": [
    "Exercise 9:"
   ]
  },
  {
   "cell_type": "code",
   "execution_count": null,
   "metadata": {},
   "outputs": [],
   "source": [
    "%classpath add jar ../resources/jar/notes.jar\n",
    "\n",
    "// Exercise 9\n",
    "import java.util.Iterator;\n",
    "\n",
    "import java.util.List;\n",
    "import java.util.ArrayList;\n",
    "import ca.queensu.cs.cisc124.notes.util.Utils;\n",
    "\n",
    "List<String> s = Utils.listOf(\"banana\", \"egg\", \"kimchi\",\n",
    "                                \"avocaodo\", \"phat kaphrao\", \"msg\",\n",
    "                                \"rice\", \"cilantro\", \"pea\");\n",
    "System.out.println(s);\n",
    "for (Iterator<String> i = s.iterator(); i.hasNext(); ) {\n",
    "    String elem = i.next();\n",
    "    if (elem.length() < 4) {\n",
    "        i.remove();\n",
    "    }\n",
    "}\n",
    "System.out.println(s);\n"
   ]
  },
  {
   "cell_type": "markdown",
   "metadata": {},
   "source": [
    "Exercise 10:"
   ]
  },
  {
   "cell_type": "code",
   "execution_count": null,
   "metadata": {},
   "outputs": [],
   "source": [
    "%classpath add jar ../resources/jar/notes.jar\n",
    "\n",
    "// Exercise 10\n",
    "import java.util.Iterator;\n",
    "\n",
    "import java.util.List;\n",
    "import java.util.ArrayList;\n",
    "import java.util.Collections;\n",
    "import ca.queensu.cs.cisc124.notes.util.Utils;\n",
    "\n",
    "List<Double> x = Utils.randomDoubleList(50, 125.0, 135.0);\n",
    "List<Double> y = Utils.randomDoubleList(5, 75.0, 185.0);\n",
    "x.addAll(y);\n",
    "Collections.shuffle(x);\n",
    "System.out.println(x);\n",
    "\n",
    "// compute the mean of x\n",
    "double mean = 0.0;\n",
    "for (Double val : x) {\n",
    "    mean += val.doubleValue() / x.size();   // or  mean += val / x.size();\n",
    "}\n",
    "\n",
    "// compute standard deviation of x\n",
    "double std = 0.0;\n",
    "for (Double val : x) {\n",
    "    std += Math.pow(val.doubleValue() - mean, 2);\n",
    "}\n",
    "std = Math.sqrt(std / (x.size() - 1));\n",
    "\n",
    "System.out.println();\n",
    "System.out.println(\"mean: \" + mean);\n",
    "System.out.println(\"standard deviation: \" + std);\n",
    "System.out.println();\n",
    "\n",
    "// remove all values greater than 3 * std away from mean\n",
    "for (Iterator<Double> i = x.iterator(); i.hasNext(); ) {\n",
    "    Double val = i.next();\n",
    "    if (Math.abs(val - mean) > 3 * std) {\n",
    "        i.remove();\n",
    "        System.out.println(\"removed \" + val);\n",
    "    }\n",
    "}\n",
    "System.out.println(x);"
   ]
  },
  {
   "cell_type": "markdown",
   "metadata": {},
   "source": [
    "## Sets"
   ]
  },
  {
   "cell_type": "markdown",
   "metadata": {},
   "source": [
    "Exercise 1: Any collection of unique items can be modelled as a set, e.g., days of the week, months of the year, planets of the solar system, credit card numbers.\n",
    "\n",
    "Exercise 2:\n",
    "\n",
    "- intersection of set 1 and set 2\n",
    "- union of set 1 and set 2\n",
    "- union of sets 1 through n\n",
    "- intersection of sets 1 through n\n",
    "- (union of sets 1 through n) - set 2 (the difference of the two sets)\n",
    "- set1 - (union of sets 2 through n) is the set of students who submitted only assignment 1; repeat for the sets 2 through n and then take the union\n",
    "\n",
    "Exercise 3: `t.addAll(copy)` changes `t` whereas a non-destructive union should change `copy`.\n",
    "\n",
    "Exercise 4:"
   ]
  },
  {
   "cell_type": "code",
   "execution_count": null,
   "metadata": {},
   "outputs": [],
   "source": [
    "%classpath add jar ../resources/jar/notes.jar\n",
    "\n",
    "// Exercise 4\n",
    "\n",
    "import java.util.List;\n",
    "import java.util.ArrayList;\n",
    "import java.util.Set;\n",
    "import java.util.HashSet;\n",
    "import ca.queensu.cs.cisc124.notes.util.Utils;\n",
    "\n",
    "List<Integer> t = Utils.randomIntList(15, -5, 5);\n",
    "System.out.println(t);\n",
    "\n",
    "Set<Integer> set = new HashSet<>(t);\n",
    "t.clear();\n",
    "t.addAll(set);\n",
    "System.out.println(t);\n"
   ]
  },
  {
   "cell_type": "markdown",
   "metadata": {},
   "source": [
    "Exercise 5:"
   ]
  },
  {
   "cell_type": "code",
   "execution_count": null,
   "metadata": {},
   "outputs": [],
   "source": [
    "%classpath add jar ../resources/jar/notes.jar\n",
    "\n",
    "// Exercise 4\n",
    "\n",
    "import java.util.List;\n",
    "import java.util.ArrayList;\n",
    "import java.util.Set;\n",
    "import java.util.TreeSet;\n",
    "import ca.queensu.cs.cisc124.notes.util.Utils;\n",
    "\n",
    "List<Integer> t = Utils.randomIntList(15, -5, 5);\n",
    "System.out.println(t);\n",
    "\n",
    "Set<Integer> set = new TreeSet<>(t);\n",
    "t.clear();\n",
    "t.addAll(set);\n",
    "System.out.println(t);"
   ]
  },
  {
   "cell_type": "markdown",
   "metadata": {},
   "source": [
    "Exercise 6: If after creating the set `set.size() == t.size()` is `true` then `t` has unique elements."
   ]
  },
  {
   "cell_type": "markdown",
   "metadata": {},
   "source": [
    "Exercise 7:"
   ]
  },
  {
   "cell_type": "code",
   "execution_count": null,
   "metadata": {},
   "outputs": [],
   "source": [
    "%classpath add jar ../resources/jar/notes.jar\n",
    "\n",
    "// Exercise 4\n",
    "\n",
    "import java.util.List;\n",
    "import java.util.ArrayList;\n",
    "import java.util.SortedSet;\n",
    "import java.util.TreeSet;\n",
    "import ca.queensu.cs.cisc124.notes.util.Utils;\n",
    "\n",
    "List<Integer> t = Utils.randomIntList(15, -5, 5);\n",
    "System.out.println(t);\n",
    "\n",
    "SortedSet<Integer> set = new TreeSet<>(t);\n",
    "t.clear();\n",
    "t.addAll(set.headSet(0));\n",
    "System.out.println(t);"
   ]
  },
  {
   "cell_type": "markdown",
   "metadata": {},
   "source": [
    "Exercise 8:"
   ]
  },
  {
   "cell_type": "code",
   "execution_count": null,
   "metadata": {},
   "outputs": [],
   "source": [
    "%classpath add jar ../resources/jar/notes.jar\n",
    "\n",
    "// Exercise 4\n",
    "\n",
    "import java.util.List;\n",
    "import java.util.ArrayList;\n",
    "import java.util.SortedSet;\n",
    "import java.util.TreeSet;\n",
    "import ca.queensu.cs.cisc124.notes.util.Utils;\n",
    "\n",
    "List<Integer> t = Utils.randomIntList(15, -5, 5);\n",
    "System.out.println(t);\n",
    "\n",
    "SortedSet<Integer> set = new TreeSet<>(t);\n",
    "t.clear();\n",
    "t.addAll(set.tailSet(0));  // or tailSet(1) if you want values greater than 0\n",
    "System.out.println(t);"
   ]
  },
  {
   "cell_type": "markdown",
   "metadata": {},
   "source": [
    "## Maps\n",
    "\n",
    "Exercise 1: The entries would be in alphabetic order of the month names: April, August, December, February, January, July, June, March, May, November, October, September.\n",
    "\n",
    "Exercise 2: `Map<Integer, String>`. The integer indexes are the keys.\n",
    "\n",
    "Exercise 3: `months.get(\"Movember\")` returns `null` because `\"Movember\"` is not a key in the map. `null` cannot be stored in an `int` variable so changing `Integer val` to `int val` causes a `NullPointerException`.\n",
    "\n",
    "Exercise 4: The code still runs correctly because the `&&` operator is a short-circuit operator; i.e., `!grades.get(\"CISC121\").equals(\"F\")` is not evaluated if the map does not contain `\"CISC121\"` as a key.\n",
    "\n",
    "Exercise 5:"
   ]
  },
  {
   "cell_type": "code",
   "execution_count": null,
   "metadata": {},
   "outputs": [],
   "source": [
    "import java.util.Collections;\n",
    "import java.util.Map;\n",
    "import java.util.TreeMap;\n",
    "import java.util.Scanner;\n",
    "\n",
    "Map<String, Integer> gamesWon = new TreeMap<>();\n",
    "\n",
    "Scanner s = new Scanner(System.in);\n",
    "System.out.println(\"Enter scores for each game (done to finish)\");\n",
    "do {\n",
    "    String in = s.next();\n",
    "    if (in.equals(\"done\")) {\n",
    "        break;\n",
    "    }\n",
    "    String team1 = in;\n",
    "    String team2 = s.next();\n",
    "    int score1 = s.nextInt();\n",
    "    int score2 = s.nextInt();\n",
    "    \n",
    "    if (!gamesWon.containsKey(team1)) {\n",
    "        gamesWon.put(team1, 0);\n",
    "    }\n",
    "    if (!gamesWon.containsKey(team2)) {\n",
    "        gamesWon.put(team2, 0);\n",
    "    }\n",
    "    if (score1 > score2) {\n",
    "        gamesWon.put(team1, gamesWon.get(team1) + 1);\n",
    "    }\n",
    "    else if (score2 > score1) {\n",
    "        gamesWon.put(team2, gamesWon.get(team2) + 1);\n",
    "    }\n",
    "    \n",
    "} while (true);\n",
    "\n",
    "// find largest value\n",
    "int max = Collections.max(gamesWon.values());\n",
    "\n",
    "// print entries\n",
    "for (Map.Entry<String, Integer> entry : gamesWon.entrySet()) {\n",
    "    System.out.print(entry.getKey() + \" \" + entry.getValue());\n",
    "    if (entry.getValue() == max) {\n",
    "        System.out.print('*');\n",
    "    }\n",
    "    System.out.println();\n",
    "}"
   ]
  }
 ],
 "metadata": {
  "kernelspec": {
   "display_name": "Java",
   "language": "java",
   "name": "java"
  },
  "language_info": {
   "codemirror_mode": "text/x-java",
   "file_extension": ".java",
   "mimetype": "",
   "name": "Java",
   "nbconverter_exporter": "",
   "version": "1.8.0_121"
  },
  "toc": {
   "base_numbering": 1,
   "nav_menu": {},
   "number_sections": false,
   "sideBar": false,
   "skip_h1_title": false,
   "title_cell": "Table of Contents",
   "title_sidebar": "Contents",
   "toc_cell": false,
   "toc_position": {},
   "toc_section_display": false,
   "toc_window_display": false
  }
 },
 "nbformat": 4,
 "nbformat_minor": 4
}
