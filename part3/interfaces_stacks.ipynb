{
 "cells": [
  {
   "cell_type": "code",
   "execution_count": null,
   "metadata": {},
   "outputs": [],
   "source": [
    "// run this cell to prevent Jupyter from displaying the null output cell\n",
    "com.twosigma.beakerx.kernel.Kernel.showNullExecutionResult = false;"
   ]
  },
  {
   "cell_type": "markdown",
   "metadata": {},
   "source": [
    "# Interfaces: Stacks\n",
    "\n",
    "The `Stack` class was described in the [Anatomy of a simple class](../part2/anatomy_of_a_simple_class.ipynb#notebook_id) notebook. The `Stack` class implemented in that notebook was a data structure representing a stack of strings. The implementation of the class is shown below:"
   ]
  },
  {
   "cell_type": "code",
   "execution_count": null,
   "metadata": {},
   "outputs": [],
   "source": [
    "import java.util.ArrayList;\n",
    "\n",
    "public class Stack {\n",
    "\n",
    "    private ArrayList<String> stack;\n",
    "    \n",
    "    public Stack() {\n",
    "        this.stack = new ArrayList<>();\n",
    "    }\n",
    "\n",
    "    public int size() {\n",
    "        return this.stack.size();\n",
    "    }\n",
    "\n",
    "    public void push(String elem) {\n",
    "        this.stack.add(elem);\n",
    "    }\n",
    "\n",
    "    public String pop() {\n",
    "        String elem = this.stack.remove(this.size() - 1);\n",
    "        return elem;\n",
    "    }\n",
    "\n",
    "    @Override\n",
    "    public String toString() {\n",
    "        StringBuilder b = new StringBuilder(\"Stack:\");\n",
    "        if (this.size() != 0) {\n",
    "            for (int i = this.size() - 1; i >= 0; i--) {\n",
    "                b.append('\\n');\n",
    "                b.append(this.stack.get(i));\n",
    "            }\n",
    "        }\n",
    "        return b.toString();\n",
    "    }\n",
    "}"
   ]
  },
  {
   "cell_type": "markdown",
   "metadata": {},
   "source": [
    "The `List`-based implementation of `Stack` uses an `ArrayList` to store the elements of the stack where the end of the list corresponds to the top of the stack. The computational complexity of\n",
    "`pop` is in $O(1)$ and the computational complexity of `push` is usually in $O(1)$ (but is in $O(n)$ when the array capacity of the list is exceeded)."
   ]
  },
  {
   "cell_type": "markdown",
   "metadata": {},
   "source": [
    "**Exercise 1** What is complexity of `push` and `pop` if the front of the list corresponds to the top of the stack?"
   ]
  },
  {
   "cell_type": "markdown",
   "metadata": {},
   "source": [
    "There are at least two main alternative implementations of a `Stack`:\n",
    "\n",
    "* an array-based implementation\n",
    "    * the implementer must manage the resizing of the array manually\n",
    "        * this is a useful exercise for learning the mechanics of array management, but there are no significant performance differences compared to the `List`-based implementation in most applications\n",
    "* a linked node based implementation\n",
    "    * the worst-case computational complexity of `pop` and `push` are in $O(1)$ but the typical call to `pop` or `push` will be slower than the `List`-based implementation\n",
    "    * such an implementation is actually an implementation of a singly linked list\n",
    "    \n",
    "The three different stack implementations are all very different, but they share the same method contracts. By creating a Java interface and having each of the different implementations\n",
    "implement the interface, we gain the ability to use the different types of stacks interchangably.\n",
    "\n",
    "<div class=\"alert alert-block alert-warning\">\n",
    "    The concept of a stack is an example of an <i>abstract data type</i>. An abstract data type is a mathematical model of a data type. An abstract data\n",
    "    type defines the values that the type can have, the operations that can be done with the type, and the results of performing an operation. An abstract\n",
    "    data type is a theoretical construct; it is independent of any programming language and it <i>does not define the implementation details of the data type</i>.\n",
    "    Indeed, there may be more than one way to implement the data type in any given programming language, and the different implementations may have\n",
    "    different strengths and weaknesses.<br /><br />\n",
    "    A Java interface can be used as a Java specification of an abstract data type. A class that implements the interface is said to be a <i>concrete\n",
    "    data structure</i> or simply a <i>data structure</i>. \n",
    "</div>"
   ]
  },
  {
   "cell_type": "markdown",
   "metadata": {},
   "source": [
    "## A `Stack` interface\n",
    "\n",
    "Creating an interface is similar to creating a class with some key differences:\n",
    "\n",
    "* use the keyword `interface` instead of `class` when declaring the interface\n",
    "* there are no instance fields (no non-`static` fields)\n",
    "    * only `public static final` fields are allowed\n",
    "        * if is a compile-time error if the access modifier `private` or `protected` is used in a field declaration\n",
    "        * if the `static` or `final` modifier is missing from a field declaration then the compiler adds the missing modifiers\n",
    "* the methods of an interface are all `public`\n",
    "    * if the access modifier is missing then `public` access is assumed\n",
    "        * it is a compile-time error to specify a non-`public` access modifier\n",
    "* most methods have no body\n",
    "    * the method header ends with a semi-colon\n",
    "* `default` methods do have a body\n",
    "    * `default` methods can use other methods defined in the interface (and other classes and interfaces)\n",
    "    \n",
    "A `Stack` interface is shown in the following cell:"
   ]
  },
  {
   "cell_type": "code",
   "execution_count": null,
   "metadata": {},
   "outputs": [],
   "source": [
    "/**\n",
    " * The {@code Stack} interface represents a last-in-first-out (LIFO) stack of\n",
    " * strings. In addition to the usual push and pop methods, this interface\n",
    " * allows the user to get the number of strings in a stack and to query\n",
    " * if the stack is empty.\n",
    " */\n",
    "public interface Stack {\n",
    "\n",
    "    /**\n",
    "     * Returns the number of elements in this stack.\n",
    "     * \n",
    "     * @return the number of elements in this stack\n",
    "     */\n",
    "    public int size();\n",
    "\n",
    "    /**\n",
    "     * Returns {@code true} if this stack contains no elements. The default\n",
    "     * implementation simply returns {@code size() == 0}.\n",
    "     * \n",
    "     * @return true if this stack contains no elements\n",
    "     */\n",
    "    default public boolean isEmpty() {\n",
    "        return this.size() == 0;\n",
    "    }\n",
    "\n",
    "    /**\n",
    "     * Pushes the specified element on to the top of this stack.\n",
    "     * \n",
    "     * @param elem the element to be pushed on to the top of this stack\n",
    "     */\n",
    "    public void push(String elem);\n",
    "\n",
    "    /**\n",
    "     * Removes the element on the top of this stack and returns the element.\n",
    "     * \n",
    "     * @return the top element of this stack\n",
    "     * @throws RuntimeException if the stack is empty\n",
    "     */\n",
    "    public String pop();\n",
    "}"
   ]
  },
  {
   "cell_type": "markdown",
   "metadata": {},
   "source": [
    "Notice that interface has the `default` method `isEmpty` that returns `true` if the stack has zero elements. The `isEmpty` method is a *convenience method*: It is non-essential because\n",
    "the caller can test the return value from the `size` method to achieve the same result, but it is much more convenient for the caller to use. Because `isEmpty` can be implemented\n",
    "in terms of the other methods in the interface, we can provide the implementation in the interface but we must declare the method to be a `default` method if the implementation\n",
    "is provided inside the interface.\n",
    "\n",
    "Also notice that the contract of the `pop` method has been updated so that `pop` throws an exception if an empty stack is popped."
   ]
  },
  {
   "cell_type": "markdown",
   "metadata": {},
   "source": [
    "## Implementing an interface\n",
    "\n",
    "Creating `Stack` objects requires a class that implements the `Stack` interface. We rename our previous class to `ListStack` to reflect the fact that it implements a `List`-based stack\n",
    "and we add `implements Stack` to its class declaration:"
   ]
  },
  {
   "cell_type": "code",
   "execution_count": null,
   "metadata": {},
   "outputs": [],
   "source": [
    "import java.util.ArrayList;\n",
    "\n",
    "public class ListStack implements Stack {      // 1, 2\n",
    "\n",
    "    private ArrayList<String> stack;\n",
    "    \n",
    "    public ListStack() {                       // 3\n",
    "        this.stack = new ArrayList<>();\n",
    "    }\n",
    "\n",
    "    @Override                                  // 4\n",
    "    public int size() {\n",
    "        return this.stack.size();\n",
    "    }\n",
    "\n",
    "    @Override                                  // 5\n",
    "    public void push(String elem) {\n",
    "        this.stack.add(elem);\n",
    "    }\n",
    "\n",
    "    @Override                                  // 6\n",
    "    public String pop() {\n",
    "        if (this.isEmpty()) {                  // added to satisfy the updated contract of pop\n",
    "            throw new RuntimeException(\"popped an empty stack\");\n",
    "        }\n",
    "        String elem = this.stack.remove(this.size() - 1);\n",
    "        return elem;\n",
    "    }\n",
    "\n",
    "    @Override\n",
    "    public String toString() {\n",
    "        StringBuilder b = new StringBuilder(\"Stack:\");\n",
    "        if (this.size() != 0) {\n",
    "            for (int i = this.size() - 1; i >= 0; i--) {\n",
    "                b.append('\\n');\n",
    "                b.append(this.stack.get(i));\n",
    "            }\n",
    "        }\n",
    "        return b.toString();\n",
    "    }\n",
    "}"
   ]
  },
  {
   "cell_type": "markdown",
   "metadata": {},
   "source": [
    "Converting our previous `Stack` class into a class that implements our `Stack` interface requires six minor changes (marked with comments above):\n",
    "\n",
    "1. the class is renamed to `ListStack` because we cannot have two different types with the same name in the same package\n",
    "    * i.e., we cannot write `public class Stack implements Stack`\n",
    "2. we add `implements Stack` after the class name to indicate that the class implements the `Stack` interface\n",
    "3. we change the constructor name to `ListStack` so that it matches the new name of the class\n",
    "4. we add the *annotation tag* `@Override` before the `size` method\n",
    "5. we add the annotation tag `@Override` before the `push` method\n",
    "6. we add the annotation tag `@Override` before the `pop` method\n",
    "\n",
    "Changes 4-6 are optional but strongly recommended: A class that implements an interface should annotate the interface methods with an `@Override` tag.\n",
    "\n",
    "We've seen the `@Override` tag in Part 2 of the notes when we studied overriding the `toString`, `equals`, and `hashCode` methods. The `@Override` tag forces the compiler to check if the\n",
    "programmer has used the correct method modifiers, return type, and method signature when overriding a method. When implementing an interface, the `@Override` tag forces the compiler to check if the\n",
    "programmer has used the same method modifiers, return type, and method signature that were used in the interface."
   ]
  },
  {
   "cell_type": "markdown",
   "metadata": {},
   "source": [
    "<div class=\"alert alert-block alert-warning\">\n",
    "    <b>Why is the method <tt>isEmpty</tt> not in <tt>ListStack</tt>?</b><br />\n",
    "    <tt>ListStack</tt> does not need to implement the <tt>isEmpty</tt> method because the <tt>isEmpty</tt> is a default method that already has an implementation \n",
    "    in the <tt>Stack</tt> interface. We say that the <tt>ListStack</tt> class <i>inherits</i> the implementation of\n",
    "    <tt>isEmpty</tt> from the interface.\n",
    "</div>"
   ]
  },
  {
   "cell_type": "markdown",
   "metadata": {},
   "source": [
    "**Exercise 2** Does the `Stack` interface still compile if you remove the `public` access modifier from the `Stack` interface declaration?\n",
    "\n",
    "**Exercise 3** Does the `Stack` interface still compile if you remove the `public` access modifier from the methods declared/defined in the `Stack` interface?\n",
    "\n",
    "**Exercise 4** Can you change the `public` access modifier to some other access modifier for the `Stack` methods implemented in the `ListStack` class?\n",
    "\n",
    "**Exercise 5** Can you implement a version of `toString` as a `default` method in the `Stack` interface. Try to do so. Your method should include a\n",
    "string representation of all of the elements in the stack *and* it should not permanently alter the state of the stack."
   ]
  },
  {
   "cell_type": "code",
   "execution_count": null,
   "metadata": {},
   "outputs": [],
   "source": []
  }
 ],
 "metadata": {
  "kernelspec": {
   "display_name": "Java",
   "language": "java",
   "name": "java"
  },
  "language_info": {
   "codemirror_mode": "text/x-java",
   "file_extension": ".java",
   "mimetype": "",
   "name": "Java",
   "nbconverter_exporter": "",
   "version": "1.8.0_121"
  },
  "toc": {
   "base_numbering": 1,
   "nav_menu": {},
   "number_sections": false,
   "sideBar": false,
   "skip_h1_title": false,
   "title_cell": "Table of Contents",
   "title_sidebar": "Contents",
   "toc_cell": false,
   "toc_position": {},
   "toc_section_display": false,
   "toc_window_display": false
  }
 },
 "nbformat": 4,
 "nbformat_minor": 4
}
