{
 "cells": [
  {
   "cell_type": "code",
   "execution_count": null,
   "metadata": {},
   "outputs": [],
   "source": [
    "// run this cell to prevent Jupyter from displaying the null output cell\n",
    "com.twosigma.beakerx.kernel.Kernel.showNullExecutionResult = false;"
   ]
  },
  {
   "cell_type": "markdown",
   "metadata": {},
   "source": [
    "# Creating an interface\n",
    "\n",
    "> There are a number of situations in software engineering when it is important for disparate groups of programmers to agree to a \"contract\" that\n",
    "> spells out how their software interacts. Each group should be able to write their code without any knowledge of how the other group's code is\n",
    "> written. Generally speaking, interfaces are such contracts.\n",
    "> \n",
    "> For example, imagine a futuristic society where computer-controlled robotic cars transport passengers through city streets without a human operator.\n",
    "> Automobile manufacturers write software (Java, of course) that operates the automobile—stop, start, accelerate, turn left, and so forth. Another\n",
    "> industrial group, electronic guidance instrument manufacturers, make computer systems that receive GPS (Global Positioning System) position data and\n",
    "> wireless transmission of traffic conditions and use that information to drive the car.\n",
    "> \n",
    "> The auto manufacturers must publish an industry-standard interface that spells out in detail what methods can be invoked to make the car move (any\n",
    "> car, from any manufacturer). The guidance manufacturers can then write software that invokes the methods described in the interface to command the\n",
    "> car. Neither industrial group needs to know how the other group's software is implemented. In fact, each group considers its software highly\n",
    "> proprietary and reserves the right to modify it at any time, as long as it continues to adhere to the published interface.\n",
    "> \n",
    "> [The Java Tutorials: Interfaces](https://docs.oracle.com/javase/tutorial/java/IandI/createinterface.html)\n",
    "\n",
    "The quote above alludes to the fact that interfaces are one mechanism in Java for managing complexity. Distributing an interface\n",
    "allows any other programmer in the world to create a class that is compatible with the interface. Similarly, a program that uses\n",
    "interfaces for its types can potentially use any class that implements the required interfaces.\n",
    "\n",
    "As we have already seen, classes that implement data structures often implement one or more interfaces. For example, Java's `List`,\n",
    "`Set`, and `Map` interfaces describe the behaviour of the different kinds of lists, sets, and maps found in the Standard Library.\n",
    "A programmer can create a different kind of list that implements the `List` interface and share their work with the rest\n",
    "of the world; any other programmer familiar with the `List` interface can immediately use the class.\n",
    "\n",
    "\n",
    "\n",
    "\n",
    "## Declaring an interface\n",
    "\n",
    "Declaring an interface is very similar to declaring a class. A top-level interface is an interface that is not defined inside another class or interface.\n",
    "A top-level interface declaration looks like:\n",
    "\n",
    "```java\n",
    "modifiers interface InterfaceName {\n",
    "    // inside the braces is called the interface body\n",
    "    \n",
    "}\n",
    "```\n",
    "\n",
    "where *modifiers* are optional interface modifiers described below, `interface` is a keyword indicating the interface declaration, and `InterfaceName` is the name of the interface.\n",
    "\n",
    "In Java, an interface name must begin with what is referred to as a *Java letter*. A Java letter includes the characters A-Z, a-z, and for historical reasons the dollar sign `$` and the underscore character `_`; Java letters also include Unicode characters corresponding to letters in other languages.\n",
    "\n",
    "By convention, interface names are written using [upper camel case](https://en.wikipedia.org/wiki/Camel_case): The first letter of the interface name is capitalized, the remaining letters of the name are in lowercase except for multi-word class names where each word also begins with a capital letter. For example, the interface name `SortedSet` is used instead of `sortedset`, `Sorted_Set`, `sortedSet` or any other variation.\n",
    "\n",
    "The remaining characters in a class name can be made up of any number of Java letters or any *Java digits*. A Java digit includes the digits 0-9 and Unicode characters corresponding to digits in other languages."
   ]
  },
  {
   "cell_type": "markdown",
   "metadata": {},
   "source": [
    "## Interface modifiers\n",
    "\n",
    "In a top-level interface, the legal interface modifiers are:\n",
    "\n",
    "- `public`\n",
    "- `abstract`\n",
    "- `strictfp` (we will not use this modifier in any other notebooks)\n",
    "\n",
    "For the time being, the only modifier that is relevant to our purposes is the modifier `public`.\n",
    "\n",
    "A `public` interface is visible to all other classes and interfaces. The modifier is optional; all top-level interfaces have public access.\n",
    "\n",
    "The `abstract` modifier is considered obsolete and should no longer be used. All interfaces are considered abstract.\n",
    "\n",
    "The modifier `strictfp` is used to indicate that the methods of the interface are *FP-strict* which forces all floating-point calculations performed inside the class to adhere to the IEEE754 floating-point standards; this guarantees that floating-point calculations will always yield the same result regardless of the computing platform. On modern computing hardware likely to run Java this no longer seems to be an issue; see [this Java Enhancement Proposal](http://openjdk.java.net/jeps/306) for some discussion."
   ]
  },
  {
   "cell_type": "markdown",
   "metadata": {},
   "source": [
    "## Interface fields\n",
    "\n",
    "An interface describes the behaviour *but not the structure* of an implementing class; thus, an interface is not allowed to declare instance fields.\n",
    "\n",
    "An interface is allowed to define constants using `public static final` fields because such fields are considered to be part of the public facing programming interface of a class."
   ]
  },
  {
   "cell_type": "markdown",
   "metadata": {},
   "source": [
    "## Interface methods\n",
    "\n",
    "An interface describes the public facing programming interface for an implementing class. By default, all methods in an interface have `public` access and it is a compile-time error if an interface method has `protected` or `private` access. If a method has no access modifier then the method has `public` access (not package private access!).\n",
    "\n",
    "Most methods in an interface have no implementation and are said to be *abstract methods*. Such method declarations in an interface end with a semi-colon `;`.\n",
    "\n",
    "Java 8 added two other types of methods to appear in interfaces: static methods and default methods.\n",
    "\n",
    "### Static methods\n",
    "\n",
    "Java 8 was the first Java version to allow static methods in an interface. Interface static methods are identical to class static methods except that all methods in an interface have public access. Static interface methods are implemented within the interface (thus they have method bodies).\n",
    "\n",
    "Allowing static methods in interfaces reduces the need for utility classes. For example, all of the methods that operate on lists in the `Collections` utility class can be replaced by static methods in the `List` interface.\n",
    "\n",
    "### Default methods\n",
    "\n",
    "One problem with previous versions of Java interfaces is that once an interface was released for widespread use it became extremely difficult to add new methods to the interface.\n",
    "\n",
    "**Exercise 1** Why is it difficult to make changes to a widely used interface? (answer follows below).\n",
    "\n",
    "Java 8 was the first Java version to allow methods to provide an implementation in an interface through the use of *default* methods. A default method is an interface method that has an implementation. Default methods were added to the Java language because it was realized that many existing interfaces needed new methods to support new features that were to be added to the Java language. If the existing interfaces were updated without default methods then every class that implemented an interface would need to be updated as well; this includes classes created by every Java programmer in world and not just the standard library classes.\n",
    "\n",
    "Because default methods have an implementation, they can be added to existing interfaces without needing to update every class that implements the updated interface.\n",
    "\n",
    "You specify that a method definition in an interface is a default method with the `default` keyword at the beginning of the method signature."
   ]
  },
  {
   "cell_type": "markdown",
   "metadata": {},
   "source": [
    "## An interface for mathematical functions of the form $y = f(x)$\n",
    "\n",
    "Consider a very simple interface for real-valued mathematical functions of one variable (i.e., an interface for real-valued mathematical functions of\n",
    "the form $y = f(x)$). A user of the interface should be able to evaluate the function at a specified value of $x$ (i.e., they should be able to compute $y\n",
    "= f(x)$). A user should also be able to evaulate the function at a specified list (or array) of values. A possible interface is shown below:"
   ]
  },
  {
   "cell_type": "code",
   "execution_count": null,
   "metadata": {},
   "outputs": [],
   "source": [
    "import java.util.List;\n",
    "import java.util.ArrayList;\n",
    "\n",
    "/**\n",
    " * An interface for real-valued, 1-dimensional functions of the form y = f(x).\n",
    " *\n",
    " */\n",
    "public interface Function1 {\n",
    "    \n",
    "    /**\n",
    "     * Evaluate the function at the specified argument returning y = f(x) if the function\n",
    "     * exists at {@code x}. Returns {@code Double.NaN} if the function does not exist at {@code x}.\n",
    "     * \n",
    "     * @param x the argument to the function\n",
    "     * @return the function evaluated at x\n",
    "     */\n",
    "    public double eval(double x);\n",
    "    \n",
    "    \n",
    "    /**\n",
    "     * Evaluate the function at each of the arguments contained in the specified\n",
    "     * list returning a list containing the evaluated function values.\n",
    "     * {@code Double.NaN} is used for each argument value where the function does not exist.\n",
    "     * \n",
    "     * @param x a list of arguments to the function\n",
    "     * @return a list of values of the function evaluated at each element of x\n",
    "     */\n",
    "    public default List<Double> eval(List<Double> x) {\n",
    "        List<Double> y = new ArrayList<>();\n",
    "        for (double xi : x) {\n",
    "            y.add(this.eval(xi));\n",
    "        }\n",
    "        return y;\n",
    "    }\n",
    "}"
   ]
  },
  {
   "cell_type": "markdown",
   "metadata": {},
   "source": [
    "Notice that the first `eval` method is an abstract method. It has no implementation in the interface because the implementation depends\n",
    "on the particular mathematical function that we want to evaluate; for example, the code needed to evaluate the function $f(x) = \\sqrt{x}$ is very\n",
    "different than the code needed to evaluate the function $f(x) = 3x - 5$. We need to create a separate class for each mathematical function that\n",
    "we are interested in, and we place the code that computes the value of the function inside an overridden `eval` method.\n",
    "\n",
    "Notice that the second `eval` method is a default method. We can include the implementation of the method inside the interface\n",
    "because it is possible to write the method *using only methods found in the interface*. This might seem unusual at first glance:\n",
    "We cannot write the code needed to evaluate $f(x)$ for one value of $x$, but we can write the code needed to evaluate $f(x)$ for many values of \n",
    "$x$ (found in a list). Of course, this is not actually unusual because the reason we can write the second version of `eval` is that\n",
    "every class that implements the `Function1` interface must implement the first version of `eval`.\n",
    "\n",
    "Next, we will implement three classes for three different functions:\n",
    "\n",
    "| function   | class             | note |\n",
    "| :---       | :---              | :--- \n",
    "| $x^2$      | `Square`          |  |\n",
    "| $x^2$ when $-1 < x < 1$, undefined otherwise     | `TruncatedSquare` | |\n",
    "| $mx + k$   | `Linear`          | line with slope $m$ and y-intercept $k$ |\n",
    "\n",
    "Each class provides its own implementation of the `eval(double x)` method. Furthermore, each class overrides `toString` returning a string\n",
    "that provides information about the function.\n",
    "\n",
    "The `Square` class is trivial to implement:"
   ]
  },
  {
   "cell_type": "code",
   "execution_count": null,
   "metadata": {},
   "outputs": [],
   "source": [
    "/**\n",
    " * The function y = x * x.\n",
    " */\n",
    "public class Square implements Function1 {\n",
    "\n",
    "    @Override\n",
    "    public double eval(double x) {\n",
    "        return x * x;\n",
    "    }\n",
    "\n",
    "    @Override\n",
    "    public String toString() {\n",
    "        return \"square\";\n",
    "    }\n",
    "}"
   ]
  },
  {
   "cell_type": "markdown",
   "metadata": {},
   "source": [
    "The `TruncatedSquare` class is also easy to implement. The only minor complication that we need to address is that the function is defined\n",
    "only on the domain $-1 < x < 1$. The `Function1` interface contract says that `eval` needs to return `Double.NaN`\n",
    "for values of $x$ where $f(x)$ does not exist so we need to ensure that this occurs:"
   ]
  },
  {
   "cell_type": "code",
   "execution_count": null,
   "metadata": {},
   "outputs": [],
   "source": [
    "/**\n",
    " * The function y = x * x truncated to the domain {@code -1 < x < 1}.\n",
    " */\n",
    "public class TruncatedSquare implements Function1 {\n",
    "\n",
    "    @Override\n",
    "    public double eval(double x) {\n",
    "        double y = Double.NaN;\n",
    "        if (Math.abs(x) < 1) {\n",
    "            y = x * x;\n",
    "        }\n",
    "        return y;\n",
    "    }\n",
    "\n",
    "    @Override\n",
    "    public String toString() {\n",
    "        return \"truncated square\";\n",
    "    }\n",
    "}"
   ]
  },
  {
   "cell_type": "markdown",
   "metadata": {},
   "source": [
    "The `Linear` class differs from the previous two classes in that it requires fields to store the slope and y-intercept of the line. Also, the class adds its own methods\n",
    "not declared in the `Function1` interface that return the slope and intercept of the line."
   ]
  },
  {
   "cell_type": "code",
   "execution_count": null,
   "metadata": {},
   "outputs": [],
   "source": [
    "/**\n",
    " * Linear functions of the form y = m * x + k where m is the slope and\n",
    " * k is y-intercept.\n",
    " */\n",
    "public class Linear implements Function1 {\n",
    "\n",
    "    private double m;\n",
    "    private double k;\n",
    "    \n",
    "    public Linear(double slope, double intercept) {\n",
    "        this.m = slope;\n",
    "        this.k = intercept;\n",
    "    }\n",
    "    \n",
    "    @Override\n",
    "    public double eval(double x) {\n",
    "        return m * x + k;\n",
    "    }\n",
    "    \n",
    "    public double slope() {\n",
    "        return this.m;\n",
    "    }\n",
    "    \n",
    "    public double intercept() {\n",
    "        return this.k;\n",
    "    }\n",
    "\n",
    "    @Override\n",
    "    public String toString() {\n",
    "        return String.format(\"linear: slope = %f, intercept = %f\", this.m, this.k);\n",
    "    }\n",
    "}"
   ]
  },
  {
   "cell_type": "markdown",
   "metadata": {},
   "source": [
    "A small test class is shown in the next cell:"
   ]
  },
  {
   "cell_type": "code",
   "execution_count": null,
   "metadata": {},
   "outputs": [],
   "source": [
    "public class Function1Test {\n",
    "\n",
    "    public static void evalAll(Function1[] arr, double x) {\n",
    "        for (Function1 f : arr) {\n",
    "            double y = f.eval(x);\n",
    "            String s = String.format(\"%s: f(%f) = %f\", f.toString(), x, y);\n",
    "            System.out.println(s);\n",
    "        }\n",
    "    }\n",
    "    \n",
    "    public static void main(String[] args) {\n",
    "        Function1[] funcs = new Function1[3];\n",
    "        funcs[0] = new Square();\n",
    "        funcs[1] = new TruncatedSquare();\n",
    "        funcs[2] = new Linear(0.5, -0.33);\n",
    "        \n",
    "        evalAll(funcs, 0.5);\n",
    "        System.out.println();\n",
    "\n",
    "        evalAll(funcs, -3.0);\n",
    "    }\n",
    "\n",
    "}"
   ]
  },
  {
   "cell_type": "markdown",
   "metadata": {},
   "source": [
    "Run the following cell to run the `main` method of the test class:"
   ]
  },
  {
   "cell_type": "code",
   "execution_count": null,
   "metadata": {},
   "outputs": [],
   "source": [
    "Function1Test.main(null);"
   ]
  },
  {
   "cell_type": "markdown",
   "metadata": {},
   "source": [
    "**Exercise 2** Observe that `Square` and `TruncatedSquare` have no fields. Is there any point to having one more than one of each of the these objects in a program\n",
    "(i.e., should we force the user to write `new Square()` every time that they want to use a square function?\n",
    "\n",
    "**Exercise 3** You will need to complete this exercise using a Java IDE because of the limitations of the beakerX kernel.\n",
    "\n",
    "Java enumerations enforce the constraint that there is exactly one object for each enumeration constant. Enumerations are also allowed to implement\n",
    "interfaces. Create an enumeration called `Square` that implements the `Function1` interface. The enumeration should have exactly one constant called `INSTANCE`.\n",
    "Show that the enumeration can be used in place of the `Square` class.\n",
    "\n",
    "This is an example of the *enum singleton pattern*. A [singleton](https://en.wikipedia.org/wiki/Singleton_pattern) is a class that allows at most one\n",
    "instance of the class to be created.\n",
    "\n",
    "**Exercise 4** Provide a few examples of classes where more than object needs to be created by users of the `Function1` interface.\n",
    "\n",
    "**Exercise 5** Implement a class called `Polynomial` that implements the `Function1` interface. Your class should allow the caller to create\n",
    "polynomials of any degree."
   ]
  },
  {
   "cell_type": "code",
   "execution_count": null,
   "metadata": {},
   "outputs": [],
   "source": [
    "// Exercise 4\n",
    "%classpath add jar ../resources/jar/notes.jar\n",
    "\n",
    "import ca.queensu.cs.cisc124.notes.interfaces.Function1;\n",
    "\n"
   ]
  },
  {
   "cell_type": "markdown",
   "metadata": {},
   "source": [
    "**Exercise 6** You will need to complete this exercise using a Java IDE because of the limitations of the beakerX kernel.\n",
    "\n",
    "In some visual applications, it is common to have objects that can be visible or hidden. Create an interface called `Visible` that contains methods that:\n",
    "\n",
    "* return whether or not an object is visible\n",
    "* make an object visible\n",
    "* make an object hidden\n",
    "\n",
    "**Exercise 7** You will need to complete this exercise using a Java IDE because of the limitations of the beakerX kernel.\n",
    "\n",
    "Create a utility class called `Visibles` that contains static methods that perform the following actions:\n",
    "\n",
    "* make all of the objects in a given a list of `Visible` objects visible\n",
    "* make all of the objects in a given a list of `Visible` objects hidden\n",
    "* toggle the visibility of all of the objects in a given a list of `Visible` (visible objects become hidden and hidden objects become visible)"
   ]
  },
  {
   "cell_type": "code",
   "execution_count": null,
   "metadata": {},
   "outputs": [],
   "source": []
  }
 ],
 "metadata": {
  "kernelspec": {
   "display_name": "Java",
   "language": "java",
   "name": "java"
  },
  "language_info": {
   "codemirror_mode": "text/x-java",
   "file_extension": ".java",
   "mimetype": "",
   "name": "Java",
   "nbconverter_exporter": "",
   "version": "1.8.0_121"
  },
  "toc": {
   "base_numbering": 1,
   "nav_menu": {},
   "number_sections": false,
   "sideBar": false,
   "skip_h1_title": false,
   "title_cell": "Table of Contents",
   "title_sidebar": "Contents",
   "toc_cell": false,
   "toc_position": {},
   "toc_section_display": false,
   "toc_window_display": false
  }
 },
 "nbformat": 4,
 "nbformat_minor": 4
}
