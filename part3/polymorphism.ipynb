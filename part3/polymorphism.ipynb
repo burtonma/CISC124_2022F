{
 "cells": [
  {
   "cell_type": "code",
   "execution_count": null,
   "metadata": {},
   "outputs": [],
   "source": [
    "// run this cell to prevent Jupyter from displaying the null output cell\n",
    "com.twosigma.beakerx.kernel.Kernel.showNullExecutionResult = false;"
   ]
  },
  {
   "cell_type": "markdown",
   "metadata": {},
   "source": [
    "We need the `Counter` and `StoppingCounter` classes in this notebook. Run the next two cells to compile the classes."
   ]
  },
  {
   "cell_type": "code",
   "execution_count": null,
   "metadata": {},
   "outputs": [],
   "source": [
    "public class Counter {\n",
    "\n",
    "    protected int value; \n",
    "    \n",
    "    public Counter() {\n",
    "        this.value = 0;\n",
    "    }\n",
    "    \n",
    "    public Counter(int value) {\n",
    "        this.value = value;\n",
    "    }\n",
    "    \n",
    "    public Counter(Counter other) {\n",
    "        this.value = other.value;\n",
    "    }\n",
    "    \n",
    "    public int value() {\n",
    "        return this.value;\n",
    "    }\n",
    "    \n",
    "    public void advance() {\n",
    "        if (this.value != Integer.MAX_VALUE) {\n",
    "            this.value++;\n",
    "        }\n",
    "        else {\n",
    "            this.value = 0;\n",
    "        }\n",
    "    }\n",
    "    \n",
    "    @Override\n",
    "    public boolean equals(Object obj) {\n",
    "        if (this == obj) {\n",
    "            return true;\n",
    "        }\n",
    "        if (!(obj instanceof Counter)) {\n",
    "            return false;\n",
    "        }\n",
    "        Counter other = (Counter) obj;\n",
    "        if (this.value == other.value) {\n",
    "            return true;\n",
    "        }\n",
    "        return false;\n",
    "    }\n",
    "    \n",
    "    @Override\n",
    "    public int hashCode() {\n",
    "        int result = Integer.hashCode(this.value);\n",
    "\n",
    "        return result;\n",
    "    }\n",
    "    \n",
    "    @Override\n",
    "    public String toString() {\n",
    "        return \"count: \" + this.value;\n",
    "    }\n",
    "}"
   ]
  },
  {
   "cell_type": "code",
   "execution_count": null,
   "metadata": {},
   "outputs": [],
   "source": [
    "public class StoppingCounter extends Counter {\n",
    "    // no fields!\n",
    "    \n",
    "    public StoppingCounter() {\n",
    "        this(0);\n",
    "    }\n",
    "    \n",
    "    public StoppingCounter(int value) {\n",
    "        super(value);\n",
    "    }\n",
    "    \n",
    "    @Override\n",
    "    public void advance() {\n",
    "        if (this.value != Integer.MAX_VALUE) {\n",
    "            this.value++;\n",
    "        }\n",
    "    }\n",
    "}"
   ]
  },
  {
   "cell_type": "markdown",
   "metadata": {},
   "source": [
    "<a id=\"notebook_id\"></a>\n",
    "# Polymorphism\n",
    "\n",
    "One of the benefits of inheritance is that it allows the programmer to use different types of objects (that are related by inheritance) in the same way. For example, we can create a list of `Counter` references, use the list to store references to objects of any subclass of `Counter`, and then iterate over the elements of the list calling the `advance` method for each counter.\n",
    "\n",
    "The ability for the same code to be used with different types of objects is called *polymorphism*. The Oxford dictionary definition of polymorphism is \"the condition of occurring in several different forms\". In Java, polymorphism is made possible by the fact that an object in an inheritance hierarchy has more than one type; namely, the object's types include its own class type, all of its superclass types, and all of its interface types.\n",
    "\n",
    "\n",
    "## Declared types\n",
    "\n",
    "In Java, a reference variable has what is called a *declared type*. For example:\n",
    "\n",
    "```java\n",
    "Counter c;\n",
    "```\n",
    "\n",
    "creates a variable `c` whose declared type is `Counter`. The declared type is the type that appears in front of a variable, field, or parameter.\n",
    "\n",
    "What values can we store in the variable `c`? We can store any of the following values:\n",
    "\n",
    "* `null`\n",
    "* a reference to a `Counter` object\n",
    "* a reference to any object having a type that is a subclass of `Counter`\n",
    "\n",
    "For example, all of the following are legal:"
   ]
  },
  {
   "cell_type": "code",
   "execution_count": null,
   "metadata": {},
   "outputs": [],
   "source": [
    "Counter c1 = null;\n",
    "Counter c2 = new Counter();            // ok, Counter is a Counter\n",
    "Counter c3 = new StoppingCounter();    // ok, StoppingCounter is a subclass of Counter\n",
    "Counter c4 = c3;                       // ok, declared type of c3 is Counter"
   ]
  },
  {
   "cell_type": "markdown",
   "metadata": {},
   "source": [
    "The example above is legal because of polymorphism: A subclass has multiple types including the types of all of its superclasses. Because a subclass object is usable whenever a superclass object is needed, we say that a subclass is *substitutable for* its superclass. Substitutability is discussed in greater detail in a following notebook.\n",
    "\n",
    "Because `Object` is a superclass of all Java classes, it is legal to store any reference value in a variable whose declared type is `Object`:"
   ]
  },
  {
   "cell_type": "code",
   "execution_count": null,
   "metadata": {},
   "outputs": [],
   "source": [
    "import java.util.ArrayList;\n",
    "\n",
    "Object obj = new Object();\n",
    "obj = \"this is a string\";           // ok, String is a subclass of Object\n",
    "obj = new Counter();                // ok, Counter is a subclass of Object\n",
    "obj = new ArrayList<Integer>();     // ok, ArrayList is a subclass of Object"
   ]
  },
  {
   "cell_type": "markdown",
   "metadata": {},
   "source": [
    "Note that a superclass object is never substitutable for a subclass object. For example, the following statement will not compile:"
   ]
  },
  {
   "cell_type": "code",
   "execution_count": null,
   "metadata": {},
   "outputs": [],
   "source": [
    "String s = new Object();"
   ]
  },
  {
   "cell_type": "markdown",
   "metadata": {},
   "source": [
    "**Exercise 1** What is the declared type of each variable below?:\n",
    "\n",
    "```java\n",
    "Object obj;\n",
    "String s;\n",
    "List<String> t;\n",
    "ArrayList<String> t2;\n",
    "Counter c;\n",
    "```"
   ]
  },
  {
   "cell_type": "markdown",
   "metadata": {},
   "source": [
    "### The declared type determines what can be done with the variable, field, or parameter\n",
    "\n",
    "The compiler uses the declared type of a variable, field, or parameter to determine if an operation involving the variable is legal. For example, suppose that we declare a variable of type `Object` and store a reference to an `ArrayList` in the variable:"
   ]
  },
  {
   "cell_type": "code",
   "execution_count": null,
   "metadata": {},
   "outputs": [],
   "source": [
    "import java.util.ArrayList;\n",
    "\n",
    "Object obj = new ArrayList<Integer>();"
   ]
  },
  {
   "cell_type": "markdown",
   "metadata": {},
   "source": [
    "Because the declared type of `obj` is `Object` the only methods that can be called using `obj` are the methods defined in the class `Object`; in other words, the methods that we can call with a variable are the methods defined in the declared type. For example, we can `toString` using `obj` because `toString` is defined in `Object`:"
   ]
  },
  {
   "cell_type": "code",
   "execution_count": null,
   "metadata": {},
   "outputs": [],
   "source": [
    "import java.util.ArrayList;\n",
    "\n",
    "Object obj = new Object();\n",
    "System.out.println(obj.toString());\n",
    "\n",
    "Object obj1 = new ArrayList<Integer>();\n",
    "System.out.println(obj1.toString());\n",
    "\n",
    "Object obj2 = new StoppingCounter(1);      // a StoppingCounter whose value is 1\n",
    "System.out.println(obj2.toString());"
   ]
  },
  {
   "cell_type": "markdown",
   "metadata": {},
   "source": [
    "The `Object` version of `toString` returns a string starting with `java.lang.Object@` but notice that the strings printed using `obj1` and `obj2` are the strings corresponding to an empty list and for a counter having a value of 1. In other words, even though the types of `obj1` and `obj2` were declared as `Object` the method `toString` behaves as though `obj1` is a list and `obj2` is a counter. Keep this in mind when you read the next section about *Runtime types*.\n",
    "\n",
    "If we call an `ArrayList` method using `obj1` the compiler will issue an error:"
   ]
  },
  {
   "cell_type": "code",
   "execution_count": null,
   "metadata": {},
   "outputs": [],
   "source": [
    "import java.util.ArrayList;\n",
    "\n",
    "Object obj1 = new ArrayList<Integer>();\n",
    "obj1.add(1);                               // try to add an element to the list?"
   ]
  },
  {
   "cell_type": "markdown",
   "metadata": {},
   "source": [
    "The call to `add` fails because the declared type `Object` has no method named `add`.\n",
    "\n",
    "Similarly, if call a `Counter` method using `obj2` the compiler will issue an error:"
   ]
  },
  {
   "cell_type": "code",
   "execution_count": null,
   "metadata": {},
   "outputs": [],
   "source": [
    "Object obj2 = new StoppingCounter(1);      // a StoppingCounter whose value is 1\n",
    "System.out.println(obj2.value());"
   ]
  },
  {
   "cell_type": "markdown",
   "metadata": {},
   "source": [
    "The call to `value` fails because the declared type `Object` has no method named `value`.\n",
    "\n",
    "**Exercise 2** Does the following code cause the `Counter` or `StoppingCounter` version of `advance` to be called?"
   ]
  },
  {
   "cell_type": "code",
   "execution_count": null,
   "metadata": {},
   "outputs": [],
   "source": [
    "// Exercise 2\n",
    "Counter c = new StoppingCounter(Integer.MAX_VALUE);\n",
    "c.advance();"
   ]
  },
  {
   "cell_type": "markdown",
   "metadata": {},
   "source": [
    "## Runtime types\n",
    "\n",
    "In an assignment expression, the type of the value on the right-hand side of the expression is the *runtime* type or *actual* type. For example, in the expression\n",
    "\n",
    "```java\n",
    "Object obj = \"this is a string\";\n",
    "```\n",
    "\n",
    "the runtime type of the object is `String`. The `Object` method `getClass` returns a reference to an object that represents the runtime class of a reference."
   ]
  },
  {
   "cell_type": "code",
   "execution_count": null,
   "metadata": {},
   "outputs": [],
   "source": [
    "Object obj = \"this is a string\";\n",
    "System.out.println(obj.getClass());"
   ]
  },
  {
   "cell_type": "markdown",
   "metadata": {},
   "source": [
    "### The runtime type determines which version of a method is called\n",
    "\n",
    "The runtime type of an object determines which version of a method is called. Recall the example from the previous section:"
   ]
  },
  {
   "cell_type": "code",
   "execution_count": null,
   "metadata": {},
   "outputs": [],
   "source": [
    "import java.util.ArrayList;\n",
    "\n",
    "Object obj1 = new ArrayList<Integer>();\n",
    "System.out.println(obj1.toString());\n",
    "\n",
    "Object obj2 = new StoppingCounter(1);      // a StoppingCounter whose value is 1\n",
    "System.out.println(obj2.toString());"
   ]
  },
  {
   "cell_type": "markdown",
   "metadata": {},
   "source": [
    "The runtime type of the object referred to by `obj1` is `ArrayList`. The expression `obj1.toString()` uses the runtime type of `obj1` to determine which version of `toString` is called. In this case, the version of `toString` inherited by `ArrayList` is called. Similarly, using `obj2` to call `toString` results in the `StoppingCounter` version of `toString` to be called.\n",
    "\n",
    "To expand on this example, consider a method that simply prints the string representation of any object (run the following cell to compile the class):"
   ]
  },
  {
   "cell_type": "code",
   "execution_count": null,
   "metadata": {},
   "outputs": [],
   "source": [
    "public class Printer {\n",
    "    public static void print(Object obj) {\n",
    "        System.out.println(obj.toString());\n",
    "    }\n",
    "}"
   ]
  },
  {
   "cell_type": "markdown",
   "metadata": {},
   "source": [
    "When we call the `print` method, the runtime type of the argument is used to determine which version of `toString` is called:"
   ]
  },
  {
   "cell_type": "code",
   "execution_count": null,
   "metadata": {},
   "outputs": [],
   "source": [
    "import java.util.ArrayList;\n",
    "import java.util.Date;\n",
    "\n",
    "String s = \"hi there\";\n",
    "Printer.print(s);\n",
    "\n",
    "ArrayList<Integer> t = new ArrayList<>();\n",
    "t.add(9);\n",
    "t.add(1);\n",
    "t.add(1);\n",
    "Printer.print(t);\n",
    "\n",
    "Object o = new Date();\n",
    "Printer.print(o);"
   ]
  },
  {
   "cell_type": "markdown",
   "metadata": {},
   "source": [
    "When the above cell is run:\n",
    "\n",
    "* `Printer.print(s)` uses the `String` version of `toString` to be called because the runtime type of `s` is `String`\n",
    "* `Printer.print(t)` uses the `ArrayList` version of `toString` to be called because the runtime type of `t` is `ArrayList`\n",
    "* `Printer.print(o)` uses the `String` version of `Date` to be called because the runtime type of `o` is `Date`"
   ]
  },
  {
   "cell_type": "markdown",
   "metadata": {},
   "source": [
    "We say that the `Printer` method `print` is polymorphic because its output changes depending on what (runtime) type is used as an argument to the method.\n",
    "\n",
    "The method `print` does not know which version of `toString` to call until it is actually run. When the method is run, it looks at the runtime type of the parameter `obj` to determine which version of `toString` to call. This concept of using the runtime type to determine which version of a method to call is called *dynamic dispatch* or *late binding*. The words *dynamic* and *late* are used because the process occurs at runtime instead of at compile-time."
   ]
  },
  {
   "cell_type": "markdown",
   "metadata": {},
   "source": [
    "**Exercise 3** Is the `equals` method polymorphic?\n",
    "\n",
    "**Exercise 4** Look up the documentation for the `AbstractCollection` method `contains`. This is the method that is inherited by collections such as `ArrayList` and `TreeSet` which determines if an element is in a collection. Explain why `contains` is a polymorphic method.\n",
    "\n",
    "**Exercise 5** Look up the documentation for the `AbstractMap` method `get`. This is the method that is inherited by maps such as `HashMap` and `TreeMap` which returns a value corresponding to a key from a map. Explain why `get` is a polymorphic method.\n",
    "\n",
    "**Exercise 6** Look up the documentation for the class `Collections`. Roughly what fraction of the methods are polymorphic?"
   ]
  },
  {
   "cell_type": "code",
   "execution_count": null,
   "metadata": {},
   "outputs": [],
   "source": []
  }
 ],
 "metadata": {
  "kernelspec": {
   "display_name": "Java",
   "language": "java",
   "name": "java"
  },
  "language_info": {
   "codemirror_mode": "text/x-java",
   "file_extension": ".java",
   "mimetype": "",
   "name": "Java",
   "nbconverter_exporter": "",
   "version": "1.8.0_121"
  },
  "toc": {
   "base_numbering": 1,
   "nav_menu": {},
   "number_sections": false,
   "sideBar": false,
   "skip_h1_title": false,
   "title_cell": "Table of Contents",
   "title_sidebar": "Contents",
   "toc_cell": false,
   "toc_position": {},
   "toc_section_display": false,
   "toc_window_display": false
  }
 },
 "nbformat": 4,
 "nbformat_minor": 4
}
