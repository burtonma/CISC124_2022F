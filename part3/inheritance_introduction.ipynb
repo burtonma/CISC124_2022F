{
 "cells": [
  {
   "cell_type": "code",
   "execution_count": null,
   "metadata": {},
   "outputs": [],
   "source": [
    "// run this cell to prevent Jupyter from displaying the null output cell\n",
    "com.twosigma.beakerx.kernel.Kernel.showNullExecutionResult = false;"
   ]
  },
  {
   "cell_type": "markdown",
   "metadata": {},
   "source": [
    "<a id=\"notebook_id\"></a>\n",
    "# Inheritance: Introduction\n",
    "\n",
    "> The idea of inheritance is simple but powerful: When you want to create a new class and there is already a class that includes some of the code that you want, you can derive your new class from the existing class. In doing this, you can reuse the fields and methods of the existing class without having to write (and debug!) them yourself.\n",
    "\n",
    "[The Java Tutorials: Interfaces and Inheritance](https://docs.oracle.com/javase/tutorial/java/IandI/subclasses.html)\n",
    "\n",
    "Inheritance is the strongest possible relationship between two classes. Inheritance models the *is-a* or *is-substitutable-for* relationship. \n",
    "\n",
    "In the [Designing simple classes](../part2/designing_simple_classes.ipynb#notebook_id) notebook the conceptual framework for object-oriented programming called the *object model* was introduced. The object model has four main elements:\n",
    "\n",
    "1. Abstraction\n",
    "2. Encapsulation\n",
    "3. Modularity\n",
    "4. Hierarchy\n",
    "\n",
    "Inheritance is one mechanism for implementing hierarchy in an object-oriented programming language."
   ]
  },
  {
   "cell_type": "markdown",
   "metadata": {},
   "source": [
    "## The Java class hierarchy\n",
    "\n",
    "In Java, the class `java.lang.Object` is the topmost class in the class hierarchy. We say that every Java class (except for `Object`) is a *subclass* of `Object`. This means that every object in Java is an instance of the class `Object`. For example, a `String` object is also an `Object` object. Other terms commonly used in object-oriented programming languages that are synonymous for subclass are derived class, child class, or descendent class. In Java, it is also common to say that subclass *extends* a superclass.\n",
    "\n",
    "The previous paragraph describes how other classes are related to `Object`, but how is `Object` related to other classes? We say that `Object` is a *superclass* of all other classes. Other terms commonly used in object-oriented programming languages that are synonymous for superclass are parent class, base class, or ancestor class.\n",
    "\n",
    "It turns out that `String` is an immediate subclass of `Object`. We can show the relationship between `Object` and `String` using a UML class diagram:\n",
    "\n",
    "![](../resources/images/inheritance/object-1.png)\n",
    "\n",
    "In the figure above, the subclass `String` is connected to the superclass `Object` using a solid line ending in an open arrow.\n",
    "\n",
    "**Single inheritance:** Java is a single inheritance language meaning a class is allowed to have only one immediate superclass. This is somewhat restrictive compared to languages that support multiple inheritance (where a class can have more than one immediate superclass) but it ensures that problems such as [the deadly diamond of death](https://en.wikipedia.org/wiki/Multiple_inheritance) cannot occur. Of course, a class is allowed to be the superclass of an arbitrary number of subclasses.\n",
    "\n",
    "Every class that we have implemented thus far has been an immediate subclass of `Object`. The relationship between our classes and `Object` can be shown as follows:\n",
    "\n",
    "![](../resources/images/inheritance/object-2.png)\n",
    "\n",
    "The figure above conveys the information that `Card`, `Counter`, `Domino`, `Point2`, and `Turtle` are all immediate subclasses of `Object`. Note that inheritance *does not* imply any sort of relationship between any two subclasses. For example, inheritance does not imply a relationship between the classes `Counter` and `Turtle`. Of course, two subclasses are allowed to be involved in some kind of relationship; for example, `Turtle` has an association relationship with `Point2` (which is not shown in the diagram). Classes at the same level of an inheritance hierarchy are sometimes referred to as *sibling* classes.\n",
    "\n",
    "A class hierarchy has no fixed maximum depth. A class can have an immediate subclass, which in turn has an immediate subclass, which in turn has an immediate subclass, and so on. An example of a moderately deep class hierarchy is the class `java.util.Stack`:\n",
    "\n",
    "![](../resources/images/inheritance/stack-1.png)\n",
    "\n",
    "The reader might recall that we implemented a different version of the `Stack` class in the notebook [The anatomy of a simple class](../part2/anatomy_of_a_simple_class.ipynb#notebook_id) where our class was a composition of a list (and whose immediate superclass was `Object`). The standard library version of `Stack` implements a stack as a subclass of `Vector`. `Vector` is an older version of the `ArrayList` class. The figure above conveys the following information:\n",
    "\n",
    "* `AbstractCollection` is an `Object`\n",
    "* `AbstractList` is an `AbstractCollection` **and** is an `Object`\n",
    "* `Vector` is an `AbstractList` **and** is an `AbstractCollection` **and** is an `Object`\n",
    "* `Stack` is a `Vector` **and** is an `AbstractList` **and** is an `AbstractCollection` **and** is an `Object`\n",
    "\n",
    "An object of type `Stack` actually has five different types:\n",
    "\n",
    "1. `Stack`\n",
    "2. `Vector`\n",
    "3. `AbstractList`\n",
    "4. `AbstractCollection`\n",
    "5. `Object`\n",
    "\n",
    "Hopefully the figure above clarifies the difference between an immediate sub/superclass and a sub/superclass. An immediate subclass is a subclass that has no other subclasses between it and its immediate superclass. For example, `Stack` is an immediate subclass of `Vector` and it is a subclass of `Object`, `AbstractCollection`, `AbstractList`, and `Vector`.\n",
    "\n",
    "The inheritance information for a class is shown in the Javadoc documentation for the class near the top of the page:\n",
    "\n",
    "![](../resources/images/inheritance/javadoc.png)\n",
    "\n",
    "Notice that the documentation shows the reader the mechanism for subclassing in Java. To subclass a class use the keyword `extends` followed by the name of the immediate superclass. For the `Stack` class, the programmer has declared the class as:\n",
    "\n",
    "```java \n",
    "public class Stack<E> extends Vector<E>\n",
    "```\n",
    "\n",
    "Also notice that the documentation indicates all of the interfaces implemented by the class. While Java is a single inheritance language, it allows a class to implement an arbitrary number of interfaces. The `Stack` class implements six different interfaces.\n",
    "\n",
    "## A warning\n",
    "\n",
    "Recall the quote from the beginning of this notebook:\n",
    "\n",
    "> The idea of inheritance is simple but powerful: When you want to create a new class and there is already a class that includes some of the code that you want, you can derive your new class from the existing class. In doing this, you can reuse the fields and methods of the existing class without having to write (and debug!) them yourself.\n",
    "\n",
    "The class `java.util.Stack` is a classic Java example of using inheritance to reuse the functionality and structure (fields) of an existing class. A stack needs to store a varying number of elements and it needs to be able to add (push) and remove (pop) elements. `Vector` is an existing class that can already do all of these things so by subclassing `Vector` the `Stack`  class gets these members *without having to write any new code*. This seems like a wonderful idea; unfortunately, the `Stack` class is also a classic example of how inheritance should not be used. We'll explain why in another notebook."
   ]
  },
  {
   "cell_type": "markdown",
   "metadata": {},
   "source": [
    "## Inheritance implies substitutability\n",
    "\n",
    "It is important to emphasize that inheritance means the subclass *is an instance of the superclass*. From the user's point of view, this means that the subclass has all of public members that the superclass has. For example, `String` has methods such as `equals`, `hashCode`, and `toString` because `Object` declares and implements these methods. We say that a subclass *inherits* all of the public (and protected) members of its superclass. Protected access is discussed in a later notebook.\n",
    "\n",
    "A second consequence of the subclass being an instance of its superclasses is that a subclass object can be used anywhere one of its superclass objects is required. We say that a subclass object is *substitutable for* its superclass objects.\n",
    "\n",
    "Substitutability means that if you have a variable of type `X` then you can store a reference to any object that is a subclass of `X` in the variable. For example, running the following cell causes no errors:"
   ]
  },
  {
   "cell_type": "code",
   "execution_count": null,
   "metadata": {},
   "outputs": [],
   "source": [
    "%classpath add jar ../resources/jar/notes.jar\n",
    "\n",
    "import java.util.ArrayList;\n",
    "import ca.queensu.cs.cisc124.notes.basics.geometry.Point2;\n",
    "\n",
    "Object obj = \"a string\";\n",
    "obj = new ArrayList<Integer>();\n",
    "obj = new Point2(1.0, 2.0);"
   ]
  },
  {
   "cell_type": "markdown",
   "metadata": {},
   "source": [
    "The assignment statements are valid in the cell above because `Object` is the superclass of all classes in Java so all reference types are substitutable for `Object`.\n",
    "\n",
    "Similarly, the `equals` method has the signature `equals(Object)` which means that we can pass a reference to any type of object to any class' `equals` method:"
   ]
  },
  {
   "cell_type": "code",
   "execution_count": null,
   "metadata": {},
   "outputs": [],
   "source": [
    "%classpath add jar ../resources/jar/notes.jar\n",
    "\n",
    "import java.util.ArrayList;\n",
    "import ca.queensu.cs.cisc124.notes.basics.geometry.Point2;\n",
    "\n",
    "String s = \"hello\";\n",
    "String t = \"hello\";\n",
    "System.out.println(s.equals(t));     // ok t is a String and String is substitutable for Object\n",
    "\n",
    "Point2 p = new Point2(1.0, 2.0);\n",
    "System.out.println(s.equals(p));     // ok p is a Point2 and Point2 is substitutable for Object"
   ]
  },
  {
   "cell_type": "markdown",
   "metadata": {},
   "source": [
    "An example using classes from the `Stack` hierarchy is shown below:"
   ]
  },
  {
   "cell_type": "code",
   "execution_count": null,
   "metadata": {},
   "outputs": [],
   "source": [
    "import java.util.Vector;\n",
    "import java.util.Stack;\n",
    "\n",
    "public class Util {\n",
    "    public static <T> T getFirst(Vector<T> v) {\n",
    "        return v.get(0);\n",
    "    }\n",
    "}"
   ]
  },
  {
   "cell_type": "code",
   "execution_count": null,
   "metadata": {},
   "outputs": [],
   "source": [
    "import java.util.Vector;\n",
    "import java.util.Stack;\n",
    "\n",
    "Vector<String> v = new Vector<String>();\n",
    "v.add(\"first\");\n",
    "v.add(\"second\");\n",
    "v.add(\"third\");\n",
    "\n",
    "Stack<Integer> t = new Stack<>();\n",
    "t.push(1);\n",
    "t.push(2);\n",
    "t.push(3);\n",
    " \n",
    "System.out.println(Util.getFirst(v));    // ok v is a Vector\n",
    "System.out.println(Util.getFirst(t));    // ok t is a Stack and Stack is substitutable for Vector"
   ]
  },
  {
   "cell_type": "markdown",
   "metadata": {},
   "source": [
    "Substitutability is one of the features that makes inheritance a powerful modelling technique. We expand on the ideas discussed in this notebook in the [Polymorphism](./polymorphism.ipynb#notebook_id) and [Implementing substitutability](./substitutability.ipynb#notebook_id) notebooks."
   ]
  },
  {
   "cell_type": "markdown",
   "metadata": {},
   "source": [
    "## Exercises\n",
    "\n",
    "1. There are many object-oriented programming languages. Do some research to find some languages that support only single inheritance and some languages that support multiple inheritance.\n",
    "\n",
    "2. Look up the documentation for the class `HashSet`. Draw the UML diagram showing the inheritance hierarchy from `Object` to `HashSet`.\n",
    "\n",
    "3. Look up the documentation for the class `AbstractMap`. How many immediate subclasses does `AbstractMap` have in the standard library?\n",
    "\n",
    "4. All of the wrapper classes for primitive numeric types have a common superclass (that is not `Object`). What is the common superclass?"
   ]
  },
  {
   "cell_type": "code",
   "execution_count": null,
   "metadata": {},
   "outputs": [],
   "source": []
  }
 ],
 "metadata": {
  "kernelspec": {
   "display_name": "Java",
   "language": "java",
   "name": "java"
  },
  "language_info": {
   "codemirror_mode": "text/x-java",
   "file_extension": ".java",
   "mimetype": "",
   "name": "Java",
   "nbconverter_exporter": "",
   "version": "1.8.0_121"
  },
  "toc": {
   "base_numbering": 1,
   "nav_menu": {},
   "number_sections": false,
   "sideBar": false,
   "skip_h1_title": false,
   "title_cell": "Table of Contents",
   "title_sidebar": "Contents",
   "toc_cell": false,
   "toc_position": {},
   "toc_section_display": false,
   "toc_window_display": false
  }
 },
 "nbformat": 4,
 "nbformat_minor": 4
}
