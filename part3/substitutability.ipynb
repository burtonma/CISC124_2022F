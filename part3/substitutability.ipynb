{
 "cells": [
  {
   "cell_type": "code",
   "execution_count": null,
   "metadata": {},
   "outputs": [],
   "source": [
    "// run this cell to prevent Jupyter from displaying the null output cell\n",
    "com.twosigma.beakerx.kernel.Kernel.showNullExecutionResult = false;"
   ]
  },
  {
   "cell_type": "markdown",
   "metadata": {},
   "source": [
    "We need the `Counter` class in this notebook. Run the next cell to compile the class."
   ]
  },
  {
   "cell_type": "code",
   "execution_count": null,
   "metadata": {},
   "outputs": [],
   "source": [
    "public class Counter {\n",
    "\n",
    "    protected int value; \n",
    "    \n",
    "    public Counter() {\n",
    "        this.value = 0;\n",
    "    }\n",
    "    \n",
    "    public Counter(int value) {\n",
    "        this.value = value;\n",
    "    }\n",
    "    \n",
    "    public Counter(Counter other) {\n",
    "        this.value = other.value;\n",
    "    }\n",
    "    \n",
    "    public int value() {\n",
    "        return this.value;\n",
    "    }\n",
    "    \n",
    "    public void advance() {\n",
    "        if (this.value != Integer.MAX_VALUE) {\n",
    "            this.value++;\n",
    "        }\n",
    "        else {\n",
    "            this.value = 0;\n",
    "        }\n",
    "    }\n",
    "    \n",
    "    @Override\n",
    "    public boolean equals(Object obj) {\n",
    "        if (this == obj) {\n",
    "            return true;\n",
    "        }\n",
    "        if (!(obj instanceof Counter)) {\n",
    "            return false;\n",
    "        }\n",
    "        Counter other = (Counter) obj;\n",
    "        if (this.value == other.value) {\n",
    "            return true;\n",
    "        }\n",
    "        return false;\n",
    "    }\n",
    "    \n",
    "    @Override\n",
    "    public int hashCode() {\n",
    "        int result = Integer.hashCode(this.value);\n",
    "\n",
    "        return result;\n",
    "    }\n",
    "    \n",
    "    @Override\n",
    "    public String toString() {\n",
    "        return \"count: \" + this.value;\n",
    "    }\n",
    "}"
   ]
  },
  {
   "cell_type": "markdown",
   "metadata": {},
   "source": [
    "<a id=\"notebook_id\"></a>\n",
    "# Substitutability\n",
    "\n",
    "Inheritance models the is-a or is-substitutable-for relationship. What this means is that a subtype object should always be usable whenever a supertype object is required, and doing so will not cause a program to behave unexpectedly.\n",
    "\n",
    "In object-oriented programming, the term *substitutability* often refers to the Liskov substitution principle (named after [Barbara Liskov](https://en.wikipedia.org/wiki/Barbara_Liskov) who first described the principle). The formal definition of the principle is\n",
    "\n",
    "> Let $\\phi(x)$ be a property provable about objects $x$ of type T. Then $\\phi(y)$ should be true for objects $y$ of type S where S is a subtype of T. \n",
    "\n",
    "In practice, Liskov substitutability means that subclass objects must behave the same as objects of their supertype. Object behaviour is determined by the object's methods; thus ensuring substitutability requires paying careful attention when overriding methods in a subclass."
   ]
  },
  {
   "cell_type": "markdown",
   "metadata": {},
   "source": [
    "## Class invariants\n",
    "\n",
    "Recall that class invariant is some condition that is true about the state of an object. If a superclass has one or more class invariants then the subclass must also provide those same invariants for Liskov substitutability to hold.\n",
    "\n",
    "The `Counter` class has the invariant that the value of a counter is always greater than or equal to zero. One way to express this invariant is the following: For any `Counter` object `c` the value of `c.value() >= 0` is `true`. A user of the `Counter` class rightfully can assume that the invariant will old for any `Counter` object. For example, a programmer can write the following method:"
   ]
  },
  {
   "cell_type": "code",
   "execution_count": null,
   "metadata": {},
   "outputs": [],
   "source": [
    "public class InvariantExample {\n",
    "    \n",
    "    /**\n",
    "     * Returns true if the specified counter has an odd value.\n",
    "     *\n",
    "     * @return true if the specified counter has an odd value\n",
    "     */\n",
    "    public static boolean isOdd(Counter c) {\n",
    "        return c.value() % 2 == 1;\n",
    "    }\n",
    "}"
   ]
  },
  {
   "cell_type": "markdown",
   "metadata": {},
   "source": [
    "For every possible `Counter` value the above method returns the correct answer (try it for yourself). Now, consider what happens if a programmer creates the following subclass:"
   ]
  },
  {
   "cell_type": "code",
   "execution_count": null,
   "metadata": {},
   "outputs": [],
   "source": [
    "public class DescendingCounter extends Counter {\n",
    "\n",
    "    public DescendingCounter() {\n",
    "        super();\n",
    "    }\n",
    "    \n",
    "    public DescendingCounter(int value) {\n",
    "        super(value);\n",
    "    }\n",
    "    \n",
    "    @Override\n",
    "    public void advance() {\n",
    "        this.value--;\n",
    "    }\n",
    "}"
   ]
  },
  {
   "cell_type": "markdown",
   "metadata": {},
   "source": [
    "A `DescendingCounter` is simply a counter that counts down (toward negative infinity) that wraps around to `Integer.MAX_VALUE` when it reaches `Integer.MIN_VALUE`.\n",
    "\n",
    "**Exercise 1** Test that the `DescendingCounter` class compiles and functions as expected (e.g., `advance` causes the count to decrease by 1, `equals` can be used to compare a `Counter` and `DescendingCounter` for equality, etc).\n",
    "\n",
    "The method `isOdd(Counter)` now fails when passed an instance of a `DescendingCounter` having a negative value:"
   ]
  },
  {
   "cell_type": "code",
   "execution_count": null,
   "metadata": {},
   "outputs": [],
   "source": [
    "DescendingCounter c = new DescendingCounter();\n",
    "c.advance();\n",
    "System.out.println(c.value());    // -1\n",
    "System.out.println(InvariantExample.isOdd(c));    // -1 is not odd!"
   ]
  },
  {
   "cell_type": "markdown",
   "metadata": {},
   "source": [
    "**Exercise 2** It is easy to fix the implementation of `isOdd` so that it works with `DescendingCounter` objects. Suggest such a fix.\n",
    "\n",
    "The above example is a very simple example where a subclass that does not support its superclass invariant will cause code that relies on the invariant to fail. The example illustrates a very important point: The creator of the method `isOdd` can test their code with every expected `Counter` value *and their code will pass all of the tests*. The method does not fail until a subclass is used *that is not fully substitutable for its superclass*."
   ]
  },
  {
   "cell_type": "markdown",
   "metadata": {},
   "source": [
    "## Method parameters\n",
    "\n",
    "Many methods place restrictions on their parameter values. \n",
    "\n",
    "An overridden method of a subclass needs to accept *at least* the same range of input parameter values as the method of the superclass, and may accept a wider range. This means that a subclass must not add additional constraints on the set of values that a method accepts as valid parameters. If a subclass adds additional constraints then code created using the superclass contracts will fail when given a subclass object.\n",
    "\n",
    "Consider the following two classes. A `Shape` is the superclass of two-dimensional shapes where every shape has a positive width and height. The `Shape` class has fields that store the width and height of the shape. A `Rectangle` is a shape that represents rectangles. We may assume that there are other shape classes representing various other two-dimensionsal shapes."
   ]
  },
  {
   "cell_type": "code",
   "execution_count": null,
   "metadata": {},
   "outputs": [],
   "source": [
    "/**\n",
    " * Superclass for shapes that have an independent width and height.\n",
    " * The width and height have a minimum value of 1 unit and\n",
    " * a maximum value of 100 units.\n",
    " */\n",
    "public abstract class Shape {\n",
    "    \n",
    "    /**\n",
    "     * The minimum width and height.\n",
    "     */\n",
    "    public static final double MIN_LENGTH = 1.0;\n",
    "    \n",
    "    /**\n",
    "     * The maximum width and height.\n",
    "     */\n",
    "    public static final double MAX_LENGTH = 100.0;\n",
    "    \n",
    "    protected double width;\n",
    "    protected double height;\n",
    "    \n",
    "    /**\n",
    "     * Initializes this shape to have a width and height of 1.\n",
    "     */\n",
    "    public Shape() {\n",
    "        this.width = 1.0;\n",
    "        this.height = 1.0;\n",
    "    }\n",
    "    \n",
    "    /**\n",
    "     * Returns the width of this shape. The returned width is greater\n",
    "     * than or equal to 1.0.\n",
    "     *\n",
    "     * @return the width of this shape\n",
    "     */\n",
    "    public double width() {\n",
    "        return this.width;\n",
    "    }\n",
    "    \n",
    "    /**\n",
    "     * Returns the height of this shape. The returned height is greater\n",
    "     * than or equal to 1.0.\n",
    "     *\n",
    "     * @return the height of this shape\n",
    "     */\n",
    "    public double height() {\n",
    "        return this.height;\n",
    "    }\n",
    "    \n",
    "    /**\n",
    "     * Changes both the width and height of this shape to the specified\n",
    "     * dimensions. The width and height must be greater than or equal to 1.\n",
    "     *\n",
    "     * @param width the width of the shape\n",
    "     * @param height the height of the shape\n",
    "     * @throws IllegalArgumentException if either width or height or is out of range\n",
    "     */\n",
    "    public void setDimensions(double width, double height) {\n",
    "        if (width < MIN_LENGTH || height < MIN_LENGTH) {\n",
    "            throw new IllegalArgumentException(\"dimension too small\");\n",
    "        }\n",
    "        if (width > MAX_LENGTH || height > MAX_LENGTH) {\n",
    "            throw new IllegalArgumentException(\"dimension too large\");\n",
    "        }\n",
    "        this.width = width;\n",
    "        this.height = height;\n",
    "    }\n",
    "    \n",
    "    /**\n",
    "     * Returns an upper bound on the area of this shape. Some shapes have\n",
    "     * complicated geometry and computing the exact area of such shapes is\n",
    "     * difficult. This method returns an estimate of the area of a shape\n",
    "     * where the estimate is guaranteed to be greater than or equal to\n",
    "     * the true area of the shape.\n",
    "     *\n",
    "     * <p>\n",
    "     * This method simply returns a value equal to the width times the\n",
    "     * height of the shape. Subclasses should override this method if they can \n",
    "     * provide a tighter upper bound.\n",
    "     *\n",
    "     * @return an upper bound on the area of the shape\n",
    "     */ \n",
    "    public double areaUpperBound() {\n",
    "        return this.width * this.height;\n",
    "    }\n",
    "    \n",
    "    // other methods not shown\n",
    "}"
   ]
  },
  {
   "cell_type": "code",
   "execution_count": null,
   "metadata": {},
   "outputs": [],
   "source": [
    "public class Rectangle extends Shape {\n",
    "    \n",
    "    public Rectangle() {\n",
    "        super();\n",
    "    }\n",
    "}"
   ]
  },
  {
   "cell_type": "markdown",
   "metadata": {},
   "source": [
    "A programmer uses the `Shape` hierarchy of classes to create a simple animation where various shapes move and change size slowly over time. The programmer creates the following method to change the size of a shape by a random small amount:"
   ]
  },
  {
   "cell_type": "code",
   "execution_count": null,
   "metadata": {},
   "outputs": [],
   "source": [
    "public class ShapeUtils {\n",
    "    \n",
    "    public static void randomScale(Shape s) {\n",
    "        // randomly scales the width and height of a shape by a small amount (less than 1%)\n",
    "        // Math.random() returns a random value between 0 and 1\n",
    "        double w = s.width() * (1.0 + (Math.random() * 0.01 - 0.005));\n",
    "        double h = s.height() * (1.0 + (Math.random() * 0.01 - 0.005));\n",
    "        s.setDimensions(w, h);\n",
    "    }\n",
    "}"
   ]
  },
  {
   "cell_type": "code",
   "execution_count": null,
   "metadata": {},
   "outputs": [],
   "source": [
    "Shape s = new Rectangle();\n",
    "s.setDimensions(10.0, 5.0);\n",
    "System.out.println(\"(width, height) = (\" + s.width() + \", \" + s.height() + \")\");\n",
    "ShapeUtils.randomScale(s);\n",
    "System.out.println(\"(width, height) = (\" + s.width() + \", \" + s.height() + \")\");"
   ]
  },
  {
   "cell_type": "markdown",
   "metadata": {},
   "source": [
    "After testing their method the programmer is confident that their method is correct *given the contracts of the `Shape` class and its methods*.\n",
    "\n",
    "**Exercise 3** The programmer is actually incorrect; there are potential errors in their method. Can you identify them?"
   ]
  },
  {
   "cell_type": "markdown",
   "metadata": {},
   "source": [
    "A second programmer creates a new shape class by subclassing the `Rectangle` class. Their thinking is something along the lines of \"Mathematically, a square is a special kind of rectangle where the width and height are equal\" so I can subclass `Rectangle` to create a `Square` class. If I override the `setDimensions` method I can ensure that the caller always uses the same values for the width and height:"
   ]
  },
  {
   "cell_type": "code",
   "execution_count": null,
   "metadata": {},
   "outputs": [],
   "source": [
    "public class Square extends Rectangle {\n",
    "    \n",
    "    public Square() {\n",
    "        super();\n",
    "    }\n",
    "    \n",
    "    @Override\n",
    "    public void setDimensions(double width, double height) {\n",
    "        if (width < MIN_LENGTH || height < MIN_LENGTH) {\n",
    "            throw new IllegalArgumentException(\"dimension too small\");\n",
    "        }\n",
    "        if (width > MAX_LENGTH || height > MAX_LENGTH) {\n",
    "            throw new IllegalArgumentException(\"dimension too large\");\n",
    "        }\n",
    "        if (width != height) {                         // uh, oh, overriding method adds an extra constraint\n",
    "            throw new IllegalArgumentException(\"width must be equal to height\");\n",
    "        }\n",
    "        this.width = width;\n",
    "        this.height = height;\n",
    "    }\n",
    "}"
   ]
  },
  {
   "cell_type": "markdown",
   "metadata": {},
   "source": [
    "Notice that the `Square` class overrides the `setDimensions` method it inherits from `Shape` and adds the constraint that `width == height` must be `true`.  The problem with the `Square` implementation is that it breaks the `randomScale` method:"
   ]
  },
  {
   "cell_type": "code",
   "execution_count": null,
   "metadata": {},
   "outputs": [],
   "source": [
    "Shape s = new Square();\n",
    "s.setDimensions(5.0, 5.0);\n",
    "System.out.println(\"(width, height) = (\" + s.width() + \", \" + s.height() + \")\");\n",
    "ShapeUtils.randomScale(s);   // exception here\n",
    "System.out.println(\"(width, height) = (\" + s.width() + \", \" + s.height() + \")\");"
   ]
  },
  {
   "cell_type": "markdown",
   "metadata": {},
   "source": [
    "This example illustrates two important points to remember when working in an inheritance hierarchy.\n",
    "\n",
    "1. Your intuition is often wrong when creating classes using inheritance. While it is true that a square is a type of rectangle in geometry, it is not automatically true that a `Square` is a `Rectangle` in a programming sense. In this example, the `Shape` class documents that a `Square` cannot be a `Rectangle`:\n",
    "\n",
    "    ```java\n",
    "    /**\n",
    "     * Superclass for shapes that have an independent width and height.\n",
    "     */\n",
    "    public abstract class Shape\n",
    "    ```\n",
    "    \n",
    "    The programmer has stated that the `Shape` class is an abstraction of a shape that has an independent width and height. A square does not have an independent width and height, and trying to fit a square class into this hierarchy is almost guaranteed to fail.\n",
    "    \n",
    "2. When a subclass fails to be substitutable for its superclasses any code written using the superclass contracts may fail. In this example, the failure of substitutability is caused by the `Square` programmer adding a new constraint to the the parameters of `setDimensions`."
   ]
  },
  {
   "cell_type": "markdown",
   "metadata": {},
   "source": [
    "A subclass should not add constraints to parameters when it overrides a method, but it is allowed to *remove or weaken* constraints. For example, the `Rectangle` class can override `setDimensions` so that values less than one do not cause an exception to be thrown:"
   ]
  },
  {
   "cell_type": "code",
   "execution_count": null,
   "metadata": {},
   "outputs": [],
   "source": [
    "public class Rectangle extends Shape {\n",
    "    \n",
    "    public Rectangle() {\n",
    "        super();\n",
    "    }\n",
    "    \n",
    "    /**\n",
    "     * Changes both the width and height of this shape to the specified\n",
    "     * dimensions. Widths or heights that are out of range are clamped\n",
    "     * to Shape.MIN_LENGTH and Shape.MAX_LENGTH.\n",
    "     *\n",
    "     * @param width the width of the shape\n",
    "     * @param height the height of the shape\n",
    "     */\n",
    "    @Override\n",
    "    public void setDimensions(double width, double height) {\n",
    "        // make sure width/height is at least MIN_LENGTH\n",
    "        width = Math.max(width, MIN_LENGTH);\n",
    "        height = Math.max(height, MIN_LENGTH);\n",
    "        \n",
    "        // make sure width/height is at most MAX_LENGTH\n",
    "        width = Math.min(width, MAX_LENGTH);\n",
    "        height = Math.min(height, MAX_LENGTH);\n",
    "        \n",
    "        this.width = width;\n",
    "        this.height = height;\n",
    "    }\n",
    "}"
   ]
  },
  {
   "cell_type": "markdown",
   "metadata": {},
   "source": [
    "The change in behaviour is acceptable because the `Rectangle` version of `setDimensions` behaves the same as the `Shape` version for all values that the `Shape` version considers to be acceptable."
   ]
  },
  {
   "cell_type": "markdown",
   "metadata": {},
   "source": [
    "## Method return values \n",
    "\n",
    "If a superclass method promises something about its return value, then a subclass that overrides the method must ensure that the overridden method returns a value that satisfies the promise of the superclass. If a subclass returns a value that does not satisfy the promise of the superclass then code created using the superclass contracts will fail when given a subclass object.\n",
    "\n",
    "Recall that the `width` method of `Shape` promises to never return a value that is less than `1.0`:\n",
    "\n",
    "```java\n",
    "    // in Shape.java\n",
    "\n",
    "    /**\n",
    "     * Returns the width of this shape. The returned width is greater\n",
    "     * than or equal to 1.0.\n",
    "     *\n",
    "     * @return the width of this shape\n",
    "     */\n",
    "    public double width() {\n",
    "        return this.width;\n",
    "    }\n",
    "```\n",
    "\n",
    "In many science and engineering problems that involve shape analysis, a common operation is to normalize a shape which involves uniformly scaling the shape so that its width or height (or area) is equal to 1. This is easy to accomplish *if the dimensions of the shape are not equal to zero*:"
   ]
  },
  {
   "cell_type": "code",
   "execution_count": null,
   "metadata": {},
   "outputs": [],
   "source": [
    "public class ShapeAnalysis {\n",
    "    \n",
    "    public static void normalizeWidth(Shape s) {\n",
    "        double h = s.height() / s.width();\n",
    "        double w = 1.0;\n",
    "        s.setDimensions(w, h);\n",
    "    }\n",
    "}"
   ]
  },
  {
   "cell_type": "code",
   "execution_count": null,
   "metadata": {},
   "outputs": [],
   "source": [
    "Shape s = new Rectangle();\n",
    "s.setDimensions(1.5, 4.2);\n",
    "System.out.println(\"(width, height) = (\" + s.width() + \", \" + s.height() + \")\");\n",
    "ShapeAnalysis.normalizeWidth(s);\n",
    "System.out.println(\"(width, height) = (\" + s.width() + \", \" + s.height() + \")\");"
   ]
  },
  {
   "cell_type": "markdown",
   "metadata": {},
   "source": [
    "After testing their method the programmer is confident that their method is correct *given the contracts of the `Shape` class and its methods*."
   ]
  },
  {
   "cell_type": "markdown",
   "metadata": {},
   "source": [
    "Suppose that a programmer creates a `VLine` class that represents a vertical line segment having zero width:"
   ]
  },
  {
   "cell_type": "code",
   "execution_count": null,
   "metadata": {},
   "outputs": [],
   "source": [
    "/**\n",
    " * A shape representing a zero-width vertical line.\n",
    " */\n",
    "public class VLine extends Shape {\n",
    "    \n",
    "    public VLine() {\n",
    "        super();\n",
    "        this.width = 0;     // uh, oh, width of zero\n",
    "    }\n",
    "    \n",
    "    @Override\n",
    "    public double width() { \n",
    "        return 0.0;\n",
    "    }\n",
    "}"
   ]
  },
  {
   "cell_type": "markdown",
   "metadata": {},
   "source": [
    "Notice that the `VLine` class overrides the `width` method it inherits from `Shape` so that it always returns `0.0`. The problem with the `VLine` implementation is that it intentionally breaks one of the class invariants (it sets the width to be less than `1.0`) and it causes `normalizeWidth` to fail because the value of `h` in `double h = s.height() / s.width();` is equal to `Double.POSITIVE_INFINITY` and `setDimensions(w, h)` throws an exception when `h` is greater than `Shape.MAX_LENGTH`:"
   ]
  },
  {
   "cell_type": "code",
   "execution_count": null,
   "metadata": {},
   "outputs": [],
   "source": [
    "Shape s = new VLine();\n",
    "System.out.println(\"(width, height) = (\" + s.width() + \", \" + s.height() + \")\");\n",
    "ShapeAnalysis.normalizeWidth(s);\n",
    "System.out.println(\"(width, height) = (\" + s.width() + \", \" + s.height() + \")\");"
   ]
  },
  {
   "cell_type": "markdown",
   "metadata": {},
   "source": [
    "A subclass is allowed to return a different value from an overridden method as long as the value satisfies the contract of the superclass. For example, a `Triangle` class could override `areaUpperBound` to return the true area of the triangle because the area of a triangle is simply one-half its width times its height:"
   ]
  },
  {
   "cell_type": "code",
   "execution_count": null,
   "metadata": {},
   "outputs": [],
   "source": [
    "public class Triangle extends Shape {\n",
    "    \n",
    "    public Triangle() {\n",
    "        super();\n",
    "    }\n",
    "    \n",
    "    /**\n",
    "     * Returns the true area of this triangle.\n",
    "     *\n",
    "     * @return the area of this triangle\n",
    "     */ \n",
    "    @Override\n",
    "    public double areaUpperBound() {\n",
    "        return 0.5 * this.width * this.height;\n",
    "    }\n",
    "    \n",
    "}"
   ]
  },
  {
   "cell_type": "code",
   "execution_count": null,
   "metadata": {},
   "outputs": [],
   "source": [
    "Shape s = new Triangle();\n",
    "System.out.println(s.areaUpperBound());"
   ]
  },
  {
   "cell_type": "markdown",
   "metadata": {},
   "source": [
    "**Exercise 4** North American shoe sizes include half-sizes (e.g., size 8.5). The smallest adult shoe size is 1 although it is difficult to find shoes sizes less than 5 in most retail stores. Suppose that you have a `Shoe` class with a `size` method that promises to return the size of the shoe where the returned size is 1 or greater. Some specialty shoes only come in whole sizes. Can a `SpecialtyShoe` class override the `size` method and promise that it returns only whole sizes equal to 1 or greater?\n",
    "\n",
    "**Exercise 5** The `Random` class has a method `nextInt` that promises to return a random integer value where the odds of returning each possible int value are equal. Can a subclass of `Random` override the `nextInt` method so that it returns random even integer values where the odds of returning each possible even int value are equal?"
   ]
  },
  {
   "cell_type": "markdown",
   "metadata": {},
   "source": [
    "## Methods that change the state of an object\n",
    "\n",
    "If a superclass method promises to change the state of an object in a particular way, then a subclass that overrides the method must ensure that the overridden method changes the state of an object in a way that satisfies the promise of the superclass. If a subclass changes the state of the object in a way that does not satisfy the promise of the superclass then code created using the superclass contracts will fail when given a subclass object.\n",
    "\n",
    "Consider the following method that scales a rectangle so that it has the specified aspect ratio (the ratio of the shape's width to its height):"
   ]
  },
  {
   "cell_type": "code",
   "execution_count": null,
   "metadata": {},
   "outputs": [],
   "source": [
    "public class RectangleUtil {\n",
    "    \n",
    "    public enum Options {\n",
    "        KEEP_CURRENT_WIDTH,\n",
    "        KEEP_CURRENT_HEIGHT\n",
    "    }\n",
    "    \n",
    "    /**\n",
    "     * Sets the dimensions of the specified rectangle so that it has the\n",
    "     * specified aspect ratio. If changing the dimensions of the shape\n",
    "     * causes the dimensions of the shape to become out of range then\n",
    "     * this method leaves the dimensions of the shape unchanged and returns\n",
    "     * false.\n",
    "     * \n",
    "     * <p>\n",
    "     * The opt parameter specifies whether the method should keep the current\n",
    "     * width or the current height when changing the dimensions of the shape.\n",
    "     *\n",
    "     * @param r a rectangle\n",
    "     * @param aspectRatio the desired aspect ratio\n",
    "     * @param opt the option controlling which dimension should remain the same\n",
    "     * @return true if the dimensions of the rectangle are successfully changed,\n",
    "     *     false otherwise\n",
    "     */\n",
    "    public static boolean setAspectRatio(Rectangle r, double aspectRatio, Options opt) {\n",
    "        double w = r.width();\n",
    "        double h = r.height();\n",
    "        if (opt == Options.KEEP_CURRENT_WIDTH) {\n",
    "            h = w / aspectRatio;\n",
    "            if (h < Shape.MIN_LENGTH || h > Shape.MAX_LENGTH) {\n",
    "                return false;\n",
    "            }\n",
    "        }\n",
    "        else {\n",
    "            w = h * aspectRatio;\n",
    "            if (w < Shape.MIN_LENGTH || w > Shape.MAX_LENGTH) {\n",
    "                return false;\n",
    "            }\n",
    "        }\n",
    "        r.setDimensions(w, h);\n",
    "        return true;\n",
    "    }\n",
    "}"
   ]
  },
  {
   "cell_type": "code",
   "execution_count": null,
   "metadata": {},
   "outputs": [],
   "source": [
    "Rectangle s = new Rectangle();\n",
    "\n",
    "s.setDimensions(3.0, 2.0);\n",
    "System.out.println(\"(width, height, aspect ratio) = (\" + s.width() + \", \" + s.height() + \", \" + (s.width() / s.height()) + \")\");\n",
    "\n",
    "RectangleUtil.setAspectRatio(s, 2.0, RectangleUtil.Options.KEEP_CURRENT_WIDTH);\n",
    "System.out.println(\"(width, height, aspect ratio) = (\" + s.width() + \", \" + s.height() + \", \" + (s.width() / s.height()) + \")\");\n",
    "\n",
    "RectangleUtil.setAspectRatio(s, 5.0, RectangleUtil.Options.KEEP_CURRENT_HEIGHT);\n",
    "System.out.println(\"(width, height, aspect ratio) = (\" + s.width() + \", \" + s.height() + \", \" + (s.width() / s.height()) + \")\");"
   ]
  },
  {
   "cell_type": "markdown",
   "metadata": {},
   "source": [
    "Suppose that the `Square` programmer is determined to have `Square` extend `Rectangle` and they re-write their class like so:"
   ]
  },
  {
   "cell_type": "code",
   "execution_count": null,
   "metadata": {},
   "outputs": [],
   "source": [
    "public class Square extends Rectangle {\n",
    "    \n",
    "    public Square() {\n",
    "        super();\n",
    "    }\n",
    "    \n",
    "    @Override\n",
    "    public void setDimensions(double width, double height) {\n",
    "        if (width < MIN_LENGTH || height < MIN_LENGTH) {\n",
    "            throw new IllegalArgumentException(\"dimension too small\");\n",
    "        }\n",
    "        if (width > MAX_LENGTH || height > MAX_LENGTH) {\n",
    "            throw new IllegalArgumentException(\"dimension too large\");\n",
    "        }\n",
    "        this.width = width;\n",
    "        this.height = width;   // ignore height parameter\n",
    "    }\n",
    "}"
   ]
  },
  {
   "cell_type": "markdown",
   "metadata": {},
   "source": [
    "The overridden `setDimensions` method ensures that the square always has an equal width and height by ignoring the `height` parameter however it cause the `setAspectRatio` method to fail to fulfill its contract because the width and height of the square cannot be changed independently:"
   ]
  },
  {
   "cell_type": "code",
   "execution_count": null,
   "metadata": {},
   "outputs": [],
   "source": [
    "Rectangle s = new Square();\n",
    "\n",
    "s.setDimensions(3.0, 2.0);\n",
    "System.out.println(\"(width, height, aspect ratio) = (\" + s.width() + \", \" + s.height() + \", \" + (s.width() / s.height()) + \")\");\n",
    "\n",
    "RectangleUtil.setAspectRatio(s, 2.0, RectangleUtil.Options.KEEP_CURRENT_WIDTH);\n",
    "System.out.println(\"(width, height, aspect ratio) = (\" + s.width() + \", \" + s.height() + \", \" + (s.width() / s.height()) + \")\");   // oops, aspect ratio not 2\n",
    "\n",
    "RectangleUtil.setAspectRatio(s, 5.0, RectangleUtil.Options.KEEP_CURRENT_HEIGHT);\n",
    "System.out.println(\"(width, height, aspect ratio) = (\" + s.width() + \", \" + s.height() + \", \" + (s.width() / s.height()) + \")\");   // oops aspect ratio not 5"
   ]
  },
  {
   "cell_type": "markdown",
   "metadata": {},
   "source": [
    "**Exercise 6** Suppose that the `Square` programmer is still determined to have `Square` extend `Rectangle` and they re-write their class like so:"
   ]
  },
  {
   "cell_type": "code",
   "execution_count": null,
   "metadata": {},
   "outputs": [],
   "source": [
    "public class Square extends Rectangle {\n",
    "    \n",
    "    public Square() {\n",
    "        super();\n",
    "    }\n",
    "    \n",
    "    public void setLength(double length) {\n",
    "        super.setDimensions(length, length);\n",
    "    }\n",
    "    \n",
    "    @Override\n",
    "    public void setDimensions(double width, double height) {\n",
    "        // do nothing\n",
    "    }\n",
    "}"
   ]
  },
  {
   "cell_type": "markdown",
   "metadata": {},
   "source": [
    "What problem does this solution have when trying to program using the `Shape` class contracts?"
   ]
  },
  {
   "cell_type": "markdown",
   "metadata": {},
   "source": [
    "**Exercise 7** Recall the `AbstractAffinity` class from Assignment 4. Why does the class not have a method called `setMatrix` that allows the caller to set the matrix representing the transformation?\n",
    "\n",
    "**Exerise 8** Can the `Affinity` class from Assignment 4 have a method called `setMatrix` that allows the caller to set the matrix representing the transformation?"
   ]
  },
  {
   "cell_type": "code",
   "execution_count": null,
   "metadata": {},
   "outputs": [],
   "source": []
  }
 ],
 "metadata": {
  "kernelspec": {
   "display_name": "Java",
   "language": "java",
   "name": "java"
  },
  "language_info": {
   "codemirror_mode": "text/x-java",
   "file_extension": ".java",
   "mimetype": "",
   "name": "Java",
   "nbconverter_exporter": "",
   "version": "1.8.0_121"
  },
  "toc": {
   "base_numbering": 1,
   "nav_menu": {},
   "number_sections": false,
   "sideBar": false,
   "skip_h1_title": false,
   "title_cell": "Table of Contents",
   "title_sidebar": "Contents",
   "toc_cell": false,
   "toc_position": {},
   "toc_section_display": false,
   "toc_window_display": false
  }
 },
 "nbformat": 4,
 "nbformat_minor": 4
}
