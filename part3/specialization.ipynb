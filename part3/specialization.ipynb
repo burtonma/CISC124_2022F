{
 "cells": [
  {
   "cell_type": "code",
   "execution_count": 1,
   "metadata": {},
   "outputs": [],
   "source": [
    "// run this cell to prevent Jupyter from displaying the null output cell\n",
    "com.twosigma.beakerx.kernel.Kernel.showNullExecutionResult = false;"
   ]
  },
  {
   "cell_type": "markdown",
   "metadata": {},
   "source": [
    "<a id=\"notebook_id\"></a>\n",
    "# Specialization and generalization\n",
    "\n",
    "In inheritance, a subclass is allowed to *specialize* its superclass by adding new features, such as fields and methods, to the ones inherited from the superclass. A subclass may also change the behaviour of a method inherited from any one of its superclasses by re-implementing the method. When a subclass re-implements an inherited method we say that the subclass *overrides* the inherited method. We've already seen examples of overriding the `Object` methods `equals`, `hashCode`, and `equals`.\n",
    "\n",
    "The following figure illustrates that classes become more specialized going down the inheritance hierarchy and more generalized going up the inheritance hierarchy.\n",
    "\n",
    "![](../resources/images/inheritance/specialization.png)\n",
    "\n",
    "[`Object`](https://docs.oracle.com/javase/8/docs/api/java/lang/Object.html) is the most general class in the entire Java language. It defines a type (`Object`) for all Java objects, and it defines a small number of methods that can be called using any object in Java. Other than that, it is not particularly useful and a programmer would probably never explicitly create an instance using `new Object()`.\n",
    "\n",
    "[`AbstractCollection`](https://docs.oracle.com/javase/8/docs/api/java/util/AbstractCollection.html) is a specialization of `Object` that provides a starting point for other programmers to create a collection class such as some kind of list or set. It adds several methods to the ones inherited from `Object` that are important for representing collections.\n",
    "\n",
    "[`AbstractList`](https://docs.oracle.com/javase/8/docs/api/java/util/AbstractList.html) is a specialization of `AbstractCollection` that provides a starting point for programmers to create list-like objects. It adds methods to the ones inherited from its superclasses that are important for list operations. Not surprisingly, there is a sibling class named `AbstractSet` that provides a different specialization of `AbstractCollection` for programmers to create set-like objects.\n",
    "\n",
    "[`Vector`](https://docs.oracle.com/javase/8/docs/api/java/util/Vector.html) is a specialization of `AbstractList` that provides a list class similar to `ArrayList`. It adds fields needed to store and manage a list of objects and adds methods related to managing a list of elements. It also overrides methods inherited from its superclasses to make them more efficient; it can do this because `Vector` has knowledge about its own internal representation that its superclasses cannot know.\n",
    "\n",
    "[`Stack`](https://docs.oracle.com/javase/8/docs/api/java/util/Stack.html) is a specialization of `Vector` that provides a representation of a stack data structure. It adds the methods `push` and `pop` that are part of the stack abstraction."
   ]
  },
  {
   "cell_type": "code",
   "execution_count": null,
   "metadata": {},
   "outputs": [],
   "source": []
  }
 ],
 "metadata": {
  "kernelspec": {
   "display_name": "Java",
   "language": "java",
   "name": "java"
  },
  "language_info": {
   "codemirror_mode": "text/x-java",
   "file_extension": ".java",
   "mimetype": "",
   "name": "Java",
   "nbconverter_exporter": "",
   "version": "1.8.0_121"
  },
  "toc": {
   "base_numbering": 1,
   "nav_menu": {},
   "number_sections": false,
   "sideBar": false,
   "skip_h1_title": false,
   "title_cell": "Table of Contents",
   "title_sidebar": "Contents",
   "toc_cell": false,
   "toc_position": {},
   "toc_section_display": false,
   "toc_window_display": false
  }
 },
 "nbformat": 4,
 "nbformat_minor": 4
}
